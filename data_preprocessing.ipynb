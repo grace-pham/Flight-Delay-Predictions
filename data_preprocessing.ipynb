{
 "cells": [
  {
   "cell_type": "markdown",
   "metadata": {
    "id": "SgFFK-fnCA6D"
   },
   "source": [
    "# Data Pre-Processing \n",
    "### Authors: Grace Pham, Heidi Tran, Jessica Jha, Khanh Tran"
   ]
  },
  {
   "cell_type": "markdown",
   "metadata": {
    "id": "WIJT-xo2QdRI"
   },
   "source": [
    "In order to downsize the data, a local cluster of sample code from the IBM notebook was run on Apache Spark, an open-source cloud clustering platform. A smaller subset of data was able to be extracted so that all of our group members were able to have access to the same data to split pre-processing tasks. \n",
    " \n"
   ]
  },
  {
   "cell_type": "markdown",
   "metadata": {
    "id": "B1WRi3FDCA6G"
   },
   "source": [
    "In this preprocessing stage, we have listed out our tasks:\n",
    "1. Calculate % of missing value for each column (function)\n",
    "2. Duplicated row (one line)\n",
    "3. Calculate % of outliers + draw a box plot (or equiv) to visualize the outliers \n",
    "4. Drop the state in OriginStateName column  (give reasonings) \n",
    "5. Drop Quarter and DayOfWeek (give some reasonings) \n",
    "6. Only keep rows where Cancelled = 0 \n",
    "7. Drop DepDel15  \n",
    "8. Drop columns with > 95% missing values \n",
    "9. Add the data dictionary to the note book (basically column name + type + description) \n",
    "10. Convert columns' data types to the correct types. eg: Columns contain date should have datetime type, boolean column should have int type, etc. \n"
   ]
  },
  {
   "cell_type": "markdown",
   "metadata": {
    "id": "YuXzpDLPCA6V"
   },
   "source": [
    "### Data Dictionary\n",
    "\n",
    "\n",
    "| Field Name | Type | Description |\n",
    "| --- | --- | --- |\n",
    "| Year | int64 | year of the flight |\n",
    "| Month | int64 | month of the flight  |\n",
    "| DayofMonth | int64 | day of the month  |\n",
    "| FlightDate | datetime64[ns] | date of the flight |\n",
    "| Reporting_Airline | object | unique airline carrier code|\n",
    "| DOT_ID_Reporting_Airline | int64 | Number assigned by US DOT to identify a unique airline |\n",
    "| IATA_CODE_Reporting_Airline | object | Airline Code assigned by IATA |\n",
    "| Tail_Number | object | Aircraft tail number |\n",
    "| Flight_Number_Reporting_Airline | int64 | Flight Number |\n",
    "| OriginAirportID | int64 | Origin Airport ID |\n",
    "| OriginAirportSeqID | int64 | Origin Airport Sequence ID |\n",
    "| OriginCityMarketID | int64 | Origin City Market ID |\n",
    "| Origin | object | Origin Airport Code|\n",
    "| OriginCityName | object | Origin City Name |\n",
    "| OriginState | object | Origin State | \n",
    "| OriginStateFips | int64 | Origin State FIPS place code | \n",
    "| DestAirportID | int64 | Destination Airport ID |\n",
    "| DestAirportSeqID | int64 | Destination Airport Sequence ID |\n",
    "| OriginWac | int64 | Origin Airport World Area Code |\n",
    "| DestCityMarketID | int64 | Destination City Market ID |\n",
    "| Dest | object | Destination Airport Code |\n",
    "| DestCityName | object | Destination City Name | \n",
    "| DestState | object | Destination State | \n",
    "| DestStateFips | int64 | Destination State FIPS code |\n",
    "| DestStateName | object | Destination State Name |\n",
    "| DestWac | int64 | Destination Airport World Area Code |\n",
    "| CRSDepTime | int64 | Computer Reservation System (scheduled) Departure Time |\n",
    "| DepTime | float64 | Departure Time (hhmm) |\n",
    "| DepDelay | float64 | Departure delay (minutes) |\n",
    "| DepDelayMinutes | float64 | Absolute value of DepDelay |\n",
    "| DepartureDelayGroups | float64 | Departure delay 15 minute interval group |\n",
    "| DepTimeBlk | object | Computer Reservation System (scheduled) time block |\n",
    "| TaxiOut | float64 | Taxi out time (minutes) |\n",
    "| WheelsOff | float64 | Wheels off time (local time, hhmm) |\n",
    "| WheelsOn | float64 | Wheels on time (local time hhmm) |\n",
    "| TaxiIn | float64 | Taxi in time (minutes) |\n",
    "| CRSArrTime | int64 | Computer Reservation System (scheduled)\n",
    "Arrival Time |\n",
    "| ArrTime | float64 | Arrival time (local time, hhmm) |\n",
    "| ArrDelay | float64 | Arrival delay (minutes) |\n",
    "| ArrDelayMinutes | float64 | Absolute value of ArrDelay |\n",
    "| ArrDel15 | float64 | Arrival Delay >15? |\n",
    "| ArrivalDelayGroups | float64 | Arrival delay 15 minute  interval group |\n",
    "| ArrTimeBlk | object | Computer Reservation System (scheduled) arrival time block |\n",
    "| Cancelled | float64 | 1 = canceled |\n",
    "| Diverted | float64 | 1 = diverted |\n",
    "| CRSElapsedTime | float64 | Computer Reservation System (scheduled) elapsed time |\n",
    "| ActualElapsedTime | float64 | Actual elapsed time |\n",
    "| AirTime | float64 | Flight time (minutes) |\n",
    "| Distance | float64 | Distance between airports (miles) |\n",
    "| DistanceGroup | int64 | 250 mile distance interval group |\n",
    "| CarrierDelay | float64 | Carrier delay (minutes) |\n",
    "| WeatherDelay | float64 | Weather delay (minutes) |\n",
    "| NASDelay | float64 | National Air System delay (minutes) |\n",
    "| SecurityDelay | float64 | Security delay (minutes) |\n",
    "| LateAircraftDelay | float64 | Late aircraft delay (minutes) |\n",
    "| DivAirportLandings | int64 | Number of diverted airport landings |                     "
   ]
  },
  {
   "cell_type": "markdown",
   "metadata": {
    "id": "D8D92Q09rlZb"
   },
   "source": [
    "### Import packages"
   ]
  },
  {
   "cell_type": "code",
   "execution_count": null,
   "metadata": {
    "id": "6II79_YcrhoC"
   },
   "outputs": [],
   "source": [
    "import sys\n",
    "import json\n",
    "import pandas as pd\n",
    "import numpy as np\n",
    "import seaborn as sns\n",
    "import sklearn\n",
    "#from google.colab import data_table\n",
    "# import <put_your_packages_here>\n",
    "\n",
    "# Config seaborn\n",
    "sns.set(rc={\"figure.figsize\":(12, 10)})\n",
    "sns.set_style(\"whitegrid\")"
   ]
  },
  {
   "cell_type": "markdown",
   "metadata": {
    "id": "sbEv7XdAr-LJ"
   },
   "source": [
    "### Common utilities that we can re-use.\n",
    "\n",
    "these functions were given to us by IBM sample notebook"
   ]
  },
  {
   "cell_type": "code",
   "execution_count": null,
   "metadata": {
    "id": "bohAZlYorf9z"
   },
   "outputs": [],
   "source": [
    "from re import I\n",
    "def reduce_mem_usage(self, df: pd.DataFrame) -> pd.DataFrame:\n",
    "    \"\"\"Iterate through all the columns of a dataframe and modify the data type to reduce memory usage.\n",
    "        I doubt that we would use up what Colab gives us in the free tier, but still it's a helpful util.\n",
    "    :param df: pandas DataFrame    \n",
    "    \"\"\"\n",
    "    start_mem = df.memory_usage().sum() / 1024**2\n",
    "    print('Memory usage of dataframe is {:.2f} MB'.format(start_mem))\n",
    "    \n",
    "    for col in df.columns:\n",
    "        col_type = df[col].dtype\n",
    "        \n",
    "        if col_type != object:\n",
    "            c_min = df[col].min()\n",
    "            c_max = df[col].max()\n",
    "            if str(col_type)[:3] == 'int':\n",
    "                if c_min > np.iinfo(np.int8).min and c_max < np.iinfo(np.int8).max:\n",
    "                    df[col] = df[col].astype(np.int8)\n",
    "                elif c_min > np.iinfo(np.int16).min and c_max < np.iinfo(np.int16).max:\n",
    "                    df[col] = df[col].astype(np.int16)\n",
    "                elif c_min > np.iinfo(np.int32).min and c_max < np.iinfo(np.int32).max:\n",
    "                    df[col] = df[col].astype(np.int32)\n",
    "                elif c_min > np.iinfo(np.int64).min and c_max < np.iinfo(np.int64).max:\n",
    "                    df[col] = df[col].astype(np.int64)  \n",
    "            else:\n",
    "                if c_min > np.finfo(np.float16).min and c_max < np.finfo(np.float16).max:\n",
    "                    df[col] = df[col].astype(np.float16)\n",
    "                elif c_min > np.finfo(np.float32).min and c_max < np.finfo(np.float32).max:\n",
    "                    df[col] = df[col].astype(np.float32)\n",
    "                else:\n",
    "                    df[col] = df[col].astype(np.float64)\n",
    "        else:\n",
    "            df[col] = df[col].astype('category')\n",
    "\n",
    "    end_mem = df.memory_usage().sum() / 1024**2\n",
    "    print('Memory usage after optimization is: {:.2f} MB'.format(end_mem))\n",
    "    print('Decreased by {:.1f}%'.format(100 * (start_mem - end_mem) / start_mem))\n",
    "    \n",
    "    return df\n",
    "\n",
    "\n",
    "def import_data(self, file: str, json:False) -> pd.DataFrame:\n",
    "    \"\"\"Create a dataframe and optimize its memory usage\n",
    "    :param file: filepath.\n",
    "    \"\"\"\n",
    "    if json:\n",
    "        try:\n",
    "            df = pd.read_json(file)\n",
    "            df = self.reduce_mem_usage(df)\n",
    "        except ValueError:\n",
    "            df = pd.read_json(file, lines=True)\n",
    "            df = self.reduce_mem_usage(df)\n",
    "    elif not json:\n",
    "        df = pd.read_csv(file, parse_dates=True, keep_date_col=True)\n",
    "        df = self.reduce_mem_usage(df)\n",
    "    return df\n",
    "\n",
    "# TODO: Feel free to write the function.\n",
    "def get_data_from_api():\n",
    "    \"\"\"\n",
    "    \"\"\"\n",
    "    pass\n",
    "\n",
    "    \n",
    "def index_file_checker(df, col_name):\n",
    "    \"\"\"\n",
    "    \"\"\"\n",
    "    return df[df[col_name].isnull()].index.tolist()\n",
    "\n",
    "\n",
    "def check_field(df, col_name):\n",
    "    \"\"\"\n",
    "    \"\"\"\n",
    "    ind_miss = index_file_checker(df=df, col_name=col_name)\n",
    "    \n",
    "    if ind_miss == []:\n",
    "        print(\"No Null values of {x}\".format(x = col_name))\n",
    "        if len(df) == len(df[col_name].unique()):\n",
    "            print(\"All records of {x} is populated for the \\\"M Field\\\" and are unique\".format(x = col_name))\n",
    "            \n",
    "    else:\n",
    "        pctMissing = 100*(len(ind_miss)/len(df))\n",
    "        print(f\"Percentage of missing {col_name} field: {pctMissing:.2f}%\")\n",
    "\n",
    "\n",
    "def check_duplicate_values(df: pd.DataFrame, col_name: str =None):\n",
    "    '''Check for duplicate values in a given column in a given dataframe. If no column is given, only check for duplicate rows in the dataframe.\n",
    "    '''\n",
    "    try:\n",
    "        if col_name is not None:\n",
    "            dups = df.duplicated(subset=[col_name], keep='first')\n",
    "            len_dups = len(dups[dups==True])\n",
    "            percent_dups = 100*len_dups/len(df)\n",
    "\n",
    "            if len_dups == 0:\n",
    "                print(f\"\\nNo duplicate values in {col_name} field.\")\n",
    "            elif len_dups > 0:\n",
    "                print(f\"\\nPercentage of duplicate values in {col_name} field: {percent_dups}\")\n",
    "                print(f\"Percentage of unique values in {col_name} field: {100-percent_dups}\")\n",
    "        elif col_name is None:\n",
    "            dups = df.duplicated(keep='first')\n",
    "            len_dups = len(dups[dups==True])\n",
    "            percent_dups = 100*len_dups/len(df)\n",
    "            \n",
    "            if len_dups == 0:\n",
    "                print(f\"\\nNo duplicate rows in dataframe.\")\n",
    "            elif len_dups > 0:\n",
    "                print(f\"\\nPercentage of duplicate rows in dataframe: {percent_dups}\")\n",
    "                print(f\"\\nPercentage of unique rows in dataframe: {100-percent_dups}\")\n",
    "    except Exception as e:\n",
    "        print(e)\n",
    "\n",
    "\n",
    "def calculate_bound_values(df, col_name):\n",
    "  ''' Calculate lower and upper bound value for given column in the dataframe\n",
    "  '''\n",
    "  Q1 = df[col_name].quantile(0.25)\n",
    "  Q3 = df[col_name].quantile(0.75)\n",
    "  IQR = Q3 - Q1\n",
    "  lower_bound = Q1 - 1.5 * IQR\n",
    "  upper_bound = Q3 + 1.5 * IQR\n",
    "  return (lower_bound, upper_bound)\n",
    "\n",
    "\n",
    "def check_outliers(df: pd.DataFrame, col_name: str = None):\n",
    "  '''Print out information about the lower boundary, upper boundary and percentage of outliers\n",
    "  '''\n",
    "  lower_bound, upper_bound = calculate_bound_values(df, col_name)\n",
    "  \n",
    "  outliers_lower = df[col_name][df[col_name] < lower_bound]\n",
    "  outliers_upper = df[col_name][df[col_name] > upper_bound]\n",
    "  outliers_cnt = len(outliers_lower) + len(outliers_upper)\n",
    "  outliers_pct = (outliers_cnt * 100) / len(df[col_name])\n",
    "  print(f\"Column: {col_name}. Lower boundary: {lower_bound}. Upper boundary: {upper_bound}. Percentage of outliers: {outliers_pct:.2f}%\")\n",
    "\n",
    "\n",
    "def remove_outliers(df, col_name):\n",
    "  '''Replace outliers at given column with null values\n",
    "  '''\n",
    "  lower_bound, upper_bound = calculate_bound_values(df, col_name)\n",
    "  df[col_name] = np.where((df[col_name] > upper_bound) | (df[col_name] < lower_bound), np.nan, df[col_name])\n",
    "  \n",
    "\n",
    "def get_numeric_cols(df: pd.DataFrame):\n",
    "  '''Return the names of all the numeric columns in a Data Frame\n",
    "  '''\n",
    "  return list(df.select_dtypes(include=[np.number]).columns.values)\n",
    "\n",
    "\n",
    "def drop_col(df: pd.DataFrame, col_name: str = None) -> pd.DataFrame:\n",
    "  '''Drop a column in a Data Frame and return the new Data Frame\n",
    "  '''\n",
    "  return df.drop(col_name, axis='columns')\n",
    "\n",
    "\n",
    "def drop_cols_with_missing_val_threshold(df, threshold): \n",
    "  '''Drop columns which has percentage of missing value surpassed the input threshold\n",
    "  Return a new dataframe in which unqualified columns has been dropped\n",
    "  '''\n",
    "  threshold_percentage = len(df) * threshold\n",
    "  return df.dropna(thresh=threshold_percentage, axis=1)"
   ]
  },
  {
   "cell_type": "markdown",
   "metadata": {
    "id": "fh1RtcDesY01"
   },
   "source": [
    "### Loading in the data - must change the filepath of airline_df to match where the data is downloaded\n"
   ]
  },
  {
   "cell_type": "code",
   "execution_count": null,
   "metadata": {
    "id": "29fvsFSusaVC"
   },
   "outputs": [],
   "source": [
    "airline_df = pd.read_csv(\"/Users/jess/Desktop/INFO 442/part-00000-2399068d-de37-4529-a752-94dd6c8919e4-c000.csv\")\n",
    "#airline_df = pd.read_csv(\"./data/airlines.csv\")\n",
    "\n",
    "# Interactive table\n",
    "#display = data_table.DataTable(airline_df)                       "
   ]
  },
  {
   "cell_type": "markdown",
   "metadata": {
    "id": "4OpXmDTE69nu"
   },
   "source": [
    "### First 5 rows"
   ]
  },
  {
   "cell_type": "code",
   "execution_count": null,
   "metadata": {
    "id": "z_A3TzBPzHQ9",
    "outputId": "81faabf2-10d2-455d-eebf-4e019edec95c"
   },
   "outputs": [
    {
     "data": {
      "text/html": [
       "<div>\n",
       "<style scoped>\n",
       "    .dataframe tbody tr th:only-of-type {\n",
       "        vertical-align: middle;\n",
       "    }\n",
       "\n",
       "    .dataframe tbody tr th {\n",
       "        vertical-align: top;\n",
       "    }\n",
       "\n",
       "    .dataframe thead th {\n",
       "        text-align: right;\n",
       "    }\n",
       "</style>\n",
       "<table border=\"1\" class=\"dataframe\">\n",
       "  <thead>\n",
       "    <tr style=\"text-align: right;\">\n",
       "      <th></th>\n",
       "      <th>Year</th>\n",
       "      <th>Quarter</th>\n",
       "      <th>Month</th>\n",
       "      <th>DayofMonth</th>\n",
       "      <th>DayOfWeek</th>\n",
       "      <th>FlightDate</th>\n",
       "      <th>Reporting_Airline</th>\n",
       "      <th>DOT_ID_Reporting_Airline</th>\n",
       "      <th>IATA_CODE_Reporting_Airline</th>\n",
       "      <th>Tail_Number</th>\n",
       "      <th>...</th>\n",
       "      <th>Div4WheelsOff</th>\n",
       "      <th>Div4TailNum</th>\n",
       "      <th>Div5Airport</th>\n",
       "      <th>Div5AirportID</th>\n",
       "      <th>Div5AirportSeqID</th>\n",
       "      <th>Div5WheelsOn</th>\n",
       "      <th>Div5TotalGTime</th>\n",
       "      <th>Div5LongestGTime</th>\n",
       "      <th>Div5WheelsOff</th>\n",
       "      <th>Div5TailNum</th>\n",
       "    </tr>\n",
       "  </thead>\n",
       "  <tbody>\n",
       "    <tr>\n",
       "      <th>0</th>\n",
       "      <td>2019</td>\n",
       "      <td>2</td>\n",
       "      <td>6</td>\n",
       "      <td>11</td>\n",
       "      <td>2</td>\n",
       "      <td>2019-06-11</td>\n",
       "      <td>9E</td>\n",
       "      <td>20363</td>\n",
       "      <td>9E</td>\n",
       "      <td>N927XJ</td>\n",
       "      <td>...</td>\n",
       "      <td>NaN</td>\n",
       "      <td>NaN</td>\n",
       "      <td>NaN</td>\n",
       "      <td>NaN</td>\n",
       "      <td>NaN</td>\n",
       "      <td>NaN</td>\n",
       "      <td>NaN</td>\n",
       "      <td>NaN</td>\n",
       "      <td>NaN</td>\n",
       "      <td>NaN</td>\n",
       "    </tr>\n",
       "    <tr>\n",
       "      <th>1</th>\n",
       "      <td>2018</td>\n",
       "      <td>1</td>\n",
       "      <td>2</td>\n",
       "      <td>8</td>\n",
       "      <td>4</td>\n",
       "      <td>2018-02-08</td>\n",
       "      <td>WN</td>\n",
       "      <td>19393</td>\n",
       "      <td>WN</td>\n",
       "      <td>N8688J</td>\n",
       "      <td>...</td>\n",
       "      <td>NaN</td>\n",
       "      <td>NaN</td>\n",
       "      <td>NaN</td>\n",
       "      <td>NaN</td>\n",
       "      <td>NaN</td>\n",
       "      <td>NaN</td>\n",
       "      <td>NaN</td>\n",
       "      <td>NaN</td>\n",
       "      <td>NaN</td>\n",
       "      <td>NaN</td>\n",
       "    </tr>\n",
       "    <tr>\n",
       "      <th>2</th>\n",
       "      <td>2014</td>\n",
       "      <td>2</td>\n",
       "      <td>4</td>\n",
       "      <td>3</td>\n",
       "      <td>4</td>\n",
       "      <td>2014-04-03</td>\n",
       "      <td>WN</td>\n",
       "      <td>19393</td>\n",
       "      <td>WN</td>\n",
       "      <td>N374SW</td>\n",
       "      <td>...</td>\n",
       "      <td>NaN</td>\n",
       "      <td>NaN</td>\n",
       "      <td>NaN</td>\n",
       "      <td>NaN</td>\n",
       "      <td>NaN</td>\n",
       "      <td>NaN</td>\n",
       "      <td>NaN</td>\n",
       "      <td>NaN</td>\n",
       "      <td>NaN</td>\n",
       "      <td>NaN</td>\n",
       "    </tr>\n",
       "    <tr>\n",
       "      <th>3</th>\n",
       "      <td>2015</td>\n",
       "      <td>3</td>\n",
       "      <td>9</td>\n",
       "      <td>5</td>\n",
       "      <td>6</td>\n",
       "      <td>2015-09-05</td>\n",
       "      <td>AS</td>\n",
       "      <td>19930</td>\n",
       "      <td>AS</td>\n",
       "      <td>N589AS</td>\n",
       "      <td>...</td>\n",
       "      <td>NaN</td>\n",
       "      <td>NaN</td>\n",
       "      <td>NaN</td>\n",
       "      <td>NaN</td>\n",
       "      <td>NaN</td>\n",
       "      <td>NaN</td>\n",
       "      <td>NaN</td>\n",
       "      <td>NaN</td>\n",
       "      <td>NaN</td>\n",
       "      <td>NaN</td>\n",
       "    </tr>\n",
       "    <tr>\n",
       "      <th>4</th>\n",
       "      <td>2017</td>\n",
       "      <td>3</td>\n",
       "      <td>7</td>\n",
       "      <td>26</td>\n",
       "      <td>3</td>\n",
       "      <td>2017-07-26</td>\n",
       "      <td>WN</td>\n",
       "      <td>19393</td>\n",
       "      <td>WN</td>\n",
       "      <td>N252WN</td>\n",
       "      <td>...</td>\n",
       "      <td>NaN</td>\n",
       "      <td>NaN</td>\n",
       "      <td>NaN</td>\n",
       "      <td>NaN</td>\n",
       "      <td>NaN</td>\n",
       "      <td>NaN</td>\n",
       "      <td>NaN</td>\n",
       "      <td>NaN</td>\n",
       "      <td>NaN</td>\n",
       "      <td>NaN</td>\n",
       "    </tr>\n",
       "  </tbody>\n",
       "</table>\n",
       "<p>5 rows × 109 columns</p>\n",
       "</div>"
      ],
      "text/plain": [
       "   Year  Quarter  Month  DayofMonth  DayOfWeek  FlightDate Reporting_Airline  \\\n",
       "0  2019        2      6          11          2  2019-06-11                9E   \n",
       "1  2018        1      2           8          4  2018-02-08                WN   \n",
       "2  2014        2      4           3          4  2014-04-03                WN   \n",
       "3  2015        3      9           5          6  2015-09-05                AS   \n",
       "4  2017        3      7          26          3  2017-07-26                WN   \n",
       "\n",
       "   DOT_ID_Reporting_Airline IATA_CODE_Reporting_Airline Tail_Number  ...  \\\n",
       "0                     20363                          9E      N927XJ  ...   \n",
       "1                     19393                          WN      N8688J  ...   \n",
       "2                     19393                          WN      N374SW  ...   \n",
       "3                     19930                          AS      N589AS  ...   \n",
       "4                     19393                          WN      N252WN  ...   \n",
       "\n",
       "   Div4WheelsOff  Div4TailNum  Div5Airport  Div5AirportID Div5AirportSeqID  \\\n",
       "0            NaN          NaN          NaN            NaN              NaN   \n",
       "1            NaN          NaN          NaN            NaN              NaN   \n",
       "2            NaN          NaN          NaN            NaN              NaN   \n",
       "3            NaN          NaN          NaN            NaN              NaN   \n",
       "4            NaN          NaN          NaN            NaN              NaN   \n",
       "\n",
       "  Div5WheelsOn Div5TotalGTime  Div5LongestGTime Div5WheelsOff  Div5TailNum  \n",
       "0          NaN            NaN               NaN           NaN          NaN  \n",
       "1          NaN            NaN               NaN           NaN          NaN  \n",
       "2          NaN            NaN               NaN           NaN          NaN  \n",
       "3          NaN            NaN               NaN           NaN          NaN  \n",
       "4          NaN            NaN               NaN           NaN          NaN  \n",
       "\n",
       "[5 rows x 109 columns]"
      ]
     },
     "execution_count": 5,
     "metadata": {},
     "output_type": "execute_result"
    }
   ],
   "source": [
    "airline_df.head()"
   ]
  },
  {
   "cell_type": "markdown",
   "metadata": {
    "id": "iN_fnn2fAakg"
   },
   "source": [
    "### Columns"
   ]
  },
  {
   "cell_type": "code",
   "execution_count": null,
   "metadata": {
    "id": "UCOENA-97Rwq",
    "outputId": "20fe1cd3-29b0-41e0-c239-528600bc27b0",
    "scrolled": true
   },
   "outputs": [
    {
     "data": {
      "text/plain": [
       "['Year',\n",
       " 'Quarter',\n",
       " 'Month',\n",
       " 'DayofMonth',\n",
       " 'DayOfWeek',\n",
       " 'FlightDate',\n",
       " 'Reporting_Airline',\n",
       " 'DOT_ID_Reporting_Airline',\n",
       " 'IATA_CODE_Reporting_Airline',\n",
       " 'Tail_Number',\n",
       " 'Flight_Number_Reporting_Airline',\n",
       " 'OriginAirportID',\n",
       " 'OriginAirportSeqID',\n",
       " 'OriginCityMarketID',\n",
       " 'Origin',\n",
       " 'OriginCityName',\n",
       " 'OriginState',\n",
       " 'OriginStateFips',\n",
       " 'OriginStateName',\n",
       " 'OriginWac',\n",
       " 'DestAirportID',\n",
       " 'DestAirportSeqID',\n",
       " 'DestCityMarketID',\n",
       " 'Dest',\n",
       " 'DestCityName',\n",
       " 'DestState',\n",
       " 'DestStateFips',\n",
       " 'DestStateName',\n",
       " 'DestWac',\n",
       " 'CRSDepTime',\n",
       " 'DepTime',\n",
       " 'DepDelay',\n",
       " 'DepDelayMinutes',\n",
       " 'DepDel15',\n",
       " 'DepartureDelayGroups',\n",
       " 'DepTimeBlk',\n",
       " 'TaxiOut',\n",
       " 'WheelsOff',\n",
       " 'WheelsOn',\n",
       " 'TaxiIn',\n",
       " 'CRSArrTime',\n",
       " 'ArrTime',\n",
       " 'ArrDelay',\n",
       " 'ArrDelayMinutes',\n",
       " 'ArrDel15',\n",
       " 'ArrivalDelayGroups',\n",
       " 'ArrTimeBlk',\n",
       " 'Cancelled',\n",
       " 'CancellationCode',\n",
       " 'Diverted',\n",
       " 'CRSElapsedTime',\n",
       " 'ActualElapsedTime',\n",
       " 'AirTime',\n",
       " 'Flights',\n",
       " 'Distance',\n",
       " 'DistanceGroup',\n",
       " 'CarrierDelay',\n",
       " 'WeatherDelay',\n",
       " 'NASDelay',\n",
       " 'SecurityDelay',\n",
       " 'LateAircraftDelay',\n",
       " 'FirstDepTime',\n",
       " 'TotalAddGTime',\n",
       " 'LongestAddGTime',\n",
       " 'DivAirportLandings',\n",
       " 'DivReachedDest',\n",
       " 'DivActualElapsedTime',\n",
       " 'DivArrDelay',\n",
       " 'DivDistance',\n",
       " 'Div1Airport',\n",
       " 'Div1AirportID',\n",
       " 'Div1AirportSeqID',\n",
       " 'Div1WheelsOn',\n",
       " 'Div1TotalGTime',\n",
       " 'Div1LongestGTime',\n",
       " 'Div1WheelsOff',\n",
       " 'Div1TailNum',\n",
       " 'Div2Airport',\n",
       " 'Div2AirportID',\n",
       " 'Div2AirportSeqID',\n",
       " 'Div2WheelsOn',\n",
       " 'Div2TotalGTime',\n",
       " 'Div2LongestGTime',\n",
       " 'Div2WheelsOff',\n",
       " 'Div2TailNum',\n",
       " 'Div3Airport',\n",
       " 'Div3AirportID',\n",
       " 'Div3AirportSeqID',\n",
       " 'Div3WheelsOn',\n",
       " 'Div3TotalGTime',\n",
       " 'Div3LongestGTime',\n",
       " 'Div3WheelsOff',\n",
       " 'Div3TailNum',\n",
       " 'Div4Airport',\n",
       " 'Div4AirportID',\n",
       " 'Div4AirportSeqID',\n",
       " 'Div4WheelsOn',\n",
       " 'Div4TotalGTime',\n",
       " 'Div4LongestGTime',\n",
       " 'Div4WheelsOff',\n",
       " 'Div4TailNum',\n",
       " 'Div5Airport',\n",
       " 'Div5AirportID',\n",
       " 'Div5AirportSeqID',\n",
       " 'Div5WheelsOn',\n",
       " 'Div5TotalGTime',\n",
       " 'Div5LongestGTime',\n",
       " 'Div5WheelsOff',\n",
       " 'Div5TailNum']"
      ]
     },
     "execution_count": 7,
     "metadata": {},
     "output_type": "execute_result"
    }
   ],
   "source": [
    "list(airline_df.columns)"
   ]
  },
  {
   "cell_type": "markdown",
   "metadata": {
    "id": "EcaDrsy1VXjV"
   },
   "source": [
    "### Drop `Flights` column\n",
    "\t\n",
    "The `Flights` column indicates the number of flights, which is usually only \"1\" in the dataset, so this column would not be beneficial for our analysis."
   ]
  },
  {
   "cell_type": "code",
   "execution_count": null,
   "metadata": {
    "id": "uFzdI_LjVXjW"
   },
   "outputs": [],
   "source": [
    "airline_df = drop_col(airline_df, \"Flights\")"
   ]
  },
  {
   "cell_type": "markdown",
   "metadata": {
    "id": "isJ0igzVIcq0"
   },
   "source": [
    "### Drop `Quarter` and `DayOfWeek` column\n",
    "We don't plan to use these two columns for analysis. Furthermore, the `FlightDate` column already gives us enough information to recalculate quarter and day of week if necessary."
   ]
  },
  {
   "cell_type": "code",
   "execution_count": null,
   "metadata": {
    "id": "XeqKoq6IIkx9"
   },
   "outputs": [],
   "source": [
    "airline_df = drop_col(airline_df, \"Quarter\")\n",
    "airline_df = drop_col(airline_df, \"DayOfWeek\")"
   ]
  },
  {
   "cell_type": "markdown",
   "metadata": {
    "id": "iZFy8rMGCA6X"
   },
   "source": [
    "### Drop   `OriginStateName` column \n",
    "There is already an `OriginState` column which has the state abbreviations which we can use for our analysis. Therefore, dropping this column would help condense our values and have our dataset be less redundant."
   ]
  },
  {
   "cell_type": "code",
   "execution_count": null,
   "metadata": {
    "id": "iCI3TQTvCA6W"
   },
   "outputs": [],
   "source": [
    "airline_df = airline_df.drop(columns=['OriginStateName'], axis=1)"
   ]
  },
  {
   "cell_type": "markdown",
   "metadata": {
    "id": "OPfJu7lyVXjX"
   },
   "source": [
    "### Drop column `DepDel15`\n",
    "The `DepDel15` column indicates that the delay for departure was greater than 15 minutes as a boolean (1 for delay greater than 15 minutes, 0 for delays less than 15 minutes). We are keeping other columns which have actual minute values (such as `DepDelay` and `DepDelayMinutes` so we do not need another indicator of departure delays."
   ]
  },
  {
   "cell_type": "code",
   "execution_count": null,
   "metadata": {
    "id": "eQJ8bwcwVXjX"
   },
   "outputs": [],
   "source": [
    "airline_df = drop_col(airline_df, \"DepDel15\")"
   ]
  },
  {
   "cell_type": "markdown",
   "metadata": {
    "id": "9AQ_QqDEVXjX"
   },
   "source": [
    "### Drop column `ArrDel15`\n",
    "The `ArrDel15` column indicates that the arrival time delay was greater than 15 minutes as a boolean (1 for delay greater than 15 minutes, 0 for delays less than 15 minutes). We are keeping other columns which have actual minute values (such as `ArrDelay` and `ArrDelayMinutes` so we do not need another indicator of arrival delays."
   ]
  },
  {
   "cell_type": "code",
   "execution_count": null,
   "metadata": {
    "id": "jKQhbmgOVXjY"
   },
   "outputs": [],
   "source": [
    "airline_df = drop_col(airline_df, \"ArrDel15\")"
   ]
  },
  {
   "cell_type": "markdown",
   "metadata": {
    "id": "jHzIo3rFVXjY"
   },
   "source": [
    "### Drop columns  `DepartureDelayGroups` and `ArrivalDelayGroups`\n",
    "Both  `DepartureDelayGroups` and `ArrivalDelayGroups`indicate delay 15 minute interval groups - this column is filled with integers from -1 and NaNs and regular postive integers, but it will not be beneficial to our analysis as interval groups are not clear indicators as to how long the plane was delayed."
   ]
  },
  {
   "cell_type": "code",
   "execution_count": null,
   "metadata": {
    "id": "epnjvBIuVXjY"
   },
   "outputs": [],
   "source": [
    "airline_df = drop_col(airline_df, \"DepartureDelayGroups\")\n",
    "airline_df = drop_col(airline_df, \"ArrivalDelayGroups\")"
   ]
  },
  {
   "cell_type": "markdown",
   "metadata": {
    "id": "iU4LfG95VXjY"
   },
   "source": [
    "### Drop column `DivAirportLandings`\n",
    "There a little under 1,000 diverted airport landings in a dataset of 300,000+ records (only .3%), so drawing conclusions off delays based of this type of data would be statisically insignificant and not add value to our analysis and predictions."
   ]
  },
  {
   "cell_type": "code",
   "execution_count": null,
   "metadata": {
    "id": "CKmNror7VXjY",
    "outputId": "cc0c59e3-5fd9-4d7e-affd-c4b30c29c9fe"
   },
   "outputs": [
    {
     "data": {
      "text/plain": [
       "967"
      ]
     },
     "execution_count": 14,
     "metadata": {},
     "output_type": "execute_result"
    }
   ],
   "source": [
    "sum(airline_df.DivAirportLandings > 0)"
   ]
  },
  {
   "cell_type": "code",
   "execution_count": null,
   "metadata": {
    "id": "MaGCJsYVVXjZ"
   },
   "outputs": [],
   "source": [
    "airline_df = drop_col(airline_df, \"DivAirportLandings\")"
   ]
  },
  {
   "cell_type": "markdown",
   "metadata": {
    "id": "begiSdVuVXjZ"
   },
   "source": [
    "### Drop column `DistanceGroup`\n",
    "`DistanceGroup` is defined as \"250 mile distance interval group\" - we will not be using pre-set groups in our analysis and predictions so we can drop this column to reduce redundant data. In addition, have the `Distance` column which provides more precise flight distance. "
   ]
  },
  {
   "cell_type": "code",
   "execution_count": null,
   "metadata": {
    "id": "PkMm1bDTVXjZ",
    "outputId": "b527b169-82b1-4294-c7b4-e92dcd88a379"
   },
   "outputs": [
    {
     "data": {
      "text/plain": [
       "0          1\n",
       "1          4\n",
       "2          3\n",
       "3          3\n",
       "4          2\n",
       "          ..\n",
       "386420     1\n",
       "386421    10\n",
       "386422     8\n",
       "386423     2\n",
       "386424     4\n",
       "Name: DistanceGroup, Length: 386425, dtype: int64"
      ]
     },
     "execution_count": 16,
     "metadata": {},
     "output_type": "execute_result"
    }
   ],
   "source": [
    "airline_df.DistanceGroup"
   ]
  },
  {
   "cell_type": "code",
   "execution_count": null,
   "metadata": {
    "id": "KCWK54R7VXjZ"
   },
   "outputs": [],
   "source": [
    "airline_df = drop_col(airline_df, \"DistanceGroup\")"
   ]
  },
  {
   "cell_type": "markdown",
   "metadata": {
    "id": "6npyt1_lAewI"
   },
   "source": [
    "### Columns' data types"
   ]
  },
  {
   "cell_type": "code",
   "execution_count": null,
   "metadata": {
    "colab": {
     "base_uri": "https://localhost:8080/",
     "height": 165
    },
    "id": "Sf5hQjoeAj6h",
    "outputId": "21ec8cb5-443e-4947-fa6b-dbcbab4c6f35"
   },
   "outputs": [
    {
     "data": {
      "text/plain": [
       "Year                   int64\n",
       "Month                  int64\n",
       "DayofMonth             int64\n",
       "FlightDate            object\n",
       "Reporting_Airline     object\n",
       "                      ...   \n",
       "Div5WheelsOn         float64\n",
       "Div5TotalGTime       float64\n",
       "Div5LongestGTime     float64\n",
       "Div5WheelsOff        float64\n",
       "Div5TailNum          float64\n",
       "Length: 99, dtype: object"
      ]
     },
     "metadata": {},
     "output_type": "display_data"
    }
   ],
   "source": [
    "display(airline_df.dtypes)"
   ]
  },
  {
   "cell_type": "markdown",
   "metadata": {
    "id": "ItG9PiZiVXja"
   },
   "source": [
    "&rightarrow; We can see that a lot of columns have wrong data types. For example, `FlightDate` should have type `datetime` instead of `object`. We need to fix these columns' types later."
   ]
  },
  {
   "cell_type": "markdown",
   "metadata": {
    "id": "VMERPbq-VXja"
   },
   "source": [
    "### Fix data type for `datetime` column"
   ]
  },
  {
   "cell_type": "code",
   "execution_count": null,
   "metadata": {
    "id": "o8Wg1NJACA6W"
   },
   "outputs": [],
   "source": [
    "#convert to datetime\n",
    "airline_df['FlightDate'] = pd.to_datetime(airline_df['FlightDate'], format='%Y-%m-%d')"
   ]
  },
  {
   "cell_type": "code",
   "execution_count": null,
   "metadata": {
    "id": "xxZXjpm2CA6W",
    "outputId": "87888ea6-c2ab-48f8-e258-f241d45e723e"
   },
   "outputs": [
    {
     "data": {
      "text/plain": [
       "Year                          int64\n",
       "Month                         int64\n",
       "DayofMonth                    int64\n",
       "FlightDate           datetime64[ns]\n",
       "Reporting_Airline            object\n",
       "                          ...      \n",
       "Div5WheelsOn                float64\n",
       "Div5TotalGTime              float64\n",
       "Div5LongestGTime            float64\n",
       "Div5WheelsOff               float64\n",
       "Div5TailNum                 float64\n",
       "Length: 99, dtype: object"
      ]
     },
     "metadata": {},
     "output_type": "display_data"
    }
   ],
   "source": [
    "display(airline_df.dtypes)"
   ]
  },
  {
   "cell_type": "markdown",
   "metadata": {
    "id": "34i5aDxDPwqm"
   },
   "source": [
    "### Remove cancelled flights\n",
    "We don't need cancelled flights because that indicates a flight that was delayed \"forever\" so we need to remove it from our data."
   ]
  },
  {
   "cell_type": "code",
   "execution_count": null,
   "metadata": {
    "id": "AbnUZ2J6P6Xd"
   },
   "outputs": [],
   "source": [
    "airline_df = airline_df[airline_df[\"Cancelled\"] == 0]"
   ]
  },
  {
   "cell_type": "code",
   "execution_count": null,
   "metadata": {
    "id": "kDFSMHHYVXja"
   },
   "outputs": [],
   "source": [
    "# We don't need this column anymore since it contains all 1s\n",
    "airline_df = drop_col(airline_df, \"Cancelled\")"
   ]
  },
  {
   "cell_type": "markdown",
   "metadata": {
    "id": "g-eAlKX67E1M"
   },
   "source": [
    "### Check missing values"
   ]
  },
  {
   "cell_type": "code",
   "execution_count": null,
   "metadata": {
    "id": "6noGKx-T0yb5",
    "outputId": "e25dcd5a-c0ac-4f2b-dc61-ad32349d0c30",
    "scrolled": true
   },
   "outputs": [
    {
     "name": "stdout",
     "output_type": "stream",
     "text": [
      "No Null values of Year\n",
      "No Null values of Month\n",
      "No Null values of DayofMonth\n",
      "No Null values of FlightDate\n",
      "No Null values of Reporting_Airline\n",
      "No Null values of DOT_ID_Reporting_Airline\n",
      "No Null values of IATA_CODE_Reporting_Airline\n",
      "No Null values of Tail_Number\n",
      "No Null values of Flight_Number_Reporting_Airline\n",
      "No Null values of OriginAirportID\n",
      "No Null values of OriginAirportSeqID\n",
      "No Null values of OriginCityMarketID\n",
      "No Null values of Origin\n",
      "No Null values of OriginCityName\n",
      "No Null values of OriginState\n",
      "No Null values of OriginStateFips\n",
      "No Null values of OriginWac\n",
      "No Null values of DestAirportID\n",
      "No Null values of DestAirportSeqID\n",
      "No Null values of DestCityMarketID\n",
      "No Null values of Dest\n",
      "No Null values of DestCityName\n",
      "No Null values of DestState\n",
      "No Null values of DestStateFips\n",
      "No Null values of DestStateName\n",
      "No Null values of DestWac\n",
      "No Null values of CRSDepTime\n",
      "No Null values of DepTime\n",
      "Percentage of missing DepDelay field: 0.02%\n",
      "Percentage of missing DepDelayMinutes field: 0.02%\n",
      "No Null values of DepTimeBlk\n",
      "No Null values of TaxiOut\n",
      "No Null values of WheelsOff\n",
      "Percentage of missing WheelsOn field: 0.04%\n",
      "Percentage of missing TaxiIn field: 0.04%\n",
      "No Null values of CRSArrTime\n",
      "Percentage of missing ArrTime field: 0.04%\n",
      "Percentage of missing ArrDelay field: 0.25%\n",
      "Percentage of missing ArrDelayMinutes field: 0.25%\n",
      "No Null values of ArrTimeBlk\n",
      "Percentage of missing CancellationCode field: 100.00%\n",
      "No Null values of Diverted\n",
      "No Null values of CRSElapsedTime\n",
      "Percentage of missing ActualElapsedTime field: 0.24%\n",
      "Percentage of missing AirTime field: 0.24%\n",
      "No Null values of Distance\n",
      "Percentage of missing CarrierDelay field: 80.90%\n",
      "Percentage of missing WeatherDelay field: 80.90%\n",
      "Percentage of missing NASDelay field: 80.90%\n",
      "Percentage of missing SecurityDelay field: 80.90%\n",
      "Percentage of missing LateAircraftDelay field: 80.90%\n",
      "Percentage of missing FirstDepTime field: 99.41%\n",
      "Percentage of missing TotalAddGTime field: 99.41%\n",
      "Percentage of missing LongestAddGTime field: 99.41%\n",
      "Percentage of missing DivReachedDest field: 99.76%\n",
      "Percentage of missing DivActualElapsedTime field: 99.79%\n",
      "Percentage of missing DivArrDelay field: 99.79%\n",
      "Percentage of missing DivDistance field: 99.76%\n",
      "Percentage of missing Div1Airport field: 99.76%\n",
      "Percentage of missing Div1AirportID field: 99.76%\n",
      "Percentage of missing Div1AirportSeqID field: 99.76%\n",
      "Percentage of missing Div1WheelsOn field: 99.76%\n",
      "Percentage of missing Div1TotalGTime field: 99.76%\n",
      "Percentage of missing Div1LongestGTime field: 99.76%\n",
      "Percentage of missing Div1WheelsOff field: 99.79%\n",
      "Percentage of missing Div1TailNum field: 99.79%\n",
      "Percentage of missing Div2Airport field: 100.00%\n",
      "Percentage of missing Div2AirportID field: 100.00%\n",
      "Percentage of missing Div2AirportSeqID field: 100.00%\n",
      "Percentage of missing Div2WheelsOn field: 100.00%\n",
      "Percentage of missing Div2TotalGTime field: 100.00%\n",
      "Percentage of missing Div2LongestGTime field: 100.00%\n",
      "Percentage of missing Div2WheelsOff field: 100.00%\n",
      "Percentage of missing Div2TailNum field: 100.00%\n",
      "Percentage of missing Div3Airport field: 100.00%\n",
      "Percentage of missing Div3AirportID field: 100.00%\n",
      "Percentage of missing Div3AirportSeqID field: 100.00%\n",
      "Percentage of missing Div3WheelsOn field: 100.00%\n",
      "Percentage of missing Div3TotalGTime field: 100.00%\n",
      "Percentage of missing Div3LongestGTime field: 100.00%\n",
      "Percentage of missing Div3WheelsOff field: 100.00%\n",
      "Percentage of missing Div3TailNum field: 100.00%\n",
      "Percentage of missing Div4Airport field: 100.00%\n",
      "Percentage of missing Div4AirportID field: 100.00%\n",
      "Percentage of missing Div4AirportSeqID field: 100.00%\n",
      "Percentage of missing Div4WheelsOn field: 100.00%\n",
      "Percentage of missing Div4TotalGTime field: 100.00%\n",
      "Percentage of missing Div4LongestGTime field: 100.00%\n",
      "Percentage of missing Div4WheelsOff field: 100.00%\n",
      "Percentage of missing Div4TailNum field: 100.00%\n",
      "Percentage of missing Div5Airport field: 100.00%\n",
      "Percentage of missing Div5AirportID field: 100.00%\n",
      "Percentage of missing Div5AirportSeqID field: 100.00%\n",
      "Percentage of missing Div5WheelsOn field: 100.00%\n",
      "Percentage of missing Div5TotalGTime field: 100.00%\n",
      "Percentage of missing Div5LongestGTime field: 100.00%\n",
      "Percentage of missing Div5WheelsOff field: 100.00%\n",
      "Percentage of missing Div5TailNum field: 100.00%\n"
     ]
    }
   ],
   "source": [
    "for col in airline_df.columns:\n",
    "    check_field(airline_df, col)"
   ]
  },
  {
   "cell_type": "markdown",
   "metadata": {
    "id": "yaaXMXGsVXjb"
   },
   "source": [
    "&rightarrow; Some columns have less than 5% missing values. However, some columns have > 95% of missing values. We will drop columns with more than 95% of missing values."
   ]
  },
  {
   "cell_type": "markdown",
   "metadata": {
    "id": "08YoVtho2AMY"
   },
   "source": [
    "### Drop columns with more than 95% of missing values"
   ]
  },
  {
   "cell_type": "code",
   "execution_count": null,
   "metadata": {
    "id": "dblXFn1Z2zfw",
    "outputId": "999209b5-4910-496b-8959-25c34492a056"
   },
   "outputs": [
    {
     "data": {
      "text/plain": [
       "(379965, 98)"
      ]
     },
     "execution_count": 24,
     "metadata": {},
     "output_type": "execute_result"
    }
   ],
   "source": [
    "# Check the size of airline_df BEFORE dropping columns\n",
    "airline_df.shape"
   ]
  },
  {
   "cell_type": "code",
   "execution_count": null,
   "metadata": {
    "id": "mDChw3ne2MUm"
   },
   "outputs": [],
   "source": [
    "airline_df = drop_cols_with_missing_val_threshold(airline_df, 0.95)"
   ]
  },
  {
   "cell_type": "code",
   "execution_count": null,
   "metadata": {
    "id": "erkS8v-12b-C",
    "outputId": "079b0360-e395-41c9-f216-7d0380dc4990"
   },
   "outputs": [
    {
     "data": {
      "text/plain": [
       "(379965, 45)"
      ]
     },
     "execution_count": 26,
     "metadata": {},
     "output_type": "execute_result"
    }
   ],
   "source": [
    "# Check the size of airline_df AFTER dropping columns\n",
    "airline_df.shape"
   ]
  },
  {
   "cell_type": "code",
   "execution_count": null,
   "metadata": {
    "id": "M7PtM8Vs3Cxm",
    "outputId": "73023f87-102a-47a4-9ac8-86465a0d4023",
    "scrolled": true
   },
   "outputs": [
    {
     "data": {
      "text/html": [
       "<div>\n",
       "<style scoped>\n",
       "    .dataframe tbody tr th:only-of-type {\n",
       "        vertical-align: middle;\n",
       "    }\n",
       "\n",
       "    .dataframe tbody tr th {\n",
       "        vertical-align: top;\n",
       "    }\n",
       "\n",
       "    .dataframe thead th {\n",
       "        text-align: right;\n",
       "    }\n",
       "</style>\n",
       "<table border=\"1\" class=\"dataframe\">\n",
       "  <thead>\n",
       "    <tr style=\"text-align: right;\">\n",
       "      <th></th>\n",
       "      <th>Year</th>\n",
       "      <th>Month</th>\n",
       "      <th>DayofMonth</th>\n",
       "      <th>FlightDate</th>\n",
       "      <th>Reporting_Airline</th>\n",
       "      <th>DOT_ID_Reporting_Airline</th>\n",
       "      <th>IATA_CODE_Reporting_Airline</th>\n",
       "      <th>Tail_Number</th>\n",
       "      <th>Flight_Number_Reporting_Airline</th>\n",
       "      <th>OriginAirportID</th>\n",
       "      <th>...</th>\n",
       "      <th>CRSArrTime</th>\n",
       "      <th>ArrTime</th>\n",
       "      <th>ArrDelay</th>\n",
       "      <th>ArrDelayMinutes</th>\n",
       "      <th>ArrTimeBlk</th>\n",
       "      <th>Diverted</th>\n",
       "      <th>CRSElapsedTime</th>\n",
       "      <th>ActualElapsedTime</th>\n",
       "      <th>AirTime</th>\n",
       "      <th>Distance</th>\n",
       "    </tr>\n",
       "  </thead>\n",
       "  <tbody>\n",
       "    <tr>\n",
       "      <th>0</th>\n",
       "      <td>2019</td>\n",
       "      <td>6</td>\n",
       "      <td>11</td>\n",
       "      <td>2019-06-11</td>\n",
       "      <td>9E</td>\n",
       "      <td>20363</td>\n",
       "      <td>9E</td>\n",
       "      <td>N927XJ</td>\n",
       "      <td>3459</td>\n",
       "      <td>10397</td>\n",
       "      <td>...</td>\n",
       "      <td>2057</td>\n",
       "      <td>31.0</td>\n",
       "      <td>214.0</td>\n",
       "      <td>214.0</td>\n",
       "      <td>2000-2059</td>\n",
       "      <td>0.0</td>\n",
       "      <td>67.0</td>\n",
       "      <td>60.0</td>\n",
       "      <td>35.0</td>\n",
       "      <td>192.0</td>\n",
       "    </tr>\n",
       "    <tr>\n",
       "      <th>1</th>\n",
       "      <td>2018</td>\n",
       "      <td>2</td>\n",
       "      <td>8</td>\n",
       "      <td>2018-02-08</td>\n",
       "      <td>WN</td>\n",
       "      <td>19393</td>\n",
       "      <td>WN</td>\n",
       "      <td>N8688J</td>\n",
       "      <td>5932</td>\n",
       "      <td>13232</td>\n",
       "      <td>...</td>\n",
       "      <td>2250</td>\n",
       "      <td>2319.0</td>\n",
       "      <td>29.0</td>\n",
       "      <td>29.0</td>\n",
       "      <td>2200-2259</td>\n",
       "      <td>0.0</td>\n",
       "      <td>140.0</td>\n",
       "      <td>153.0</td>\n",
       "      <td>114.0</td>\n",
       "      <td>793.0</td>\n",
       "    </tr>\n",
       "    <tr>\n",
       "      <th>2</th>\n",
       "      <td>2014</td>\n",
       "      <td>4</td>\n",
       "      <td>3</td>\n",
       "      <td>2014-04-03</td>\n",
       "      <td>WN</td>\n",
       "      <td>19393</td>\n",
       "      <td>WN</td>\n",
       "      <td>N374SW</td>\n",
       "      <td>1463</td>\n",
       "      <td>11540</td>\n",
       "      <td>...</td>\n",
       "      <td>1300</td>\n",
       "      <td>1255.0</td>\n",
       "      <td>-5.0</td>\n",
       "      <td>0.0</td>\n",
       "      <td>1300-1359</td>\n",
       "      <td>0.0</td>\n",
       "      <td>95.0</td>\n",
       "      <td>90.0</td>\n",
       "      <td>77.0</td>\n",
       "      <td>562.0</td>\n",
       "    </tr>\n",
       "    <tr>\n",
       "      <th>3</th>\n",
       "      <td>2015</td>\n",
       "      <td>9</td>\n",
       "      <td>5</td>\n",
       "      <td>2015-09-05</td>\n",
       "      <td>AS</td>\n",
       "      <td>19930</td>\n",
       "      <td>AS</td>\n",
       "      <td>N589AS</td>\n",
       "      <td>413</td>\n",
       "      <td>14869</td>\n",
       "      <td>...</td>\n",
       "      <td>1855</td>\n",
       "      <td>1832.0</td>\n",
       "      <td>-23.0</td>\n",
       "      <td>0.0</td>\n",
       "      <td>1800-1859</td>\n",
       "      <td>0.0</td>\n",
       "      <td>130.0</td>\n",
       "      <td>119.0</td>\n",
       "      <td>102.0</td>\n",
       "      <td>689.0</td>\n",
       "    </tr>\n",
       "    <tr>\n",
       "      <th>5</th>\n",
       "      <td>2019</td>\n",
       "      <td>9</td>\n",
       "      <td>2</td>\n",
       "      <td>2019-09-02</td>\n",
       "      <td>YX</td>\n",
       "      <td>20452</td>\n",
       "      <td>YX</td>\n",
       "      <td>N203JQ</td>\n",
       "      <td>6104</td>\n",
       "      <td>12451</td>\n",
       "      <td>...</td>\n",
       "      <td>1452</td>\n",
       "      <td>1449.0</td>\n",
       "      <td>-3.0</td>\n",
       "      <td>0.0</td>\n",
       "      <td>1400-1459</td>\n",
       "      <td>0.0</td>\n",
       "      <td>168.0</td>\n",
       "      <td>169.0</td>\n",
       "      <td>149.0</td>\n",
       "      <td>1010.0</td>\n",
       "    </tr>\n",
       "  </tbody>\n",
       "</table>\n",
       "<p>5 rows × 45 columns</p>\n",
       "</div>"
      ],
      "text/plain": [
       "   Year  Month  DayofMonth FlightDate Reporting_Airline  \\\n",
       "0  2019      6          11 2019-06-11                9E   \n",
       "1  2018      2           8 2018-02-08                WN   \n",
       "2  2014      4           3 2014-04-03                WN   \n",
       "3  2015      9           5 2015-09-05                AS   \n",
       "5  2019      9           2 2019-09-02                YX   \n",
       "\n",
       "   DOT_ID_Reporting_Airline IATA_CODE_Reporting_Airline Tail_Number  \\\n",
       "0                     20363                          9E      N927XJ   \n",
       "1                     19393                          WN      N8688J   \n",
       "2                     19393                          WN      N374SW   \n",
       "3                     19930                          AS      N589AS   \n",
       "5                     20452                          YX      N203JQ   \n",
       "\n",
       "   Flight_Number_Reporting_Airline  OriginAirportID  ...  CRSArrTime  ArrTime  \\\n",
       "0                             3459            10397  ...        2057     31.0   \n",
       "1                             5932            13232  ...        2250   2319.0   \n",
       "2                             1463            11540  ...        1300   1255.0   \n",
       "3                              413            14869  ...        1855   1832.0   \n",
       "5                             6104            12451  ...        1452   1449.0   \n",
       "\n",
       "  ArrDelay ArrDelayMinutes ArrTimeBlk  Diverted  CRSElapsedTime  \\\n",
       "0    214.0           214.0  2000-2059       0.0            67.0   \n",
       "1     29.0            29.0  2200-2259       0.0           140.0   \n",
       "2     -5.0             0.0  1300-1359       0.0            95.0   \n",
       "3    -23.0             0.0  1800-1859       0.0           130.0   \n",
       "5     -3.0             0.0  1400-1459       0.0           168.0   \n",
       "\n",
       "   ActualElapsedTime  AirTime  Distance  \n",
       "0               60.0     35.0     192.0  \n",
       "1              153.0    114.0     793.0  \n",
       "2               90.0     77.0     562.0  \n",
       "3              119.0    102.0     689.0  \n",
       "5              169.0    149.0    1010.0  \n",
       "\n",
       "[5 rows x 45 columns]"
      ]
     },
     "execution_count": 27,
     "metadata": {},
     "output_type": "execute_result"
    }
   ],
   "source": [
    "airline_df.head()"
   ]
  },
  {
   "cell_type": "markdown",
   "metadata": {
    "id": "9hLTTKAF7Kzx"
   },
   "source": [
    "### Check duplicated rows"
   ]
  },
  {
   "cell_type": "code",
   "execution_count": null,
   "metadata": {
    "id": "-2Ilmfo030di",
    "outputId": "333545ea-998e-4539-9863-4b882e47521c"
   },
   "outputs": [
    {
     "name": "stdout",
     "output_type": "stream",
     "text": [
      "\n",
      "No duplicate rows in dataframe.\n"
     ]
    }
   ],
   "source": [
    "check_duplicate_values(df=airline_df)"
   ]
  },
  {
   "cell_type": "markdown",
   "metadata": {
    "id": "Pgpbe4KRH81L"
   },
   "source": [
    "### Check outliers"
   ]
  },
  {
   "cell_type": "code",
   "execution_count": null,
   "metadata": {
    "id": "pIsOJQc163B-",
    "outputId": "b97169bb-1471-4307-ed9d-15b784a4de0e"
   },
   "outputs": [
    {
     "name": "stdout",
     "output_type": "stream",
     "text": [
      "Column: CRSDepTime. Lower boundary: -310.5. Upper boundary: 2957.5. Percentage of outliers: 0.00%\n",
      "Column: DepTime. Lower boundary: -320.5. Upper boundary: 2979.5. Percentage of outliers: 0.00%\n",
      "Column: DepDelay. Lower boundary: -23.0. Upper boundary: 25.0. Percentage of outliers: 13.28%\n",
      "Column: DepDelayMinutes. Lower boundary: -10.5. Upper boundary: 17.5. Percentage of outliers: 16.88%\n",
      "Column: TaxiOut. Lower boundary: -1.0. Upper boundary: 31.0. Percentage of outliers: 5.95%\n",
      "Column: WheelsOff. Lower boundary: -305.5. Upper boundary: 2994.5. Percentage of outliers: 0.00%\n",
      "Column: WheelsOn. Lower boundary: -244.5. Upper boundary: 3207.5. Percentage of outliers: 0.00%\n",
      "Column: TaxiIn. Lower boundary: -3.5. Upper boundary: 16.5. Percentage of outliers: 5.41%\n",
      "Column: CRSArrTime. Lower boundary: -116.0. Upper boundary: 3140.0. Percentage of outliers: 0.00%\n",
      "Column: ArrTime. Lower boundary: -244.5. Upper boundary: 3215.5. Percentage of outliers: 0.00%\n",
      "Column: ArrDelay. Lower boundary: -47.0. Upper boundary: 41.0. Percentage of outliers: 9.04%\n",
      "Column: ArrDelayMinutes. Lower boundary: -12.0. Upper boundary: 20.0. Percentage of outliers: 15.53%\n",
      "Column: CRSElapsedTime. Lower boundary: -41.0. Upper boundary: 303.0. Percentage of outliers: 5.27%\n",
      "Column: ActualElapsedTime. Lower boundary: -46.0. Upper boundary: 298.0. Percentage of outliers: 5.03%\n",
      "Column: AirTime. Lower boundary: -66.0. Upper boundary: 270.0. Percentage of outliers: 5.14%\n",
      "Column: Distance. Lower boundary: -663.0. Upper boundary: 2097.0. Percentage of outliers: 6.01%\n"
     ]
    }
   ],
   "source": [
    "# Select only numeric cols that is not date time cols\n",
    "outliers_cols = ['CRSDepTime',\n",
    "       'DepTime', 'DepDelay', 'DepDelayMinutes', \n",
    "       'TaxiOut', 'WheelsOff',\n",
    "       'WheelsOn', 'TaxiIn', 'CRSArrTime', 'ArrTime', 'ArrDelay',\n",
    "       'ArrDelayMinutes', 'CRSElapsedTime', 'ActualElapsedTime',\n",
    "       'AirTime', 'Distance']\n",
    "for col in outliers_cols:\n",
    "  check_outliers(airline_df, col)"
   ]
  },
  {
   "cell_type": "code",
   "execution_count": null,
   "metadata": {
    "id": "1xwRhwTsPeVX",
    "outputId": "ccb12fb3-3504-4303-a66e-eb8dbbb3b5c1",
    "scrolled": false
   },
   "outputs": [
    {
     "data": {
      "text/plain": [
       "<AxesSubplot:>"
      ]
     },
     "execution_count": 30,
     "metadata": {},
     "output_type": "execute_result"
    },
    {
     "data": {
      "image/png": "[encoded data removed]",
      "text/plain": [
       "<Figure size 864x720 with 1 Axes>"
      ]
     },
     "metadata": {},
     "output_type": "display_data"
    }
   ],
   "source": [
    "# Visualize outliers with box plots\n",
    "sns.boxplot(data=airline_df[outliers_cols], orient=\"h\", palette=\"Set2\")"
   ]
  },
  {
   "cell_type": "markdown",
   "metadata": {
    "id": "lgx8YBOCVXjd"
   },
   "source": [
    "&rightarrow; `DepDelay`, `DepDelayMinutes`, `ArrDelay`, `ArrDelayMinutes` have about 10% outliers. We will need to remove extreme outliers."
   ]
  },
  {
   "cell_type": "markdown",
   "metadata": {
    "id": "6xD58EplVXjd"
   },
   "source": [
    "### Remove extreme outliers"
   ]
  },
  {
   "cell_type": "code",
   "execution_count": null,
   "metadata": {
    "id": "IewoLQLLgHMC"
   },
   "outputs": [],
   "source": [
    "# Removing the outliers from the columns with extreme outlier values\n",
    "extreme_outlier_cols = [\"DepDelay\", \"DepDelayMinutes\", \"ArrDelay\", \"ArrDelayMinutes\"]\n",
    "for col in extreme_outlier_cols:\n",
    "  remove_outliers(airline_df, col)"
   ]
  },
  {
   "cell_type": "code",
   "execution_count": null,
   "metadata": {
    "id": "gAUSvi3CgUJr",
    "outputId": "fadf76f8-b5c4-4249-9769-ddf2af989c20"
   },
   "outputs": [
    {
     "name": "stdout",
     "output_type": "stream",
     "text": [
      "Column: DepDelay. Lower boundary: -16.5. Upper boundary: 11.5. Percentage of outliers: 7.94%\n",
      "Column: DepDelayMinutes. Lower boundary: 0.0. Upper boundary: 0.0. Percentage of outliers: 19.16%\n",
      "Column: ArrDelay. Lower boundary: -42.0. Upper boundary: 30.0. Percentage of outliers: 2.87%\n",
      "Column: ArrDelayMinutes. Lower boundary: 0.0. Upper boundary: 0.0. Percentage of outliers: 20.66%\n"
     ]
    }
   ],
   "source": [
    "# Re-checking the dataframe after removing extreme outliers\n",
    "for col in extreme_outlier_cols:\n",
    "  check_outliers(airline_df, col)"
   ]
  },
  {
   "cell_type": "markdown",
   "metadata": {
    "id": "xpVoTsXCCA6X"
   },
   "source": [
    "### Possible next steps: map airline codes to their names (ex. United, Qatar, etc.)"
   ]
  }
 ],
 "metadata": {
  "colab": {
   "collapsed_sections": [],
   "name": "Apr24_info442_FinalPreproc.ipynb",
   "provenance": []
  },
  "kernelspec": {
   "display_name": "Python 3",
   "language": "python",
   "name": "python3"
  },
  "language_info": {
   "codemirror_mode": {
    "name": "ipython",
    "version": 3
   },
   "file_extension": ".py",
   "mimetype": "text/x-python",
   "name": "python",
   "nbconvert_exporter": "python",
   "pygments_lexer": "ipython3",
   "version": "3.8.8"
  }
 },
 "nbformat": 4,
 "nbformat_minor": 1
}
