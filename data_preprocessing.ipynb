{
 "cells": [
  {
   "cell_type": "markdown",
   "metadata": {
    "id": "vPIne0_ckk1C"
   },
   "source": [
    "### College of Computing and Informatics, Drexel University\n",
    "---\n",
    "\n",
    "# Data Preprocessing\n",
    "\n",
    "## Project Title: U.S. Domestic Flights Delay Prediction\n",
    "\n",
    "## Author(s): Grace Pham, Jessica Jha, Heidi Tran, Khanh Tran\n",
    "\n",
    "---"
   ]
  },
  {
   "cell_type": "markdown",
   "metadata": {
    "id": "_zslWqHhkk1H"
   },
   "source": [
    "## 1. Introduction & Problem Definition\n",
    "---\n",
    "\n",
    "Millions of passengers fly everyday (except when a pandemic is taking place) and because flying is one of the fastest ways to travel, demand may get overwhelming, causing delays in departures and landings. Flight delays cause more than just inconvenience - it costs airlines and passegner money from rebooking flights, missing connecting flights, having to provide hotel and purchase food if the next flight is hours or days away. We hope to uncover certain trends from this data such as which airlines have the most delays, which destinations are most impacted, what are the causes of these delays, on average when are these delays happening the most, and build predictive classification models and compare which one can predict flight delays the best.\n",
    "\n",
    "Using this data found from the U.S. Department of Transportation's (DOT) Bureau of Transportation Statistics (BTS) helps give insight into different factors at play when flights are delayed. This project utilized Apache Spark for downsizing the data and multiple Python libraries for pre-processing, EDA, visualizations, and predictive modeling. The results will benefit passengers to help plan their next itineraries and prepare the best plan of action to make sure their flights to their destination are as delay-free as possible."
   ]
  },
  {
   "cell_type": "markdown",
   "metadata": {
    "id": "_X-ZFys7kk1J"
   },
   "source": [
    "## 3. Data\n",
    "---\n",
    "#### Main Dataset\n",
    "\n",
    "The dataset was retrieved from IBM. The original dataset is 7.2 GB in size. This dataset provides information on roughly 200 million U.S. domestic flights on United States Bureau of Transportation Statistics along with the flights’ information including flight date, place of origin, destination, delay time, flight time, etc.\n",
    "\n",
    "https://developer.ibm.com/exchanges/data/all/airline/\n",
    "\n",
    "#### Airport Codes for Airline names\n",
    "The list of airport codes was found on the Bureau of Transportation Statistics on the U.S. Department of Transportation site which was then copied into a CSV file to use to iterate through the list and replace the codes with Airline names to make better sense of the data. \n",
    "https://www.bts.gov/topics/airlines-and-airports/airline-codes\n",
    "\n",
    "#### Metadata\n",
    "- Fligts dataset\n",
    "    - Format: CSV\n",
    "    - Number of records: 194 million\n",
    "    - Data Coverage: United States 1987 - 2020\n",
    "    \n",
    "- Airlines name dataset\n",
    "    - Format: CSV \n",
    "    - Number of records: 1652 records\n",
    "\n",
    "#### Downsize the data\n",
    "\n",
    "In order to downsize the data, a local cluster of sample code from the IBM notebook was run on Apache Spark, an open-source cloud clustering platform. A smaller subset of data was able to be extracted so that all of our group members were able to have access to the same data to split pre-processing tasks. "
   ]
  },
  {
   "cell_type": "markdown",
   "metadata": {
    "id": "YuXzpDLPCA6V"
   },
   "source": [
    "#### Glossary\n",
    "\n",
    "\n",
    "| Field Name | Type | Description |\n",
    "| --- | --- | --- |\n",
    "| Year | int64 | year of the flight |\n",
    "| Month | int64 | month of the flight  |\n",
    "| DayofMonth | int64 | day of the month  |\n",
    "| FlightDate | datetime64[ns] | date of the flight |\n",
    "| Reporting_Airline | object | unique airline carrier code|\n",
    "| DOT_ID_Reporting_Airline | int64 | Number assigned by US DOT to identify a unique airline |\n",
    "| IATA_CODE_Reporting_Airline | object | Airline Code assigned by IATA |\n",
    "| Tail_Number | object | Aircraft tail number |\n",
    "| Flight_Number_Reporting_Airline | int64 | Flight Number |\n",
    "| OriginAirportID | int64 | Origin Airport ID |\n",
    "| OriginAirportSeqID | int64 | Origin Airport Sequence ID |\n",
    "| OriginCityMarketID | int64 | Origin City Market ID |\n",
    "| Origin | object | Origin Airport Code|\n",
    "| OriginCityName | object | Origin City Name |\n",
    "| OriginState | object | Origin State | \n",
    "| OriginStateFips | int64 | Origin State FIPS place code | \n",
    "| DestAirportID | int64 | Destination Airport ID |\n",
    "| DestAirportSeqID | int64 | Destination Airport Sequence ID |\n",
    "| OriginWac | int64 | Origin Airport World Area Code |\n",
    "| DestCityMarketID | int64 | Destination City Market ID |\n",
    "| Dest | object | Destination Airport Code |\n",
    "| DestCityName | object | Destination City Name | \n",
    "| DestState | object | Destination State | \n",
    "| DestStateFips | int64 | Destination State FIPS code |\n",
    "| DestStateName | object | Destination State Name |\n",
    "| DestWac | int64 | Destination Airport World Area Code |\n",
    "| CRSDepTime | int64 | Computer Reservation System (scheduled) Departure Time |\n",
    "| DepTime | float64 | Departure Time (hhmm) |\n",
    "| DepDelay | float64 | Departure delay (minutes) |\n",
    "| DepDelayMinutes | float64 | Absolute value of DepDelay |\n",
    "| DepartureDelayGroups | float64 | Departure delay 15 minute interval group |\n",
    "| DepTimeBlk | object | Computer Reservation System (scheduled) time block |\n",
    "| TaxiOut | float64 | Taxi out time (minutes) |\n",
    "| WheelsOff | float64 | Wheels off time (local time, hhmm) |\n",
    "| WheelsOn | float64 | Wheels on time (local time hhmm) |\n",
    "| TaxiIn | float64 | Taxi in time (minutes) |\n",
    "| CRSArrTime | int64 | Computer Reservation System (scheduled)\n",
    "Arrival Time |\n",
    "| ArrTime | float64 | Arrival time (local time, hhmm) |\n",
    "| ArrDelay | float64 | Arrival delay (minutes) |\n",
    "| ArrDelayMinutes | float64 | Absolute value of ArrDelay |\n",
    "| ArrDel15 | float64 | Arrival Delay >15? |\n",
    "| ArrivalDelayGroups | float64 | Arrival delay 15 minute  interval group |\n",
    "| ArrTimeBlk | object | Computer Reservation System (scheduled) arrival time block |\n",
    "| Cancelled | float64 | 1 = canceled |\n",
    "| Diverted | float64 | 1 = diverted |\n",
    "| CRSElapsedTime | float64 | Computer Reservation System (scheduled) elapsed time |\n",
    "| ActualElapsedTime | float64 | Actual elapsed time |\n",
    "| AirTime | float64 | Flight time (minutes) |\n",
    "| Distance | float64 | Distance between airports (miles) |\n",
    "| DistanceGroup | int64 | 250 mile distance interval group |\n",
    "| CarrierDelay | float64 | Carrier delay (minutes) |\n",
    "| WeatherDelay | float64 | Weather delay (minutes) |\n",
    "| NASDelay | float64 | National Air System delay (minutes) |\n",
    "| SecurityDelay | float64 | Security delay (minutes) |\n",
    "| LateAircraftDelay | float64 | Late aircraft delay (minutes) |\n",
    "| DivAirportLandings | int64 | Number of diverted airport landings |                     "
   ]
  },
  {
   "cell_type": "markdown",
   "metadata": {
    "id": "D8D92Q09rlZb"
   },
   "source": [
    "### Import packages"
   ]
  },
  {
   "cell_type": "code",
   "execution_count": null,
   "metadata": {
    "id": "6II79_YcrhoC"
   },
   "outputs": [],
   "source": [
    "import sys\n",
    "import json\n",
    "import pandas as pd\n",
    "import numpy as np\n",
    "import seaborn as sns\n",
    "\n",
    "import sklearn\n",
    "\n",
    "from sklearn.preprocessing import LabelEncoder\n",
    "from sklearn.preprocessing import OneHotEncoder\n",
    "from sklearn.preprocessing import PolynomialFeatures\n",
    "\n",
    "from imblearn.pipeline import Pipeline\n",
    "from imblearn.over_sampling import SMOTE\n",
    "from imblearn.under_sampling import RandomUnderSampler\n",
    "\n",
    "from sklearn.model_selection import train_test_split\n",
    "from sklearn.model_selection import KFold\n",
    "from sklearn.model_selection import cross_val_score\n",
    "\n",
    "# Models\n",
    "from sklearn.linear_model import LinearRegression\n",
    "from sklearn.tree import DecisionTreeRegressor\n",
    "from sklearn.ensemble import RandomForestClassifier\n",
    "from sklearn.neighbors import KNeighborsClassifier\n",
    "from sklearn.naive_bayes import GaussianNB\n",
    "from sklearn.naive_bayes import BernoulliNB # BernoulliNB is designed for binary features\n",
    "from sklearn.tree import DecisionTreeClassifier\n",
    "from sklearn.ensemble import BaggingClassifier\n",
    "\n",
    "# Evaluation metrics\n",
    "from sklearn.metrics import mean_squared_error, r2_score\n",
    "from sklearn.metrics import confusion_matrix, classification_report\n",
    "from sklearn.metrics import accuracy_score, recall_score, precision_score, f1_score\n",
    "from sklearn.metrics import precision_recall_fscore_support\n",
    "\n",
    "import matplotlib.pyplot as plt\n",
    "#from google.colab import data_table\n",
    "\n",
    "# Ignore warnings in Jupyter Notebook\n",
    "import warnings\n",
    "warnings.filterwarnings('ignore')\n",
    "\n",
    "# Config seaborn\n",
    "sns.set(rc={\"figure.figsize\":(12, 10)})\n",
    "sns.set_style('darkgrid')\n",
    "sns.set_palette('Set2')"
   ]
  },
  {
   "cell_type": "markdown",
   "metadata": {
    "id": "sbEv7XdAr-LJ"
   },
   "source": [
    "#### Common utilities that we can re-use.\n",
    "Some of thehese functions were given to us by IBM sample notebook. We also wrote some original functions to re-use throughout the notebook as well."
   ]
  },
  {
   "cell_type": "code",
   "execution_count": null,
   "metadata": {
    "id": "bohAZlYorf9z"
   },
   "outputs": [],
   "source": [
    "from re import I\n",
    "def reduce_mem_usage(df: pd.DataFrame) -> pd.DataFrame:\n",
    "    \"\"\"Iterate through all the columns of a dataframe and modify the data type to reduce memory usage.\n",
    "        I doubt that we would use up what Colab gives us in the free tier, but still it's a helpful util.\n",
    "    :param df: pandas DataFrame    \n",
    "    \"\"\"\n",
    "    start_mem = df.memory_usage().sum() / 1024**2\n",
    "    print('Memory usage of dataframe is {:.2f} MB'.format(start_mem))\n",
    "    \n",
    "    for col in df.columns:\n",
    "        col_type = df[col].dtype\n",
    "        \n",
    "        if col_type != object:\n",
    "            c_min = df[col].min()\n",
    "            c_max = df[col].max()\n",
    "            if str(col_type)[:3] == 'int':\n",
    "                if c_min > np.iinfo(np.int8).min and c_max < np.iinfo(np.int8).max:\n",
    "                    df[col] = df[col].astype(np.int8)\n",
    "                elif c_min > np.iinfo(np.int16).min and c_max < np.iinfo(np.int16).max:\n",
    "                    df[col] = df[col].astype(np.int16)\n",
    "                elif c_min > np.iinfo(np.int32).min and c_max < np.iinfo(np.int32).max:\n",
    "                    df[col] = df[col].astype(np.int32)\n",
    "                elif c_min > np.iinfo(np.int64).min and c_max < np.iinfo(np.int64).max:\n",
    "                    df[col] = df[col].astype(np.int64)  \n",
    "            else:\n",
    "                if c_min > np.finfo(np.float16).min and c_max < np.finfo(np.float16).max:\n",
    "                    df[col] = df[col].astype(np.float16)\n",
    "                elif c_min > np.finfo(np.float32).min and c_max < np.finfo(np.float32).max:\n",
    "                    df[col] = df[col].astype(np.float32)\n",
    "                else:\n",
    "                    df[col] = df[col].astype(np.float64)\n",
    "        else:\n",
    "            df[col] = df[col].astype('category')\n",
    "\n",
    "    end_mem = df.memory_usage().sum() / 1024**2\n",
    "    print('Memory usage after optimization is: {:.2f} MB'.format(end_mem))\n",
    "    print('Decreased by {:.1f}%'.format(100 * (start_mem - end_mem) / start_mem))\n",
    "    \n",
    "    return df\n",
    "\n",
    "\n",
    "def import_data(file: str, json=False) -> pd.DataFrame:\n",
    "    \"\"\"Create a dataframe and optimize its memory usage\n",
    "    :param file: filepath.\n",
    "    \"\"\"\n",
    "    if json:\n",
    "        try:\n",
    "            df = pd.read_json(file)\n",
    "            df = reduce_mem_usage(df)\n",
    "        except ValueError:\n",
    "            df = pd.read_json(file, lines=True)\n",
    "            df = reduce_mem_usage(df)\n",
    "    elif not json:\n",
    "        df = pd.read_csv(file, parse_dates=True, keep_date_col=True)\n",
    "        df = reduce_mem_usage(df)\n",
    "    return df\n",
    "\n",
    "    \n",
    "def index_file_checker(df, col_name):\n",
    "    return df[df[col_name].isnull()].index.tolist()\n",
    "\n",
    "\n",
    "def check_field(df, col_name):\n",
    "    \"\"\"Check null percentage of a column\n",
    "    \"\"\"\n",
    "    ind_miss = index_file_checker(df=df, col_name=col_name)\n",
    "    \n",
    "    if ind_miss == []:\n",
    "        print(\"No Null values of {x}\".format(x = col_name))\n",
    "        if len(df) == len(df[col_name].unique()):\n",
    "            print(\"All records of {x} is populated for the \\\"M Field\\\" and are unique\".format(x = col_name))\n",
    "            \n",
    "    else:\n",
    "        pctMissing = 100*(len(ind_miss)/len(df))\n",
    "        print(f\"Percentage of missing {col_name} field: {pctMissing:.2f}%\")\n",
    "\n",
    "\n",
    "def check_duplicate_values(df: pd.DataFrame, col_name: str =None):\n",
    "    '''Check for duplicate values in a given column in a given dataframe. If no column is given, only check for duplicate rows in the dataframe.\n",
    "    '''\n",
    "    try:\n",
    "        if col_name is not None:\n",
    "            dups = df.duplicated(subset=[col_name], keep='first')\n",
    "            len_dups = len(dups[dups==True])\n",
    "            percent_dups = 100*len_dups/len(df)\n",
    "\n",
    "            if len_dups == 0:\n",
    "                print(f\"\\nNo duplicate values in {col_name} field.\")\n",
    "            elif len_dups > 0:\n",
    "                print(f\"\\nPercentage of duplicate values in {col_name} field: {percent_dups}\")\n",
    "                print(f\"Percentage of unique values in {col_name} field: {100-percent_dups}\")\n",
    "        elif col_name is None:\n",
    "            dups = df.duplicated(keep='first')\n",
    "            len_dups = len(dups[dups==True])\n",
    "            percent_dups = 100*len_dups/len(df)\n",
    "            \n",
    "            if len_dups == 0:\n",
    "                print(f\"\\nNo duplicate rows in dataframe.\")\n",
    "            elif len_dups > 0:\n",
    "                print(f\"\\nPercentage of duplicate rows in dataframe: {percent_dups}\")\n",
    "                print(f\"\\nPercentage of unique rows in dataframe: {100-percent_dups}\")\n",
    "    except Exception as e:\n",
    "        print(e)\n",
    "\n",
    "\n",
    "def calculate_bound_values(df, col_name):\n",
    "  ''' Calculate lower and upper bound value for given column in the dataframe\n",
    "  '''\n",
    "  Q1 = df[col_name].quantile(0.25)\n",
    "  Q3 = df[col_name].quantile(0.75)\n",
    "  IQR = Q3 - Q1\n",
    "  lower_bound = Q1 - 1.5 * IQR\n",
    "  upper_bound = Q3 + 1.5 * IQR\n",
    "  return (lower_bound, upper_bound)\n",
    "\n",
    "\n",
    "def check_outliers(df: pd.DataFrame, col_name: str = None):\n",
    "  '''Print out information about the lower boundary, upper boundary and percentage of outliers\n",
    "  '''\n",
    "  lower_bound, upper_bound = calculate_bound_values(df, col_name)\n",
    "  \n",
    "  outliers_lower = df[col_name][df[col_name] < lower_bound]\n",
    "  outliers_upper = df[col_name][df[col_name] > upper_bound]\n",
    "  outliers_cnt = len(outliers_lower) + len(outliers_upper)\n",
    "  outliers_pct = (outliers_cnt * 100) / len(df[col_name])\n",
    "  print(f\"Column: {col_name}. Lower boundary: {lower_bound}. Upper boundary: {upper_bound}. Percentage of outliers: {outliers_pct:.2f}%\")\n",
    "\n",
    "\n",
    "def remove_outliers(df, col_name):\n",
    "  '''Replace outliers at given column with null values\n",
    "  '''\n",
    "  lower_bound, upper_bound = calculate_bound_values(df, col_name)\n",
    "  df[col_name] = df[col_name][(df[col_name] < upper_bound) & (df[col_name] > lower_bound)]\n",
    "  \n",
    "\n",
    "def get_numeric_cols(df: pd.DataFrame):\n",
    "  '''Return the names of all the numeric columns in a Data Frame\n",
    "  '''\n",
    "  return list(df.select_dtypes(include=[np.number]).columns.values)\n",
    "\n",
    "\n",
    "def drop_col(df: pd.DataFrame, col_name: str = None) -> pd.DataFrame:\n",
    "  '''Drop a column in a Data Frame and return the new Data Frame\n",
    "  '''\n",
    "  return df.drop(col_name, axis='columns')\n",
    "\n",
    "\n",
    "def drop_cols_with_missing_val_threshold(df, threshold): \n",
    "  '''Drop columns which has percentage of missing value surpassed the input threshold\n",
    "  Return a new dataframe in which unqualified columns has been dropped\n",
    "  '''\n",
    "  threshold_percentage = len(df) * threshold\n",
    "  return df.dropna(thresh=threshold_percentage, axis=1)\n",
    "\n",
    "\n",
    "def display_bar_char(xName: str, yName: str, df: pd.DataFrame, orient: str, figSize: (int, int), title: str):\n",
    "    fig = plt.figure(figsize=figSize)\n",
    "    ax = plt.axes()\n",
    "    sns.barplot(x = xName, y = yName, data = df, orient = orient, ax = ax).set(title = title)\n",
    "\n",
    "\n",
    "def plot_confusion_matrix(data, labels):\n",
    "    sns.set(color_codes=True)\n",
    "    plt.figure(1, figsize=(9, 6))\n",
    "    plt.title(\"Confusion Matrix\")\n",
    "    sns.set(font_scale=1.4)\n",
    "    ax = sns.heatmap(data, annot=True, cmap=\"YlGnBu\", cbar_kws={'label': 'Scale'})\n",
    "    ax.set_xticklabels(labels)\n",
    "    ax.set_yticklabels(labels)\n",
    "    ax.set(ylabel=\"True Label\", xlabel=\"Predicted Label\")\n",
    "    plt.show()"
   ]
  },
  {
   "cell_type": "markdown",
   "metadata": {
    "id": "wz2kG6cXkk1P"
   },
   "source": [
    "## 4. Data Preprocessing\n",
    "---"
   ]
  },
  {
   "cell_type": "markdown",
   "metadata": {
    "id": "fh1RtcDesY01"
   },
   "source": [
    "### 4.1 Take a look at the dataset\n",
    "#### Loading in the data "
   ]
  },
  {
   "cell_type": "code",
   "execution_count": null,
   "metadata": {
    "id": "29fvsFSusaVC"
   },
   "outputs": [],
   "source": [
    "airline_df = import_data(\"airlines_updated.csv\")\n",
    "airportMapping = import_data(\"AirlineCodeMapping.csv\")"
   ]
  },
  {
   "cell_type": "markdown",
   "metadata": {
    "id": "iWyRZo_Kkk1Q"
   },
   "source": [
    "#### Dimension"
   ]
  },
  {
   "cell_type": "code",
   "execution_count": null,
   "metadata": {
    "id": "OshBVEhdkk1R",
    "outputId": "a0baf63f-37d8-405b-d3f1-9cd913c5083e",
    "scrolled": true
   },
   "outputs": [
    {
     "name": "stdout",
     "output_type": "stream",
     "text": [
      "Number of rows: 386425\n",
      "Number of columns: 109\n"
     ]
    }
   ],
   "source": [
    "print(f\"Number of rows: {airline_df.shape[0]}\")\n",
    "print(f\"Number of columns: {airline_df.shape[1]}\")"
   ]
  },
  {
   "cell_type": "markdown",
   "metadata": {
    "id": "4OpXmDTE69nu"
   },
   "source": [
    "#### First 5 rows"
   ]
  },
  {
   "cell_type": "code",
   "execution_count": null,
   "metadata": {
    "colab": {
     "base_uri": "https://localhost:8080/",
     "height": 235
    },
    "id": "z_A3TzBPzHQ9",
    "outputId": "ae691961-3bf4-47d8-f089-820eabacc662"
   },
   "outputs": [
    {
     "data": {
      "text/html": [
       "<div>\n",
       "<style scoped>\n",
       "    .dataframe tbody tr th:only-of-type {\n",
       "        vertical-align: middle;\n",
       "    }\n",
       "\n",
       "    .dataframe tbody tr th {\n",
       "        vertical-align: top;\n",
       "    }\n",
       "\n",
       "    .dataframe thead th {\n",
       "        text-align: right;\n",
       "    }\n",
       "</style>\n",
       "<table border=\"1\" class=\"dataframe\">\n",
       "  <thead>\n",
       "    <tr style=\"text-align: right;\">\n",
       "      <th></th>\n",
       "      <th>Year</th>\n",
       "      <th>Quarter</th>\n",
       "      <th>Month</th>\n",
       "      <th>DayofMonth</th>\n",
       "      <th>DayOfWeek</th>\n",
       "      <th>FlightDate</th>\n",
       "      <th>Reporting_Airline</th>\n",
       "      <th>DOT_ID_Reporting_Airline</th>\n",
       "      <th>IATA_CODE_Reporting_Airline</th>\n",
       "      <th>Tail_Number</th>\n",
       "      <th>...</th>\n",
       "      <th>Div4WheelsOff</th>\n",
       "      <th>Div4TailNum</th>\n",
       "      <th>Div5Airport</th>\n",
       "      <th>Div5AirportID</th>\n",
       "      <th>Div5AirportSeqID</th>\n",
       "      <th>Div5WheelsOn</th>\n",
       "      <th>Div5TotalGTime</th>\n",
       "      <th>Div5LongestGTime</th>\n",
       "      <th>Div5WheelsOff</th>\n",
       "      <th>Div5TailNum</th>\n",
       "    </tr>\n",
       "  </thead>\n",
       "  <tbody>\n",
       "    <tr>\n",
       "      <th>0</th>\n",
       "      <td>2019</td>\n",
       "      <td>2</td>\n",
       "      <td>6</td>\n",
       "      <td>11</td>\n",
       "      <td>2</td>\n",
       "      <td>2019-06-11</td>\n",
       "      <td>9E</td>\n",
       "      <td>20363</td>\n",
       "      <td>9E</td>\n",
       "      <td>N927XJ</td>\n",
       "      <td>...</td>\n",
       "      <td>NaN</td>\n",
       "      <td>NaN</td>\n",
       "      <td>NaN</td>\n",
       "      <td>NaN</td>\n",
       "      <td>NaN</td>\n",
       "      <td>NaN</td>\n",
       "      <td>NaN</td>\n",
       "      <td>NaN</td>\n",
       "      <td>NaN</td>\n",
       "      <td>NaN</td>\n",
       "    </tr>\n",
       "    <tr>\n",
       "      <th>1</th>\n",
       "      <td>2018</td>\n",
       "      <td>1</td>\n",
       "      <td>2</td>\n",
       "      <td>8</td>\n",
       "      <td>4</td>\n",
       "      <td>2018-02-08</td>\n",
       "      <td>WN</td>\n",
       "      <td>19393</td>\n",
       "      <td>WN</td>\n",
       "      <td>N8688J</td>\n",
       "      <td>...</td>\n",
       "      <td>NaN</td>\n",
       "      <td>NaN</td>\n",
       "      <td>NaN</td>\n",
       "      <td>NaN</td>\n",
       "      <td>NaN</td>\n",
       "      <td>NaN</td>\n",
       "      <td>NaN</td>\n",
       "      <td>NaN</td>\n",
       "      <td>NaN</td>\n",
       "      <td>NaN</td>\n",
       "    </tr>\n",
       "    <tr>\n",
       "      <th>2</th>\n",
       "      <td>2014</td>\n",
       "      <td>2</td>\n",
       "      <td>4</td>\n",
       "      <td>3</td>\n",
       "      <td>4</td>\n",
       "      <td>2014-04-03</td>\n",
       "      <td>WN</td>\n",
       "      <td>19393</td>\n",
       "      <td>WN</td>\n",
       "      <td>N374SW</td>\n",
       "      <td>...</td>\n",
       "      <td>NaN</td>\n",
       "      <td>NaN</td>\n",
       "      <td>NaN</td>\n",
       "      <td>NaN</td>\n",
       "      <td>NaN</td>\n",
       "      <td>NaN</td>\n",
       "      <td>NaN</td>\n",
       "      <td>NaN</td>\n",
       "      <td>NaN</td>\n",
       "      <td>NaN</td>\n",
       "    </tr>\n",
       "    <tr>\n",
       "      <th>3</th>\n",
       "      <td>2015</td>\n",
       "      <td>3</td>\n",
       "      <td>9</td>\n",
       "      <td>5</td>\n",
       "      <td>6</td>\n",
       "      <td>2015-09-05</td>\n",
       "      <td>AS</td>\n",
       "      <td>19930</td>\n",
       "      <td>AS</td>\n",
       "      <td>N589AS</td>\n",
       "      <td>...</td>\n",
       "      <td>NaN</td>\n",
       "      <td>NaN</td>\n",
       "      <td>NaN</td>\n",
       "      <td>NaN</td>\n",
       "      <td>NaN</td>\n",
       "      <td>NaN</td>\n",
       "      <td>NaN</td>\n",
       "      <td>NaN</td>\n",
       "      <td>NaN</td>\n",
       "      <td>NaN</td>\n",
       "    </tr>\n",
       "    <tr>\n",
       "      <th>4</th>\n",
       "      <td>2017</td>\n",
       "      <td>3</td>\n",
       "      <td>7</td>\n",
       "      <td>26</td>\n",
       "      <td>3</td>\n",
       "      <td>2017-07-26</td>\n",
       "      <td>WN</td>\n",
       "      <td>19393</td>\n",
       "      <td>WN</td>\n",
       "      <td>N252WN</td>\n",
       "      <td>...</td>\n",
       "      <td>NaN</td>\n",
       "      <td>NaN</td>\n",
       "      <td>NaN</td>\n",
       "      <td>NaN</td>\n",
       "      <td>NaN</td>\n",
       "      <td>NaN</td>\n",
       "      <td>NaN</td>\n",
       "      <td>NaN</td>\n",
       "      <td>NaN</td>\n",
       "      <td>NaN</td>\n",
       "    </tr>\n",
       "  </tbody>\n",
       "</table>\n",
       "<p>5 rows × 109 columns</p>\n",
       "</div>"
      ],
      "text/plain": [
       "   Year  Quarter  Month  DayofMonth  DayOfWeek  FlightDate Reporting_Airline  \\\n",
       "0  2019        2      6          11          2  2019-06-11                9E   \n",
       "1  2018        1      2           8          4  2018-02-08                WN   \n",
       "2  2014        2      4           3          4  2014-04-03                WN   \n",
       "3  2015        3      9           5          6  2015-09-05                AS   \n",
       "4  2017        3      7          26          3  2017-07-26                WN   \n",
       "\n",
       "   DOT_ID_Reporting_Airline IATA_CODE_Reporting_Airline Tail_Number  ...  \\\n",
       "0                     20363                          9E      N927XJ  ...   \n",
       "1                     19393                          WN      N8688J  ...   \n",
       "2                     19393                          WN      N374SW  ...   \n",
       "3                     19930                          AS      N589AS  ...   \n",
       "4                     19393                          WN      N252WN  ...   \n",
       "\n",
       "   Div4WheelsOff  Div4TailNum  Div5Airport  Div5AirportID Div5AirportSeqID  \\\n",
       "0            NaN          NaN          NaN            NaN              NaN   \n",
       "1            NaN          NaN          NaN            NaN              NaN   \n",
       "2            NaN          NaN          NaN            NaN              NaN   \n",
       "3            NaN          NaN          NaN            NaN              NaN   \n",
       "4            NaN          NaN          NaN            NaN              NaN   \n",
       "\n",
       "  Div5WheelsOn Div5TotalGTime  Div5LongestGTime Div5WheelsOff  Div5TailNum  \n",
       "0          NaN            NaN               NaN           NaN          NaN  \n",
       "1          NaN            NaN               NaN           NaN          NaN  \n",
       "2          NaN            NaN               NaN           NaN          NaN  \n",
       "3          NaN            NaN               NaN           NaN          NaN  \n",
       "4          NaN            NaN               NaN           NaN          NaN  \n",
       "\n",
       "[5 rows x 109 columns]"
      ]
     },
     "execution_count": 5,
     "metadata": {},
     "output_type": "execute_result"
    }
   ],
   "source": [
    "airline_df.head()"
   ]
  },
  {
   "cell_type": "markdown",
   "metadata": {
    "id": "iN_fnn2fAakg"
   },
   "source": [
    "#### Columns names"
   ]
  },
  {
   "cell_type": "code",
   "execution_count": null,
   "metadata": {
    "id": "UCOENA-97Rwq",
    "outputId": "20fe1cd3-29b0-41e0-c239-528600bc27b0",
    "scrolled": true
   },
   "outputs": [
    {
     "data": {
      "text/plain": [
       "['Year',\n",
       " 'Quarter',\n",
       " 'Month',\n",
       " 'DayofMonth',\n",
       " 'DayOfWeek',\n",
       " 'FlightDate',\n",
       " 'Reporting_Airline',\n",
       " 'DOT_ID_Reporting_Airline',\n",
       " 'IATA_CODE_Reporting_Airline',\n",
       " 'Tail_Number',\n",
       " 'Flight_Number_Reporting_Airline',\n",
       " 'OriginAirportID',\n",
       " 'OriginAirportSeqID',\n",
       " 'OriginCityMarketID',\n",
       " 'Origin',\n",
       " 'OriginCityName',\n",
       " 'OriginState',\n",
       " 'OriginStateFips',\n",
       " 'OriginStateName',\n",
       " 'OriginWac',\n",
       " 'DestAirportID',\n",
       " 'DestAirportSeqID',\n",
       " 'DestCityMarketID',\n",
       " 'Dest',\n",
       " 'DestCityName',\n",
       " 'DestState',\n",
       " 'DestStateFips',\n",
       " 'DestStateName',\n",
       " 'DestWac',\n",
       " 'CRSDepTime',\n",
       " 'DepTime',\n",
       " 'DepDelay',\n",
       " 'DepDelayMinutes',\n",
       " 'DepDel15',\n",
       " 'DepartureDelayGroups',\n",
       " 'DepTimeBlk',\n",
       " 'TaxiOut',\n",
       " 'WheelsOff',\n",
       " 'WheelsOn',\n",
       " 'TaxiIn',\n",
       " 'CRSArrTime',\n",
       " 'ArrTime',\n",
       " 'ArrDelay',\n",
       " 'ArrDelayMinutes',\n",
       " 'ArrDel15',\n",
       " 'ArrivalDelayGroups',\n",
       " 'ArrTimeBlk',\n",
       " 'Cancelled',\n",
       " 'CancellationCode',\n",
       " 'Diverted',\n",
       " 'CRSElapsedTime',\n",
       " 'ActualElapsedTime',\n",
       " 'AirTime',\n",
       " 'Flights',\n",
       " 'Distance',\n",
       " 'DistanceGroup',\n",
       " 'CarrierDelay',\n",
       " 'WeatherDelay',\n",
       " 'NASDelay',\n",
       " 'SecurityDelay',\n",
       " 'LateAircraftDelay',\n",
       " 'FirstDepTime',\n",
       " 'TotalAddGTime',\n",
       " 'LongestAddGTime',\n",
       " 'DivAirportLandings',\n",
       " 'DivReachedDest',\n",
       " 'DivActualElapsedTime',\n",
       " 'DivArrDelay',\n",
       " 'DivDistance',\n",
       " 'Div1Airport',\n",
       " 'Div1AirportID',\n",
       " 'Div1AirportSeqID',\n",
       " 'Div1WheelsOn',\n",
       " 'Div1TotalGTime',\n",
       " 'Div1LongestGTime',\n",
       " 'Div1WheelsOff',\n",
       " 'Div1TailNum',\n",
       " 'Div2Airport',\n",
       " 'Div2AirportID',\n",
       " 'Div2AirportSeqID',\n",
       " 'Div2WheelsOn',\n",
       " 'Div2TotalGTime',\n",
       " 'Div2LongestGTime',\n",
       " 'Div2WheelsOff',\n",
       " 'Div2TailNum',\n",
       " 'Div3Airport',\n",
       " 'Div3AirportID',\n",
       " 'Div3AirportSeqID',\n",
       " 'Div3WheelsOn',\n",
       " 'Div3TotalGTime',\n",
       " 'Div3LongestGTime',\n",
       " 'Div3WheelsOff',\n",
       " 'Div3TailNum',\n",
       " 'Div4Airport',\n",
       " 'Div4AirportID',\n",
       " 'Div4AirportSeqID',\n",
       " 'Div4WheelsOn',\n",
       " 'Div4TotalGTime',\n",
       " 'Div4LongestGTime',\n",
       " 'Div4WheelsOff',\n",
       " 'Div4TailNum',\n",
       " 'Div5Airport',\n",
       " 'Div5AirportID',\n",
       " 'Div5AirportSeqID',\n",
       " 'Div5WheelsOn',\n",
       " 'Div5TotalGTime',\n",
       " 'Div5LongestGTime',\n",
       " 'Div5WheelsOff',\n",
       " 'Div5TailNum']"
      ]
     },
     "execution_count": 6,
     "metadata": {},
     "output_type": "execute_result"
    }
   ],
   "source": [
    "list(airline_df.columns)"
   ]
  },
  {
   "cell_type": "markdown",
   "metadata": {
    "id": "6npyt1_lAewI"
   },
   "source": [
    "#### Columns data types"
   ]
  },
  {
   "cell_type": "code",
   "execution_count": null,
   "metadata": {
    "colab": {
     "base_uri": "https://localhost:8080/"
    },
    "id": "Sf5hQjoeAj6h",
    "outputId": "b142de4a-85d9-40b3-96ef-cfb0925a8a7e",
    "scrolled": true
   },
   "outputs": [
    {
     "data": {
      "text/plain": [
       "Year                  int64\n",
       "Quarter               int64\n",
       "Month                 int64\n",
       "DayofMonth            int64\n",
       "DayOfWeek             int64\n",
       "                     ...   \n",
       "Div5WheelsOn        float64\n",
       "Div5TotalGTime      float64\n",
       "Div5LongestGTime    float64\n",
       "Div5WheelsOff       float64\n",
       "Div5TailNum         float64\n",
       "Length: 109, dtype: object"
      ]
     },
     "execution_count": 7,
     "metadata": {},
     "output_type": "execute_result"
    }
   ],
   "source": [
    "airline_df.dtypes"
   ]
  },
  {
   "cell_type": "markdown",
   "metadata": {
    "id": "ItG9PiZiVXja"
   },
   "source": [
    "&rightarrow; We can see that some columns have wrong data types. For example, `FlightDate` should have type `datetime` instead of `object`. We need to fix these columns' data types later."
   ]
  },
  {
   "cell_type": "markdown",
   "metadata": {
    "id": "34i5aDxDPwqm"
   },
   "source": [
    "### 4.2 Remove cancelled flights\n",
    "We don't need cancelled flights because that indicates a flight that was delayed \"forever\" so we need to remove it from our data."
   ]
  },
  {
   "cell_type": "code",
   "execution_count": null,
   "metadata": {
    "id": "AbnUZ2J6P6Xd"
   },
   "outputs": [],
   "source": [
    "airline_df = airline_df[airline_df[\"Cancelled\"] == 0]"
   ]
  },
  {
   "cell_type": "code",
   "execution_count": null,
   "metadata": {
    "id": "kDFSMHHYVXja"
   },
   "outputs": [],
   "source": [
    "# We don't need this column anymore since it contains all 1s\n",
    "airline_df = drop_col(airline_df, \"Cancelled\")"
   ]
  },
  {
   "cell_type": "markdown",
   "metadata": {
    "id": "NmpNTS_Lkk1U"
   },
   "source": [
    "### 4.3 Drop uneccessary columns"
   ]
  },
  {
   "cell_type": "markdown",
   "metadata": {
    "id": "EcaDrsy1VXjV"
   },
   "source": [
    "#### Drop `Flights` column\n",
    "\t\n",
    "The `Flights` column indicates the number of flights, which is usually only \"1\" in the dataset, so this column would not be beneficial for our analysis."
   ]
  },
  {
   "cell_type": "code",
   "execution_count": null,
   "metadata": {
    "id": "uFzdI_LjVXjW"
   },
   "outputs": [],
   "source": [
    "airline_df = drop_col(airline_df, \"Flights\")"
   ]
  },
  {
   "cell_type": "markdown",
   "metadata": {
    "id": "isJ0igzVIcq0"
   },
   "source": [
    "#### Drop `Quarter` and `DayOfWeek` column\n",
    "We don't plan to use these two columns for analysis. Furthermore, the `FlightDate` column already gives us enough information to recalculate quarter and day of week if necessary."
   ]
  },
  {
   "cell_type": "code",
   "execution_count": null,
   "metadata": {
    "id": "XeqKoq6IIkx9"
   },
   "outputs": [],
   "source": [
    "airline_df = drop_col(airline_df, \"Quarter\")\n",
    "airline_df = drop_col(airline_df, \"DayOfWeek\")"
   ]
  },
  {
   "cell_type": "markdown",
   "metadata": {
    "id": "iZFy8rMGCA6X"
   },
   "source": [
    "#### Drop   `OriginStateName` column \n",
    "There is already an `OriginState` column which has the state abbreviations which we can use for our analysis. Therefore, dropping this column would help condense our values and have our dataset be less redundant."
   ]
  },
  {
   "cell_type": "code",
   "execution_count": null,
   "metadata": {
    "id": "iCI3TQTvCA6W"
   },
   "outputs": [],
   "source": [
    "airline_df = airline_df.drop(columns=['OriginStateName'], axis=1)"
   ]
  },
  {
   "cell_type": "markdown",
   "metadata": {
    "id": "OPfJu7lyVXjX"
   },
   "source": [
    "#### Drop column `DepDel15`\n",
    "The `DepDel15` column indicates that the delay for departure was greater than 15 minutes as a boolean (1 for delay greater than 15 minutes, 0 for delays less than 15 minutes). We are keeping other columns which have actual minute values (such as `DepDelay` and `DepDelayMinutes` so we do not need another indicator of departure delays."
   ]
  },
  {
   "cell_type": "code",
   "execution_count": null,
   "metadata": {
    "id": "eQJ8bwcwVXjX"
   },
   "outputs": [],
   "source": [
    "airline_df = drop_col(airline_df, \"DepDel15\")"
   ]
  },
  {
   "cell_type": "markdown",
   "metadata": {
    "id": "9AQ_QqDEVXjX"
   },
   "source": [
    "#### Drop column `ArrDel15`\n",
    "The `ArrDel15` column indicates that the arrival time delay was greater than 15 minutes as a boolean (1 for delay greater than 15 minutes, 0 for delays less than 15 minutes). We are keeping other columns which have actual minute values (such as `ArrDelay` and `ArrDelayMinutes` so we do not need another indicator of arrival delays."
   ]
  },
  {
   "cell_type": "code",
   "execution_count": null,
   "metadata": {
    "id": "jKQhbmgOVXjY"
   },
   "outputs": [],
   "source": [
    "airline_df = drop_col(airline_df, \"ArrDel15\")"
   ]
  },
  {
   "cell_type": "markdown",
   "metadata": {
    "id": "jHzIo3rFVXjY"
   },
   "source": [
    "#### Drop columns  `DepartureDelayGroups` and `ArrivalDelayGroups`\n",
    "Both  `DepartureDelayGroups` and `ArrivalDelayGroups`indicate delay 15 minute interval groups - this column is filled with integers from -1 and NaNs and regular postive integers, but it will not be beneficial to our analysis as interval groups are not clear indicators as to how long the plane was delayed."
   ]
  },
  {
   "cell_type": "code",
   "execution_count": null,
   "metadata": {
    "id": "epnjvBIuVXjY"
   },
   "outputs": [],
   "source": [
    "airline_df = drop_col(airline_df, \"DepartureDelayGroups\")\n",
    "airline_df = drop_col(airline_df, \"ArrivalDelayGroups\")"
   ]
  },
  {
   "cell_type": "markdown",
   "metadata": {
    "id": "iU4LfG95VXjY"
   },
   "source": [
    "#### Drop column `DivAirportLandings`\n",
    "There a little under 1,000 diverted airport landings in a dataset of 300,000+ records (only .25%), so drawing conclusions off delays based of this type of data would be statisically insignificant and not add value to our analysis and predictions."
   ]
  },
  {
   "cell_type": "code",
   "execution_count": null,
   "metadata": {
    "colab": {
     "base_uri": "https://localhost:8080/"
    },
    "id": "CKmNror7VXjY",
    "outputId": "7755139a-8225-4b5d-a410-74e656fb478c"
   },
   "outputs": [
    {
     "name": "stdout",
     "output_type": "stream",
     "text": [
      "Number of diverted airport landings: 922\n",
      "Percentage of diverted airport landings: 0.24%\n"
     ]
    }
   ],
   "source": [
    "temp = sum(airline_df.DivAirportLandings > 0)\n",
    "print(f\"Number of diverted airport landings: {temp}\")\n",
    "print(f\"Percentage of diverted airport landings: {temp * 100 / len(airline_df) :.2f}%\")"
   ]
  },
  {
   "cell_type": "code",
   "execution_count": null,
   "metadata": {
    "id": "MaGCJsYVVXjZ"
   },
   "outputs": [],
   "source": [
    "airline_df = drop_col(airline_df, \"DivAirportLandings\")"
   ]
  },
  {
   "cell_type": "markdown",
   "metadata": {
    "id": "begiSdVuVXjZ"
   },
   "source": [
    "#### Drop column `DistanceGroup`\n",
    "`DistanceGroup` is defined as \"250 mile distance interval group\" - we will not be using pre-set groups in our analysis and predictions so we can drop this column to reduce redundant data. In addition, have the `Distance` column which provides more precise flight distance. "
   ]
  },
  {
   "cell_type": "code",
   "execution_count": null,
   "metadata": {
    "colab": {
     "base_uri": "https://localhost:8080/"
    },
    "id": "PkMm1bDTVXjZ",
    "outputId": "f7eee913-eb22-4a79-ff8e-c6a9a98f8b3d"
   },
   "outputs": [
    {
     "data": {
      "text/plain": [
       "0          1\n",
       "1          4\n",
       "2          3\n",
       "3          3\n",
       "5          5\n",
       "          ..\n",
       "386420     1\n",
       "386421    10\n",
       "386422     8\n",
       "386423     2\n",
       "386424     4\n",
       "Name: DistanceGroup, Length: 379965, dtype: int64"
      ]
     },
     "execution_count": 18,
     "metadata": {},
     "output_type": "execute_result"
    }
   ],
   "source": [
    "airline_df.DistanceGroup"
   ]
  },
  {
   "cell_type": "code",
   "execution_count": null,
   "metadata": {
    "id": "KCWK54R7VXjZ"
   },
   "outputs": [],
   "source": [
    "airline_df = drop_col(airline_df, \"DistanceGroup\")"
   ]
  },
  {
   "cell_type": "markdown",
   "metadata": {
    "id": "VMERPbq-VXja"
   },
   "source": [
    "### 4.4 Fix columns data types\n",
    "#### `FlightDate` column should have type `datetime` instead of `object`"
   ]
  },
  {
   "cell_type": "code",
   "execution_count": null,
   "metadata": {
    "id": "fZgDsOu_kk1X",
    "outputId": "394257d1-0dc3-4bb9-a461-41ef21e0094f"
   },
   "outputs": [
    {
     "data": {
      "text/plain": [
       "dtype('O')"
      ]
     },
     "execution_count": 20,
     "metadata": {},
     "output_type": "execute_result"
    }
   ],
   "source": [
    "airline_df.dtypes['FlightDate']"
   ]
  },
  {
   "cell_type": "code",
   "execution_count": null,
   "metadata": {
    "id": "o8Wg1NJACA6W"
   },
   "outputs": [],
   "source": [
    "#convert to datetime\n",
    "airline_df['FlightDate'] = pd.to_datetime(airline_df['FlightDate'], format='%Y-%m-%d')"
   ]
  },
  {
   "cell_type": "code",
   "execution_count": null,
   "metadata": {
    "colab": {
     "base_uri": "https://localhost:8080/"
    },
    "id": "xxZXjpm2CA6W",
    "outputId": "daf851a1-d6d1-4302-e34a-904305e36f35"
   },
   "outputs": [
    {
     "data": {
      "text/plain": [
       "dtype('<M8[ns]')"
      ]
     },
     "execution_count": 22,
     "metadata": {},
     "output_type": "execute_result"
    }
   ],
   "source": [
    "# Check the type again\n",
    "airline_df.dtypes['FlightDate']"
   ]
  },
  {
   "cell_type": "markdown",
   "metadata": {
    "id": "38V-YUX0kk1Y"
   },
   "source": [
    "### 4.5 Add new columns"
   ]
  },
  {
   "cell_type": "markdown",
   "metadata": {
    "id": "YID-NIS2VnqV"
   },
   "source": [
    "#### Add a new column `IsDepDelay` to denote whether a flight delayed departure"
   ]
  },
  {
   "cell_type": "code",
   "execution_count": null,
   "metadata": {
    "id": "RzT-QY3hVnqV"
   },
   "outputs": [],
   "source": [
    "airline_df['IsDepDelay'] = airline_df[\"DepDelayMinutes\"] > 0"
   ]
  },
  {
   "cell_type": "markdown",
   "metadata": {
    "id": "qHZHENqVVnqV"
   },
   "source": [
    "#### Add a new column `IsArrDelay` to denote whether a flight delayed departure"
   ]
  },
  {
   "cell_type": "code",
   "execution_count": null,
   "metadata": {
    "id": "GpqRmwruVnqV"
   },
   "outputs": [],
   "source": [
    "airline_df['IsArrDelay'] = airline_df[\"ArrDelayMinutes\"] > 0"
   ]
  },
  {
   "cell_type": "markdown",
   "metadata": {
    "id": "g-eAlKX67E1M"
   },
   "source": [
    "### 4.6 Check missing values"
   ]
  },
  {
   "cell_type": "code",
   "execution_count": null,
   "metadata": {
    "colab": {
     "base_uri": "https://localhost:8080/"
    },
    "id": "6noGKx-T0yb5",
    "outputId": "e43f8429-4a0b-487b-a867-1f5a3fdb5a6c",
    "scrolled": true
   },
   "outputs": [
    {
     "name": "stdout",
     "output_type": "stream",
     "text": [
      "No Null values of Year\n",
      "No Null values of Month\n",
      "No Null values of DayofMonth\n",
      "No Null values of FlightDate\n",
      "No Null values of Reporting_Airline\n",
      "No Null values of DOT_ID_Reporting_Airline\n",
      "No Null values of IATA_CODE_Reporting_Airline\n",
      "No Null values of Tail_Number\n",
      "No Null values of Flight_Number_Reporting_Airline\n",
      "No Null values of OriginAirportID\n",
      "No Null values of OriginAirportSeqID\n",
      "No Null values of OriginCityMarketID\n",
      "No Null values of Origin\n",
      "No Null values of OriginCityName\n",
      "No Null values of OriginState\n",
      "No Null values of OriginStateFips\n",
      "No Null values of OriginWac\n",
      "No Null values of DestAirportID\n",
      "No Null values of DestAirportSeqID\n",
      "No Null values of DestCityMarketID\n",
      "No Null values of Dest\n",
      "No Null values of DestCityName\n",
      "No Null values of DestState\n",
      "No Null values of DestStateFips\n",
      "No Null values of DestStateName\n",
      "No Null values of DestWac\n",
      "No Null values of CRSDepTime\n",
      "No Null values of DepTime\n",
      "Percentage of missing DepDelay field: 0.02%\n",
      "Percentage of missing DepDelayMinutes field: 0.02%\n",
      "No Null values of DepTimeBlk\n",
      "No Null values of TaxiOut\n",
      "No Null values of WheelsOff\n",
      "Percentage of missing WheelsOn field: 0.04%\n",
      "Percentage of missing TaxiIn field: 0.04%\n",
      "No Null values of CRSArrTime\n",
      "Percentage of missing ArrTime field: 0.04%\n",
      "Percentage of missing ArrDelay field: 0.25%\n",
      "Percentage of missing ArrDelayMinutes field: 0.25%\n",
      "No Null values of ArrTimeBlk\n",
      "Percentage of missing CancellationCode field: 100.00%\n",
      "No Null values of Diverted\n",
      "No Null values of CRSElapsedTime\n",
      "Percentage of missing ActualElapsedTime field: 0.24%\n",
      "Percentage of missing AirTime field: 0.24%\n",
      "No Null values of Distance\n",
      "Percentage of missing CarrierDelay field: 80.90%\n",
      "Percentage of missing WeatherDelay field: 80.90%\n",
      "Percentage of missing NASDelay field: 80.90%\n",
      "Percentage of missing SecurityDelay field: 80.90%\n",
      "Percentage of missing LateAircraftDelay field: 80.90%\n",
      "Percentage of missing FirstDepTime field: 99.41%\n",
      "Percentage of missing TotalAddGTime field: 99.41%\n",
      "Percentage of missing LongestAddGTime field: 99.41%\n",
      "Percentage of missing DivReachedDest field: 99.76%\n",
      "Percentage of missing DivActualElapsedTime field: 99.79%\n",
      "Percentage of missing DivArrDelay field: 99.79%\n",
      "Percentage of missing DivDistance field: 99.76%\n",
      "Percentage of missing Div1Airport field: 99.76%\n",
      "Percentage of missing Div1AirportID field: 99.76%\n",
      "Percentage of missing Div1AirportSeqID field: 99.76%\n",
      "Percentage of missing Div1WheelsOn field: 99.76%\n",
      "Percentage of missing Div1TotalGTime field: 99.76%\n",
      "Percentage of missing Div1LongestGTime field: 99.76%\n",
      "Percentage of missing Div1WheelsOff field: 99.79%\n",
      "Percentage of missing Div1TailNum field: 99.79%\n",
      "Percentage of missing Div2Airport field: 100.00%\n",
      "Percentage of missing Div2AirportID field: 100.00%\n",
      "Percentage of missing Div2AirportSeqID field: 100.00%\n",
      "Percentage of missing Div2WheelsOn field: 100.00%\n",
      "Percentage of missing Div2TotalGTime field: 100.00%\n",
      "Percentage of missing Div2LongestGTime field: 100.00%\n",
      "Percentage of missing Div2WheelsOff field: 100.00%\n",
      "Percentage of missing Div2TailNum field: 100.00%\n",
      "Percentage of missing Div3Airport field: 100.00%\n",
      "Percentage of missing Div3AirportID field: 100.00%\n",
      "Percentage of missing Div3AirportSeqID field: 100.00%\n",
      "Percentage of missing Div3WheelsOn field: 100.00%\n",
      "Percentage of missing Div3TotalGTime field: 100.00%\n",
      "Percentage of missing Div3LongestGTime field: 100.00%\n",
      "Percentage of missing Div3WheelsOff field: 100.00%\n",
      "Percentage of missing Div3TailNum field: 100.00%\n",
      "Percentage of missing Div4Airport field: 100.00%\n",
      "Percentage of missing Div4AirportID field: 100.00%\n",
      "Percentage of missing Div4AirportSeqID field: 100.00%\n",
      "Percentage of missing Div4WheelsOn field: 100.00%\n",
      "Percentage of missing Div4TotalGTime field: 100.00%\n",
      "Percentage of missing Div4LongestGTime field: 100.00%\n",
      "Percentage of missing Div4WheelsOff field: 100.00%\n",
      "Percentage of missing Div4TailNum field: 100.00%\n",
      "Percentage of missing Div5Airport field: 100.00%\n",
      "Percentage of missing Div5AirportID field: 100.00%\n",
      "Percentage of missing Div5AirportSeqID field: 100.00%\n",
      "Percentage of missing Div5WheelsOn field: 100.00%\n",
      "Percentage of missing Div5TotalGTime field: 100.00%\n",
      "Percentage of missing Div5LongestGTime field: 100.00%\n",
      "Percentage of missing Div5WheelsOff field: 100.00%\n",
      "Percentage of missing Div5TailNum field: 100.00%\n",
      "No Null values of IsDepDelay\n",
      "No Null values of IsArrDelay\n"
     ]
    }
   ],
   "source": [
    "for col in airline_df.columns:\n",
    "    check_field(airline_df, col)"
   ]
  },
  {
   "cell_type": "markdown",
   "metadata": {
    "id": "yaaXMXGsVXjb"
   },
   "source": [
    "&rightarrow; Some columns have less than 5% missing values. However, some columns have > 95% of missing values. We will drop columns with more than 95% of missing values."
   ]
  },
  {
   "cell_type": "markdown",
   "metadata": {
    "id": "08YoVtho2AMY"
   },
   "source": [
    "#### Drop columns with more than 95% of missing values"
   ]
  },
  {
   "cell_type": "code",
   "execution_count": null,
   "metadata": {
    "colab": {
     "base_uri": "https://localhost:8080/"
    },
    "id": "dblXFn1Z2zfw",
    "outputId": "14445b74-3e9c-46d9-c335-8d0f22c85808"
   },
   "outputs": [
    {
     "name": "stdout",
     "output_type": "stream",
     "text": [
      "Number of columns in airline_df BEFORE dropping columns with more than 95% missing values: 100\n"
     ]
    }
   ],
   "source": [
    "print(f\"Number of columns in airline_df BEFORE dropping columns with more than 95% missing values: {airline_df.shape[1]}\") "
   ]
  },
  {
   "cell_type": "code",
   "execution_count": null,
   "metadata": {
    "id": "mDChw3ne2MUm"
   },
   "outputs": [],
   "source": [
    "# Drop columns\n",
    "airline_df = drop_cols_with_missing_val_threshold(airline_df, 0.95)"
   ]
  },
  {
   "cell_type": "code",
   "execution_count": null,
   "metadata": {
    "colab": {
     "base_uri": "https://localhost:8080/"
    },
    "id": "erkS8v-12b-C",
    "outputId": "a87ed361-c088-45a4-8382-fead4fb166bf"
   },
   "outputs": [
    {
     "name": "stdout",
     "output_type": "stream",
     "text": [
      "Number of columns in airline_df AFTER dropping columns with more than 95% missing values: 47\n"
     ]
    }
   ],
   "source": [
    "print(f\"Number of columns in airline_df AFTER dropping columns with more than 95% missing values: {airline_df.shape[1]}\") "
   ]
  },
  {
   "cell_type": "markdown",
   "metadata": {
    "id": "371hbP90h5uM"
   },
   "source": [
    "#### Fill missing values in `DepDelayMinutes` and `ArrDelayMinutes`\n",
    "Since `DepDelayMinutes` and `ArrDelayMinutes` will become label columns, they cannot contain missing values. We're going to fill it with 0"
   ]
  },
  {
   "cell_type": "code",
   "execution_count": null,
   "metadata": {
    "id": "HxZYWnKXh5uM",
    "outputId": "70477485-d913-473e-b9d5-d9efffc0d16b"
   },
   "outputs": [
    {
     "name": "stdout",
     "output_type": "stream",
     "text": [
      "Number of missing value in DepDelayMinutes: 60\n",
      "Number of missing value in ArrDelayMinutes: 948\n"
     ]
    }
   ],
   "source": [
    "print(f\"Number of missing value in DepDelayMinutes: {airline_df['DepDelayMinutes'].isnull().sum()}\")\n",
    "print(f\"Number of missing value in ArrDelayMinutes: {airline_df['ArrDelayMinutes'].isnull().sum()}\")"
   ]
  },
  {
   "cell_type": "code",
   "execution_count": null,
   "metadata": {
    "id": "A5hMX6oLh5uN"
   },
   "outputs": [],
   "source": [
    "# Fill missing values\n",
    "airline_df = airline_df.fillna({'DepDelayMinutes': 0, 'ArrDelayMinutes': 0})"
   ]
  },
  {
   "cell_type": "code",
   "execution_count": null,
   "metadata": {
    "id": "DZlEb-1Oh5uN",
    "outputId": "a231c819-ffbd-4b47-8a3a-c2c9ac8243a4"
   },
   "outputs": [
    {
     "name": "stdout",
     "output_type": "stream",
     "text": [
      "Number of missing value in DepDelayMinutes: 0\n",
      "Number of missing value in ArrDelayMinutes: 0\n"
     ]
    }
   ],
   "source": [
    "# Check\n",
    "print(f\"Number of missing value in DepDelayMinutes: {airline_df['DepDelayMinutes'].isnull().sum()}\")\n",
    "print(f\"Number of missing value in ArrDelayMinutes: {airline_df['ArrDelayMinutes'].isnull().sum()}\")"
   ]
  },
  {
   "cell_type": "markdown",
   "metadata": {
    "id": "X-Ppb8tzh5uN"
   },
   "source": [
    "#### Drop rows with missing values"
   ]
  },
  {
   "cell_type": "code",
   "execution_count": null,
   "metadata": {
    "id": "2Ns0x_ush5uN",
    "outputId": "cb4fc6a8-5a6c-41ae-b1c3-427072400e24"
   },
   "outputs": [
    {
     "name": "stdout",
     "output_type": "stream",
     "text": [
      "Dropped 1008 rows.\n"
     ]
    }
   ],
   "source": [
    "oldLen = len(airline_df)\n",
    "airline_df = airline_df.dropna()\n",
    "print(f\"Dropped {oldLen - len(airline_df)} rows.\")"
   ]
  },
  {
   "cell_type": "markdown",
   "metadata": {
    "id": "9hLTTKAF7Kzx"
   },
   "source": [
    "### 4.7 Check duplicated rows"
   ]
  },
  {
   "cell_type": "code",
   "execution_count": null,
   "metadata": {
    "colab": {
     "base_uri": "https://localhost:8080/"
    },
    "id": "-2Ilmfo030di",
    "outputId": "7f8d84fe-7817-4e29-c5aa-1c0ae61d9aca"
   },
   "outputs": [
    {
     "name": "stdout",
     "output_type": "stream",
     "text": [
      "\n",
      "No duplicate rows in dataframe.\n"
     ]
    }
   ],
   "source": [
    "check_duplicate_values(df=airline_df)"
   ]
  },
  {
   "cell_type": "markdown",
   "metadata": {
    "id": "EOWAcTWIVnqX"
   },
   "source": [
    "### 4.8 Rename columns' name for ease of analysis"
   ]
  },
  {
   "cell_type": "code",
   "execution_count": null,
   "metadata": {
    "id": "vY94zrw9VnqX",
    "outputId": "bab2373d-7df5-487a-b308-2566ef2328f2"
   },
   "outputs": [
    {
     "data": {
      "text/plain": [
       "Index(['Year', 'Month', 'DayofMonth', 'FlightDate', 'Reporting_Airline',\n",
       "       'DOT_ID_Reporting_Airline', 'IATA_CODE_Reporting_Airline',\n",
       "       'Tail_Number', 'Flight_Number_Reporting_Airline', 'OriginAirportID',\n",
       "       'OriginAirportSeqID', 'OriginCityMarketID', 'Origin', 'OriginCityName',\n",
       "       'OriginState', 'OriginStateFips', 'OriginWac', 'DestAirportID',\n",
       "       'DestAirportSeqID', 'DestCityMarketID', 'Dest', 'DestCityName',\n",
       "       'DestState', 'DestStateFips', 'DestStateName', 'DestWac', 'CRSDepTime',\n",
       "       'DepTime', 'DepDelay', 'DepDelayMinutes', 'DepTimeBlk', 'TaxiOut',\n",
       "       'WheelsOff', 'WheelsOn', 'TaxiIn', 'CRSArrTime', 'ArrTime', 'ArrDelay',\n",
       "       'ArrDelayMinutes', 'ArrTimeBlk', 'Diverted', 'CRSElapsedTime',\n",
       "       'ActualElapsedTime', 'AirTime', 'Distance', 'IsDepDelay', 'IsArrDelay'],\n",
       "      dtype='object')"
      ]
     },
     "execution_count": 34,
     "metadata": {},
     "output_type": "execute_result"
    }
   ],
   "source": [
    "airline_df.columns"
   ]
  },
  {
   "cell_type": "code",
   "execution_count": null,
   "metadata": {
    "id": "dCJDDePIVnqX"
   },
   "outputs": [],
   "source": [
    "airline_df.rename(columns={\"Reporting_Airline\":\"Airline\",\n",
    "                   \"Origin\":\"OriginAirport\",\n",
    "                  \"Dest\":\"DestAirport\",\n",
    "                  \"CRSDepTime\":\"Scheduled_Departure\",\n",
    "                  \"DepTime\":\"Departure_Time\",\n",
    "                  \"DepDelay\":\"Departure_Delay\",\n",
    "                  \"CRSArrTime\":\"Scheduled_Arrival\",\n",
    "                  \"ArrTime\":\"Arrival_Time\",\n",
    "                  \"ArrDelay\":\"Arrival_Delay\",\n",
    "                  \"CRSElapsedTime\":\"Scheduled_Time\",\n",
    "                  \"ActualElapsedTime\":\"Elapsed_Time\",\n",
    "                  \"DOT_ID_Reporting_Airline\":\"DOT_ID_Airline\",\n",
    "                  \"IATA_CODE_Reporting_Airline\":\"IATA_CODE_Airline\",\n",
    "                  \"Flight_Number_Reporting_Airline\":\"Flight_Number_Airline\",\n",
    "                  \"DayofMonth\":\"Day\"} ,inplace=True)"
   ]
  },
  {
   "cell_type": "code",
   "execution_count": null,
   "metadata": {
    "colab": {
     "base_uri": "https://localhost:8080/"
    },
    "id": "c9Y7b23KVnqX",
    "outputId": "5ca8b577-e8ef-40a9-9607-9fd10c65c0d3"
   },
   "outputs": [
    {
     "data": {
      "text/plain": [
       "Index(['Year', 'Month', 'Day', 'FlightDate', 'Airline', 'DOT_ID_Airline',\n",
       "       'IATA_CODE_Airline', 'Tail_Number', 'Flight_Number_Airline',\n",
       "       'OriginAirportID', 'OriginAirportSeqID', 'OriginCityMarketID',\n",
       "       'OriginAirport', 'OriginCityName', 'OriginState', 'OriginStateFips',\n",
       "       'OriginWac', 'DestAirportID', 'DestAirportSeqID', 'DestCityMarketID',\n",
       "       'DestAirport', 'DestCityName', 'DestState', 'DestStateFips',\n",
       "       'DestStateName', 'DestWac', 'Scheduled_Departure', 'Departure_Time',\n",
       "       'Departure_Delay', 'DepDelayMinutes', 'DepTimeBlk', 'TaxiOut',\n",
       "       'WheelsOff', 'WheelsOn', 'TaxiIn', 'Scheduled_Arrival', 'Arrival_Time',\n",
       "       'Arrival_Delay', 'ArrDelayMinutes', 'ArrTimeBlk', 'Diverted',\n",
       "       'Scheduled_Time', 'Elapsed_Time', 'AirTime', 'Distance', 'IsDepDelay',\n",
       "       'IsArrDelay'],\n",
       "      dtype='object')"
      ]
     },
     "execution_count": 36,
     "metadata": {},
     "output_type": "execute_result"
    }
   ],
   "source": [
    "# Check new columns\n",
    "airline_df.columns"
   ]
  },
  {
   "cell_type": "markdown",
   "metadata": {
    "id": "Pgpbe4KRH81L"
   },
   "source": [
    "### 4.9 Check outliers"
   ]
  },
  {
   "cell_type": "code",
   "execution_count": null,
   "metadata": {
    "colab": {
     "base_uri": "https://localhost:8080/"
    },
    "id": "pIsOJQc163B-",
    "outputId": "a83ae205-dcea-423a-e117-06a5af3abedd"
   },
   "outputs": [
    {
     "name": "stdout",
     "output_type": "stream",
     "text": [
      "Column: Scheduled_Departure. Lower boundary: -310.5. Upper boundary: 2957.5. Percentage of outliers: 0.00%\n",
      "Column: Departure_Time. Lower boundary: -320.5. Upper boundary: 2979.5. Percentage of outliers: 0.00%\n",
      "Column: Departure_Delay. Lower boundary: -23.0. Upper boundary: 25.0. Percentage of outliers: 13.25%\n",
      "Column: DepDelayMinutes. Lower boundary: -10.5. Upper boundary: 17.5. Percentage of outliers: 16.84%\n",
      "Column: TaxiOut. Lower boundary: -1.0. Upper boundary: 31.0. Percentage of outliers: 5.93%\n",
      "Column: WheelsOff. Lower boundary: -305.5. Upper boundary: 2994.5. Percentage of outliers: 0.00%\n",
      "Column: WheelsOn. Lower boundary: -247.0. Upper boundary: 3209.0. Percentage of outliers: 0.00%\n",
      "Column: TaxiIn. Lower boundary: -3.5. Upper boundary: 16.5. Percentage of outliers: 5.39%\n",
      "Column: Scheduled_Arrival. Lower boundary: -116.0. Upper boundary: 3140.0. Percentage of outliers: 0.00%\n",
      "Column: Arrival_Time. Lower boundary: -244.5. Upper boundary: 3215.5. Percentage of outliers: 0.00%\n",
      "Column: Arrival_Delay. Lower boundary: -47.0. Upper boundary: 41.0. Percentage of outliers: 9.07%\n",
      "Column: ArrDelayMinutes. Lower boundary: -12.0. Upper boundary: 20.0. Percentage of outliers: 15.57%\n",
      "Column: Scheduled_Time. Lower boundary: -41.0. Upper boundary: 303.0. Percentage of outliers: 5.27%\n",
      "Column: Elapsed_Time. Lower boundary: -46.0. Upper boundary: 298.0. Percentage of outliers: 5.05%\n",
      "Column: AirTime. Lower boundary: -66.0. Upper boundary: 270.0. Percentage of outliers: 5.16%\n",
      "Column: Distance. Lower boundary: -663.0. Upper boundary: 2097.0. Percentage of outliers: 6.00%\n"
     ]
    }
   ],
   "source": [
    "# Select only numeric cols that is not date time cols\n",
    "outliers_cols = ['Scheduled_Departure',\n",
    "       'Departure_Time', 'Departure_Delay', 'DepDelayMinutes', \n",
    "       'TaxiOut', 'WheelsOff',\n",
    "       'WheelsOn', 'TaxiIn', 'Scheduled_Arrival', 'Arrival_Time', 'Arrival_Delay',\n",
    "       'ArrDelayMinutes', 'Scheduled_Time', 'Elapsed_Time',\n",
    "       'AirTime', 'Distance']\n",
    "for col in outliers_cols:\n",
    "  check_outliers(airline_df, col)"
   ]
  },
  {
   "cell_type": "code",
   "execution_count": null,
   "metadata": {
    "colab": {
     "base_uri": "https://localhost:8080/",
     "height": 612
    },
    "id": "1xwRhwTsPeVX",
    "outputId": "d87e5d47-faf7-4a38-d5fb-cd0c926b477c"
   },
   "outputs": [
    {
     "data": {
      "text/plain": [
       "<AxesSubplot:>"
      ]
     },
     "execution_count": 38,
     "metadata": {},
     "output_type": "execute_result"
    },
    {
     "data": {
      "image/png": "[encoded data removed]",
      "text/plain": [
       "<Figure size 864x720 with 1 Axes>"
      ]
     },
     "metadata": {},
     "output_type": "display_data"
    }
   ],
   "source": [
    "# Visualize outliers with box plots\n",
    "sns.boxplot(data=airline_df[outliers_cols], orient=\"h\", palette=\"Set2\")"
   ]
  },
  {
   "cell_type": "markdown",
   "metadata": {
    "id": "lgx8YBOCVXjd"
   },
   "source": [
    "&rightarrow; `DepDelay`, `DepDelayMinutes`, `ArrDelay`, `ArrDelayMinutes` have about 10% outliers."
   ]
  },
  {
   "cell_type": "markdown",
   "metadata": {
    "id": "xpVoTsXCCA6X"
   },
   "source": [
    "### 4.10 Map airline codes to their names \n",
    "We want to map airline codes to their names for easy-to-read plots"
   ]
  },
  {
   "cell_type": "code",
   "execution_count": null,
   "metadata": {
    "id": "bv87aLXroAlH",
    "outputId": "7b06a532-3772-453e-962b-babb201c58db"
   },
   "outputs": [
    {
     "data": {
      "text/plain": [
       "0         9E\n",
       "1         WN\n",
       "2         WN\n",
       "3         AS\n",
       "5         YX\n",
       "          ..\n",
       "386420    AA\n",
       "386421    UA\n",
       "386422    DL\n",
       "386423    B6\n",
       "386424    DL\n",
       "Name: Airline, Length: 378957, dtype: object"
      ]
     },
     "execution_count": 39,
     "metadata": {},
     "output_type": "execute_result"
    }
   ],
   "source": [
    "airline_df['Airline']"
   ]
  },
  {
   "cell_type": "code",
   "execution_count": null,
   "metadata": {
    "id": "X_gaH-nkHCsg",
    "outputId": "dee89912-2856-4cf8-ebf7-2435ade63b42"
   },
   "outputs": [
    {
     "data": {
      "text/html": [
       "<div>\n",
       "<style scoped>\n",
       "    .dataframe tbody tr th:only-of-type {\n",
       "        vertical-align: middle;\n",
       "    }\n",
       "\n",
       "    .dataframe tbody tr th {\n",
       "        vertical-align: top;\n",
       "    }\n",
       "\n",
       "    .dataframe thead th {\n",
       "        text-align: right;\n",
       "    }\n",
       "</style>\n",
       "<table border=\"1\" class=\"dataframe\">\n",
       "  <thead>\n",
       "    <tr style=\"text-align: right;\">\n",
       "      <th></th>\n",
       "      <th>Code</th>\n",
       "      <th>Airline</th>\n",
       "    </tr>\n",
       "  </thead>\n",
       "  <tbody>\n",
       "    <tr>\n",
       "      <th>0</th>\n",
       "      <td>02Q</td>\n",
       "      <td>Titan Airways</td>\n",
       "    </tr>\n",
       "    <tr>\n",
       "      <th>1</th>\n",
       "      <td>04Q</td>\n",
       "      <td>Tradewind Aviation</td>\n",
       "    </tr>\n",
       "    <tr>\n",
       "      <th>2</th>\n",
       "      <td>05Q</td>\n",
       "      <td>Comlux Aviation, AG</td>\n",
       "    </tr>\n",
       "    <tr>\n",
       "      <th>3</th>\n",
       "      <td>06Q</td>\n",
       "      <td>Master Top Linhas Aereas Ltd.</td>\n",
       "    </tr>\n",
       "    <tr>\n",
       "      <th>4</th>\n",
       "      <td>07Q</td>\n",
       "      <td>Flair Airlines Ltd.</td>\n",
       "    </tr>\n",
       "  </tbody>\n",
       "</table>\n",
       "</div>"
      ],
      "text/plain": [
       "  Code                        Airline\n",
       "0  02Q                  Titan Airways\n",
       "1  04Q             Tradewind Aviation\n",
       "2  05Q            Comlux Aviation, AG\n",
       "3  06Q  Master Top Linhas Aereas Ltd.\n",
       "4  07Q            Flair Airlines Ltd."
      ]
     },
     "execution_count": 40,
     "metadata": {},
     "output_type": "execute_result"
    }
   ],
   "source": [
    "airportMapping.head()"
   ]
  },
  {
   "cell_type": "code",
   "execution_count": null,
   "metadata": {
    "id": "aCVzZbvtoAlI",
    "outputId": "daa44309-78a0-4f6d-af31-b1b97b83e581",
    "scrolled": true
   },
   "outputs": [
    {
     "data": {
      "text/html": [
       "<div>\n",
       "<style scoped>\n",
       "    .dataframe tbody tr th:only-of-type {\n",
       "        vertical-align: middle;\n",
       "    }\n",
       "\n",
       "    .dataframe tbody tr th {\n",
       "        vertical-align: top;\n",
       "    }\n",
       "\n",
       "    .dataframe thead th {\n",
       "        text-align: right;\n",
       "    }\n",
       "</style>\n",
       "<table border=\"1\" class=\"dataframe\">\n",
       "  <thead>\n",
       "    <tr style=\"text-align: right;\">\n",
       "      <th></th>\n",
       "      <th>Code</th>\n",
       "      <th>Airline_Name</th>\n",
       "    </tr>\n",
       "  </thead>\n",
       "  <tbody>\n",
       "    <tr>\n",
       "      <th>0</th>\n",
       "      <td>02Q</td>\n",
       "      <td>Titan Airways</td>\n",
       "    </tr>\n",
       "    <tr>\n",
       "      <th>1</th>\n",
       "      <td>04Q</td>\n",
       "      <td>Tradewind Aviation</td>\n",
       "    </tr>\n",
       "    <tr>\n",
       "      <th>2</th>\n",
       "      <td>05Q</td>\n",
       "      <td>Comlux Aviation, AG</td>\n",
       "    </tr>\n",
       "    <tr>\n",
       "      <th>3</th>\n",
       "      <td>06Q</td>\n",
       "      <td>Master Top Linhas Aereas Ltd.</td>\n",
       "    </tr>\n",
       "    <tr>\n",
       "      <th>4</th>\n",
       "      <td>07Q</td>\n",
       "      <td>Flair Airlines Ltd.</td>\n",
       "    </tr>\n",
       "  </tbody>\n",
       "</table>\n",
       "</div>"
      ],
      "text/plain": [
       "  Code                   Airline_Name\n",
       "0  02Q                  Titan Airways\n",
       "1  04Q             Tradewind Aviation\n",
       "2  05Q            Comlux Aviation, AG\n",
       "3  06Q  Master Top Linhas Aereas Ltd.\n",
       "4  07Q            Flair Airlines Ltd."
      ]
     },
     "execution_count": 41,
     "metadata": {},
     "output_type": "execute_result"
    }
   ],
   "source": [
    "airportMapping.rename(columns={\"Airline\":\"Airline_Name\"}, inplace=True)\n",
    "airportMapping.head()"
   ]
  },
  {
   "cell_type": "code",
   "execution_count": null,
   "metadata": {
    "id": "LAvCDRiWoAlI"
   },
   "outputs": [],
   "source": [
    "# Map\n",
    "airline_df = airline_df.merge(airportMapping, left_on='Airline', right_on='Code')"
   ]
  },
  {
   "cell_type": "code",
   "execution_count": null,
   "metadata": {
    "id": "-BMIYmTeoAlI",
    "outputId": "04b926d3-6d21-4c8e-ac92-30c3f7651184",
    "scrolled": true
   },
   "outputs": [
    {
     "data": {
      "text/html": [
       "<div>\n",
       "<style scoped>\n",
       "    .dataframe tbody tr th:only-of-type {\n",
       "        vertical-align: middle;\n",
       "    }\n",
       "\n",
       "    .dataframe tbody tr th {\n",
       "        vertical-align: top;\n",
       "    }\n",
       "\n",
       "    .dataframe thead th {\n",
       "        text-align: right;\n",
       "    }\n",
       "</style>\n",
       "<table border=\"1\" class=\"dataframe\">\n",
       "  <thead>\n",
       "    <tr style=\"text-align: right;\">\n",
       "      <th></th>\n",
       "      <th>Airline</th>\n",
       "      <th>Airline_Name</th>\n",
       "    </tr>\n",
       "  </thead>\n",
       "  <tbody>\n",
       "    <tr>\n",
       "      <th>0</th>\n",
       "      <td>9E</td>\n",
       "      <td>Endeavor Air Inc.</td>\n",
       "    </tr>\n",
       "    <tr>\n",
       "      <th>1</th>\n",
       "      <td>9E</td>\n",
       "      <td>Endeavor Air Inc.</td>\n",
       "    </tr>\n",
       "    <tr>\n",
       "      <th>2</th>\n",
       "      <td>9E</td>\n",
       "      <td>Endeavor Air Inc.</td>\n",
       "    </tr>\n",
       "    <tr>\n",
       "      <th>3</th>\n",
       "      <td>9E</td>\n",
       "      <td>Endeavor Air Inc.</td>\n",
       "    </tr>\n",
       "    <tr>\n",
       "      <th>4</th>\n",
       "      <td>9E</td>\n",
       "      <td>Endeavor Air Inc.</td>\n",
       "    </tr>\n",
       "    <tr>\n",
       "      <th>...</th>\n",
       "      <td>...</td>\n",
       "      <td>...</td>\n",
       "    </tr>\n",
       "    <tr>\n",
       "      <th>378952</th>\n",
       "      <td>FL</td>\n",
       "      <td>AirTran Airways Corporation</td>\n",
       "    </tr>\n",
       "    <tr>\n",
       "      <th>378953</th>\n",
       "      <td>FL</td>\n",
       "      <td>AirTran Airways Corporation</td>\n",
       "    </tr>\n",
       "    <tr>\n",
       "      <th>378954</th>\n",
       "      <td>FL</td>\n",
       "      <td>AirTran Airways Corporation</td>\n",
       "    </tr>\n",
       "    <tr>\n",
       "      <th>378955</th>\n",
       "      <td>FL</td>\n",
       "      <td>AirTran Airways Corporation</td>\n",
       "    </tr>\n",
       "    <tr>\n",
       "      <th>378956</th>\n",
       "      <td>FL</td>\n",
       "      <td>AirTran Airways Corporation</td>\n",
       "    </tr>\n",
       "  </tbody>\n",
       "</table>\n",
       "<p>378957 rows × 2 columns</p>\n",
       "</div>"
      ],
      "text/plain": [
       "       Airline                 Airline_Name\n",
       "0           9E            Endeavor Air Inc.\n",
       "1           9E            Endeavor Air Inc.\n",
       "2           9E            Endeavor Air Inc.\n",
       "3           9E            Endeavor Air Inc.\n",
       "4           9E            Endeavor Air Inc.\n",
       "...        ...                          ...\n",
       "378952      FL  AirTran Airways Corporation\n",
       "378953      FL  AirTran Airways Corporation\n",
       "378954      FL  AirTran Airways Corporation\n",
       "378955      FL  AirTran Airways Corporation\n",
       "378956      FL  AirTran Airways Corporation\n",
       "\n",
       "[378957 rows x 2 columns]"
      ]
     },
     "execution_count": 43,
     "metadata": {},
     "output_type": "execute_result"
    }
   ],
   "source": [
    "# Check\n",
    "airline_df[['Airline', 'Airline_Name']]"
   ]
  },
  {
   "cell_type": "markdown",
   "metadata": {
    "id": "SnNaX00Th5uO"
   },
   "source": [
    "### 4.11 Remove State from `OriginCityName` and `DestCityName`"
   ]
  },
  {
   "cell_type": "code",
   "execution_count": null,
   "metadata": {
    "id": "VbiApk1hh5uO",
    "outputId": "7e6f938b-2503-423f-ed6c-c447df281ac4"
   },
   "outputs": [
    {
     "data": {
      "text/html": [
       "<div>\n",
       "<style scoped>\n",
       "    .dataframe tbody tr th:only-of-type {\n",
       "        vertical-align: middle;\n",
       "    }\n",
       "\n",
       "    .dataframe tbody tr th {\n",
       "        vertical-align: top;\n",
       "    }\n",
       "\n",
       "    .dataframe thead th {\n",
       "        text-align: right;\n",
       "    }\n",
       "</style>\n",
       "<table border=\"1\" class=\"dataframe\">\n",
       "  <thead>\n",
       "    <tr style=\"text-align: right;\">\n",
       "      <th></th>\n",
       "      <th>OriginCityName</th>\n",
       "      <th>DestCityName</th>\n",
       "    </tr>\n",
       "  </thead>\n",
       "  <tbody>\n",
       "    <tr>\n",
       "      <th>0</th>\n",
       "      <td>Atlanta, GA</td>\n",
       "      <td>Columbia, SC</td>\n",
       "    </tr>\n",
       "    <tr>\n",
       "      <th>1</th>\n",
       "      <td>Atlanta, GA</td>\n",
       "      <td>White Plains, NY</td>\n",
       "    </tr>\n",
       "    <tr>\n",
       "      <th>2</th>\n",
       "      <td>New York, NY</td>\n",
       "      <td>Charlotte, NC</td>\n",
       "    </tr>\n",
       "    <tr>\n",
       "      <th>3</th>\n",
       "      <td>Baltimore, MD</td>\n",
       "      <td>Raleigh/Durham, NC</td>\n",
       "    </tr>\n",
       "    <tr>\n",
       "      <th>4</th>\n",
       "      <td>Pittsburgh, PA</td>\n",
       "      <td>New York, NY</td>\n",
       "    </tr>\n",
       "  </tbody>\n",
       "</table>\n",
       "</div>"
      ],
      "text/plain": [
       "   OriginCityName        DestCityName\n",
       "0     Atlanta, GA        Columbia, SC\n",
       "1     Atlanta, GA    White Plains, NY\n",
       "2    New York, NY       Charlotte, NC\n",
       "3   Baltimore, MD  Raleigh/Durham, NC\n",
       "4  Pittsburgh, PA        New York, NY"
      ]
     },
     "execution_count": 44,
     "metadata": {},
     "output_type": "execute_result"
    }
   ],
   "source": [
    "# Take a look at the two columns\n",
    "airline_df[[\"OriginCityName\", \"DestCityName\"]].head()"
   ]
  },
  {
   "cell_type": "code",
   "execution_count": null,
   "metadata": {},
   "outputs": [],
   "source": [
    "# Only keep the city name in the two columns\n",
    "airline_df[\"OriginCityName\"] = airline_df[\"OriginCityName\"].apply(lambda x: \"\".join(x.split(',')[0]))\n",
    "airline_df[\"DestCityName\"] = airline_df[\"DestCityName\"].apply(lambda x: \"\".join(x.split(',')[0]))"
   ]
  },
  {
   "cell_type": "code",
   "execution_count": null,
   "metadata": {},
   "outputs": [],
   "source": [
    "# Check\n",
    "airline_df[[\"OriginCityName\", \"DestCityName\"]].head()"
   ]
  }
 ],
 "metadata": {
  "accelerator": "GPU",
  "colab": {
   "collapsed_sections": [],
   "name": "Final Project Notebook.ipynb",
   "provenance": []
  },
  "kernelspec": {
   "display_name": "Python 3",
   "language": "python",
   "name": "python3"
  },
  "language_info": {
   "codemirror_mode": {
    "name": "ipython",
    "version": 3
   },
   "file_extension": ".py",
   "mimetype": "text/x-python",
   "name": "python",
   "nbconvert_exporter": "python",
   "pygments_lexer": "ipython3",
   "version": "3.8.8"
  }
 },
 "nbformat": 4,
 "nbformat_minor": 4
}
