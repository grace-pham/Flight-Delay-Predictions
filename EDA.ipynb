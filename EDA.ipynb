{
 "cells": [
  {
   "cell_type": "markdown",
   "metadata": {
    "id": "vPIne0_ckk1C"
   },
   "source": [
    "### College of Computing and Informatics, Drexel University\n",
    "---\n",
    "\n",
    "# Exploratory Data Analysis\n",
    "\n",
    "## Project Title: U.S. Domestic Flights Delay Prediction\n",
    "\n",
    "## Author(s): Grace Pham, Jessica Jha, Heidi Tran, Khanh Tran\n",
    "\n",
    "---"
   ]
  },
  {
   "cell_type": "markdown",
   "metadata": {
    "id": "_zslWqHhkk1H"
   },
   "source": [
    "## 1. Introduction & Problem Definition\n",
    "---\n",
    "\n",
    "Millions of passengers fly everyday (except when a pandemic is taking place) and because flying is one of the fastest ways to travel, demand may get overwhelming, causing delays in departures and landings. Flight delays cause more than just inconvenience - it costs airlines and passegner money from rebooking flights, missing connecting flights, having to provide hotel and purchase food if the next flight is hours or days away. We hope to uncover certain trends from this data such as which airlines have the most delays, which destinations are most impacted, what are the causes of these delays, on average when are these delays happening the most, and build predictive classification models and compare which one can predict flight delays the best.\n",
    "\n",
    "Using this data found from the U.S. Department of Transportation's (DOT) Bureau of Transportation Statistics (BTS) helps give insight into different factors at play when flights are delayed. This project utilized Apache Spark for downsizing the data and multiple Python libraries for pre-processing, EDA, visualizations, and predictive modeling. The results will benefit passengers to help plan their next itineraries and prepare the best plan of action to make sure their flights to their destination are as delay-free as possible."
   ]
  },
  {
   "cell_type": "markdown",
   "metadata": {
    "id": "_X-ZFys7kk1J"
   },
   "source": [
    "## 3. Data\n",
    "---\n",
    "#### Main Dataset\n",
    "\n",
    "The dataset was retrieved from IBM. The original dataset is 7.2 GB in size. This dataset provides information on roughly 200 million U.S. domestic flights on United States Bureau of Transportation Statistics along with the flights’ information including flight date, place of origin, destination, delay time, flight time, etc.\n",
    "\n",
    "https://developer.ibm.com/exchanges/data/all/airline/\n",
    "\n",
    "#### Airport Codes for Airline names\n",
    "The list of airport codes was found on the Bureau of Transportation Statistics on the U.S. Department of Transportation site which was then copied into a CSV file to use to iterate through the list and replace the codes with Airline names to make better sense of the data. \n",
    "https://www.bts.gov/topics/airlines-and-airports/airline-codes\n",
    "\n",
    "#### Metadata\n",
    "- Fligts dataset\n",
    "    - Format: CSV\n",
    "    - Number of records: 194 million\n",
    "    - Data Coverage: United States 1987 - 2020\n",
    "    \n",
    "- Airlines name dataset\n",
    "    - Format: CSV \n",
    "    - Number of records: 1652 records\n",
    "\n",
    "#### Downsize the data\n",
    "\n",
    "In order to downsize the data, a local cluster of sample code from the IBM notebook was run on Apache Spark, an open-source cloud clustering platform. A smaller subset of data was able to be extracted so that all of our group members were able to have access to the same data to split pre-processing tasks. "
   ]
  },
  {
   "cell_type": "markdown",
   "metadata": {
    "id": "YuXzpDLPCA6V"
   },
   "source": [
    "#### Glossary\n",
    "\n",
    "\n",
    "| Field Name | Type | Description |\n",
    "| --- | --- | --- |\n",
    "| Year | int64 | year of the flight |\n",
    "| Month | int64 | month of the flight  |\n",
    "| DayofMonth | int64 | day of the month  |\n",
    "| FlightDate | datetime64[ns] | date of the flight |\n",
    "| Reporting_Airline | object | unique airline carrier code|\n",
    "| DOT_ID_Reporting_Airline | int64 | Number assigned by US DOT to identify a unique airline |\n",
    "| IATA_CODE_Reporting_Airline | object | Airline Code assigned by IATA |\n",
    "| Tail_Number | object | Aircraft tail number |\n",
    "| Flight_Number_Reporting_Airline | int64 | Flight Number |\n",
    "| OriginAirportID | int64 | Origin Airport ID |\n",
    "| OriginAirportSeqID | int64 | Origin Airport Sequence ID |\n",
    "| OriginCityMarketID | int64 | Origin City Market ID |\n",
    "| Origin | object | Origin Airport Code|\n",
    "| OriginCityName | object | Origin City Name |\n",
    "| OriginState | object | Origin State | \n",
    "| OriginStateFips | int64 | Origin State FIPS place code | \n",
    "| DestAirportID | int64 | Destination Airport ID |\n",
    "| DestAirportSeqID | int64 | Destination Airport Sequence ID |\n",
    "| OriginWac | int64 | Origin Airport World Area Code |\n",
    "| DestCityMarketID | int64 | Destination City Market ID |\n",
    "| Dest | object | Destination Airport Code |\n",
    "| DestCityName | object | Destination City Name | \n",
    "| DestState | object | Destination State | \n",
    "| DestStateFips | int64 | Destination State FIPS code |\n",
    "| DestStateName | object | Destination State Name |\n",
    "| DestWac | int64 | Destination Airport World Area Code |\n",
    "| CRSDepTime | int64 | Computer Reservation System (scheduled) Departure Time |\n",
    "| DepTime | float64 | Departure Time (hhmm) |\n",
    "| DepDelay | float64 | Departure delay (minutes) |\n",
    "| DepDelayMinutes | float64 | Absolute value of DepDelay |\n",
    "| DepartureDelayGroups | float64 | Departure delay 15 minute interval group |\n",
    "| DepTimeBlk | object | Computer Reservation System (scheduled) time block |\n",
    "| TaxiOut | float64 | Taxi out time (minutes) |\n",
    "| WheelsOff | float64 | Wheels off time (local time, hhmm) |\n",
    "| WheelsOn | float64 | Wheels on time (local time hhmm) |\n",
    "| TaxiIn | float64 | Taxi in time (minutes) |\n",
    "| CRSArrTime | int64 | Computer Reservation System (scheduled)\n",
    "Arrival Time |\n",
    "| ArrTime | float64 | Arrival time (local time, hhmm) |\n",
    "| ArrDelay | float64 | Arrival delay (minutes) |\n",
    "| ArrDelayMinutes | float64 | Absolute value of ArrDelay |\n",
    "| ArrDel15 | float64 | Arrival Delay >15? |\n",
    "| ArrivalDelayGroups | float64 | Arrival delay 15 minute  interval group |\n",
    "| ArrTimeBlk | object | Computer Reservation System (scheduled) arrival time block |\n",
    "| Cancelled | float64 | 1 = canceled |\n",
    "| Diverted | float64 | 1 = diverted |\n",
    "| CRSElapsedTime | float64 | Computer Reservation System (scheduled) elapsed time |\n",
    "| ActualElapsedTime | float64 | Actual elapsed time |\n",
    "| AirTime | float64 | Flight time (minutes) |\n",
    "| Distance | float64 | Distance between airports (miles) |\n",
    "| DistanceGroup | int64 | 250 mile distance interval group |\n",
    "| CarrierDelay | float64 | Carrier delay (minutes) |\n",
    "| WeatherDelay | float64 | Weather delay (minutes) |\n",
    "| NASDelay | float64 | National Air System delay (minutes) |\n",
    "| SecurityDelay | float64 | Security delay (minutes) |\n",
    "| LateAircraftDelay | float64 | Late aircraft delay (minutes) |\n",
    "| DivAirportLandings | int64 | Number of diverted airport landings |                     "
   ]
  },
  {
   "cell_type": "markdown",
   "metadata": {
    "id": "D8D92Q09rlZb"
   },
   "source": [
    "### Import packages"
   ]
  },
  {
   "cell_type": "code",
   "execution_count": null,
   "metadata": {
    "id": "6II79_YcrhoC"
   },
   "outputs": [],
   "source": [
    "import sys\n",
    "import json\n",
    "import pandas as pd\n",
    "import numpy as np\n",
    "import seaborn as sns\n",
    "\n",
    "import sklearn\n",
    "\n",
    "from sklearn.preprocessing import LabelEncoder\n",
    "from sklearn.preprocessing import OneHotEncoder\n",
    "from sklearn.preprocessing import PolynomialFeatures\n",
    "\n",
    "from imblearn.pipeline import Pipeline\n",
    "from imblearn.over_sampling import SMOTE\n",
    "from imblearn.under_sampling import RandomUnderSampler\n",
    "\n",
    "from sklearn.model_selection import train_test_split\n",
    "from sklearn.model_selection import KFold\n",
    "from sklearn.model_selection import cross_val_score\n",
    "\n",
    "# Models\n",
    "from sklearn.linear_model import LinearRegression\n",
    "from sklearn.tree import DecisionTreeRegressor\n",
    "from sklearn.ensemble import RandomForestClassifier\n",
    "from sklearn.neighbors import KNeighborsClassifier\n",
    "from sklearn.naive_bayes import GaussianNB\n",
    "from sklearn.naive_bayes import BernoulliNB # BernoulliNB is designed for binary features\n",
    "from sklearn.tree import DecisionTreeClassifier\n",
    "from sklearn.ensemble import BaggingClassifier\n",
    "\n",
    "# Evaluation metrics\n",
    "from sklearn.metrics import mean_squared_error, r2_score\n",
    "from sklearn.metrics import confusion_matrix, classification_report\n",
    "from sklearn.metrics import accuracy_score, recall_score, precision_score, f1_score\n",
    "from sklearn.metrics import precision_recall_fscore_support\n",
    "\n",
    "import matplotlib.pyplot as plt\n",
    "#from google.colab import data_table\n",
    "\n",
    "# Ignore warnings in Jupyter Notebook\n",
    "import warnings\n",
    "warnings.filterwarnings('ignore')\n",
    "\n",
    "# Config seaborn\n",
    "sns.set(rc={\"figure.figsize\":(12, 10)})\n",
    "sns.set_style('darkgrid')\n",
    "sns.set_palette('Set2')"
   ]
  },
  {
   "cell_type": "markdown",
   "metadata": {
    "id": "sbEv7XdAr-LJ"
   },
   "source": [
    "## 4. Common utilities that we can re-use.\n",
    "Some of thehese functions were given to us by IBM sample notebook. We also wrote some original functions to re-use throughout the notebook as well."
   ]
  },
  {
   "cell_type": "code",
   "execution_count": null,
   "metadata": {
    "id": "bohAZlYorf9z"
   },
   "outputs": [],
   "source": [
    "from re import I\n",
    "def reduce_mem_usage(df: pd.DataFrame) -> pd.DataFrame:\n",
    "    \"\"\"Iterate through all the columns of a dataframe and modify the data type to reduce memory usage.\n",
    "        I doubt that we would use up what Colab gives us in the free tier, but still it's a helpful util.\n",
    "    :param df: pandas DataFrame    \n",
    "    \"\"\"\n",
    "    start_mem = df.memory_usage().sum() / 1024**2\n",
    "    print('Memory usage of dataframe is {:.2f} MB'.format(start_mem))\n",
    "    \n",
    "    for col in df.columns:\n",
    "        col_type = df[col].dtype\n",
    "        \n",
    "        if col_type != object:\n",
    "            c_min = df[col].min()\n",
    "            c_max = df[col].max()\n",
    "            if str(col_type)[:3] == 'int':\n",
    "                if c_min > np.iinfo(np.int8).min and c_max < np.iinfo(np.int8).max:\n",
    "                    df[col] = df[col].astype(np.int8)\n",
    "                elif c_min > np.iinfo(np.int16).min and c_max < np.iinfo(np.int16).max:\n",
    "                    df[col] = df[col].astype(np.int16)\n",
    "                elif c_min > np.iinfo(np.int32).min and c_max < np.iinfo(np.int32).max:\n",
    "                    df[col] = df[col].astype(np.int32)\n",
    "                elif c_min > np.iinfo(np.int64).min and c_max < np.iinfo(np.int64).max:\n",
    "                    df[col] = df[col].astype(np.int64)  \n",
    "            else:\n",
    "                if c_min > np.finfo(np.float16).min and c_max < np.finfo(np.float16).max:\n",
    "                    df[col] = df[col].astype(np.float16)\n",
    "                elif c_min > np.finfo(np.float32).min and c_max < np.finfo(np.float32).max:\n",
    "                    df[col] = df[col].astype(np.float32)\n",
    "                else:\n",
    "                    df[col] = df[col].astype(np.float64)\n",
    "        else:\n",
    "            df[col] = df[col].astype('category')\n",
    "\n",
    "    end_mem = df.memory_usage().sum() / 1024**2\n",
    "    print('Memory usage after optimization is: {:.2f} MB'.format(end_mem))\n",
    "    print('Decreased by {:.1f}%'.format(100 * (start_mem - end_mem) / start_mem))\n",
    "    \n",
    "    return df\n",
    "\n",
    "\n",
    "def import_data(file: str, json=False) -> pd.DataFrame:\n",
    "    \"\"\"Create a dataframe and optimize its memory usage\n",
    "    :param file: filepath.\n",
    "    \"\"\"\n",
    "    if json:\n",
    "        try:\n",
    "            df = pd.read_json(file)\n",
    "            df = reduce_mem_usage(df)\n",
    "        except ValueError:\n",
    "            df = pd.read_json(file, lines=True)\n",
    "            df = reduce_mem_usage(df)\n",
    "    elif not json:\n",
    "        df = pd.read_csv(file, parse_dates=True, keep_date_col=True)\n",
    "        df = reduce_mem_usage(df)\n",
    "    return df\n",
    "\n",
    "    \n",
    "def index_file_checker(df, col_name):\n",
    "    return df[df[col_name].isnull()].index.tolist()\n",
    "\n",
    "\n",
    "def check_field(df, col_name):\n",
    "    \"\"\"Check null percentage of a column\n",
    "    \"\"\"\n",
    "    ind_miss = index_file_checker(df=df, col_name=col_name)\n",
    "    \n",
    "    if ind_miss == []:\n",
    "        print(\"No Null values of {x}\".format(x = col_name))\n",
    "        if len(df) == len(df[col_name].unique()):\n",
    "            print(\"All records of {x} is populated for the \\\"M Field\\\" and are unique\".format(x = col_name))\n",
    "            \n",
    "    else:\n",
    "        pctMissing = 100*(len(ind_miss)/len(df))\n",
    "        print(f\"Percentage of missing {col_name} field: {pctMissing:.2f}%\")\n",
    "\n",
    "\n",
    "def check_duplicate_values(df: pd.DataFrame, col_name: str =None):\n",
    "    '''Check for duplicate values in a given column in a given dataframe. If no column is given, only check for duplicate rows in the dataframe.\n",
    "    '''\n",
    "    try:\n",
    "        if col_name is not None:\n",
    "            dups = df.duplicated(subset=[col_name], keep='first')\n",
    "            len_dups = len(dups[dups==True])\n",
    "            percent_dups = 100*len_dups/len(df)\n",
    "\n",
    "            if len_dups == 0:\n",
    "                print(f\"\\nNo duplicate values in {col_name} field.\")\n",
    "            elif len_dups > 0:\n",
    "                print(f\"\\nPercentage of duplicate values in {col_name} field: {percent_dups}\")\n",
    "                print(f\"Percentage of unique values in {col_name} field: {100-percent_dups}\")\n",
    "        elif col_name is None:\n",
    "            dups = df.duplicated(keep='first')\n",
    "            len_dups = len(dups[dups==True])\n",
    "            percent_dups = 100*len_dups/len(df)\n",
    "            \n",
    "            if len_dups == 0:\n",
    "                print(f\"\\nNo duplicate rows in dataframe.\")\n",
    "            elif len_dups > 0:\n",
    "                print(f\"\\nPercentage of duplicate rows in dataframe: {percent_dups}\")\n",
    "                print(f\"\\nPercentage of unique rows in dataframe: {100-percent_dups}\")\n",
    "    except Exception as e:\n",
    "        print(e)\n",
    "\n",
    "\n",
    "def calculate_bound_values(df, col_name):\n",
    "  ''' Calculate lower and upper bound value for given column in the dataframe\n",
    "  '''\n",
    "  Q1 = df[col_name].quantile(0.25)\n",
    "  Q3 = df[col_name].quantile(0.75)\n",
    "  IQR = Q3 - Q1\n",
    "  lower_bound = Q1 - 1.5 * IQR\n",
    "  upper_bound = Q3 + 1.5 * IQR\n",
    "  return (lower_bound, upper_bound)\n",
    "\n",
    "\n",
    "def check_outliers(df: pd.DataFrame, col_name: str = None):\n",
    "  '''Print out information about the lower boundary, upper boundary and percentage of outliers\n",
    "  '''\n",
    "  lower_bound, upper_bound = calculate_bound_values(df, col_name)\n",
    "  \n",
    "  outliers_lower = df[col_name][df[col_name] < lower_bound]\n",
    "  outliers_upper = df[col_name][df[col_name] > upper_bound]\n",
    "  outliers_cnt = len(outliers_lower) + len(outliers_upper)\n",
    "  outliers_pct = (outliers_cnt * 100) / len(df[col_name])\n",
    "  print(f\"Column: {col_name}. Lower boundary: {lower_bound}. Upper boundary: {upper_bound}. Percentage of outliers: {outliers_pct:.2f}%\")\n",
    "\n",
    "\n",
    "def remove_outliers(df, col_name):\n",
    "  '''Replace outliers at given column with null values\n",
    "  '''\n",
    "  lower_bound, upper_bound = calculate_bound_values(df, col_name)\n",
    "  df[col_name] = df[col_name][(df[col_name] < upper_bound) & (df[col_name] > lower_bound)]\n",
    "  \n",
    "\n",
    "def get_numeric_cols(df: pd.DataFrame):\n",
    "  '''Return the names of all the numeric columns in a Data Frame\n",
    "  '''\n",
    "  return list(df.select_dtypes(include=[np.number]).columns.values)\n",
    "\n",
    "\n",
    "def drop_col(df: pd.DataFrame, col_name: str = None) -> pd.DataFrame:\n",
    "  '''Drop a column in a Data Frame and return the new Data Frame\n",
    "  '''\n",
    "  return df.drop(col_name, axis='columns')\n",
    "\n",
    "\n",
    "def drop_cols_with_missing_val_threshold(df, threshold): \n",
    "  '''Drop columns which has percentage of missing value surpassed the input threshold\n",
    "  Return a new dataframe in which unqualified columns has been dropped\n",
    "  '''\n",
    "  threshold_percentage = len(df) * threshold\n",
    "  return df.dropna(thresh=threshold_percentage, axis=1)\n",
    "\n",
    "\n",
    "def display_bar_char(xName: str, yName: str, df: pd.DataFrame, orient: str, figSize: (int, int), title: str):\n",
    "    fig = plt.figure(figsize=figSize)\n",
    "    ax = plt.axes()\n",
    "    sns.barplot(x = xName, y = yName, data = df, orient = orient, ax = ax).set(title = title)\n",
    "\n",
    "\n",
    "def plot_confusion_matrix(data, labels):\n",
    "    sns.set(color_codes=True)\n",
    "    plt.figure(1, figsize=(9, 6))\n",
    "    plt.title(\"Confusion Matrix\")\n",
    "    sns.set(font_scale=1.4)\n",
    "    ax = sns.heatmap(data, annot=True, cmap=\"YlGnBu\", cbar_kws={'label': 'Scale'})\n",
    "    ax.set_xticklabels(labels)\n",
    "    ax.set_yticklabels(labels)\n",
    "    ax.set(ylabel=\"True Label\", xlabel=\"Predicted Label\")\n",
    "    plt.show()"
   ]
  },
  {
   "cell_type": "markdown",
   "metadata": {
    "id": "i6df3YwcVnqY"
   },
   "source": [
    "## 5. EDA\n",
    "---"
   ]
  },
  {
   "cell_type": "markdown",
   "metadata": {
    "id": "50lyeRMSoAlI"
   },
   "source": [
    "### 5.1 Summary Statistics\n",
    "We'll run summary statistics for selected numeric fields which support our further analysis:"
   ]
  },
  {
   "cell_type": "code",
   "execution_count": null,
   "metadata": {
    "id": "uF94VI-LoAlI",
    "outputId": "e3853aad-6a0e-4276-c30b-c3fa6db700b7"
   },
   "outputs": [
    {
     "data": {
      "text/html": [
       "<div>\n",
       "<style scoped>\n",
       "    .dataframe tbody tr th:only-of-type {\n",
       "        vertical-align: middle;\n",
       "    }\n",
       "\n",
       "    .dataframe tbody tr th {\n",
       "        vertical-align: top;\n",
       "    }\n",
       "\n",
       "    .dataframe thead th {\n",
       "        text-align: right;\n",
       "    }\n",
       "</style>\n",
       "<table border=\"1\" class=\"dataframe\">\n",
       "  <thead>\n",
       "    <tr style=\"text-align: right;\">\n",
       "      <th></th>\n",
       "      <th>Departure_Delay</th>\n",
       "      <th>DepDelayMinutes</th>\n",
       "      <th>TaxiOut</th>\n",
       "      <th>WheelsOff</th>\n",
       "      <th>WheelsOn</th>\n",
       "      <th>TaxiIn</th>\n",
       "      <th>Arrival_Delay</th>\n",
       "      <th>ArrDelayMinutes</th>\n",
       "      <th>Elapsed_Time</th>\n",
       "      <th>AirTime</th>\n",
       "      <th>Distance</th>\n",
       "    </tr>\n",
       "  </thead>\n",
       "  <tbody>\n",
       "    <tr>\n",
       "      <th>count</th>\n",
       "      <td>378957.000000</td>\n",
       "      <td>378957.000000</td>\n",
       "      <td>378957.000000</td>\n",
       "      <td>378957.000000</td>\n",
       "      <td>378957.000000</td>\n",
       "      <td>378957.000000</td>\n",
       "      <td>378957.000000</td>\n",
       "      <td>378957.000000</td>\n",
       "      <td>378957.000000</td>\n",
       "      <td>378957.000000</td>\n",
       "      <td>378957.000000</td>\n",
       "    </tr>\n",
       "    <tr>\n",
       "      <th>mean</th>\n",
       "      <td>10.006394</td>\n",
       "      <td>12.984576</td>\n",
       "      <td>16.650266</td>\n",
       "      <td>1356.801951</td>\n",
       "      <td>1467.390406</td>\n",
       "      <td>7.510251</td>\n",
       "      <td>5.128577</td>\n",
       "      <td>13.161253</td>\n",
       "      <td>137.657903</td>\n",
       "      <td>113.497386</td>\n",
       "      <td>821.941376</td>\n",
       "    </tr>\n",
       "    <tr>\n",
       "      <th>std</th>\n",
       "      <td>42.863602</td>\n",
       "      <td>41.804844</td>\n",
       "      <td>9.376072</td>\n",
       "      <td>502.587266</td>\n",
       "      <td>528.392319</td>\n",
       "      <td>5.852117</td>\n",
       "      <td>45.167777</td>\n",
       "      <td>41.773267</td>\n",
       "      <td>74.163641</td>\n",
       "      <td>72.088507</td>\n",
       "      <td>606.969648</td>\n",
       "    </tr>\n",
       "    <tr>\n",
       "      <th>min</th>\n",
       "      <td>-82.000000</td>\n",
       "      <td>0.000000</td>\n",
       "      <td>1.000000</td>\n",
       "      <td>1.000000</td>\n",
       "      <td>1.000000</td>\n",
       "      <td>1.000000</td>\n",
       "      <td>-91.000000</td>\n",
       "      <td>0.000000</td>\n",
       "      <td>15.000000</td>\n",
       "      <td>8.000000</td>\n",
       "      <td>31.000000</td>\n",
       "    </tr>\n",
       "    <tr>\n",
       "      <th>25%</th>\n",
       "      <td>-5.000000</td>\n",
       "      <td>0.000000</td>\n",
       "      <td>11.000000</td>\n",
       "      <td>932.000000</td>\n",
       "      <td>1049.000000</td>\n",
       "      <td>4.000000</td>\n",
       "      <td>-14.000000</td>\n",
       "      <td>0.000000</td>\n",
       "      <td>83.000000</td>\n",
       "      <td>60.000000</td>\n",
       "      <td>372.000000</td>\n",
       "    </tr>\n",
       "    <tr>\n",
       "      <th>50%</th>\n",
       "      <td>-2.000000</td>\n",
       "      <td>0.000000</td>\n",
       "      <td>14.000000</td>\n",
       "      <td>1341.000000</td>\n",
       "      <td>1506.000000</td>\n",
       "      <td>6.000000</td>\n",
       "      <td>-5.000000</td>\n",
       "      <td>0.000000</td>\n",
       "      <td>119.000000</td>\n",
       "      <td>94.000000</td>\n",
       "      <td>650.000000</td>\n",
       "    </tr>\n",
       "    <tr>\n",
       "      <th>75%</th>\n",
       "      <td>7.000000</td>\n",
       "      <td>7.000000</td>\n",
       "      <td>19.000000</td>\n",
       "      <td>1757.000000</td>\n",
       "      <td>1913.000000</td>\n",
       "      <td>9.000000</td>\n",
       "      <td>8.000000</td>\n",
       "      <td>8.000000</td>\n",
       "      <td>169.000000</td>\n",
       "      <td>144.000000</td>\n",
       "      <td>1062.000000</td>\n",
       "    </tr>\n",
       "    <tr>\n",
       "      <th>max</th>\n",
       "      <td>1878.000000</td>\n",
       "      <td>1878.000000</td>\n",
       "      <td>168.000000</td>\n",
       "      <td>2400.000000</td>\n",
       "      <td>2400.000000</td>\n",
       "      <td>224.000000</td>\n",
       "      <td>1898.000000</td>\n",
       "      <td>1898.000000</td>\n",
       "      <td>713.000000</td>\n",
       "      <td>684.000000</td>\n",
       "      <td>5095.000000</td>\n",
       "    </tr>\n",
       "  </tbody>\n",
       "</table>\n",
       "</div>"
      ],
      "text/plain": [
       "       Departure_Delay  DepDelayMinutes        TaxiOut      WheelsOff  \\\n",
       "count    378957.000000    378957.000000  378957.000000  378957.000000   \n",
       "mean         10.006394        12.984576      16.650266    1356.801951   \n",
       "std          42.863602        41.804844       9.376072     502.587266   \n",
       "min         -82.000000         0.000000       1.000000       1.000000   \n",
       "25%          -5.000000         0.000000      11.000000     932.000000   \n",
       "50%          -2.000000         0.000000      14.000000    1341.000000   \n",
       "75%           7.000000         7.000000      19.000000    1757.000000   \n",
       "max        1878.000000      1878.000000     168.000000    2400.000000   \n",
       "\n",
       "            WheelsOn         TaxiIn  Arrival_Delay  ArrDelayMinutes  \\\n",
       "count  378957.000000  378957.000000  378957.000000    378957.000000   \n",
       "mean     1467.390406       7.510251       5.128577        13.161253   \n",
       "std       528.392319       5.852117      45.167777        41.773267   \n",
       "min         1.000000       1.000000     -91.000000         0.000000   \n",
       "25%      1049.000000       4.000000     -14.000000         0.000000   \n",
       "50%      1506.000000       6.000000      -5.000000         0.000000   \n",
       "75%      1913.000000       9.000000       8.000000         8.000000   \n",
       "max      2400.000000     224.000000    1898.000000      1898.000000   \n",
       "\n",
       "        Elapsed_Time        AirTime       Distance  \n",
       "count  378957.000000  378957.000000  378957.000000  \n",
       "mean      137.657903     113.497386     821.941376  \n",
       "std        74.163641      72.088507     606.969648  \n",
       "min        15.000000       8.000000      31.000000  \n",
       "25%        83.000000      60.000000     372.000000  \n",
       "50%       119.000000      94.000000     650.000000  \n",
       "75%       169.000000     144.000000    1062.000000  \n",
       "max       713.000000     684.000000    5095.000000  "
      ]
     },
     "execution_count": 47,
     "metadata": {},
     "output_type": "execute_result"
    }
   ],
   "source": [
    "airline_df.filter(items=['Departure_Delay', 'DepDelayMinutes', 'TaxiOut', 'WheelsOff', 'WheelsOn', 'TaxiIn', 'Arrival_Delay', 'ArrDelayMinutes', 'Elapsed_Time', 'AirTime', 'Distance']).describe(include=[np.number])"
   ]
  },
  {
   "cell_type": "markdown",
   "metadata": {
    "id": "4sHWtdo4x-Bv"
   },
   "source": [
    "### 5.2 How often are flights delayed?\n",
    "#### On departure"
   ]
  },
  {
   "cell_type": "code",
   "execution_count": null,
   "metadata": {
    "id": "kS2ajJvAC5Pp"
   },
   "outputs": [],
   "source": [
    "# Calculate the total count of departure flights from all airports\n",
    "total_dep_flights = airline_df['Flight_Number_Airline'].count()\n",
    "# Calculate the total count of 'Delayed' departure flights from all airports\n",
    "total_delayed_dep_flights = airline_df['Flight_Number_Airline'].loc[airline_df['IsDepDelay'] == 1].count()"
   ]
  },
  {
   "cell_type": "code",
   "execution_count": null,
   "metadata": {
    "id": "TWYavUgEC5Pp",
    "outputId": "711072e4-8530-460a-b3c6-d33b4217e4b6"
   },
   "outputs": [
    {
     "name": "stdout",
     "output_type": "stream",
     "text": [
      "36.01% of flights delayed on departure\n"
     ]
    }
   ],
   "source": [
    "# Percentage of flights being delayed on departure\n",
    "p_delayed_dep = round((total_delayed_dep_flights/total_dep_flights)*100, 2)\n",
    "print(f\"{p_delayed_dep}% of flights delayed on departure\")"
   ]
  },
  {
   "cell_type": "markdown",
   "metadata": {
    "id": "t3iHk2AAyI-M"
   },
   "source": [
    "#### On arrival"
   ]
  },
  {
   "cell_type": "code",
   "execution_count": null,
   "metadata": {
    "id": "o71nwZJOyG3Z"
   },
   "outputs": [],
   "source": [
    "# Calculate the total count of arrival flights from all airports\n",
    "total_arr_flights = airline_df['Flight_Number_Airline'].count()\n",
    "# Calculate the total count of 'Delayed' arrival flights from all airports\n",
    "total_delayed_arr_flights = airline_df['Flight_Number_Airline'].loc[airline_df['IsArrDelay'] == 1].count()"
   ]
  },
  {
   "cell_type": "code",
   "execution_count": null,
   "metadata": {
    "id": "1iyDs-YLC5Pq",
    "outputId": "c092bb2b-20d9-42fb-8077-ac37980741a8"
   },
   "outputs": [
    {
     "name": "stdout",
     "output_type": "stream",
     "text": [
      "36.29% of flights delayed on arrival\n"
     ]
    }
   ],
   "source": [
    "# Percentage of flights being delayed on arrival\n",
    "p_delayed_arr = round((total_delayed_arr_flights/total_arr_flights)*100, 2)\n",
    "print(f\"{p_delayed_arr}% of flights delayed on arrival\")"
   ]
  },
  {
   "cell_type": "markdown",
   "metadata": {
    "id": "PKxGBtyvC5Pq"
   },
   "source": [
    "We can see that the percentage of flights being delayed on arrival and on departure are roughly similar, both are having around over 36% of delayed flights."
   ]
  },
  {
   "cell_type": "markdown",
   "metadata": {
    "id": "fsKgKJkcxmjf"
   },
   "source": [
    "### 5.3. Airports with most number of flights\n",
    "#### From departure airports:"
   ]
  },
  {
   "cell_type": "code",
   "execution_count": null,
   "metadata": {
    "id": "yzuHuk6txmjf",
    "outputId": "65b11fcd-fccf-4bd9-d4b6-92a731079d69"
   },
   "outputs": [
    {
     "data": {
      "text/html": [
       "<div>\n",
       "<style scoped>\n",
       "    .dataframe tbody tr th:only-of-type {\n",
       "        vertical-align: middle;\n",
       "    }\n",
       "\n",
       "    .dataframe tbody tr th {\n",
       "        vertical-align: top;\n",
       "    }\n",
       "\n",
       "    .dataframe thead th {\n",
       "        text-align: right;\n",
       "    }\n",
       "</style>\n",
       "<table border=\"1\" class=\"dataframe\">\n",
       "  <thead>\n",
       "    <tr style=\"text-align: right;\">\n",
       "      <th></th>\n",
       "      <th>OriginAirport</th>\n",
       "      <th>Total Flights</th>\n",
       "    </tr>\n",
       "  </thead>\n",
       "  <tbody>\n",
       "    <tr>\n",
       "      <th>21</th>\n",
       "      <td>ATL</td>\n",
       "      <td>23253</td>\n",
       "    </tr>\n",
       "    <tr>\n",
       "      <th>257</th>\n",
       "      <td>ORD</td>\n",
       "      <td>17590</td>\n",
       "    </tr>\n",
       "    <tr>\n",
       "      <th>97</th>\n",
       "      <td>DFW</td>\n",
       "      <td>15035</td>\n",
       "    </tr>\n",
       "    <tr>\n",
       "      <th>96</th>\n",
       "      <td>DEN</td>\n",
       "      <td>13875</td>\n",
       "    </tr>\n",
       "    <tr>\n",
       "      <th>196</th>\n",
       "      <td>LAX</td>\n",
       "      <td>13095</td>\n",
       "    </tr>\n",
       "    <tr>\n",
       "      <th>319</th>\n",
       "      <td>SFO</td>\n",
       "      <td>10306</td>\n",
       "    </tr>\n",
       "    <tr>\n",
       "      <th>272</th>\n",
       "      <td>PHX</td>\n",
       "      <td>10038</td>\n",
       "    </tr>\n",
       "    <tr>\n",
       "      <th>170</th>\n",
       "      <td>IAH</td>\n",
       "      <td>9669</td>\n",
       "    </tr>\n",
       "    <tr>\n",
       "      <th>76</th>\n",
       "      <td>CLT</td>\n",
       "      <td>9392</td>\n",
       "    </tr>\n",
       "    <tr>\n",
       "      <th>194</th>\n",
       "      <td>LAS</td>\n",
       "      <td>9330</td>\n",
       "    </tr>\n",
       "  </tbody>\n",
       "</table>\n",
       "</div>"
      ],
      "text/plain": [
       "    OriginAirport  Total Flights\n",
       "21            ATL          23253\n",
       "257           ORD          17590\n",
       "97            DFW          15035\n",
       "96            DEN          13875\n",
       "196           LAX          13095\n",
       "319           SFO          10306\n",
       "272           PHX          10038\n",
       "170           IAH           9669\n",
       "76            CLT           9392\n",
       "194           LAS           9330"
      ]
     },
     "execution_count": 52,
     "metadata": {},
     "output_type": "execute_result"
    }
   ],
   "source": [
    "number_of_flight_dep = airline_df.groupby('OriginAirport')['Flight_Number_Airline'].count().reset_index(name = 'Total Flights')\n",
    "top10_number_of_flight_dep = number_of_flight_dep.sort_values('Total Flights',ascending = False).head(10)\n",
    "top10_number_of_flight_dep"
   ]
  },
  {
   "cell_type": "code",
   "execution_count": null,
   "metadata": {
    "id": "WRpu-O5loAlN",
    "outputId": "889d7433-20cf-4710-f8d3-3bec7440f9f7"
   },
   "outputs": [
    {
     "data": {
      "image/png": "[encoded data removed]",
      "text/plain": [
       "<Figure size 720x360 with 1 Axes>"
      ]
     },
     "metadata": {},
     "output_type": "display_data"
    }
   ],
   "source": [
    "display_bar_char('OriginAirport', 'Total Flights', top10_number_of_flight_dep, 'v', (10, 5), \"Highest number of flights per airport\")"
   ]
  },
  {
   "cell_type": "markdown",
   "metadata": {
    "id": "m9GlHO9eoAlN"
   },
   "source": [
    "- We can see from here that airport ATL is the one with the highest number of departure flights of over 23000 flights recorded.\n",
    "- Airports SFO, PHX, IAH, CLT, LAS are also the ones which made it to the top 10 of highest number of departure flights, but their total flights are around 10,000 flights only, which is about half of the number of flights from airport ATL"
   ]
  },
  {
   "cell_type": "markdown",
   "metadata": {
    "id": "FKJ1P58UoAlN"
   },
   "source": [
    "#### From arrival airports:"
   ]
  },
  {
   "cell_type": "code",
   "execution_count": null,
   "metadata": {
    "id": "GSQnNjO0oAlO",
    "outputId": "0ef75c6d-f94d-4c00-89e4-61dda156ccc8"
   },
   "outputs": [
    {
     "data": {
      "text/html": [
       "<div>\n",
       "<style scoped>\n",
       "    .dataframe tbody tr th:only-of-type {\n",
       "        vertical-align: middle;\n",
       "    }\n",
       "\n",
       "    .dataframe tbody tr th {\n",
       "        vertical-align: top;\n",
       "    }\n",
       "\n",
       "    .dataframe thead th {\n",
       "        text-align: right;\n",
       "    }\n",
       "</style>\n",
       "<table border=\"1\" class=\"dataframe\">\n",
       "  <thead>\n",
       "    <tr style=\"text-align: right;\">\n",
       "      <th></th>\n",
       "      <th>DestAirport</th>\n",
       "      <th>Total Flights</th>\n",
       "    </tr>\n",
       "  </thead>\n",
       "  <tbody>\n",
       "    <tr>\n",
       "      <th>21</th>\n",
       "      <td>ATL</td>\n",
       "      <td>23163</td>\n",
       "    </tr>\n",
       "    <tr>\n",
       "      <th>256</th>\n",
       "      <td>ORD</td>\n",
       "      <td>17941</td>\n",
       "    </tr>\n",
       "    <tr>\n",
       "      <th>97</th>\n",
       "      <td>DFW</td>\n",
       "      <td>15117</td>\n",
       "    </tr>\n",
       "    <tr>\n",
       "      <th>96</th>\n",
       "      <td>DEN</td>\n",
       "      <td>13836</td>\n",
       "    </tr>\n",
       "    <tr>\n",
       "      <th>195</th>\n",
       "      <td>LAX</td>\n",
       "      <td>13358</td>\n",
       "    </tr>\n",
       "    <tr>\n",
       "      <th>318</th>\n",
       "      <td>SFO</td>\n",
       "      <td>10516</td>\n",
       "    </tr>\n",
       "    <tr>\n",
       "      <th>271</th>\n",
       "      <td>PHX</td>\n",
       "      <td>10115</td>\n",
       "    </tr>\n",
       "    <tr>\n",
       "      <th>169</th>\n",
       "      <td>IAH</td>\n",
       "      <td>9589</td>\n",
       "    </tr>\n",
       "    <tr>\n",
       "      <th>193</th>\n",
       "      <td>LAS</td>\n",
       "      <td>9433</td>\n",
       "    </tr>\n",
       "    <tr>\n",
       "      <th>76</th>\n",
       "      <td>CLT</td>\n",
       "      <td>9279</td>\n",
       "    </tr>\n",
       "  </tbody>\n",
       "</table>\n",
       "</div>"
      ],
      "text/plain": [
       "    DestAirport  Total Flights\n",
       "21          ATL          23163\n",
       "256         ORD          17941\n",
       "97          DFW          15117\n",
       "96          DEN          13836\n",
       "195         LAX          13358\n",
       "318         SFO          10516\n",
       "271         PHX          10115\n",
       "169         IAH           9589\n",
       "193         LAS           9433\n",
       "76          CLT           9279"
      ]
     },
     "execution_count": 54,
     "metadata": {},
     "output_type": "execute_result"
    }
   ],
   "source": [
    "number_of_flight_arr = airline_df.groupby('DestAirport')['Flight_Number_Airline'].count().reset_index(name = 'Total Flights')\n",
    "top10_number_of_flight_arr = number_of_flight_arr.sort_values('Total Flights',ascending = False).head(10)\n",
    "top10_number_of_flight_arr"
   ]
  },
  {
   "cell_type": "code",
   "execution_count": null,
   "metadata": {
    "id": "m8R8bHbSoAlO",
    "outputId": "5b0582e6-2f65-47f9-97f4-e0db2bb6881e"
   },
   "outputs": [
    {
     "data": {
      "image/png": "[encoded data removed]",
      "text/plain": [
       "<Figure size 720x360 with 1 Axes>"
      ]
     },
     "metadata": {},
     "output_type": "display_data"
    }
   ],
   "source": [
    "display_bar_char('DestAirport', 'Total Flights', top10_number_of_flight_arr, 'v', (10, 5), \"Highest number of flights per airport\")"
   ]
  },
  {
   "cell_type": "markdown",
   "metadata": {
    "id": "eDJOZADroAlO"
   },
   "source": [
    "- We can see from here that airport ATL is also the one with the highest number of arrival flights of over 23000 flights recorded. It marked the huge differences when comparing to other airports in top 10.\n",
    "- Airports SFO, PHX, IAH, CLT, LAS are also the ones which made it to the top 10 of highest number of departure flights, but their total flights are around 10,000 flights only, which is about half of the number of flights from airport ATL"
   ]
  },
  {
   "cell_type": "markdown",
   "metadata": {
    "id": "AQRpW3rUQKkN"
   },
   "source": [
    "#### Map Visualization for 5 & 6:\n",
    "Origins/Destinations Arrival and Departure (rc)\n",
    "https://public.tableau.com/app/profile/j.jha/viz/Info442-Maps/Story1"
   ]
  },
  {
   "cell_type": "markdown",
   "metadata": {
    "id": "-iCbEDIOxmjf"
   },
   "source": [
    "### 5.4 Airports with highest frequency of delay\n",
    "#### On departure"
   ]
  },
  {
   "cell_type": "code",
   "execution_count": null,
   "metadata": {
    "id": "3vU10vCroAlO",
    "outputId": "d984a4cc-7bbf-4e88-a9d2-92e83528c31e"
   },
   "outputs": [
    {
     "data": {
      "text/html": [
       "<div>\n",
       "<style scoped>\n",
       "    .dataframe tbody tr th:only-of-type {\n",
       "        vertical-align: middle;\n",
       "    }\n",
       "\n",
       "    .dataframe tbody tr th {\n",
       "        vertical-align: top;\n",
       "    }\n",
       "\n",
       "    .dataframe thead th {\n",
       "        text-align: right;\n",
       "    }\n",
       "</style>\n",
       "<table border=\"1\" class=\"dataframe\">\n",
       "  <thead>\n",
       "    <tr style=\"text-align: right;\">\n",
       "      <th></th>\n",
       "      <th>OriginAirport</th>\n",
       "      <th>Total Departure Delays</th>\n",
       "    </tr>\n",
       "  </thead>\n",
       "  <tbody>\n",
       "    <tr>\n",
       "      <th>21</th>\n",
       "      <td>ATL</td>\n",
       "      <td>8479</td>\n",
       "    </tr>\n",
       "    <tr>\n",
       "      <th>257</th>\n",
       "      <td>ORD</td>\n",
       "      <td>6940</td>\n",
       "    </tr>\n",
       "    <tr>\n",
       "      <th>96</th>\n",
       "      <td>DEN</td>\n",
       "      <td>5896</td>\n",
       "    </tr>\n",
       "    <tr>\n",
       "      <th>97</th>\n",
       "      <td>DFW</td>\n",
       "      <td>5775</td>\n",
       "    </tr>\n",
       "    <tr>\n",
       "      <th>196</th>\n",
       "      <td>LAX</td>\n",
       "      <td>5360</td>\n",
       "    </tr>\n",
       "    <tr>\n",
       "      <th>194</th>\n",
       "      <td>LAS</td>\n",
       "      <td>4095</td>\n",
       "    </tr>\n",
       "    <tr>\n",
       "      <th>319</th>\n",
       "      <td>SFO</td>\n",
       "      <td>4017</td>\n",
       "    </tr>\n",
       "    <tr>\n",
       "      <th>272</th>\n",
       "      <td>PHX</td>\n",
       "      <td>3842</td>\n",
       "    </tr>\n",
       "    <tr>\n",
       "      <th>76</th>\n",
       "      <td>CLT</td>\n",
       "      <td>3438</td>\n",
       "    </tr>\n",
       "    <tr>\n",
       "      <th>170</th>\n",
       "      <td>IAH</td>\n",
       "      <td>3375</td>\n",
       "    </tr>\n",
       "  </tbody>\n",
       "</table>\n",
       "</div>"
      ],
      "text/plain": [
       "    OriginAirport  Total Departure Delays\n",
       "21            ATL                    8479\n",
       "257           ORD                    6940\n",
       "96            DEN                    5896\n",
       "97            DFW                    5775\n",
       "196           LAX                    5360\n",
       "194           LAS                    4095\n",
       "319           SFO                    4017\n",
       "272           PHX                    3842\n",
       "76            CLT                    3438\n",
       "170           IAH                    3375"
      ]
     },
     "execution_count": 56,
     "metadata": {},
     "output_type": "execute_result"
    }
   ],
   "source": [
    "dep_delay_freq = airline_df.groupby('OriginAirport')['IsDepDelay'].sum().reset_index(name = 'Total Departure Delays')\n",
    "top10_dep_delay_freq = dep_delay_freq.sort_values('Total Departure Delays',ascending = False).head(10)\n",
    "top10_dep_delay_freq"
   ]
  },
  {
   "cell_type": "code",
   "execution_count": null,
   "metadata": {
    "id": "ZldFfXHxoAlO",
    "outputId": "47b0bfc7-996d-4b57-fa51-737047ee3cbe"
   },
   "outputs": [
    {
     "data": {
      "image/png": "[encoded data removed]",
      "text/plain": [
       "<Figure size 720x360 with 1 Axes>"
      ]
     },
     "metadata": {},
     "output_type": "display_data"
    }
   ],
   "source": [
    "display_bar_char('OriginAirport', 'Total Departure Delays', top10_dep_delay_freq, 'v', (10, 5), \"Highest number of flights per airport\")"
   ]
  },
  {
   "cell_type": "markdown",
   "metadata": {
    "id": "e-DBcLsJoAlP"
   },
   "source": [
    "We can see here that ATL is the airport with highest number of flights being delayed. But does this mean the rate of delay in ATL airport is also high? Let's look at the percentage of delayed flights per airport below:"
   ]
  },
  {
   "cell_type": "code",
   "execution_count": null,
   "metadata": {
    "id": "fRjlaQWSoAlP",
    "outputId": "c470d646-a2b2-489b-dd3d-f53907bb6ea4"
   },
   "outputs": [
    {
     "data": {
      "text/plain": [
       "[36.46, 39.45, 42.49, 38.41, 40.93, 43.89, 38.98, 38.27, 36.61, 34.91]"
      ]
     },
     "execution_count": 58,
     "metadata": {},
     "output_type": "execute_result"
    }
   ],
   "source": [
    "# Calculate delay percentage for departure flights in top 10 airports with highest delayed flight count\n",
    "delay_percentages = []\n",
    "for index, row in top10_dep_delay_freq.iterrows():\n",
    "    airport = row[\"OriginAirport\"]\n",
    "    total_delay = row[\"Total Departure Delays\"]\n",
    "    total_flight = number_of_flight_dep[\"Total Flights\"].loc[number_of_flight_dep[\"OriginAirport\"] == airport].values[0]\n",
    "    # Calculate delay departure percentage for an airport\n",
    "    delay_percentage = round((total_delay/total_flight)*100, 2)\n",
    "    # Append calculated percentage to the list\n",
    "    delay_percentages.append(delay_percentage)\n",
    "delay_percentages # List of percentage for flight delay in top 10 highest delayed flight airports"
   ]
  },
  {
   "cell_type": "code",
   "execution_count": null,
   "metadata": {
    "id": "g4oDvfI3oAlP"
   },
   "outputs": [],
   "source": [
    "# Create a new column in data frame top10_dep_delay_freq\n",
    "top10_dep_delay_freq[\"Delay Percentage\"] = delay_percentages"
   ]
  },
  {
   "cell_type": "code",
   "execution_count": null,
   "metadata": {
    "id": "F6LsBocpoAlP",
    "outputId": "3f36bd5f-fe3e-436e-b963-436efcb100cc"
   },
   "outputs": [
    {
     "data": {
      "image/png": "[encoded data removed]",
      "text/plain": [
       "<Figure size 720x360 with 1 Axes>"
      ]
     },
     "metadata": {},
     "output_type": "display_data"
    }
   ],
   "source": [
    "display_bar_char('OriginAirport', 'Delay Percentage', top10_dep_delay_freq, 'v', (10, 5), \"Percentage of Delayed Flights\")"
   ]
  },
  {
   "cell_type": "markdown",
   "metadata": {
    "id": "8nGgabWJoAlP"
   },
   "source": [
    "- After calculating the percentage, we can see that although ATL is the airport with highest number of delayed flights, its percentage of delayed flights is one of the lowest this top 10 highest delay flight counts.\n",
    "- On the other hand, LAS airport, which was having only 4,000 delayed flights recorded, actually have the highest rate of delay (approximately 44%)"
   ]
  },
  {
   "cell_type": "markdown",
   "metadata": {
    "id": "tRJFb_D3yTEI"
   },
   "source": [
    "#### On arrival"
   ]
  },
  {
   "cell_type": "code",
   "execution_count": null,
   "metadata": {
    "id": "27D_Rheey5mo",
    "outputId": "50c85b57-f501-4b57-9237-aa5dc47e4e64"
   },
   "outputs": [
    {
     "data": {
      "text/html": [
       "<div>\n",
       "<style scoped>\n",
       "    .dataframe tbody tr th:only-of-type {\n",
       "        vertical-align: middle;\n",
       "    }\n",
       "\n",
       "    .dataframe tbody tr th {\n",
       "        vertical-align: top;\n",
       "    }\n",
       "\n",
       "    .dataframe thead th {\n",
       "        text-align: right;\n",
       "    }\n",
       "</style>\n",
       "<table border=\"1\" class=\"dataframe\">\n",
       "  <thead>\n",
       "    <tr style=\"text-align: right;\">\n",
       "      <th></th>\n",
       "      <th>DestAirport</th>\n",
       "      <th>Total Arrival Delays</th>\n",
       "    </tr>\n",
       "  </thead>\n",
       "  <tbody>\n",
       "    <tr>\n",
       "      <th>21</th>\n",
       "      <td>ATL</td>\n",
       "      <td>6993</td>\n",
       "    </tr>\n",
       "    <tr>\n",
       "      <th>256</th>\n",
       "      <td>ORD</td>\n",
       "      <td>6613</td>\n",
       "    </tr>\n",
       "    <tr>\n",
       "      <th>97</th>\n",
       "      <td>DFW</td>\n",
       "      <td>5515</td>\n",
       "    </tr>\n",
       "    <tr>\n",
       "      <th>195</th>\n",
       "      <td>LAX</td>\n",
       "      <td>5383</td>\n",
       "    </tr>\n",
       "    <tr>\n",
       "      <th>96</th>\n",
       "      <td>DEN</td>\n",
       "      <td>4769</td>\n",
       "    </tr>\n",
       "    <tr>\n",
       "      <th>318</th>\n",
       "      <td>SFO</td>\n",
       "      <td>4418</td>\n",
       "    </tr>\n",
       "    <tr>\n",
       "      <th>271</th>\n",
       "      <td>PHX</td>\n",
       "      <td>3820</td>\n",
       "    </tr>\n",
       "    <tr>\n",
       "      <th>193</th>\n",
       "      <td>LAS</td>\n",
       "      <td>3502</td>\n",
       "    </tr>\n",
       "    <tr>\n",
       "      <th>169</th>\n",
       "      <td>IAH</td>\n",
       "      <td>3303</td>\n",
       "    </tr>\n",
       "    <tr>\n",
       "      <th>76</th>\n",
       "      <td>CLT</td>\n",
       "      <td>3091</td>\n",
       "    </tr>\n",
       "  </tbody>\n",
       "</table>\n",
       "</div>"
      ],
      "text/plain": [
       "    DestAirport  Total Arrival Delays\n",
       "21          ATL                  6993\n",
       "256         ORD                  6613\n",
       "97          DFW                  5515\n",
       "195         LAX                  5383\n",
       "96          DEN                  4769\n",
       "318         SFO                  4418\n",
       "271         PHX                  3820\n",
       "193         LAS                  3502\n",
       "169         IAH                  3303\n",
       "76          CLT                  3091"
      ]
     },
     "execution_count": 61,
     "metadata": {},
     "output_type": "execute_result"
    }
   ],
   "source": [
    "arr_delay_freq = airline_df.groupby('DestAirport')['IsArrDelay'].sum().reset_index(name = 'Total Arrival Delays')\n",
    "top10_arr_delay_freq = arr_delay_freq.sort_values('Total Arrival Delays',ascending = False).head(10)\n",
    "top10_arr_delay_freq"
   ]
  },
  {
   "cell_type": "code",
   "execution_count": null,
   "metadata": {
    "id": "3O4CPUScoAlP",
    "outputId": "31d1462f-7e30-4fbc-c743-7323e3753200"
   },
   "outputs": [
    {
     "data": {
      "image/png": "[encoded data removed]",
      "text/plain": [
       "<Figure size 720x360 with 1 Axes>"
      ]
     },
     "metadata": {},
     "output_type": "display_data"
    }
   ],
   "source": [
    "display_bar_char('DestAirport', 'Total Arrival Delays', top10_arr_delay_freq, 'v', (10, 5), \"Highest number of flights per airport\")"
   ]
  },
  {
   "cell_type": "markdown",
   "metadata": {
    "id": "SWdHWY9qoAlQ"
   },
   "source": [
    "- We can see that the top 10 airports with highest counts of delayed arrival flights is the same of top 10 airport with most delayed departure flights\n",
    "- For either departure or arrival flights, ATL airport is still the one with highest number of flight being delayed. However, the number of delayed arrival flights is around 7,000 flights, which is less than that of departure flights, which is at over 8,00 flights.\n",
    "- Aiport IAH and CLT are also one of the airports with least number of delayed flight in the top 10 with highest delayed. For arrival flights, they had around 3,000 delayed flight, which is less than half of that in ATL.\n",
    "\n",
    "Let's look at the percentage of delayed flights per airport to see which airport will have highest delayed arrival flight percentage below:"
   ]
  },
  {
   "cell_type": "code",
   "execution_count": null,
   "metadata": {
    "id": "c8dvjkzkoAlQ",
    "outputId": "6291f23b-499a-421d-88e2-fb322144ddfc"
   },
   "outputs": [
    {
     "data": {
      "text/plain": [
       "[30.19, 36.86, 36.48, 40.3, 34.47, 42.01, 37.77, 37.12, 34.45, 33.31]"
      ]
     },
     "execution_count": 63,
     "metadata": {},
     "output_type": "execute_result"
    }
   ],
   "source": [
    "# Calculate delay percentage for arrival flights in top 10 airports with highest delayed flight count\n",
    "delay_percentages = []\n",
    "for index, row in top10_arr_delay_freq.iterrows():\n",
    "    airport = row[\"DestAirport\"]\n",
    "    total_delay = row[\"Total Arrival Delays\"]\n",
    "    total_flight = number_of_flight_arr[\"Total Flights\"].loc[number_of_flight_arr[\"DestAirport\"] == airport].values[0]\n",
    "    # Calculate delay arrival percentage for an airport\n",
    "    delay_percentage = round((total_delay/total_flight)*100, 2)\n",
    "    # Append calculated percentage to the list\n",
    "    delay_percentages.append(delay_percentage)\n",
    "delay_percentages # List of percentage for flight delay in top 10 highest delayed flight airports"
   ]
  },
  {
   "cell_type": "code",
   "execution_count": null,
   "metadata": {
    "id": "3Z6KRWtJoAlQ"
   },
   "outputs": [],
   "source": [
    "# Create a new column in data frame top10_arr_delay_freq\n",
    "top10_arr_delay_freq[\"Delay Percentage\"] = delay_percentages"
   ]
  },
  {
   "cell_type": "code",
   "execution_count": null,
   "metadata": {
    "id": "lfbRwAaeoAlQ",
    "outputId": "d980a0d3-c99a-4e5f-8320-8c21d20b92a9"
   },
   "outputs": [
    {
     "data": {
      "image/png": "[encoded data removed]",
      "text/plain": [
       "<Figure size 720x360 with 1 Axes>"
      ]
     },
     "metadata": {},
     "output_type": "display_data"
    }
   ],
   "source": [
    "display_bar_char('DestAirport', 'Delay Percentage', top10_arr_delay_freq, 'v', (10, 5), \"Percentage of Delayed Flights\")"
   ]
  },
  {
   "cell_type": "markdown",
   "metadata": {
    "id": "8uB8FMjVoAlQ"
   },
   "source": [
    "- Surprisingly, although ATL is the airport with highest number of delayed flights, its percentage of delayed flights is actually the lowest in this top 10 highest delay flight counts. This may be because ATL is a large airport with a huge number of arrival/departure flights.\n",
    "- SFO airport, which has the second highest in percentage of departure flight delayed, is the airport with highest arrival flights delayed! The statistics suggest that over 41% of flights to SFO will be delayed."
   ]
  },
  {
   "cell_type": "markdown",
   "metadata": {
    "id": "zJUlVItPyaK1"
   },
   "source": [
    "### 5.5 Airports with high mean delay in minutes? \n",
    "#### On departure"
   ]
  },
  {
   "cell_type": "code",
   "execution_count": null,
   "metadata": {
    "id": "0MX-e8u2yz4k",
    "outputId": "8d6b2594-e21f-40a2-b05e-c999cbad3810",
    "scrolled": true
   },
   "outputs": [
    {
     "data": {
      "text/html": [
       "<div>\n",
       "<style scoped>\n",
       "    .dataframe tbody tr th:only-of-type {\n",
       "        vertical-align: middle;\n",
       "    }\n",
       "\n",
       "    .dataframe tbody tr th {\n",
       "        vertical-align: top;\n",
       "    }\n",
       "\n",
       "    .dataframe thead th {\n",
       "        text-align: right;\n",
       "    }\n",
       "</style>\n",
       "<table border=\"1\" class=\"dataframe\">\n",
       "  <thead>\n",
       "    <tr style=\"text-align: right;\">\n",
       "      <th></th>\n",
       "      <th>OriginAirport</th>\n",
       "      <th>Mean delay (minutes)</th>\n",
       "    </tr>\n",
       "  </thead>\n",
       "  <tbody>\n",
       "    <tr>\n",
       "      <th>90</th>\n",
       "      <td>CYS</td>\n",
       "      <td>233.600000</td>\n",
       "    </tr>\n",
       "    <tr>\n",
       "      <th>252</th>\n",
       "      <td>OGS</td>\n",
       "      <td>167.111111</td>\n",
       "    </tr>\n",
       "    <tr>\n",
       "      <th>329</th>\n",
       "      <td>SLN</td>\n",
       "      <td>101.642857</td>\n",
       "    </tr>\n",
       "    <tr>\n",
       "      <th>166</th>\n",
       "      <td>HYA</td>\n",
       "      <td>80.333333</td>\n",
       "    </tr>\n",
       "    <tr>\n",
       "      <th>286</th>\n",
       "      <td>PSM</td>\n",
       "      <td>80.166667</td>\n",
       "    </tr>\n",
       "  </tbody>\n",
       "</table>\n",
       "</div>"
      ],
      "text/plain": [
       "    OriginAirport  Mean delay (minutes)\n",
       "90            CYS            233.600000\n",
       "252           OGS            167.111111\n",
       "329           SLN            101.642857\n",
       "166           HYA             80.333333\n",
       "286           PSM             80.166667"
      ]
     },
     "execution_count": 7,
     "metadata": {},
     "output_type": "execute_result"
    }
   ],
   "source": [
    "airline_df.groupby('OriginAirport')['DepDelayMinutes'] \\\n",
    "    .mean() \\\n",
    "    .reset_index(name = 'Mean delay (minutes)') \\\n",
    "    .sort_values('Mean delay (minutes)', ascending = False).head()\n",
    "\n",
    "#CYS -> Cheyenne Regional Airport (Wyoming), Cheyenne Regional Airport is a civil-military airport\n",
    "#OGS -> Ogdensburg International Airport (NY)\n",
    "#SLN - > Salina Regional Airport (Kansas)\n",
    "#HYA -> Cape Cod Gateway Airport (Massachusetts)\n",
    "#PSM -> Portsmouth International Airport at Pease (New Hampshire)"
   ]
  },
  {
   "cell_type": "markdown",
   "metadata": {
    "id": "V4uyeSyiyd5d"
   },
   "source": [
    "#### On arrival"
   ]
  },
  {
   "cell_type": "code",
   "execution_count": null,
   "metadata": {
    "id": "75syrndmzeia",
    "outputId": "0c225a41-9764-475c-923a-c90445768ad7"
   },
   "outputs": [
    {
     "data": {
      "text/html": [
       "<div>\n",
       "<style scoped>\n",
       "    .dataframe tbody tr th:only-of-type {\n",
       "        vertical-align: middle;\n",
       "    }\n",
       "\n",
       "    .dataframe tbody tr th {\n",
       "        vertical-align: top;\n",
       "    }\n",
       "\n",
       "    .dataframe thead th {\n",
       "        text-align: right;\n",
       "    }\n",
       "</style>\n",
       "<table border=\"1\" class=\"dataframe\">\n",
       "  <thead>\n",
       "    <tr style=\"text-align: right;\">\n",
       "      <th></th>\n",
       "      <th>DestAirport</th>\n",
       "      <th>Mean delay (minutes)</th>\n",
       "    </tr>\n",
       "  </thead>\n",
       "  <tbody>\n",
       "    <tr>\n",
       "      <th>259</th>\n",
       "      <td>OTH</td>\n",
       "      <td>48.733333</td>\n",
       "    </tr>\n",
       "    <tr>\n",
       "      <th>65</th>\n",
       "      <td>CGI</td>\n",
       "      <td>42.045455</td>\n",
       "    </tr>\n",
       "    <tr>\n",
       "      <th>187</th>\n",
       "      <td>JMS</td>\n",
       "      <td>40.157895</td>\n",
       "    </tr>\n",
       "    <tr>\n",
       "      <th>251</th>\n",
       "      <td>OGS</td>\n",
       "      <td>39.181818</td>\n",
       "    </tr>\n",
       "    <tr>\n",
       "      <th>344</th>\n",
       "      <td>SWO</td>\n",
       "      <td>38.571429</td>\n",
       "    </tr>\n",
       "  </tbody>\n",
       "</table>\n",
       "</div>"
      ],
      "text/plain": [
       "    DestAirport  Mean delay (minutes)\n",
       "259         OTH             48.733333\n",
       "65          CGI             42.045455\n",
       "187         JMS             40.157895\n",
       "251         OGS             39.181818\n",
       "344         SWO             38.571429"
      ]
     },
     "execution_count": 8,
     "metadata": {},
     "output_type": "execute_result"
    }
   ],
   "source": [
    "airline_df.groupby('DestAirport')['ArrDelayMinutes'] \\\n",
    "    .mean() \\\n",
    "    .reset_index(name = 'Mean delay (minutes)') \\\n",
    "    .sort_values('Mean delay (minutes)', ascending = False).head()\n",
    "\n",
    "#OTH -> Southwest Oregon Regional Airport\n",
    "#CGI -> Cape Girardeau Regional Airport (Missouri)\n",
    "#JMS -> Jamestown Regional Airport (North Dakota)\n",
    "#OGS -> Ogdensburg International Airport (New York)\n",
    "#SWO -> Stillwater Regional Airport (Oklahoma)"
   ]
  },
  {
   "cell_type": "markdown",
   "metadata": {
    "id": "69fu5ShPzgAZ"
   },
   "source": [
    "### 5.6 Airlines with highest number of flights?  "
   ]
  },
  {
   "cell_type": "code",
   "execution_count": null,
   "metadata": {
    "id": "GR8_cJ2KzpTm",
    "outputId": "d476a04a-18e1-464e-f7a5-0ed90d2d652f"
   },
   "outputs": [
    {
     "data": {
      "text/html": [
       "<div>\n",
       "<style scoped>\n",
       "    .dataframe tbody tr th:only-of-type {\n",
       "        vertical-align: middle;\n",
       "    }\n",
       "\n",
       "    .dataframe tbody tr th {\n",
       "        vertical-align: top;\n",
       "    }\n",
       "\n",
       "    .dataframe thead th {\n",
       "        text-align: right;\n",
       "    }\n",
       "</style>\n",
       "<table border=\"1\" class=\"dataframe\">\n",
       "  <thead>\n",
       "    <tr style=\"text-align: right;\">\n",
       "      <th></th>\n",
       "      <th>Airline_Name</th>\n",
       "      <th>FlightDate</th>\n",
       "    </tr>\n",
       "  </thead>\n",
       "  <tbody>\n",
       "    <tr>\n",
       "      <th>0</th>\n",
       "      <td>Southwest Airlines Co.</td>\n",
       "      <td>78711</td>\n",
       "    </tr>\n",
       "    <tr>\n",
       "      <th>1</th>\n",
       "      <td>Delta Air Lines Inc.</td>\n",
       "      <td>56138</td>\n",
       "    </tr>\n",
       "    <tr>\n",
       "      <th>2</th>\n",
       "      <td>American Airlines Inc.</td>\n",
       "      <td>49964</td>\n",
       "    </tr>\n",
       "    <tr>\n",
       "      <th>3</th>\n",
       "      <td>SkyWest Airlines Inc.</td>\n",
       "      <td>41704</td>\n",
       "    </tr>\n",
       "    <tr>\n",
       "      <th>4</th>\n",
       "      <td>United Air Lines Inc.</td>\n",
       "      <td>34082</td>\n",
       "    </tr>\n",
       "    <tr>\n",
       "      <th>5</th>\n",
       "      <td>ExpressJet Airlines Inc.</td>\n",
       "      <td>23881</td>\n",
       "    </tr>\n",
       "    <tr>\n",
       "      <th>6</th>\n",
       "      <td>JetBlue Airways</td>\n",
       "      <td>16968</td>\n",
       "    </tr>\n",
       "    <tr>\n",
       "      <th>7</th>\n",
       "      <td>Envoy Air</td>\n",
       "      <td>12814</td>\n",
       "    </tr>\n",
       "    <tr>\n",
       "      <th>8</th>\n",
       "      <td>Alaska Airlines Inc.</td>\n",
       "      <td>12192</td>\n",
       "    </tr>\n",
       "    <tr>\n",
       "      <th>9</th>\n",
       "      <td>Spirit Air Lines</td>\n",
       "      <td>7914</td>\n",
       "    </tr>\n",
       "  </tbody>\n",
       "</table>\n",
       "</div>"
      ],
      "text/plain": [
       "               Airline_Name  FlightDate\n",
       "0    Southwest Airlines Co.       78711\n",
       "1      Delta Air Lines Inc.       56138\n",
       "2    American Airlines Inc.       49964\n",
       "3     SkyWest Airlines Inc.       41704\n",
       "4     United Air Lines Inc.       34082\n",
       "5  ExpressJet Airlines Inc.       23881\n",
       "6           JetBlue Airways       16968\n",
       "7                 Envoy Air       12814\n",
       "8      Alaska Airlines Inc.       12192\n",
       "9          Spirit Air Lines        7914"
      ]
     },
     "execution_count": 68,
     "metadata": {},
     "output_type": "execute_result"
    }
   ],
   "source": [
    "airport_numFlights = airline_df[['Airline_Name', 'FlightDate']]\n",
    "airport_numFlights = airport_numFlights.groupby(by='Airline_Name').count()\n",
    "airport_numFlights = airport_numFlights.sort_values(by=['FlightDate'], ascending=False)\n",
    "a1 = airport_numFlights.head(10).reset_index()\n",
    "a1"
   ]
  },
  {
   "cell_type": "code",
   "execution_count": null,
   "metadata": {
    "id": "PitGnj3xkk1l",
    "outputId": "8ca10d8f-7e5b-4a37-ddfa-b65a025aac57"
   },
   "outputs": [
    {
     "data": {
      "text/plain": [
       "Text(0, 0.5, 'Number of Flights')"
      ]
     },
     "execution_count": 69,
     "metadata": {},
     "output_type": "execute_result"
    },
    {
     "data": {
      "image/png": "[encoded data removed]",
      "text/plain": [
       "<Figure size 576x360 with 1 Axes>"
      ]
     },
     "metadata": {},
     "output_type": "display_data"
    }
   ],
   "source": [
    "fig = plt.figure(figsize=(8, 5))\n",
    "ax = plt.axes()\n",
    "sns.barplot(y = a1.Airline_Name, x = a1.FlightDate, data = a1, orient = 'h', ax = ax) \\\n",
    ".set(title = 'Airlines with the highest number of flights')\n",
    "plt.xlabel('Airline Name')\n",
    "plt.ylabel('Number of Flights')"
   ]
  },
  {
   "cell_type": "markdown",
   "metadata": {
    "id": "uvSifDnFzuI-"
   },
   "source": [
    "### 5.7 Airlines with highest freq delay? \n",
    "\n",
    "The same top 10 airlines appear in all 3 analyses, with varied order. The top 3 are Southwest Airlines, Delta Airlines, and American Airlines. (RC)\n",
    "\n",
    "#### On departure"
   ]
  },
  {
   "cell_type": "code",
   "execution_count": null,
   "metadata": {
    "id": "yqG4AhnYz3d5",
    "outputId": "674ca8e4-01e2-41d5-b8bd-0400f93a1fec"
   },
   "outputs": [
    {
     "data": {
      "text/html": [
       "<div>\n",
       "<style scoped>\n",
       "    .dataframe tbody tr th:only-of-type {\n",
       "        vertical-align: middle;\n",
       "    }\n",
       "\n",
       "    .dataframe tbody tr th {\n",
       "        vertical-align: top;\n",
       "    }\n",
       "\n",
       "    .dataframe thead th {\n",
       "        text-align: right;\n",
       "    }\n",
       "</style>\n",
       "<table border=\"1\" class=\"dataframe\">\n",
       "  <thead>\n",
       "    <tr style=\"text-align: right;\">\n",
       "      <th></th>\n",
       "      <th>Airline_Name</th>\n",
       "      <th>Departure_Delay</th>\n",
       "    </tr>\n",
       "  </thead>\n",
       "  <tbody>\n",
       "    <tr>\n",
       "      <th>0</th>\n",
       "      <td>Southwest Airlines Co.</td>\n",
       "      <td>78711</td>\n",
       "    </tr>\n",
       "    <tr>\n",
       "      <th>1</th>\n",
       "      <td>Delta Air Lines Inc.</td>\n",
       "      <td>56138</td>\n",
       "    </tr>\n",
       "    <tr>\n",
       "      <th>2</th>\n",
       "      <td>American Airlines Inc.</td>\n",
       "      <td>49964</td>\n",
       "    </tr>\n",
       "    <tr>\n",
       "      <th>3</th>\n",
       "      <td>SkyWest Airlines Inc.</td>\n",
       "      <td>41704</td>\n",
       "    </tr>\n",
       "    <tr>\n",
       "      <th>4</th>\n",
       "      <td>United Air Lines Inc.</td>\n",
       "      <td>34082</td>\n",
       "    </tr>\n",
       "    <tr>\n",
       "      <th>5</th>\n",
       "      <td>ExpressJet Airlines Inc.</td>\n",
       "      <td>23881</td>\n",
       "    </tr>\n",
       "    <tr>\n",
       "      <th>6</th>\n",
       "      <td>JetBlue Airways</td>\n",
       "      <td>16968</td>\n",
       "    </tr>\n",
       "    <tr>\n",
       "      <th>7</th>\n",
       "      <td>Envoy Air</td>\n",
       "      <td>12814</td>\n",
       "    </tr>\n",
       "    <tr>\n",
       "      <th>8</th>\n",
       "      <td>Alaska Airlines Inc.</td>\n",
       "      <td>12192</td>\n",
       "    </tr>\n",
       "    <tr>\n",
       "      <th>9</th>\n",
       "      <td>Spirit Air Lines</td>\n",
       "      <td>7914</td>\n",
       "    </tr>\n",
       "  </tbody>\n",
       "</table>\n",
       "</div>"
      ],
      "text/plain": [
       "               Airline_Name  Departure_Delay\n",
       "0    Southwest Airlines Co.            78711\n",
       "1      Delta Air Lines Inc.            56138\n",
       "2    American Airlines Inc.            49964\n",
       "3     SkyWest Airlines Inc.            41704\n",
       "4     United Air Lines Inc.            34082\n",
       "5  ExpressJet Airlines Inc.            23881\n",
       "6           JetBlue Airways            16968\n",
       "7                 Envoy Air            12814\n",
       "8      Alaska Airlines Inc.            12192\n",
       "9          Spirit Air Lines             7914"
      ]
     },
     "execution_count": 70,
     "metadata": {},
     "output_type": "execute_result"
    }
   ],
   "source": [
    "airline_depDelay = airline_df[['Airline_Name', 'Departure_Delay']]\n",
    "airline_depDelay = airline_depDelay.groupby(by='Airline_Name').count()\n",
    "airline_depDelay = airline_depDelay.sort_values(by=['Departure_Delay'], ascending=False)\n",
    "a2 = airline_depDelay.head(10).reset_index()\n",
    "a2"
   ]
  },
  {
   "cell_type": "code",
   "execution_count": null,
   "metadata": {
    "id": "JNgnbi0Zz65W",
    "outputId": "b6c70b1c-fc33-4c20-f881-3a9cda8875cb"
   },
   "outputs": [
    {
     "data": {
      "text/plain": [
       "Text(0, 0.5, 'Number of Departure Delays')"
      ]
     },
     "execution_count": 71,
     "metadata": {},
     "output_type": "execute_result"
    },
    {
     "data": {
      "image/png": "[encoded data removed]",
      "text/plain": [
       "<Figure size 576x360 with 1 Axes>"
      ]
     },
     "metadata": {},
     "output_type": "display_data"
    }
   ],
   "source": [
    "fig = plt.figure(figsize=(8, 5))\n",
    "ax = plt.axes()\n",
    "sns.barplot(y = a2.Airline_Name, x = a2.Departure_Delay, data = a2, orient = 'h', ax = ax) \\\n",
    ".set(title = 'Airlines with highest number of Departure Delays')\n",
    "plt.xlabel('Airline Name')\n",
    "plt.ylabel('Number of Departure Delays')"
   ]
  },
  {
   "cell_type": "code",
   "execution_count": null,
   "metadata": {
    "id": "k9fwaL_0oAlS",
    "outputId": "dfd944de-f032-4184-a35a-f3b6cb552ce3"
   },
   "outputs": [
    {
     "data": {
      "text/html": [
       "<div>\n",
       "<style scoped>\n",
       "    .dataframe tbody tr th:only-of-type {\n",
       "        vertical-align: middle;\n",
       "    }\n",
       "\n",
       "    .dataframe tbody tr th {\n",
       "        vertical-align: top;\n",
       "    }\n",
       "\n",
       "    .dataframe thead th {\n",
       "        text-align: right;\n",
       "    }\n",
       "</style>\n",
       "<table border=\"1\" class=\"dataframe\">\n",
       "  <thead>\n",
       "    <tr style=\"text-align: right;\">\n",
       "      <th></th>\n",
       "      <th>Airline_Name</th>\n",
       "      <th>Percentage_of_Flights_Delayed_on_Departure</th>\n",
       "    </tr>\n",
       "  </thead>\n",
       "  <tbody>\n",
       "    <tr>\n",
       "      <th>3</th>\n",
       "      <td>Alaska Airlines Inc.</td>\n",
       "      <td>27.903543307086615%</td>\n",
       "    </tr>\n",
       "    <tr>\n",
       "      <th>29</th>\n",
       "      <td>SkyWest Airlines Inc.</td>\n",
       "      <td>28.28985229234606%</td>\n",
       "    </tr>\n",
       "    <tr>\n",
       "      <th>9</th>\n",
       "      <td>Delta Air Lines Inc.</td>\n",
       "      <td>31.49025615447647%</td>\n",
       "    </tr>\n",
       "    <tr>\n",
       "      <th>15</th>\n",
       "      <td>ExpressJet Airlines Inc.</td>\n",
       "      <td>31.82446296218751%</td>\n",
       "    </tr>\n",
       "    <tr>\n",
       "      <th>13</th>\n",
       "      <td>Envoy Air</td>\n",
       "      <td>33.088809115030436%</td>\n",
       "    </tr>\n",
       "    <tr>\n",
       "      <th>33</th>\n",
       "      <td>Spirit Air Lines</td>\n",
       "      <td>34.58428102097549%</td>\n",
       "    </tr>\n",
       "    <tr>\n",
       "      <th>7</th>\n",
       "      <td>American Airlines Inc.</td>\n",
       "      <td>34.700984708990475%</td>\n",
       "    </tr>\n",
       "    <tr>\n",
       "      <th>37</th>\n",
       "      <td>United Air Lines Inc.</td>\n",
       "      <td>38.304676955577726%</td>\n",
       "    </tr>\n",
       "    <tr>\n",
       "      <th>21</th>\n",
       "      <td>JetBlue Airways</td>\n",
       "      <td>40.21098538425271%</td>\n",
       "    </tr>\n",
       "    <tr>\n",
       "      <th>31</th>\n",
       "      <td>Southwest Airlines Co.</td>\n",
       "      <td>47.891654279579726%</td>\n",
       "    </tr>\n",
       "  </tbody>\n",
       "</table>\n",
       "</div>"
      ],
      "text/plain": [
       "                Airline_Name Percentage_of_Flights_Delayed_on_Departure\n",
       "3       Alaska Airlines Inc.                        27.903543307086615%\n",
       "29     SkyWest Airlines Inc.                         28.28985229234606%\n",
       "9       Delta Air Lines Inc.                         31.49025615447647%\n",
       "15  ExpressJet Airlines Inc.                         31.82446296218751%\n",
       "13                 Envoy Air                        33.088809115030436%\n",
       "33          Spirit Air Lines                         34.58428102097549%\n",
       "7     American Airlines Inc.                        34.700984708990475%\n",
       "37     United Air Lines Inc.                        38.304676955577726%\n",
       "21           JetBlue Airways                         40.21098538425271%\n",
       "31    Southwest Airlines Co.                        47.891654279579726%"
      ]
     },
     "execution_count": 72,
     "metadata": {},
     "output_type": "execute_result"
    }
   ],
   "source": [
    "### percentages \n",
    "\n",
    "freq_depDelay = airline_df[['Airline_Name', 'IsDepDelay']]\n",
    "freq_depDelay = freq_depDelay.groupby(by='Airline_Name')\n",
    "freq_depDelay.head()\n",
    "freq_depDelay = freq_depDelay['IsDepDelay'].value_counts(normalize=True).mul(100).astype(str)+'%'\n",
    "freq_depDelay = freq_depDelay.rename('Percentage_of_Flights_Delayed_on_Departure').reset_index()\n",
    "\n",
    "freq_depDelay = freq_depDelay[freq_depDelay['Airline_Name'].str.contains('Southwest|Delta|American|SkyWest|United|Express|Jet|Alaska|Envoy|Spirit', na=False)]\n",
    "\n",
    "freq_depDelay = freq_depDelay.sort_values(by='Percentage_of_Flights_Delayed_on_Departure', )\n",
    "\n",
    "\n",
    "freq_depDelay.drop(['IsDepDelay'], axis = 1).head(10)"
   ]
  },
  {
   "cell_type": "markdown",
   "metadata": {
    "id": "hDOR59aPXrgw"
   },
   "source": [
    "You're most likely to be delayed on take-off if you're riding Southewest, JetBlue, and United (even though Southwest, Delta, and American Airlines have the most delayed departures  by total flights compared to their competitors - which is probably just an indicator that the top 3 are the most popular so they would have more delayed flights compared to a smaller airline who doesn't give many flights overall). "
   ]
  },
  {
   "cell_type": "markdown",
   "metadata": {
    "id": "8GhlWxKl0FI0"
   },
   "source": [
    "#### On arrival"
   ]
  },
  {
   "cell_type": "code",
   "execution_count": null,
   "metadata": {
    "id": "jkJmSwVJ0Y9c",
    "outputId": "c6b266cf-6b05-4ba3-bad3-ec5f2972bb93",
    "scrolled": true
   },
   "outputs": [
    {
     "data": {
      "text/html": [
       "<div>\n",
       "<style scoped>\n",
       "    .dataframe tbody tr th:only-of-type {\n",
       "        vertical-align: middle;\n",
       "    }\n",
       "\n",
       "    .dataframe tbody tr th {\n",
       "        vertical-align: top;\n",
       "    }\n",
       "\n",
       "    .dataframe thead th {\n",
       "        text-align: right;\n",
       "    }\n",
       "</style>\n",
       "<table border=\"1\" class=\"dataframe\">\n",
       "  <thead>\n",
       "    <tr style=\"text-align: right;\">\n",
       "      <th></th>\n",
       "      <th>Airline_Name</th>\n",
       "      <th>Arrival_Delay</th>\n",
       "    </tr>\n",
       "  </thead>\n",
       "  <tbody>\n",
       "    <tr>\n",
       "      <th>0</th>\n",
       "      <td>Southwest Airlines Co.</td>\n",
       "      <td>78711</td>\n",
       "    </tr>\n",
       "    <tr>\n",
       "      <th>1</th>\n",
       "      <td>Delta Air Lines Inc.</td>\n",
       "      <td>56138</td>\n",
       "    </tr>\n",
       "    <tr>\n",
       "      <th>2</th>\n",
       "      <td>American Airlines Inc.</td>\n",
       "      <td>49964</td>\n",
       "    </tr>\n",
       "    <tr>\n",
       "      <th>3</th>\n",
       "      <td>SkyWest Airlines Inc.</td>\n",
       "      <td>41704</td>\n",
       "    </tr>\n",
       "    <tr>\n",
       "      <th>4</th>\n",
       "      <td>United Air Lines Inc.</td>\n",
       "      <td>34082</td>\n",
       "    </tr>\n",
       "    <tr>\n",
       "      <th>5</th>\n",
       "      <td>ExpressJet Airlines Inc.</td>\n",
       "      <td>23881</td>\n",
       "    </tr>\n",
       "    <tr>\n",
       "      <th>6</th>\n",
       "      <td>JetBlue Airways</td>\n",
       "      <td>16968</td>\n",
       "    </tr>\n",
       "    <tr>\n",
       "      <th>7</th>\n",
       "      <td>Envoy Air</td>\n",
       "      <td>12814</td>\n",
       "    </tr>\n",
       "    <tr>\n",
       "      <th>8</th>\n",
       "      <td>Alaska Airlines Inc.</td>\n",
       "      <td>12192</td>\n",
       "    </tr>\n",
       "    <tr>\n",
       "      <th>9</th>\n",
       "      <td>Spirit Air Lines</td>\n",
       "      <td>7914</td>\n",
       "    </tr>\n",
       "  </tbody>\n",
       "</table>\n",
       "</div>"
      ],
      "text/plain": [
       "               Airline_Name  Arrival_Delay\n",
       "0    Southwest Airlines Co.          78711\n",
       "1      Delta Air Lines Inc.          56138\n",
       "2    American Airlines Inc.          49964\n",
       "3     SkyWest Airlines Inc.          41704\n",
       "4     United Air Lines Inc.          34082\n",
       "5  ExpressJet Airlines Inc.          23881\n",
       "6           JetBlue Airways          16968\n",
       "7                 Envoy Air          12814\n",
       "8      Alaska Airlines Inc.          12192\n",
       "9          Spirit Air Lines           7914"
      ]
     },
     "execution_count": 73,
     "metadata": {},
     "output_type": "execute_result"
    }
   ],
   "source": [
    "airport_arrDelay = airline_df[['Airline_Name', 'Arrival_Delay']]\n",
    "airport_arrDelay = airport_arrDelay.groupby(by='Airline_Name').count()\n",
    "airport_arrDelay = airport_arrDelay.sort_values(by=['Arrival_Delay'], ascending=False)\n",
    "a3 = airport_arrDelay.head(10).reset_index()\n",
    "a3"
   ]
  },
  {
   "cell_type": "code",
   "execution_count": null,
   "metadata": {
    "id": "tpBz9jed0dsG",
    "outputId": "88aca6db-a2f4-4643-bdc7-bef37add38c1"
   },
   "outputs": [
    {
     "data": {
      "text/plain": [
       "Text(0, 0.5, 'Number of Arrival Delays')"
      ]
     },
     "execution_count": 74,
     "metadata": {},
     "output_type": "execute_result"
    },
    {
     "data": {
      "image/png": "[encoded data removed]",
      "text/plain": [
       "<Figure size 576x360 with 1 Axes>"
      ]
     },
     "metadata": {},
     "output_type": "display_data"
    }
   ],
   "source": [
    "fig = plt.figure(figsize=(8, 5))\n",
    "ax = plt.axes()\n",
    "sns.barplot(y = a3.Airline_Name, x = a3.Arrival_Delay, data = a3, orient = 'h', ax = ax) \\\n",
    ".set(title = 'Airlines with highest number of Arrival Delays')\n",
    "plt.xlabel('Airlines')\n",
    "plt.ylabel('Number of Arrival Delays')"
   ]
  },
  {
   "cell_type": "code",
   "execution_count": null,
   "metadata": {
    "id": "RRAf_MCTOEzJ",
    "outputId": "e469c3be-9799-4504-c40c-b27c6ffdce8b"
   },
   "outputs": [
    {
     "data": {
      "text/html": [
       "<div>\n",
       "<style scoped>\n",
       "    .dataframe tbody tr th:only-of-type {\n",
       "        vertical-align: middle;\n",
       "    }\n",
       "\n",
       "    .dataframe tbody tr th {\n",
       "        vertical-align: top;\n",
       "    }\n",
       "\n",
       "    .dataframe thead th {\n",
       "        text-align: right;\n",
       "    }\n",
       "</style>\n",
       "<table border=\"1\" class=\"dataframe\">\n",
       "  <thead>\n",
       "    <tr style=\"text-align: right;\">\n",
       "      <th></th>\n",
       "      <th>Airline_Name</th>\n",
       "      <th>Percentage_of_Flights_Delayed_on_Arrival</th>\n",
       "    </tr>\n",
       "  </thead>\n",
       "  <tbody>\n",
       "    <tr>\n",
       "      <th>9</th>\n",
       "      <td>Delta Air Lines Inc.</td>\n",
       "      <td>28.811143966653603%</td>\n",
       "    </tr>\n",
       "    <tr>\n",
       "      <th>37</th>\n",
       "      <td>United Air Lines Inc.</td>\n",
       "      <td>34.31723490405493%</td>\n",
       "    </tr>\n",
       "    <tr>\n",
       "      <th>3</th>\n",
       "      <td>Alaska Airlines Inc.</td>\n",
       "      <td>35.25262467191601%</td>\n",
       "    </tr>\n",
       "    <tr>\n",
       "      <th>29</th>\n",
       "      <td>SkyWest Airlines Inc.</td>\n",
       "      <td>36.04210627277959%</td>\n",
       "    </tr>\n",
       "    <tr>\n",
       "      <th>33</th>\n",
       "      <td>Spirit Air Lines</td>\n",
       "      <td>36.46702047005307%</td>\n",
       "    </tr>\n",
       "    <tr>\n",
       "      <th>7</th>\n",
       "      <td>American Airlines Inc.</td>\n",
       "      <td>37.55103674645745%</td>\n",
       "    </tr>\n",
       "    <tr>\n",
       "      <th>15</th>\n",
       "      <td>ExpressJet Airlines Inc.</td>\n",
       "      <td>37.97998408776852%</td>\n",
       "    </tr>\n",
       "    <tr>\n",
       "      <th>31</th>\n",
       "      <td>Southwest Airlines Co.</td>\n",
       "      <td>39.43540292970487%</td>\n",
       "    </tr>\n",
       "    <tr>\n",
       "      <th>21</th>\n",
       "      <td>JetBlue Airways</td>\n",
       "      <td>39.816124469589816%</td>\n",
       "    </tr>\n",
       "    <tr>\n",
       "      <th>13</th>\n",
       "      <td>Envoy Air</td>\n",
       "      <td>40.643046667707196%</td>\n",
       "    </tr>\n",
       "  </tbody>\n",
       "</table>\n",
       "</div>"
      ],
      "text/plain": [
       "                Airline_Name Percentage_of_Flights_Delayed_on_Arrival\n",
       "9       Delta Air Lines Inc.                      28.811143966653603%\n",
       "37     United Air Lines Inc.                       34.31723490405493%\n",
       "3       Alaska Airlines Inc.                       35.25262467191601%\n",
       "29     SkyWest Airlines Inc.                       36.04210627277959%\n",
       "33          Spirit Air Lines                       36.46702047005307%\n",
       "7     American Airlines Inc.                       37.55103674645745%\n",
       "15  ExpressJet Airlines Inc.                       37.97998408776852%\n",
       "31    Southwest Airlines Co.                       39.43540292970487%\n",
       "21           JetBlue Airways                      39.816124469589816%\n",
       "13                 Envoy Air                      40.643046667707196%"
      ]
     },
     "execution_count": 75,
     "metadata": {},
     "output_type": "execute_result"
    }
   ],
   "source": [
    "### percentages arrival delay\n",
    "\n",
    "freq_arrDelay = airline_df[['Airline_Name', 'IsArrDelay']]\n",
    "freq_arrDelay = freq_arrDelay.groupby(by='Airline_Name')\n",
    "freq_arrDelay.head()\n",
    "freq_arrDelay = freq_arrDelay['IsArrDelay'].value_counts(normalize=True).mul(100).astype(str)+'%'\n",
    "freq_arrDelay = freq_arrDelay.rename('Percentage_of_Flights_Delayed_on_Arrival').reset_index()\n",
    "\n",
    "freq_arrDelay\n",
    "\n",
    "freq_arrDelay = freq_arrDelay[freq_arrDelay['Airline_Name'].str.contains('Southwest|Delta|American|SkyWest|United|Express|Jet|Alaska|Envoy|Spirit', na=False)]\n",
    "freq_arrDelay = freq_arrDelay.sort_values(by='Percentage_of_Flights_Delayed_on_Arrival')\n",
    "freq_arrDelay.drop(['IsArrDelay'], axis = 1).head(10)\n"
   ]
  },
  {
   "cell_type": "markdown",
   "metadata": {
    "id": "uMq2bMjTQM7w"
   },
   "source": [
    "We can see that Envoy Air, Jet Blue Airways, and Southwest Airlines are the biggest offenders of having delayed flights when you're flight is going to arrive. Even though Delta is ranked #2 and United #3 for having the most delayed flights by raw count, they are actaully the airlines with most infrequent delayed flights on arrival (which is good for whoever is picking you up from the airport!)  "
   ]
  },
  {
   "cell_type": "markdown",
   "metadata": {
    "id": "EgFlgGs202Cu"
   },
   "source": [
    "### 5.8 Airlines with high mean delay in minutes? \n",
    "#### On departure"
   ]
  },
  {
   "cell_type": "code",
   "execution_count": null,
   "metadata": {
    "id": "V0kAxgR51SUq",
    "outputId": "965970d0-8fcb-4881-9a45-c72b2aae90d9",
    "scrolled": true
   },
   "outputs": [
    {
     "data": {
      "text/html": [
       "<div>\n",
       "<style scoped>\n",
       "    .dataframe tbody tr th:only-of-type {\n",
       "        vertical-align: middle;\n",
       "    }\n",
       "\n",
       "    .dataframe tbody tr th {\n",
       "        vertical-align: top;\n",
       "    }\n",
       "\n",
       "    .dataframe thead th {\n",
       "        text-align: right;\n",
       "    }\n",
       "</style>\n",
       "<table border=\"1\" class=\"dataframe\">\n",
       "  <thead>\n",
       "    <tr style=\"text-align: right;\">\n",
       "      <th></th>\n",
       "      <th>Airline_Name</th>\n",
       "      <th>Mean delay (minutes)</th>\n",
       "    </tr>\n",
       "  </thead>\n",
       "  <tbody>\n",
       "    <tr>\n",
       "      <th>10</th>\n",
       "      <td>JetBlue Airways</td>\n",
       "      <td>18.448668</td>\n",
       "    </tr>\n",
       "    <tr>\n",
       "      <th>8</th>\n",
       "      <td>Frontier Airlines Inc.</td>\n",
       "      <td>17.633449</td>\n",
       "    </tr>\n",
       "    <tr>\n",
       "      <th>2</th>\n",
       "      <td>Allegiant Air</td>\n",
       "      <td>16.872012</td>\n",
       "    </tr>\n",
       "    <tr>\n",
       "      <th>11</th>\n",
       "      <td>Mesa Airlines Inc.</td>\n",
       "      <td>16.870638</td>\n",
       "    </tr>\n",
       "    <tr>\n",
       "      <th>12</th>\n",
       "      <td>PSA Airlines Inc.</td>\n",
       "      <td>16.076978</td>\n",
       "    </tr>\n",
       "  </tbody>\n",
       "</table>\n",
       "</div>"
      ],
      "text/plain": [
       "              Airline_Name  Mean delay (minutes)\n",
       "10         JetBlue Airways             18.448668\n",
       "8   Frontier Airlines Inc.             17.633449\n",
       "2            Allegiant Air             16.872012\n",
       "11      Mesa Airlines Inc.             16.870638\n",
       "12       PSA Airlines Inc.             16.076978"
      ]
     },
     "execution_count": 76,
     "metadata": {},
     "output_type": "execute_result"
    }
   ],
   "source": [
    "airline_df.groupby('Airline_Name')['DepDelayMinutes'] \\\n",
    "    .mean() \\\n",
    "    .reset_index(name = 'Mean delay (minutes)') \\\n",
    "    .sort_values('Mean delay (minutes)', ascending = False).head()"
   ]
  },
  {
   "cell_type": "markdown",
   "metadata": {
    "id": "4ABClgkn0glq"
   },
   "source": [
    "#### On arrival"
   ]
  },
  {
   "cell_type": "code",
   "execution_count": null,
   "metadata": {
    "id": "0GReC5u70qSL",
    "outputId": "ca0c3958-a3e5-41d2-f128-29962557ac46",
    "scrolled": true
   },
   "outputs": [
    {
     "data": {
      "text/html": [
       "<div>\n",
       "<style scoped>\n",
       "    .dataframe tbody tr th:only-of-type {\n",
       "        vertical-align: middle;\n",
       "    }\n",
       "\n",
       "    .dataframe tbody tr th {\n",
       "        vertical-align: top;\n",
       "    }\n",
       "\n",
       "    .dataframe thead th {\n",
       "        text-align: right;\n",
       "    }\n",
       "</style>\n",
       "<table border=\"1\" class=\"dataframe\">\n",
       "  <thead>\n",
       "    <tr style=\"text-align: right;\">\n",
       "      <th></th>\n",
       "      <th>Airline_Name</th>\n",
       "      <th>Mean delay (minutes)</th>\n",
       "    </tr>\n",
       "  </thead>\n",
       "  <tbody>\n",
       "    <tr>\n",
       "      <th>10</th>\n",
       "      <td>JetBlue Airways</td>\n",
       "      <td>18.433522</td>\n",
       "    </tr>\n",
       "    <tr>\n",
       "      <th>8</th>\n",
       "      <td>Frontier Airlines Inc.</td>\n",
       "      <td>18.009002</td>\n",
       "    </tr>\n",
       "    <tr>\n",
       "      <th>2</th>\n",
       "      <td>Allegiant Air</td>\n",
       "      <td>17.751494</td>\n",
       "    </tr>\n",
       "    <tr>\n",
       "      <th>11</th>\n",
       "      <td>Mesa Airlines Inc.</td>\n",
       "      <td>17.651700</td>\n",
       "    </tr>\n",
       "    <tr>\n",
       "      <th>7</th>\n",
       "      <td>ExpressJet Airlines Inc.</td>\n",
       "      <td>16.393535</td>\n",
       "    </tr>\n",
       "  </tbody>\n",
       "</table>\n",
       "</div>"
      ],
      "text/plain": [
       "                Airline_Name  Mean delay (minutes)\n",
       "10           JetBlue Airways             18.433522\n",
       "8     Frontier Airlines Inc.             18.009002\n",
       "2              Allegiant Air             17.751494\n",
       "11        Mesa Airlines Inc.             17.651700\n",
       "7   ExpressJet Airlines Inc.             16.393535"
      ]
     },
     "execution_count": 77,
     "metadata": {},
     "output_type": "execute_result"
    }
   ],
   "source": [
    "airline_df.groupby('Airline_Name')['ArrDelayMinutes'] \\\n",
    "    .mean() \\\n",
    "    .reset_index(name = 'Mean delay (minutes)') \\\n",
    "    .sort_values('Mean delay (minutes)', ascending = False).head()"
   ]
  },
  {
   "cell_type": "markdown",
   "metadata": {
    "id": "f9rXVJIr16dR"
   },
   "source": [
    "### 5.9 Origin with highest freq delay? \n",
    "#### On departure"
   ]
  },
  {
   "cell_type": "code",
   "execution_count": null,
   "metadata": {
    "id": "u7Q5tWtj3eZE",
    "outputId": "f4811f00-6f3e-4d86-ddc5-f5db0f10c9d9"
   },
   "outputs": [
    {
     "data": {
      "text/html": [
       "<div>\n",
       "<style scoped>\n",
       "    .dataframe tbody tr th:only-of-type {\n",
       "        vertical-align: middle;\n",
       "    }\n",
       "\n",
       "    .dataframe tbody tr th {\n",
       "        vertical-align: top;\n",
       "    }\n",
       "\n",
       "    .dataframe thead th {\n",
       "        text-align: right;\n",
       "    }\n",
       "</style>\n",
       "<table border=\"1\" class=\"dataframe\">\n",
       "  <thead>\n",
       "    <tr style=\"text-align: right;\">\n",
       "      <th></th>\n",
       "      <th>OriginAirport</th>\n",
       "      <th>Departure_Delay</th>\n",
       "    </tr>\n",
       "  </thead>\n",
       "  <tbody>\n",
       "    <tr>\n",
       "      <th>0</th>\n",
       "      <td>ATL</td>\n",
       "      <td>23253</td>\n",
       "    </tr>\n",
       "    <tr>\n",
       "      <th>1</th>\n",
       "      <td>ORD</td>\n",
       "      <td>17590</td>\n",
       "    </tr>\n",
       "    <tr>\n",
       "      <th>2</th>\n",
       "      <td>DFW</td>\n",
       "      <td>15035</td>\n",
       "    </tr>\n",
       "    <tr>\n",
       "      <th>3</th>\n",
       "      <td>DEN</td>\n",
       "      <td>13875</td>\n",
       "    </tr>\n",
       "    <tr>\n",
       "      <th>4</th>\n",
       "      <td>LAX</td>\n",
       "      <td>13095</td>\n",
       "    </tr>\n",
       "    <tr>\n",
       "      <th>5</th>\n",
       "      <td>SFO</td>\n",
       "      <td>10306</td>\n",
       "    </tr>\n",
       "    <tr>\n",
       "      <th>6</th>\n",
       "      <td>PHX</td>\n",
       "      <td>10038</td>\n",
       "    </tr>\n",
       "    <tr>\n",
       "      <th>7</th>\n",
       "      <td>IAH</td>\n",
       "      <td>9669</td>\n",
       "    </tr>\n",
       "    <tr>\n",
       "      <th>8</th>\n",
       "      <td>CLT</td>\n",
       "      <td>9392</td>\n",
       "    </tr>\n",
       "    <tr>\n",
       "      <th>9</th>\n",
       "      <td>LAS</td>\n",
       "      <td>9330</td>\n",
       "    </tr>\n",
       "  </tbody>\n",
       "</table>\n",
       "</div>"
      ],
      "text/plain": [
       "  OriginAirport  Departure_Delay\n",
       "0           ATL            23253\n",
       "1           ORD            17590\n",
       "2           DFW            15035\n",
       "3           DEN            13875\n",
       "4           LAX            13095\n",
       "5           SFO            10306\n",
       "6           PHX            10038\n",
       "7           IAH             9669\n",
       "8           CLT             9392\n",
       "9           LAS             9330"
      ]
     },
     "execution_count": 78,
     "metadata": {},
     "output_type": "execute_result"
    }
   ],
   "source": [
    "or_DepDelay = airline_df[['OriginAirport', 'Departure_Delay']]\n",
    "or_DepDelay = or_DepDelay.groupby(by='OriginAirport').count()\n",
    "or_DepDelay = or_DepDelay.sort_values(by=['Departure_Delay'], ascending=False)\n",
    "o2 = or_DepDelay.head(10).reset_index()\n",
    "o2"
   ]
  },
  {
   "cell_type": "code",
   "execution_count": null,
   "metadata": {
    "id": "irFDj3tioAlU",
    "outputId": "a23b57fc-7787-4444-f4a7-b434cfdf0c2a"
   },
   "outputs": [
    {
     "data": {
      "text/html": [
       "<div>\n",
       "<style scoped>\n",
       "    .dataframe tbody tr th:only-of-type {\n",
       "        vertical-align: middle;\n",
       "    }\n",
       "\n",
       "    .dataframe tbody tr th {\n",
       "        vertical-align: top;\n",
       "    }\n",
       "\n",
       "    .dataframe thead th {\n",
       "        text-align: right;\n",
       "    }\n",
       "</style>\n",
       "<table border=\"1\" class=\"dataframe\">\n",
       "  <thead>\n",
       "    <tr style=\"text-align: right;\">\n",
       "      <th></th>\n",
       "      <th>OriginAirport</th>\n",
       "      <th>IsDepDelay</th>\n",
       "      <th>Percentage_of_Flights_Delayed_on_Departure</th>\n",
       "    </tr>\n",
       "  </thead>\n",
       "  <tbody>\n",
       "    <tr>\n",
       "      <th>336</th>\n",
       "      <td>IAH</td>\n",
       "      <td>True</td>\n",
       "      <td>34.90536766987279%</td>\n",
       "    </tr>\n",
       "    <tr>\n",
       "      <th>41</th>\n",
       "      <td>ATL</td>\n",
       "      <td>True</td>\n",
       "      <td>36.464112157571066%</td>\n",
       "    </tr>\n",
       "    <tr>\n",
       "      <th>149</th>\n",
       "      <td>CLT</td>\n",
       "      <td>True</td>\n",
       "      <td>36.60562180579217%</td>\n",
       "    </tr>\n",
       "    <tr>\n",
       "      <th>538</th>\n",
       "      <td>PHX</td>\n",
       "      <td>True</td>\n",
       "      <td>38.27455668459853%</td>\n",
       "    </tr>\n",
       "    <tr>\n",
       "      <th>191</th>\n",
       "      <td>DFW</td>\n",
       "      <td>True</td>\n",
       "      <td>38.41037578982374%</td>\n",
       "    </tr>\n",
       "    <tr>\n",
       "      <th>631</th>\n",
       "      <td>SFO</td>\n",
       "      <td>True</td>\n",
       "      <td>38.97729477973996%</td>\n",
       "    </tr>\n",
       "    <tr>\n",
       "      <th>508</th>\n",
       "      <td>ORD</td>\n",
       "      <td>True</td>\n",
       "      <td>39.45423536100057%</td>\n",
       "    </tr>\n",
       "    <tr>\n",
       "      <th>388</th>\n",
       "      <td>LAX</td>\n",
       "      <td>True</td>\n",
       "      <td>40.931653302787325%</td>\n",
       "    </tr>\n",
       "    <tr>\n",
       "      <th>384</th>\n",
       "      <td>LAS</td>\n",
       "      <td>True</td>\n",
       "      <td>43.89067524115756%</td>\n",
       "    </tr>\n",
       "  </tbody>\n",
       "</table>\n",
       "</div>"
      ],
      "text/plain": [
       "    OriginAirport  IsDepDelay Percentage_of_Flights_Delayed_on_Departure\n",
       "336           IAH        True                         34.90536766987279%\n",
       "41            ATL        True                        36.464112157571066%\n",
       "149           CLT        True                         36.60562180579217%\n",
       "538           PHX        True                         38.27455668459853%\n",
       "191           DFW        True                         38.41037578982374%\n",
       "631           SFO        True                         38.97729477973996%\n",
       "508           ORD        True                         39.45423536100057%\n",
       "388           LAX        True                        40.931653302787325%\n",
       "384           LAS        True                         43.89067524115756%"
      ]
     },
     "execution_count": 79,
     "metadata": {},
     "output_type": "execute_result"
    }
   ],
   "source": [
    "### percentages origin departure\n",
    "o1_freq_dep = airline_df[['OriginAirport', 'IsDepDelay']]\n",
    "o1_freq_dep = o1_freq_dep.groupby(by='OriginAirport')\n",
    "o1_freq_dep.head()\n",
    "o1_freq_dep = o1_freq_dep['IsDepDelay'].value_counts(normalize=True).mul(100).astype(str)+'%'\n",
    "o1_freq_dep = o1_freq_dep.rename('Percentage_of_Flights_Delayed_on_Departure').reset_index()\n",
    "o1_freq_dep\n",
    "\n",
    "o1_freq_dep = o1_freq_dep[o1_freq_dep['OriginAirport'].str.contains('LAX|ATL|ORD|DFW|DEEN|PHX|SFO|IAH|CLT|LAS', na=False)]\n",
    "o1_freq_dep = o1_freq_dep.sort_values(by='Percentage_of_Flights_Delayed_on_Departure')\n",
    "o1_freq_dep.head(9)"
   ]
  },
  {
   "cell_type": "markdown",
   "metadata": {
    "id": "lUT8jEH3goO4"
   },
   "source": [
    "The origin that has the highest delayed departure is Las Vegas with 43.9%, then Los Angeles, CA with 40.9&, and Chicago, IL (O'Hare) at 39.5% \n",
    "\n",
    "\n",
    "-> aka if you fly out from L.A. you will have a 41% chance of delayed departure.\n"
   ]
  },
  {
   "cell_type": "markdown",
   "metadata": {
    "id": "FKGqUCIm36PS"
   },
   "source": [
    "#### On arrival"
   ]
  },
  {
   "cell_type": "code",
   "execution_count": null,
   "metadata": {
    "id": "-yGiY5Pa3g28",
    "outputId": "8f7a07ce-4a67-4a66-dc58-cc8e2664b532"
   },
   "outputs": [
    {
     "data": {
      "text/html": [
       "<div>\n",
       "<style scoped>\n",
       "    .dataframe tbody tr th:only-of-type {\n",
       "        vertical-align: middle;\n",
       "    }\n",
       "\n",
       "    .dataframe tbody tr th {\n",
       "        vertical-align: top;\n",
       "    }\n",
       "\n",
       "    .dataframe thead th {\n",
       "        text-align: right;\n",
       "    }\n",
       "</style>\n",
       "<table border=\"1\" class=\"dataframe\">\n",
       "  <thead>\n",
       "    <tr style=\"text-align: right;\">\n",
       "      <th></th>\n",
       "      <th>OriginAirport</th>\n",
       "      <th>Arrival_Delay</th>\n",
       "    </tr>\n",
       "  </thead>\n",
       "  <tbody>\n",
       "    <tr>\n",
       "      <th>0</th>\n",
       "      <td>ATL</td>\n",
       "      <td>23253</td>\n",
       "    </tr>\n",
       "    <tr>\n",
       "      <th>1</th>\n",
       "      <td>ORD</td>\n",
       "      <td>17590</td>\n",
       "    </tr>\n",
       "    <tr>\n",
       "      <th>2</th>\n",
       "      <td>DFW</td>\n",
       "      <td>15035</td>\n",
       "    </tr>\n",
       "    <tr>\n",
       "      <th>3</th>\n",
       "      <td>DEN</td>\n",
       "      <td>13875</td>\n",
       "    </tr>\n",
       "    <tr>\n",
       "      <th>4</th>\n",
       "      <td>LAX</td>\n",
       "      <td>13095</td>\n",
       "    </tr>\n",
       "    <tr>\n",
       "      <th>5</th>\n",
       "      <td>SFO</td>\n",
       "      <td>10306</td>\n",
       "    </tr>\n",
       "    <tr>\n",
       "      <th>6</th>\n",
       "      <td>PHX</td>\n",
       "      <td>10038</td>\n",
       "    </tr>\n",
       "    <tr>\n",
       "      <th>7</th>\n",
       "      <td>IAH</td>\n",
       "      <td>9669</td>\n",
       "    </tr>\n",
       "    <tr>\n",
       "      <th>8</th>\n",
       "      <td>CLT</td>\n",
       "      <td>9392</td>\n",
       "    </tr>\n",
       "    <tr>\n",
       "      <th>9</th>\n",
       "      <td>LAS</td>\n",
       "      <td>9330</td>\n",
       "    </tr>\n",
       "  </tbody>\n",
       "</table>\n",
       "</div>"
      ],
      "text/plain": [
       "  OriginAirport  Arrival_Delay\n",
       "0           ATL          23253\n",
       "1           ORD          17590\n",
       "2           DFW          15035\n",
       "3           DEN          13875\n",
       "4           LAX          13095\n",
       "5           SFO          10306\n",
       "6           PHX          10038\n",
       "7           IAH           9669\n",
       "8           CLT           9392\n",
       "9           LAS           9330"
      ]
     },
     "execution_count": 80,
     "metadata": {},
     "output_type": "execute_result"
    }
   ],
   "source": [
    "or_ArrDelay = airline_df[['OriginAirport', 'Arrival_Delay']]\n",
    "or_ArrDelay = or_ArrDelay.groupby(by='OriginAirport').count()\n",
    "or_ArrDelay = or_ArrDelay.sort_values(by=['Arrival_Delay'], ascending=False)\n",
    "o3 = or_ArrDelay.head(10).reset_index()\n",
    "o3"
   ]
  },
  {
   "cell_type": "code",
   "execution_count": null,
   "metadata": {
    "id": "VjTrHm_DoAlU",
    "outputId": "a9bd15ac-27f6-41d4-e6e9-305414bf3be6"
   },
   "outputs": [
    {
     "data": {
      "text/html": [
       "<div>\n",
       "<style scoped>\n",
       "    .dataframe tbody tr th:only-of-type {\n",
       "        vertical-align: middle;\n",
       "    }\n",
       "\n",
       "    .dataframe tbody tr th {\n",
       "        vertical-align: top;\n",
       "    }\n",
       "\n",
       "    .dataframe thead th {\n",
       "        text-align: right;\n",
       "    }\n",
       "</style>\n",
       "<table border=\"1\" class=\"dataframe\">\n",
       "  <thead>\n",
       "    <tr style=\"text-align: right;\">\n",
       "      <th></th>\n",
       "      <th>OriginAirport</th>\n",
       "      <th>Percentage_of_Flights_Delayed_on_Arrival</th>\n",
       "    </tr>\n",
       "  </thead>\n",
       "  <tbody>\n",
       "    <tr>\n",
       "      <th>41</th>\n",
       "      <td>ATL</td>\n",
       "      <td>32.54203758654797%</td>\n",
       "    </tr>\n",
       "    <tr>\n",
       "      <th>336</th>\n",
       "      <td>IAH</td>\n",
       "      <td>36.094735753438826%</td>\n",
       "    </tr>\n",
       "    <tr>\n",
       "      <th>538</th>\n",
       "      <td>PHX</td>\n",
       "      <td>37.87607093046424%</td>\n",
       "    </tr>\n",
       "    <tr>\n",
       "      <th>384</th>\n",
       "      <td>LAS</td>\n",
       "      <td>38.41371918542337%</td>\n",
       "    </tr>\n",
       "    <tr>\n",
       "      <th>388</th>\n",
       "      <td>LAX</td>\n",
       "      <td>38.5643375334097%</td>\n",
       "    </tr>\n",
       "    <tr>\n",
       "      <th>632</th>\n",
       "      <td>SFO</td>\n",
       "      <td>40.12225887832331%</td>\n",
       "    </tr>\n",
       "    <tr>\n",
       "      <th>151</th>\n",
       "      <td>CLT</td>\n",
       "      <td>40.353492333901194%</td>\n",
       "    </tr>\n",
       "    <tr>\n",
       "      <th>191</th>\n",
       "      <td>DEN</td>\n",
       "      <td>40.37477477477477%</td>\n",
       "    </tr>\n",
       "    <tr>\n",
       "      <th>193</th>\n",
       "      <td>DFW</td>\n",
       "      <td>41.76920518789491%</td>\n",
       "    </tr>\n",
       "    <tr>\n",
       "      <th>508</th>\n",
       "      <td>ORD</td>\n",
       "      <td>41.84195565662308%</td>\n",
       "    </tr>\n",
       "  </tbody>\n",
       "</table>\n",
       "</div>"
      ],
      "text/plain": [
       "    OriginAirport Percentage_of_Flights_Delayed_on_Arrival\n",
       "41            ATL                       32.54203758654797%\n",
       "336           IAH                      36.094735753438826%\n",
       "538           PHX                       37.87607093046424%\n",
       "384           LAS                       38.41371918542337%\n",
       "388           LAX                        38.5643375334097%\n",
       "632           SFO                       40.12225887832331%\n",
       "151           CLT                      40.353492333901194%\n",
       "191           DEN                       40.37477477477477%\n",
       "193           DFW                       41.76920518789491%\n",
       "508           ORD                       41.84195565662308%"
      ]
     },
     "execution_count": 81,
     "metadata": {},
     "output_type": "execute_result"
    }
   ],
   "source": [
    "### percentages - origin arrival delay\n",
    "\n",
    "a1_freq_arr = airline_df[['OriginAirport', 'IsArrDelay']]\n",
    "a1_freq_arr = a1_freq_arr.groupby(by='OriginAirport')\n",
    "a1_freq_arr.head()\n",
    "a1_freq_arr = a1_freq_arr['IsArrDelay'].value_counts(normalize=True).mul(100).astype(str)+'%'\n",
    "a1_freq_arr = a1_freq_arr.rename('Percentage_of_Flights_Delayed_on_Arrival').reset_index()\n",
    "a1_freq_arr\n",
    "\n",
    "\n",
    "a1_freq_arr = a1_freq_arr[a1_freq_arr['OriginAirport'].str.contains('LAX|ATL|ORD|DFW|DEN|PHX|SFO|IAH|CLT|LAS', na=False)]\n",
    "a1_freq_arr = a1_freq_arr.sort_values(by='Percentage_of_Flights_Delayed_on_Arrival')\n",
    "\n",
    "a1_freq_arr.drop(['IsArrDelay'], axis = 1).head(10)"
   ]
  },
  {
   "cell_type": "markdown",
   "metadata": {
    "id": "1yA1iq7LcwsA"
   },
   "source": [
    "Chicago, IL has the highest arrival delay rate of 41.7%, followed by Dallas-Fort Worth, Texas (41.7%) and Charlotte, North Carolina (40.3%). (Wherever you're going, you're most likely going to be late if you start out at one of these cities - wind patterns, weather, ATC, human errors, or delayed departure in a layover - so many things to consider!) "
   ]
  },
  {
   "cell_type": "markdown",
   "metadata": {
    "id": "U6m033J02AXW"
   },
   "source": [
    "### 5.10 Destinations with highest freq delay? \n",
    "#### On departure"
   ]
  },
  {
   "cell_type": "code",
   "execution_count": null,
   "metadata": {
    "id": "aV2O4s5o4sIc",
    "outputId": "1c64e4ac-bd71-445e-bff4-2ec03e4bdfc3"
   },
   "outputs": [
    {
     "data": {
      "text/html": [
       "<div>\n",
       "<style scoped>\n",
       "    .dataframe tbody tr th:only-of-type {\n",
       "        vertical-align: middle;\n",
       "    }\n",
       "\n",
       "    .dataframe tbody tr th {\n",
       "        vertical-align: top;\n",
       "    }\n",
       "\n",
       "    .dataframe thead th {\n",
       "        text-align: right;\n",
       "    }\n",
       "</style>\n",
       "<table border=\"1\" class=\"dataframe\">\n",
       "  <thead>\n",
       "    <tr style=\"text-align: right;\">\n",
       "      <th></th>\n",
       "      <th>DestAirport</th>\n",
       "      <th>Departure_Delay</th>\n",
       "    </tr>\n",
       "  </thead>\n",
       "  <tbody>\n",
       "    <tr>\n",
       "      <th>0</th>\n",
       "      <td>ATL</td>\n",
       "      <td>23163</td>\n",
       "    </tr>\n",
       "    <tr>\n",
       "      <th>1</th>\n",
       "      <td>ORD</td>\n",
       "      <td>17941</td>\n",
       "    </tr>\n",
       "    <tr>\n",
       "      <th>2</th>\n",
       "      <td>DFW</td>\n",
       "      <td>15117</td>\n",
       "    </tr>\n",
       "    <tr>\n",
       "      <th>3</th>\n",
       "      <td>DEN</td>\n",
       "      <td>13836</td>\n",
       "    </tr>\n",
       "    <tr>\n",
       "      <th>4</th>\n",
       "      <td>LAX</td>\n",
       "      <td>13358</td>\n",
       "    </tr>\n",
       "    <tr>\n",
       "      <th>5</th>\n",
       "      <td>SFO</td>\n",
       "      <td>10516</td>\n",
       "    </tr>\n",
       "    <tr>\n",
       "      <th>6</th>\n",
       "      <td>PHX</td>\n",
       "      <td>10115</td>\n",
       "    </tr>\n",
       "    <tr>\n",
       "      <th>7</th>\n",
       "      <td>IAH</td>\n",
       "      <td>9589</td>\n",
       "    </tr>\n",
       "    <tr>\n",
       "      <th>8</th>\n",
       "      <td>LAS</td>\n",
       "      <td>9433</td>\n",
       "    </tr>\n",
       "    <tr>\n",
       "      <th>9</th>\n",
       "      <td>CLT</td>\n",
       "      <td>9279</td>\n",
       "    </tr>\n",
       "  </tbody>\n",
       "</table>\n",
       "</div>"
      ],
      "text/plain": [
       "  DestAirport  Departure_Delay\n",
       "0         ATL            23163\n",
       "1         ORD            17941\n",
       "2         DFW            15117\n",
       "3         DEN            13836\n",
       "4         LAX            13358\n",
       "5         SFO            10516\n",
       "6         PHX            10115\n",
       "7         IAH             9589\n",
       "8         LAS             9433\n",
       "9         CLT             9279"
      ]
     },
     "execution_count": 82,
     "metadata": {},
     "output_type": "execute_result"
    }
   ],
   "source": [
    "dest_DepDelay = airline_df[['DestAirport', 'Departure_Delay']]\n",
    "dest_DepDelay = dest_DepDelay.groupby(by='DestAirport').count()\n",
    "dest_DepDelay = dest_DepDelay.sort_values(by=['Departure_Delay'], ascending=False)\n",
    "d2 = dest_DepDelay.head(10).reset_index()\n",
    "d2"
   ]
  },
  {
   "cell_type": "code",
   "execution_count": null,
   "metadata": {
    "id": "H12LAsYRoAlW",
    "outputId": "acba8fa6-3da7-4961-e6de-65e170f13d0d"
   },
   "outputs": [
    {
     "data": {
      "text/html": [
       "<div>\n",
       "<style scoped>\n",
       "    .dataframe tbody tr th:only-of-type {\n",
       "        vertical-align: middle;\n",
       "    }\n",
       "\n",
       "    .dataframe tbody tr th {\n",
       "        vertical-align: top;\n",
       "    }\n",
       "\n",
       "    .dataframe thead th {\n",
       "        text-align: right;\n",
       "    }\n",
       "</style>\n",
       "<table border=\"1\" class=\"dataframe\">\n",
       "  <thead>\n",
       "    <tr style=\"text-align: right;\">\n",
       "      <th></th>\n",
       "      <th>DestAirport</th>\n",
       "      <th>Percentage_of_Flights_Delayed_on_Departure</th>\n",
       "    </tr>\n",
       "  </thead>\n",
       "  <tbody>\n",
       "    <tr>\n",
       "      <th>333</th>\n",
       "      <td>IAH</td>\n",
       "      <td>29.596412556053814%</td>\n",
       "    </tr>\n",
       "    <tr>\n",
       "      <th>151</th>\n",
       "      <td>CLT</td>\n",
       "      <td>30.348097855372348%</td>\n",
       "    </tr>\n",
       "    <tr>\n",
       "      <th>42</th>\n",
       "      <td>ATL</td>\n",
       "      <td>31.56326900660536%</td>\n",
       "    </tr>\n",
       "    <tr>\n",
       "      <th>193</th>\n",
       "      <td>DFW</td>\n",
       "      <td>32.87689356353774%</td>\n",
       "    </tr>\n",
       "    <tr>\n",
       "      <th>505</th>\n",
       "      <td>ORD</td>\n",
       "      <td>33.55442840421381%</td>\n",
       "    </tr>\n",
       "    <tr>\n",
       "      <th>191</th>\n",
       "      <td>DEN</td>\n",
       "      <td>35.682278115062154%</td>\n",
       "    </tr>\n",
       "    <tr>\n",
       "      <th>534</th>\n",
       "      <td>PHX</td>\n",
       "      <td>37.666831438457734%</td>\n",
       "    </tr>\n",
       "    <tr>\n",
       "      <th>384</th>\n",
       "      <td>LAX</td>\n",
       "      <td>38.7782602185956%</td>\n",
       "    </tr>\n",
       "    <tr>\n",
       "      <th>380</th>\n",
       "      <td>LAS</td>\n",
       "      <td>40.25230573518499%</td>\n",
       "    </tr>\n",
       "    <tr>\n",
       "      <th>627</th>\n",
       "      <td>SFO</td>\n",
       "      <td>42.32597945987067%</td>\n",
       "    </tr>\n",
       "  </tbody>\n",
       "</table>\n",
       "</div>"
      ],
      "text/plain": [
       "    DestAirport Percentage_of_Flights_Delayed_on_Departure\n",
       "333         IAH                        29.596412556053814%\n",
       "151         CLT                        30.348097855372348%\n",
       "42          ATL                         31.56326900660536%\n",
       "193         DFW                         32.87689356353774%\n",
       "505         ORD                         33.55442840421381%\n",
       "191         DEN                        35.682278115062154%\n",
       "534         PHX                        37.666831438457734%\n",
       "384         LAX                          38.7782602185956%\n",
       "380         LAS                         40.25230573518499%\n",
       "627         SFO                         42.32597945987067%"
      ]
     },
     "execution_count": 83,
     "metadata": {},
     "output_type": "execute_result"
    }
   ],
   "source": [
    "### percentages - destination departure delay\n",
    "dest2_freq_dep = airline_df[['DestAirport', 'IsDepDelay']]\n",
    "dest2_freq_dep = dest2_freq_dep.groupby(by='DestAirport')\n",
    "dest2_freq_dep.head()\n",
    "dest2_freq_dep = dest2_freq_dep['IsDepDelay'].value_counts(normalize=True).mul(100).astype(str)+'%'\n",
    "dest2_freq_dep = dest2_freq_dep.rename('Percentage_of_Flights_Delayed_on_Departure').reset_index()\n",
    "dest2_freq_dep\n",
    "\n",
    "\n",
    "dest2_freq_dep = dest2_freq_dep[dest2_freq_dep['DestAirport'].str.contains('LAX|ATL|ORD|DFW|DEN|PHX|SFO|IAH|CLT|LAS', na=False)]\n",
    "dest2_freq_dep = dest2_freq_dep.sort_values(by='Percentage_of_Flights_Delayed_on_Departure')\n",
    "\n",
    "\n",
    "dest2_freq_dep.drop(['IsDepDelay'], axis = 1).head(10)"
   ]
  },
  {
   "cell_type": "markdown",
   "metadata": {
    "id": "Ta0-oRjSc6XN"
   },
   "source": [
    "The San Fransico airport (SFO) has the highest departure delay destination rate of 42.4%, followed by Las Vegas (40.3%) and Los Angeles, CA (38.8%). (If SF is your destination, wherever you're departing from is going to have a 42% chance of being delayed). "
   ]
  },
  {
   "cell_type": "markdown",
   "metadata": {
    "id": "72tFUZTjS4Om"
   },
   "source": [
    "Takeaway: whether arriving or departing, there seems to be an impact on delays of origins and destinations - whether you're going or coming to a certain airport/city, since the results included a couple of different cities. "
   ]
  },
  {
   "cell_type": "markdown",
   "metadata": {
    "id": "PrQ7tQds3m_6"
   },
   "source": [
    "#### On arrival"
   ]
  },
  {
   "cell_type": "code",
   "execution_count": null,
   "metadata": {
    "id": "42QjGTaP4d_U",
    "outputId": "db49ec65-b297-4985-9442-98b91434b5ff"
   },
   "outputs": [
    {
     "data": {
      "text/html": [
       "<div>\n",
       "<style scoped>\n",
       "    .dataframe tbody tr th:only-of-type {\n",
       "        vertical-align: middle;\n",
       "    }\n",
       "\n",
       "    .dataframe tbody tr th {\n",
       "        vertical-align: top;\n",
       "    }\n",
       "\n",
       "    .dataframe thead th {\n",
       "        text-align: right;\n",
       "    }\n",
       "</style>\n",
       "<table border=\"1\" class=\"dataframe\">\n",
       "  <thead>\n",
       "    <tr style=\"text-align: right;\">\n",
       "      <th></th>\n",
       "      <th>DestAirport</th>\n",
       "      <th>Arrival_Delay</th>\n",
       "    </tr>\n",
       "  </thead>\n",
       "  <tbody>\n",
       "    <tr>\n",
       "      <th>0</th>\n",
       "      <td>ATL</td>\n",
       "      <td>23163</td>\n",
       "    </tr>\n",
       "    <tr>\n",
       "      <th>1</th>\n",
       "      <td>ORD</td>\n",
       "      <td>17941</td>\n",
       "    </tr>\n",
       "    <tr>\n",
       "      <th>2</th>\n",
       "      <td>DFW</td>\n",
       "      <td>15117</td>\n",
       "    </tr>\n",
       "    <tr>\n",
       "      <th>3</th>\n",
       "      <td>DEN</td>\n",
       "      <td>13836</td>\n",
       "    </tr>\n",
       "    <tr>\n",
       "      <th>4</th>\n",
       "      <td>LAX</td>\n",
       "      <td>13358</td>\n",
       "    </tr>\n",
       "    <tr>\n",
       "      <th>5</th>\n",
       "      <td>SFO</td>\n",
       "      <td>10516</td>\n",
       "    </tr>\n",
       "    <tr>\n",
       "      <th>6</th>\n",
       "      <td>PHX</td>\n",
       "      <td>10115</td>\n",
       "    </tr>\n",
       "    <tr>\n",
       "      <th>7</th>\n",
       "      <td>IAH</td>\n",
       "      <td>9589</td>\n",
       "    </tr>\n",
       "    <tr>\n",
       "      <th>8</th>\n",
       "      <td>LAS</td>\n",
       "      <td>9433</td>\n",
       "    </tr>\n",
       "    <tr>\n",
       "      <th>9</th>\n",
       "      <td>CLT</td>\n",
       "      <td>9279</td>\n",
       "    </tr>\n",
       "  </tbody>\n",
       "</table>\n",
       "</div>"
      ],
      "text/plain": [
       "  DestAirport  Arrival_Delay\n",
       "0         ATL          23163\n",
       "1         ORD          17941\n",
       "2         DFW          15117\n",
       "3         DEN          13836\n",
       "4         LAX          13358\n",
       "5         SFO          10516\n",
       "6         PHX          10115\n",
       "7         IAH           9589\n",
       "8         LAS           9433\n",
       "9         CLT           9279"
      ]
     },
     "execution_count": 84,
     "metadata": {},
     "output_type": "execute_result"
    }
   ],
   "source": [
    "dest_ArrDelay = airline_df[['DestAirport', 'Arrival_Delay']]\n",
    "dest_ArrDelay = dest_ArrDelay.groupby(by='DestAirport').count()\n",
    "dest_ArrDelay = dest_ArrDelay.sort_values(by=['Arrival_Delay'], ascending=False)\n",
    "d1 = dest_ArrDelay.head(10).reset_index()\n",
    "d1"
   ]
  },
  {
   "cell_type": "code",
   "execution_count": null,
   "metadata": {
    "id": "ROtvoc6xoAlV",
    "outputId": "bfa239a4-3dea-46eb-ff76-04aea85671ee"
   },
   "outputs": [
    {
     "data": {
      "text/html": [
       "<div>\n",
       "<style scoped>\n",
       "    .dataframe tbody tr th:only-of-type {\n",
       "        vertical-align: middle;\n",
       "    }\n",
       "\n",
       "    .dataframe tbody tr th {\n",
       "        vertical-align: top;\n",
       "    }\n",
       "\n",
       "    .dataframe thead th {\n",
       "        text-align: right;\n",
       "    }\n",
       "</style>\n",
       "<table border=\"1\" class=\"dataframe\">\n",
       "  <thead>\n",
       "    <tr style=\"text-align: right;\">\n",
       "      <th></th>\n",
       "      <th>DestAirport</th>\n",
       "      <th>Percentage_of_Flights_Delayed_on_Arrival</th>\n",
       "    </tr>\n",
       "  </thead>\n",
       "  <tbody>\n",
       "    <tr>\n",
       "      <th>43</th>\n",
       "      <td>ATL</td>\n",
       "      <td>30.190389845874886%</td>\n",
       "    </tr>\n",
       "    <tr>\n",
       "      <th>151</th>\n",
       "      <td>CLT</td>\n",
       "      <td>33.31177928656105%</td>\n",
       "    </tr>\n",
       "    <tr>\n",
       "      <th>333</th>\n",
       "      <td>IAH</td>\n",
       "      <td>34.44571905308166%</td>\n",
       "    </tr>\n",
       "    <tr>\n",
       "      <th>191</th>\n",
       "      <td>DEN</td>\n",
       "      <td>34.46805435096849%</td>\n",
       "    </tr>\n",
       "    <tr>\n",
       "      <th>193</th>\n",
       "      <td>DFW</td>\n",
       "      <td>36.48210623801019%</td>\n",
       "    </tr>\n",
       "    <tr>\n",
       "      <th>506</th>\n",
       "      <td>ORD</td>\n",
       "      <td>36.85970681678836%</td>\n",
       "    </tr>\n",
       "    <tr>\n",
       "      <th>381</th>\n",
       "      <td>LAS</td>\n",
       "      <td>37.12498674864836%</td>\n",
       "    </tr>\n",
       "    <tr>\n",
       "      <th>535</th>\n",
       "      <td>PHX</td>\n",
       "      <td>37.765694513099355%</td>\n",
       "    </tr>\n",
       "    <tr>\n",
       "      <th>385</th>\n",
       "      <td>LAX</td>\n",
       "      <td>40.29794879472975%</td>\n",
       "    </tr>\n",
       "    <tr>\n",
       "      <th>628</th>\n",
       "      <td>SFO</td>\n",
       "      <td>42.01217192848992%</td>\n",
       "    </tr>\n",
       "  </tbody>\n",
       "</table>\n",
       "</div>"
      ],
      "text/plain": [
       "    DestAirport Percentage_of_Flights_Delayed_on_Arrival\n",
       "43          ATL                      30.190389845874886%\n",
       "151         CLT                       33.31177928656105%\n",
       "333         IAH                       34.44571905308166%\n",
       "191         DEN                       34.46805435096849%\n",
       "193         DFW                       36.48210623801019%\n",
       "506         ORD                       36.85970681678836%\n",
       "381         LAS                       37.12498674864836%\n",
       "535         PHX                      37.765694513099355%\n",
       "385         LAX                       40.29794879472975%\n",
       "628         SFO                       42.01217192848992%"
      ]
     },
     "execution_count": 85,
     "metadata": {},
     "output_type": "execute_result"
    }
   ],
   "source": [
    "### percentages - destination arrival delay\n",
    "\n",
    "dest2_freq_arr = airline_df[['DestAirport', 'IsArrDelay']]\n",
    "dest2_freq_arr = dest2_freq_arr.groupby(by='DestAirport')\n",
    "dest2_freq_arr.head()\n",
    "dest2_freq_arr = dest2_freq_arr['IsArrDelay'].value_counts(normalize=True).mul(100).astype(str)+'%'\n",
    "dest2_freq_arr = dest2_freq_arr.rename('Percentage_of_Flights_Delayed_on_Arrival').reset_index()\n",
    "dest2_freq_arr\n",
    "\n",
    "\n",
    "dest2_freq_arr = dest2_freq_arr[dest2_freq_arr['DestAirport'].str.contains('LAX|ATL|ORD|DFW|DEN|PHX|SFO|IAH|CLT|LAS', na=False)]\n",
    "dest2_freq_arr = dest2_freq_arr.sort_values(by='Percentage_of_Flights_Delayed_on_Arrival')\n",
    "\n",
    "\n",
    "\n",
    "dest2_freq_arr.drop(['IsArrDelay'], axis = 1).head(10)\n"
   ]
  },
  {
   "cell_type": "markdown",
   "metadata": {
    "id": "Nt2hMqiFc1gA"
   },
   "source": [
    "\n",
    "The San Fransico airport (SFO) has the highest departure delay rate of 41.93%, followed by Los Angeles, CA (40.25%) and Phoenix, Arizona (37.72%). AKA if Phoenix is your destination, you are 38% more likely to be delayed when arriving"
   ]
  },
  {
   "cell_type": "markdown",
   "metadata": {
    "id": "RDdfcmgcVnqY"
   },
   "source": [
    "### 5.11 Busiest months of the year?"
   ]
  },
  {
   "cell_type": "code",
   "execution_count": null,
   "metadata": {
    "id": "h8edhlbcVnqY",
    "outputId": "59a338e8-bd4d-43f4-ec6c-74350a88b621"
   },
   "outputs": [
    {
     "data": {
      "text/html": [
       "<div>\n",
       "<style scoped>\n",
       "    .dataframe tbody tr th:only-of-type {\n",
       "        vertical-align: middle;\n",
       "    }\n",
       "\n",
       "    .dataframe tbody tr th {\n",
       "        vertical-align: top;\n",
       "    }\n",
       "\n",
       "    .dataframe thead th {\n",
       "        text-align: right;\n",
       "    }\n",
       "</style>\n",
       "<table border=\"1\" class=\"dataframe\">\n",
       "  <thead>\n",
       "    <tr style=\"text-align: right;\">\n",
       "      <th></th>\n",
       "      <th>Month</th>\n",
       "      <th>Number of flights</th>\n",
       "    </tr>\n",
       "  </thead>\n",
       "  <tbody>\n",
       "    <tr>\n",
       "      <th>10</th>\n",
       "      <td>1</td>\n",
       "      <td>29880</td>\n",
       "    </tr>\n",
       "    <tr>\n",
       "      <th>11</th>\n",
       "      <td>2</td>\n",
       "      <td>27665</td>\n",
       "    </tr>\n",
       "    <tr>\n",
       "      <th>3</th>\n",
       "      <td>3</td>\n",
       "      <td>32403</td>\n",
       "    </tr>\n",
       "    <tr>\n",
       "      <th>6</th>\n",
       "      <td>4</td>\n",
       "      <td>31556</td>\n",
       "    </tr>\n",
       "    <tr>\n",
       "      <th>4</th>\n",
       "      <td>5</td>\n",
       "      <td>32388</td>\n",
       "    </tr>\n",
       "    <tr>\n",
       "      <th>5</th>\n",
       "      <td>6</td>\n",
       "      <td>32273</td>\n",
       "    </tr>\n",
       "    <tr>\n",
       "      <th>0</th>\n",
       "      <td>7</td>\n",
       "      <td>33758</td>\n",
       "    </tr>\n",
       "    <tr>\n",
       "      <th>1</th>\n",
       "      <td>8</td>\n",
       "      <td>33171</td>\n",
       "    </tr>\n",
       "    <tr>\n",
       "      <th>9</th>\n",
       "      <td>9</td>\n",
       "      <td>30722</td>\n",
       "    </tr>\n",
       "    <tr>\n",
       "      <th>2</th>\n",
       "      <td>10</td>\n",
       "      <td>32496</td>\n",
       "    </tr>\n",
       "    <tr>\n",
       "      <th>8</th>\n",
       "      <td>11</td>\n",
       "      <td>31108</td>\n",
       "    </tr>\n",
       "    <tr>\n",
       "      <th>7</th>\n",
       "      <td>12</td>\n",
       "      <td>31537</td>\n",
       "    </tr>\n",
       "  </tbody>\n",
       "</table>\n",
       "</div>"
      ],
      "text/plain": [
       "    Month  Number of flights\n",
       "10      1              29880\n",
       "11      2              27665\n",
       "3       3              32403\n",
       "6       4              31556\n",
       "4       5              32388\n",
       "5       6              32273\n",
       "0       7              33758\n",
       "1       8              33171\n",
       "9       9              30722\n",
       "2      10              32496\n",
       "8      11              31108\n",
       "7      12              31537"
      ]
     },
     "execution_count": 86,
     "metadata": {},
     "output_type": "execute_result"
    }
   ],
   "source": [
    "monthFreqDf = pd.value_counts(airline_df['Month']) \\\n",
    "    .rename_axis('Month').reset_index(name='Number of flights') \\\n",
    "    .sort_values(by = ['Month'])\n",
    "monthFreqDf"
   ]
  },
  {
   "cell_type": "code",
   "execution_count": null,
   "metadata": {
    "id": "0hYsclMXVnqY",
    "outputId": "a3fa2fa1-944a-409f-ebd9-77dc69d25d96"
   },
   "outputs": [
    {
     "data": {
      "image/png": "[encoded data removed]",
      "text/plain": [
       "<Figure size 576x288 with 1 Axes>"
      ]
     },
     "metadata": {},
     "output_type": "display_data"
    }
   ],
   "source": [
    "display_bar_char('Month', 'Number of flights', monthFreqDf, 'v', (8, 4), \"Number of flights per month\")"
   ]
  },
  {
   "cell_type": "markdown",
   "metadata": {
    "id": "Fg8xRP7qVnqY"
   },
   "source": [
    "&rightarrow; July is the busiest month of the year. This is reasonable since a lot of people go on vacation during the summer. It's interesting to see that February has significantly less flights than other months."
   ]
  },
  {
   "cell_type": "markdown",
   "metadata": {
    "id": "aVzm-J5YVnqY"
   },
   "source": [
    "### 5.12 Relationship between Month and Delay\n",
    "#### On departure"
   ]
  },
  {
   "cell_type": "code",
   "execution_count": null,
   "metadata": {
    "id": "ShFih_6oVnqY",
    "outputId": "619c1b59-b5f1-4002-b7e2-6d9b7c54eb87"
   },
   "outputs": [
    {
     "data": {
      "text/html": [
       "<div>\n",
       "<style scoped>\n",
       "    .dataframe tbody tr th:only-of-type {\n",
       "        vertical-align: middle;\n",
       "    }\n",
       "\n",
       "    .dataframe tbody tr th {\n",
       "        vertical-align: top;\n",
       "    }\n",
       "\n",
       "    .dataframe thead th {\n",
       "        text-align: right;\n",
       "    }\n",
       "</style>\n",
       "<table border=\"1\" class=\"dataframe\">\n",
       "  <thead>\n",
       "    <tr style=\"text-align: right;\">\n",
       "      <th></th>\n",
       "      <th>Month</th>\n",
       "      <th>Total Flights</th>\n",
       "    </tr>\n",
       "  </thead>\n",
       "  <tbody>\n",
       "    <tr>\n",
       "      <th>0</th>\n",
       "      <td>1</td>\n",
       "      <td>11072</td>\n",
       "    </tr>\n",
       "    <tr>\n",
       "      <th>1</th>\n",
       "      <td>2</td>\n",
       "      <td>10265</td>\n",
       "    </tr>\n",
       "    <tr>\n",
       "      <th>2</th>\n",
       "      <td>3</td>\n",
       "      <td>11733</td>\n",
       "    </tr>\n",
       "    <tr>\n",
       "      <th>3</th>\n",
       "      <td>4</td>\n",
       "      <td>10696</td>\n",
       "    </tr>\n",
       "    <tr>\n",
       "      <th>4</th>\n",
       "      <td>5</td>\n",
       "      <td>11899</td>\n",
       "    </tr>\n",
       "    <tr>\n",
       "      <th>5</th>\n",
       "      <td>6</td>\n",
       "      <td>13495</td>\n",
       "    </tr>\n",
       "    <tr>\n",
       "      <th>6</th>\n",
       "      <td>7</td>\n",
       "      <td>13448</td>\n",
       "    </tr>\n",
       "    <tr>\n",
       "      <th>7</th>\n",
       "      <td>8</td>\n",
       "      <td>12406</td>\n",
       "    </tr>\n",
       "    <tr>\n",
       "      <th>8</th>\n",
       "      <td>9</td>\n",
       "      <td>8876</td>\n",
       "    </tr>\n",
       "    <tr>\n",
       "      <th>9</th>\n",
       "      <td>10</td>\n",
       "      <td>10422</td>\n",
       "    </tr>\n",
       "    <tr>\n",
       "      <th>10</th>\n",
       "      <td>11</td>\n",
       "      <td>9819</td>\n",
       "    </tr>\n",
       "    <tr>\n",
       "      <th>11</th>\n",
       "      <td>12</td>\n",
       "      <td>12317</td>\n",
       "    </tr>\n",
       "  </tbody>\n",
       "</table>\n",
       "</div>"
      ],
      "text/plain": [
       "    Month  Total Flights\n",
       "0       1          11072\n",
       "1       2          10265\n",
       "2       3          11733\n",
       "3       4          10696\n",
       "4       5          11899\n",
       "5       6          13495\n",
       "6       7          13448\n",
       "7       8          12406\n",
       "8       9           8876\n",
       "9      10          10422\n",
       "10     11           9819\n",
       "11     12          12317"
      ]
     },
     "execution_count": 88,
     "metadata": {},
     "output_type": "execute_result"
    }
   ],
   "source": [
    "depDelayFreqByMonth = airline_df.groupby('Month')['IsDepDelay'].sum().reset_index(name = 'Total Flights')\n",
    "depDelayFreqByMonth"
   ]
  },
  {
   "cell_type": "code",
   "execution_count": null,
   "metadata": {
    "id": "FvZRiA5oVnqY",
    "outputId": "9d952456-1b40-4e9e-c75b-cae23b8e2ea0"
   },
   "outputs": [
    {
     "data": {
      "image/png": "[encoded data removed]",
      "text/plain": [
       "<Figure size 576x288 with 1 Axes>"
      ]
     },
     "metadata": {},
     "output_type": "display_data"
    }
   ],
   "source": [
    "display_bar_char('Month', 'Total Flights', depDelayFreqByMonth, 'v', (8, 4), \"Number of departure delayed flights per month\")"
   ]
  },
  {
   "cell_type": "markdown",
   "metadata": {
    "id": "ZhzNESczVnqY"
   },
   "source": [
    "&rightarrow; Since the height of columns are different, there's a relationship between month whether a flight delay departure. We can see that September and February have the least number of flights delayed departure while March, July and December have the most number of flights delayed departure."
   ]
  },
  {
   "cell_type": "markdown",
   "metadata": {
    "id": "yGB8zllEVnqZ"
   },
   "source": [
    "#### On arrival"
   ]
  },
  {
   "cell_type": "code",
   "execution_count": null,
   "metadata": {
    "id": "508ivq4JVnqZ",
    "outputId": "acafb6f3-1621-4081-ea3a-7846816633e9"
   },
   "outputs": [
    {
     "data": {
      "text/html": [
       "<div>\n",
       "<style scoped>\n",
       "    .dataframe tbody tr th:only-of-type {\n",
       "        vertical-align: middle;\n",
       "    }\n",
       "\n",
       "    .dataframe tbody tr th {\n",
       "        vertical-align: top;\n",
       "    }\n",
       "\n",
       "    .dataframe thead th {\n",
       "        text-align: right;\n",
       "    }\n",
       "</style>\n",
       "<table border=\"1\" class=\"dataframe\">\n",
       "  <thead>\n",
       "    <tr style=\"text-align: right;\">\n",
       "      <th></th>\n",
       "      <th>Month</th>\n",
       "      <th>Total Flights</th>\n",
       "    </tr>\n",
       "  </thead>\n",
       "  <tbody>\n",
       "    <tr>\n",
       "      <th>0</th>\n",
       "      <td>1</td>\n",
       "      <td>11156</td>\n",
       "    </tr>\n",
       "    <tr>\n",
       "      <th>1</th>\n",
       "      <td>2</td>\n",
       "      <td>10431</td>\n",
       "    </tr>\n",
       "    <tr>\n",
       "      <th>2</th>\n",
       "      <td>3</td>\n",
       "      <td>11923</td>\n",
       "    </tr>\n",
       "    <tr>\n",
       "      <th>3</th>\n",
       "      <td>4</td>\n",
       "      <td>10962</td>\n",
       "    </tr>\n",
       "    <tr>\n",
       "      <th>4</th>\n",
       "      <td>5</td>\n",
       "      <td>11713</td>\n",
       "    </tr>\n",
       "    <tr>\n",
       "      <th>5</th>\n",
       "      <td>6</td>\n",
       "      <td>13517</td>\n",
       "    </tr>\n",
       "    <tr>\n",
       "      <th>6</th>\n",
       "      <td>7</td>\n",
       "      <td>13196</td>\n",
       "    </tr>\n",
       "    <tr>\n",
       "      <th>7</th>\n",
       "      <td>8</td>\n",
       "      <td>12607</td>\n",
       "    </tr>\n",
       "    <tr>\n",
       "      <th>8</th>\n",
       "      <td>9</td>\n",
       "      <td>9261</td>\n",
       "    </tr>\n",
       "    <tr>\n",
       "      <th>9</th>\n",
       "      <td>10</td>\n",
       "      <td>10725</td>\n",
       "    </tr>\n",
       "    <tr>\n",
       "      <th>10</th>\n",
       "      <td>11</td>\n",
       "      <td>9907</td>\n",
       "    </tr>\n",
       "    <tr>\n",
       "      <th>11</th>\n",
       "      <td>12</td>\n",
       "      <td>12115</td>\n",
       "    </tr>\n",
       "  </tbody>\n",
       "</table>\n",
       "</div>"
      ],
      "text/plain": [
       "    Month  Total Flights\n",
       "0       1          11156\n",
       "1       2          10431\n",
       "2       3          11923\n",
       "3       4          10962\n",
       "4       5          11713\n",
       "5       6          13517\n",
       "6       7          13196\n",
       "7       8          12607\n",
       "8       9           9261\n",
       "9      10          10725\n",
       "10     11           9907\n",
       "11     12          12115"
      ]
     },
     "execution_count": 90,
     "metadata": {},
     "output_type": "execute_result"
    }
   ],
   "source": [
    "arrDelayFreqByMonth = airline_df.groupby('Month')['IsArrDelay'].sum().reset_index(name = 'Total Flights')\n",
    "arrDelayFreqByMonth"
   ]
  },
  {
   "cell_type": "code",
   "execution_count": null,
   "metadata": {
    "id": "SFkLIFzWoAlY",
    "outputId": "9e3a2de5-40dc-4d7c-8efd-d61ad39fd9ab",
    "scrolled": true
   },
   "outputs": [
    {
     "data": {
      "image/png": "[encoded data removed]",
      "text/plain": [
       "<Figure size 576x288 with 1 Axes>"
      ]
     },
     "metadata": {},
     "output_type": "display_data"
    }
   ],
   "source": [
    "display_bar_char('Month', 'Total Flights', arrDelayFreqByMonth, 'v', (8, 4), \"Number of arrival delayed flights per month\")"
   ]
  },
  {
   "cell_type": "markdown",
   "metadata": {
    "id": "Z_iRMwVhoAlY"
   },
   "source": [
    "&rightarrow; This graph looks verry similar to the \"Number of departure delayed flights per month\" which suggests that there's a strong relationship between departure delay and arrival delay."
   ]
  },
  {
   "cell_type": "markdown",
   "metadata": {
    "id": "gk-WVxYa5H17"
   },
   "source": [
    "### 5.13 Relationship between hour and median delay in minutes? \n",
    "#### On departure"
   ]
  },
  {
   "cell_type": "markdown",
   "metadata": {
    "id": "FTEGJHrWE6Jq"
   },
   "source": [
    "Here, an updated airline_df was imported in order to reduce the effort of running the whole preprocessing steps every time new analysis  is added to the notebook. The updated dataset is basically the original airline dataset after the preprocessing stage."
   ]
  },
  {
   "cell_type": "code",
   "execution_count": null,
   "metadata": {
    "colab": {
     "base_uri": "https://localhost:8080/"
    },
    "id": "HlLvcRRTHPHh",
    "outputId": "b1cca983-652b-4446-e938-29b71761690b"
   },
   "outputs": [
    {
     "data": {
      "text/plain": [
       "0         19\n",
       "1          9\n",
       "2         19\n",
       "3         15\n",
       "4          6\n",
       "          ..\n",
       "378952    15\n",
       "378953     7\n",
       "378954    13\n",
       "378955    10\n",
       "378956    10\n",
       "Name: Scheduled_Departure_Hour, Length: 378957, dtype: int64"
      ]
     },
     "execution_count": 92,
     "metadata": {},
     "output_type": "execute_result"
    }
   ],
   "source": [
    "airline_df[\"Scheduled_Departure_Hour\"] = airline_df[\"Scheduled_Departure\"]//100\n",
    "airline_df[\"Scheduled_Departure_Hour\"]"
   ]
  },
  {
   "cell_type": "code",
   "execution_count": null,
   "metadata": {
    "colab": {
     "base_uri": "https://localhost:8080/",
     "height": 802
    },
    "id": "nr45agp6HyvC",
    "outputId": "0352e489-b2ea-4906-a836-9f7a7a02bc6e",
    "scrolled": true
   },
   "outputs": [
    {
     "data": {
      "text/html": [
       "<div>\n",
       "<style scoped>\n",
       "    .dataframe tbody tr th:only-of-type {\n",
       "        vertical-align: middle;\n",
       "    }\n",
       "\n",
       "    .dataframe tbody tr th {\n",
       "        vertical-align: top;\n",
       "    }\n",
       "\n",
       "    .dataframe thead th {\n",
       "        text-align: right;\n",
       "    }\n",
       "</style>\n",
       "<table border=\"1\" class=\"dataframe\">\n",
       "  <thead>\n",
       "    <tr style=\"text-align: right;\">\n",
       "      <th></th>\n",
       "      <th>Scheduled_Departure_Hour</th>\n",
       "      <th>DepDelayMinutes</th>\n",
       "    </tr>\n",
       "  </thead>\n",
       "  <tbody>\n",
       "    <tr>\n",
       "      <th>0</th>\n",
       "      <td>0</td>\n",
       "      <td>0.0</td>\n",
       "    </tr>\n",
       "    <tr>\n",
       "      <th>1</th>\n",
       "      <td>1</td>\n",
       "      <td>0.0</td>\n",
       "    </tr>\n",
       "    <tr>\n",
       "      <th>2</th>\n",
       "      <td>2</td>\n",
       "      <td>0.0</td>\n",
       "    </tr>\n",
       "    <tr>\n",
       "      <th>3</th>\n",
       "      <td>3</td>\n",
       "      <td>0.0</td>\n",
       "    </tr>\n",
       "    <tr>\n",
       "      <th>4</th>\n",
       "      <td>4</td>\n",
       "      <td>0.0</td>\n",
       "    </tr>\n",
       "    <tr>\n",
       "      <th>5</th>\n",
       "      <td>5</td>\n",
       "      <td>0.0</td>\n",
       "    </tr>\n",
       "    <tr>\n",
       "      <th>6</th>\n",
       "      <td>6</td>\n",
       "      <td>0.0</td>\n",
       "    </tr>\n",
       "    <tr>\n",
       "      <th>7</th>\n",
       "      <td>7</td>\n",
       "      <td>0.0</td>\n",
       "    </tr>\n",
       "    <tr>\n",
       "      <th>8</th>\n",
       "      <td>8</td>\n",
       "      <td>0.0</td>\n",
       "    </tr>\n",
       "    <tr>\n",
       "      <th>9</th>\n",
       "      <td>9</td>\n",
       "      <td>0.0</td>\n",
       "    </tr>\n",
       "    <tr>\n",
       "      <th>10</th>\n",
       "      <td>10</td>\n",
       "      <td>0.0</td>\n",
       "    </tr>\n",
       "    <tr>\n",
       "      <th>11</th>\n",
       "      <td>11</td>\n",
       "      <td>0.0</td>\n",
       "    </tr>\n",
       "    <tr>\n",
       "      <th>12</th>\n",
       "      <td>12</td>\n",
       "      <td>0.0</td>\n",
       "    </tr>\n",
       "    <tr>\n",
       "      <th>13</th>\n",
       "      <td>13</td>\n",
       "      <td>0.0</td>\n",
       "    </tr>\n",
       "    <tr>\n",
       "      <th>14</th>\n",
       "      <td>14</td>\n",
       "      <td>0.0</td>\n",
       "    </tr>\n",
       "    <tr>\n",
       "      <th>15</th>\n",
       "      <td>15</td>\n",
       "      <td>0.0</td>\n",
       "    </tr>\n",
       "    <tr>\n",
       "      <th>16</th>\n",
       "      <td>16</td>\n",
       "      <td>0.0</td>\n",
       "    </tr>\n",
       "    <tr>\n",
       "      <th>17</th>\n",
       "      <td>17</td>\n",
       "      <td>0.0</td>\n",
       "    </tr>\n",
       "    <tr>\n",
       "      <th>18</th>\n",
       "      <td>18</td>\n",
       "      <td>0.0</td>\n",
       "    </tr>\n",
       "    <tr>\n",
       "      <th>19</th>\n",
       "      <td>19</td>\n",
       "      <td>0.0</td>\n",
       "    </tr>\n",
       "    <tr>\n",
       "      <th>20</th>\n",
       "      <td>20</td>\n",
       "      <td>0.0</td>\n",
       "    </tr>\n",
       "    <tr>\n",
       "      <th>21</th>\n",
       "      <td>21</td>\n",
       "      <td>0.0</td>\n",
       "    </tr>\n",
       "    <tr>\n",
       "      <th>22</th>\n",
       "      <td>22</td>\n",
       "      <td>0.0</td>\n",
       "    </tr>\n",
       "    <tr>\n",
       "      <th>23</th>\n",
       "      <td>23</td>\n",
       "      <td>0.0</td>\n",
       "    </tr>\n",
       "  </tbody>\n",
       "</table>\n",
       "</div>"
      ],
      "text/plain": [
       "    Scheduled_Departure_Hour  DepDelayMinutes\n",
       "0                          0              0.0\n",
       "1                          1              0.0\n",
       "2                          2              0.0\n",
       "3                          3              0.0\n",
       "4                          4              0.0\n",
       "5                          5              0.0\n",
       "6                          6              0.0\n",
       "7                          7              0.0\n",
       "8                          8              0.0\n",
       "9                          9              0.0\n",
       "10                        10              0.0\n",
       "11                        11              0.0\n",
       "12                        12              0.0\n",
       "13                        13              0.0\n",
       "14                        14              0.0\n",
       "15                        15              0.0\n",
       "16                        16              0.0\n",
       "17                        17              0.0\n",
       "18                        18              0.0\n",
       "19                        19              0.0\n",
       "20                        20              0.0\n",
       "21                        21              0.0\n",
       "22                        22              0.0\n",
       "23                        23              0.0"
      ]
     },
     "execution_count": 93,
     "metadata": {},
     "output_type": "execute_result"
    }
   ],
   "source": [
    "airline_df_depdelay_by_hour = airline_df.groupby([\"Scheduled_Departure_Hour\"])[[\"DepDelayMinutes\"]].median().reset_index()\n",
    "airline_df_depdelay_by_hour"
   ]
  },
  {
   "cell_type": "markdown",
   "metadata": {
    "id": "9tzVr24FI5lT"
   },
   "source": [
    "Obviously, the real medians don't tell us much about the relationship that we are trying to explore. The reason why the medians are dominated by 0s is because most of the flights were on time of their departures. Let's not take the on-time flights into consideration."
   ]
  },
  {
   "cell_type": "code",
   "execution_count": null,
   "metadata": {
    "colab": {
     "base_uri": "https://localhost:8080/",
     "height": 802
    },
    "id": "jjJbkCcIJdcV",
    "outputId": "f23cfccc-be2a-4964-d9cb-2718e50fc7c0"
   },
   "outputs": [
    {
     "data": {
      "text/html": [
       "<div>\n",
       "<style scoped>\n",
       "    .dataframe tbody tr th:only-of-type {\n",
       "        vertical-align: middle;\n",
       "    }\n",
       "\n",
       "    .dataframe tbody tr th {\n",
       "        vertical-align: top;\n",
       "    }\n",
       "\n",
       "    .dataframe thead th {\n",
       "        text-align: right;\n",
       "    }\n",
       "</style>\n",
       "<table border=\"1\" class=\"dataframe\">\n",
       "  <thead>\n",
       "    <tr style=\"text-align: right;\">\n",
       "      <th></th>\n",
       "      <th>Scheduled_Departure_Hour</th>\n",
       "      <th>DepDelayMinutes</th>\n",
       "    </tr>\n",
       "  </thead>\n",
       "  <tbody>\n",
       "    <tr>\n",
       "      <th>0</th>\n",
       "      <td>0</td>\n",
       "      <td>15.0</td>\n",
       "    </tr>\n",
       "    <tr>\n",
       "      <th>1</th>\n",
       "      <td>1</td>\n",
       "      <td>12.0</td>\n",
       "    </tr>\n",
       "    <tr>\n",
       "      <th>2</th>\n",
       "      <td>2</td>\n",
       "      <td>13.0</td>\n",
       "    </tr>\n",
       "    <tr>\n",
       "      <th>3</th>\n",
       "      <td>3</td>\n",
       "      <td>35.0</td>\n",
       "    </tr>\n",
       "    <tr>\n",
       "      <th>4</th>\n",
       "      <td>4</td>\n",
       "      <td>50.0</td>\n",
       "    </tr>\n",
       "    <tr>\n",
       "      <th>5</th>\n",
       "      <td>5</td>\n",
       "      <td>8.0</td>\n",
       "    </tr>\n",
       "    <tr>\n",
       "      <th>6</th>\n",
       "      <td>6</td>\n",
       "      <td>8.0</td>\n",
       "    </tr>\n",
       "    <tr>\n",
       "      <th>7</th>\n",
       "      <td>7</td>\n",
       "      <td>11.0</td>\n",
       "    </tr>\n",
       "    <tr>\n",
       "      <th>8</th>\n",
       "      <td>8</td>\n",
       "      <td>11.0</td>\n",
       "    </tr>\n",
       "    <tr>\n",
       "      <th>9</th>\n",
       "      <td>9</td>\n",
       "      <td>12.0</td>\n",
       "    </tr>\n",
       "    <tr>\n",
       "      <th>10</th>\n",
       "      <td>10</td>\n",
       "      <td>13.0</td>\n",
       "    </tr>\n",
       "    <tr>\n",
       "      <th>11</th>\n",
       "      <td>11</td>\n",
       "      <td>13.0</td>\n",
       "    </tr>\n",
       "    <tr>\n",
       "      <th>12</th>\n",
       "      <td>12</td>\n",
       "      <td>14.0</td>\n",
       "    </tr>\n",
       "    <tr>\n",
       "      <th>13</th>\n",
       "      <td>13</td>\n",
       "      <td>14.0</td>\n",
       "    </tr>\n",
       "    <tr>\n",
       "      <th>14</th>\n",
       "      <td>14</td>\n",
       "      <td>15.0</td>\n",
       "    </tr>\n",
       "    <tr>\n",
       "      <th>15</th>\n",
       "      <td>15</td>\n",
       "      <td>16.0</td>\n",
       "    </tr>\n",
       "    <tr>\n",
       "      <th>16</th>\n",
       "      <td>16</td>\n",
       "      <td>17.0</td>\n",
       "    </tr>\n",
       "    <tr>\n",
       "      <th>17</th>\n",
       "      <td>17</td>\n",
       "      <td>18.0</td>\n",
       "    </tr>\n",
       "    <tr>\n",
       "      <th>18</th>\n",
       "      <td>18</td>\n",
       "      <td>20.0</td>\n",
       "    </tr>\n",
       "    <tr>\n",
       "      <th>19</th>\n",
       "      <td>19</td>\n",
       "      <td>20.0</td>\n",
       "    </tr>\n",
       "    <tr>\n",
       "      <th>20</th>\n",
       "      <td>20</td>\n",
       "      <td>22.0</td>\n",
       "    </tr>\n",
       "    <tr>\n",
       "      <th>21</th>\n",
       "      <td>21</td>\n",
       "      <td>20.0</td>\n",
       "    </tr>\n",
       "    <tr>\n",
       "      <th>22</th>\n",
       "      <td>22</td>\n",
       "      <td>19.0</td>\n",
       "    </tr>\n",
       "    <tr>\n",
       "      <th>23</th>\n",
       "      <td>23</td>\n",
       "      <td>15.0</td>\n",
       "    </tr>\n",
       "  </tbody>\n",
       "</table>\n",
       "</div>"
      ],
      "text/plain": [
       "    Scheduled_Departure_Hour  DepDelayMinutes\n",
       "0                          0             15.0\n",
       "1                          1             12.0\n",
       "2                          2             13.0\n",
       "3                          3             35.0\n",
       "4                          4             50.0\n",
       "5                          5              8.0\n",
       "6                          6              8.0\n",
       "7                          7             11.0\n",
       "8                          8             11.0\n",
       "9                          9             12.0\n",
       "10                        10             13.0\n",
       "11                        11             13.0\n",
       "12                        12             14.0\n",
       "13                        13             14.0\n",
       "14                        14             15.0\n",
       "15                        15             16.0\n",
       "16                        16             17.0\n",
       "17                        17             18.0\n",
       "18                        18             20.0\n",
       "19                        19             20.0\n",
       "20                        20             22.0\n",
       "21                        21             20.0\n",
       "22                        22             19.0\n",
       "23                        23             15.0"
      ]
     },
     "execution_count": 94,
     "metadata": {},
     "output_type": "execute_result"
    }
   ],
   "source": [
    "airline_df_depdelay_by_hour = airline_df[airline_df[\"DepDelayMinutes\"]!=0].groupby([\"Scheduled_Departure_Hour\"])[[\"DepDelayMinutes\"]].median().reset_index()\n",
    "airline_df_depdelay_by_hour"
   ]
  },
  {
   "cell_type": "code",
   "execution_count": null,
   "metadata": {
    "colab": {
     "base_uri": "https://localhost:8080/",
     "height": 627
    },
    "id": "WrDptPpnKECh",
    "outputId": "a65eabc1-364f-4a48-bc8c-6bfdd3431c97"
   },
   "outputs": [
    {
     "data": {
      "image/png": "[encoded data removed]",
      "text/plain": [
       "<Figure size 576x360 with 1 Axes>"
      ]
     },
     "metadata": {},
     "output_type": "display_data"
    }
   ],
   "source": [
    "# Plotting\n",
    "plt.figure(figsize=(8, 5))\n",
    "plt.plot(airline_df_depdelay_by_hour.Scheduled_Departure_Hour.values, airline_df_depdelay_by_hour.DepDelayMinutes.values)\n",
    "plt.xlabel(\"Scheduled_Departure_Hour\")\n",
    "plt.ylabel(\"DepDelayMinutes\")\n",
    "plt.title(\"Relationship between hour and median departure delay in minutes\")\n",
    "plt.show()"
   ]
  },
  {
   "cell_type": "markdown",
   "metadata": {
    "id": "91ug023oOmL8"
   },
   "source": [
    "An interesting pattern can be observed in the line chart. The median departure delay peaked at ~50 minutes at 4am every day on average. The rise can actually be seen starting from 3am which stood at ~35 minutes in delay. It was odd that the median delay was only slightly above 10 minutes at 2am, but rocketed to nearly an hour just two hours later. What was even more bizzare was that the median delay in time dropped instantly to right below 10 minutes at 5pm. The significant delay in departure flights lasted for 2 hours in the early morning, possibly indicating a busy time window where most flights took place. For the rest of day, the delay time gradually increased and topped at above 20 minutes at 8pm before going down to ~15 minutes of delay per flight at the end of the day."
   ]
  },
  {
   "cell_type": "markdown",
   "metadata": {
    "id": "zpB9BiNB1D_4"
   },
   "source": [
    "#### On arrival"
   ]
  },
  {
   "cell_type": "code",
   "execution_count": null,
   "metadata": {
    "colab": {
     "base_uri": "https://localhost:8080/"
    },
    "id": "2NrM_EQUQZih",
    "outputId": "996da0c3-6cee-41e0-c37f-a45b287bf23e"
   },
   "outputs": [
    {
     "data": {
      "text/plain": [
       "0         20\n",
       "1         11\n",
       "2         21\n",
       "3         16\n",
       "4          7\n",
       "          ..\n",
       "378952    17\n",
       "378953     8\n",
       "378954    15\n",
       "378955    11\n",
       "378956    12\n",
       "Name: Scheduled_Arrival_Hour, Length: 378957, dtype: int64"
      ]
     },
     "execution_count": 11,
     "metadata": {},
     "output_type": "execute_result"
    }
   ],
   "source": [
    "airline_df[\"Scheduled_Arrival_Hour\"] = airline_df[\"Scheduled_Arrival\"]//100\n",
    "airline_df[\"Scheduled_Arrival_Hour\"]"
   ]
  },
  {
   "cell_type": "code",
   "execution_count": null,
   "metadata": {
    "id": "4PX-I_J5Qhxr",
    "scrolled": true
   },
   "outputs": [],
   "source": [
    "airline_df_arrdelay_by_hour = airline_df.groupby([\"Scheduled_Arrival_Hour\"])[[\"ArrDelayMinutes\"]].median().reset_index()"
   ]
  },
  {
   "cell_type": "markdown",
   "metadata": {
    "id": "npZtM7RhK92x"
   },
   "source": [
    "Again, our focus should be the flights that were not on time, so let's reuse our method in Section 21."
   ]
  },
  {
   "cell_type": "code",
   "execution_count": null,
   "metadata": {
    "colab": {
     "base_uri": "https://localhost:8080/",
     "height": 802
    },
    "id": "4XfrAEujLIkz",
    "outputId": "1c7d35d5-7dd3-4fca-aa2f-ad4e8c786057"
   },
   "outputs": [
    {
     "data": {
      "text/html": [
       "<div>\n",
       "<style scoped>\n",
       "    .dataframe tbody tr th:only-of-type {\n",
       "        vertical-align: middle;\n",
       "    }\n",
       "\n",
       "    .dataframe tbody tr th {\n",
       "        vertical-align: top;\n",
       "    }\n",
       "\n",
       "    .dataframe thead th {\n",
       "        text-align: right;\n",
       "    }\n",
       "</style>\n",
       "<table border=\"1\" class=\"dataframe\">\n",
       "  <thead>\n",
       "    <tr style=\"text-align: right;\">\n",
       "      <th></th>\n",
       "      <th>Scheduled_Arrival_Hour</th>\n",
       "      <th>ArrDelayMinutes</th>\n",
       "    </tr>\n",
       "  </thead>\n",
       "  <tbody>\n",
       "    <tr>\n",
       "      <th>0</th>\n",
       "      <td>0</td>\n",
       "      <td>22.0</td>\n",
       "    </tr>\n",
       "    <tr>\n",
       "      <th>1</th>\n",
       "      <td>1</td>\n",
       "      <td>23.0</td>\n",
       "    </tr>\n",
       "    <tr>\n",
       "      <th>2</th>\n",
       "      <td>2</td>\n",
       "      <td>17.5</td>\n",
       "    </tr>\n",
       "    <tr>\n",
       "      <th>3</th>\n",
       "      <td>3</td>\n",
       "      <td>25.0</td>\n",
       "    </tr>\n",
       "    <tr>\n",
       "      <th>4</th>\n",
       "      <td>4</td>\n",
       "      <td>20.0</td>\n",
       "    </tr>\n",
       "    <tr>\n",
       "      <th>5</th>\n",
       "      <td>5</td>\n",
       "      <td>15.0</td>\n",
       "    </tr>\n",
       "    <tr>\n",
       "      <th>6</th>\n",
       "      <td>6</td>\n",
       "      <td>11.0</td>\n",
       "    </tr>\n",
       "    <tr>\n",
       "      <th>7</th>\n",
       "      <td>7</td>\n",
       "      <td>10.0</td>\n",
       "    </tr>\n",
       "    <tr>\n",
       "      <th>8</th>\n",
       "      <td>8</td>\n",
       "      <td>11.0</td>\n",
       "    </tr>\n",
       "    <tr>\n",
       "      <th>9</th>\n",
       "      <td>9</td>\n",
       "      <td>11.0</td>\n",
       "    </tr>\n",
       "    <tr>\n",
       "      <th>10</th>\n",
       "      <td>10</td>\n",
       "      <td>12.0</td>\n",
       "    </tr>\n",
       "    <tr>\n",
       "      <th>11</th>\n",
       "      <td>11</td>\n",
       "      <td>13.0</td>\n",
       "    </tr>\n",
       "    <tr>\n",
       "      <th>12</th>\n",
       "      <td>12</td>\n",
       "      <td>13.0</td>\n",
       "    </tr>\n",
       "    <tr>\n",
       "      <th>13</th>\n",
       "      <td>13</td>\n",
       "      <td>14.0</td>\n",
       "    </tr>\n",
       "    <tr>\n",
       "      <th>14</th>\n",
       "      <td>14</td>\n",
       "      <td>15.0</td>\n",
       "    </tr>\n",
       "    <tr>\n",
       "      <th>15</th>\n",
       "      <td>15</td>\n",
       "      <td>15.0</td>\n",
       "    </tr>\n",
       "    <tr>\n",
       "      <th>16</th>\n",
       "      <td>16</td>\n",
       "      <td>16.0</td>\n",
       "    </tr>\n",
       "    <tr>\n",
       "      <th>17</th>\n",
       "      <td>17</td>\n",
       "      <td>18.0</td>\n",
       "    </tr>\n",
       "    <tr>\n",
       "      <th>18</th>\n",
       "      <td>18</td>\n",
       "      <td>19.0</td>\n",
       "    </tr>\n",
       "    <tr>\n",
       "      <th>19</th>\n",
       "      <td>19</td>\n",
       "      <td>20.0</td>\n",
       "    </tr>\n",
       "    <tr>\n",
       "      <th>20</th>\n",
       "      <td>20</td>\n",
       "      <td>21.0</td>\n",
       "    </tr>\n",
       "    <tr>\n",
       "      <th>21</th>\n",
       "      <td>21</td>\n",
       "      <td>21.0</td>\n",
       "    </tr>\n",
       "    <tr>\n",
       "      <th>22</th>\n",
       "      <td>22</td>\n",
       "      <td>21.0</td>\n",
       "    </tr>\n",
       "    <tr>\n",
       "      <th>23</th>\n",
       "      <td>23</td>\n",
       "      <td>21.0</td>\n",
       "    </tr>\n",
       "  </tbody>\n",
       "</table>\n",
       "</div>"
      ],
      "text/plain": [
       "    Scheduled_Arrival_Hour  ArrDelayMinutes\n",
       "0                        0             22.0\n",
       "1                        1             23.0\n",
       "2                        2             17.5\n",
       "3                        3             25.0\n",
       "4                        4             20.0\n",
       "5                        5             15.0\n",
       "6                        6             11.0\n",
       "7                        7             10.0\n",
       "8                        8             11.0\n",
       "9                        9             11.0\n",
       "10                      10             12.0\n",
       "11                      11             13.0\n",
       "12                      12             13.0\n",
       "13                      13             14.0\n",
       "14                      14             15.0\n",
       "15                      15             15.0\n",
       "16                      16             16.0\n",
       "17                      17             18.0\n",
       "18                      18             19.0\n",
       "19                      19             20.0\n",
       "20                      20             21.0\n",
       "21                      21             21.0\n",
       "22                      22             21.0\n",
       "23                      23             21.0"
      ]
     },
     "execution_count": 13,
     "metadata": {},
     "output_type": "execute_result"
    }
   ],
   "source": [
    "airline_df_arrdelay_by_hour = airline_df[airline_df[\"ArrDelayMinutes\"]!=0].groupby([\"Scheduled_Arrival_Hour\"])[[\"ArrDelayMinutes\"]].median().reset_index()\n",
    "airline_df_arrdelay_by_hour"
   ]
  },
  {
   "cell_type": "code",
   "execution_count": null,
   "metadata": {
    "colab": {
     "base_uri": "https://localhost:8080/",
     "height": 627
    },
    "id": "W3d_Ab4ELZj_",
    "outputId": "acbcf458-4149-4bfd-fab7-ac1ea3ecad80"
   },
   "outputs": [
    {
     "data": {
      "image/png": "[encoded data removed]",
      "text/plain": [
       "<Figure size 576x360 with 1 Axes>"
      ]
     },
     "metadata": {},
     "output_type": "display_data"
    }
   ],
   "source": [
    "# Plotting\n",
    "plt.figure(figsize=(8, 5))\n",
    "plt.plot(airline_df_arrdelay_by_hour.Scheduled_Arrival_Hour.values, airline_df_arrdelay_by_hour.ArrDelayMinutes.values)\n",
    "plt.xlabel(\"Scheduled_Arrival_Hour\")\n",
    "plt.ylabel(\"ArrDelayMinutes\")\n",
    "plt.title(\"Relationship between hour and median arrival delay in minutes\")\n",
    "plt.show()"
   ]
  },
  {
   "cell_type": "markdown",
   "metadata": {
    "id": "sYOVgFNqoZhP"
   },
   "source": [
    "This line chart shares some common patterns with the line chart of section 21. Both indicates 3-4am to be the peak time window of the day when the median delay time topped for both departure and arrival flights. However, there are still recognizable differences. For arrival flights, the median delay time reached bottom at 7am instead of 5am. Also, the peak delay time for arrival flights was 25 minutes, which is only one half of that of departure flights. The minutes gradually increased from 7am to 8pm, standing still at 21 minutes for the rest of the day."
   ]
  },
  {
   "cell_type": "markdown",
   "metadata": {
    "id": "p14g8gl71F2V"
   },
   "source": [
    "### 5.14 Relationship between day of the week and median delay in minutes?\n",
    "#### On arrival"
   ]
  },
  {
   "cell_type": "markdown",
   "metadata": {
    "id": "Pf5K_wu7NC16"
   },
   "source": [
    "In order to extract the day-of-the-week for the flights, we will be using the \"FlightDate\" column."
   ]
  },
  {
   "cell_type": "code",
   "execution_count": null,
   "metadata": {
    "colab": {
     "base_uri": "https://localhost:8080/"
    },
    "id": "FB-yAEr6MO-A",
    "outputId": "117d59df-c5d7-4509-aa10-4207a5569342"
   },
   "outputs": [
    {
     "data": {
      "text/plain": [
       "0        2019-06-11\n",
       "1        2018-04-10\n",
       "2        2019-10-01\n",
       "3        2018-07-27\n",
       "4        2019-03-04\n",
       "            ...    \n",
       "378952   2014-06-09\n",
       "378953   2014-03-09\n",
       "378954   2014-03-30\n",
       "378955   2014-07-23\n",
       "378956   2014-11-22\n",
       "Name: FlightDate, Length: 378957, dtype: datetime64[ns]"
      ]
     },
     "execution_count": 5,
     "metadata": {},
     "output_type": "execute_result"
    }
   ],
   "source": [
    "# Convert to datetime\n",
    "airline_df.FlightDate = pd.to_datetime(airline_df.FlightDate)\n",
    "airline_df.FlightDate"
   ]
  },
  {
   "cell_type": "code",
   "execution_count": null,
   "metadata": {
    "colab": {
     "base_uri": "https://localhost:8080/"
    },
    "id": "cBbAKJgNNTLU",
    "outputId": "407ae974-bb08-4e6b-cdef-e83020d4a072"
   },
   "outputs": [
    {
     "data": {
      "text/plain": [
       "0           Tuesday\n",
       "1           Tuesday\n",
       "2           Tuesday\n",
       "3            Friday\n",
       "4            Monday\n",
       "            ...    \n",
       "378952       Monday\n",
       "378953       Sunday\n",
       "378954       Sunday\n",
       "378955    Wednesday\n",
       "378956     Saturday\n",
       "Name: Day_Of_The_Week, Length: 378957, dtype: object"
      ]
     },
     "execution_count": 6,
     "metadata": {},
     "output_type": "execute_result"
    }
   ],
   "source": [
    "# Convert to day-of-the-week\n",
    "airline_df[\"Day_Of_The_Week\"] = airline_df.FlightDate.dt.day_name()\n",
    "airline_df[\"Day_Of_The_Week\"]"
   ]
  },
  {
   "cell_type": "code",
   "execution_count": null,
   "metadata": {
    "colab": {
     "base_uri": "https://localhost:8080/",
     "height": 300
    },
    "id": "uPjJhkNrLwHj",
    "outputId": "e5ee10c0-21dd-4a1a-a2f4-65d3c2f7b7ee"
   },
   "outputs": [
    {
     "data": {
      "text/html": [
       "\n",
       "  <div id=\"df-86605854-02d8-4ee7-88c3-8dfeb2b74e63\">\n",
       "    <div class=\"colab-df-container\">\n",
       "      <div>\n",
       "<style scoped>\n",
       "    .dataframe tbody tr th:only-of-type {\n",
       "        vertical-align: middle;\n",
       "    }\n",
       "\n",
       "    .dataframe tbody tr th {\n",
       "        vertical-align: top;\n",
       "    }\n",
       "\n",
       "    .dataframe thead th {\n",
       "        text-align: right;\n",
       "    }\n",
       "</style>\n",
       "<table border=\"1\" class=\"dataframe\">\n",
       "  <thead>\n",
       "    <tr style=\"text-align: right;\">\n",
       "      <th></th>\n",
       "      <th>ArrDelayMinutes</th>\n",
       "    </tr>\n",
       "    <tr>\n",
       "      <th>Day_Of_The_Week</th>\n",
       "      <th></th>\n",
       "    </tr>\n",
       "  </thead>\n",
       "  <tbody>\n",
       "    <tr>\n",
       "      <th>Monday</th>\n",
       "      <td>17.0</td>\n",
       "    </tr>\n",
       "    <tr>\n",
       "      <th>Tuesday</th>\n",
       "      <td>15.0</td>\n",
       "    </tr>\n",
       "    <tr>\n",
       "      <th>Wednesday</th>\n",
       "      <td>15.0</td>\n",
       "    </tr>\n",
       "    <tr>\n",
       "      <th>Thursday</th>\n",
       "      <td>17.0</td>\n",
       "    </tr>\n",
       "    <tr>\n",
       "      <th>Friday</th>\n",
       "      <td>16.0</td>\n",
       "    </tr>\n",
       "    <tr>\n",
       "      <th>Saturday</th>\n",
       "      <td>15.0</td>\n",
       "    </tr>\n",
       "    <tr>\n",
       "      <th>Sunday</th>\n",
       "      <td>16.0</td>\n",
       "    </tr>\n",
       "  </tbody>\n",
       "</table>\n",
       "</div>\n",
       "      <button class=\"colab-df-convert\" onclick=\"convertToInteractive('df-86605854-02d8-4ee7-88c3-8dfeb2b74e63')\"\n",
       "              title=\"Convert this dataframe to an interactive table.\"\n",
       "              style=\"display:none;\">\n",
       "        \n",
       "  <svg xmlns=\"http://www.w3.org/2000/svg\" height=\"24px\"viewBox=\"0 0 24 24\"\n",
       "       width=\"24px\">\n",
       "    <path d=\"M0 0h24v24H0V0z\" fill=\"none\"/>\n",
       "    <path d=\"M18.56 5.44l.94 2.06.94-2.06 2.06-.94-2.06-.94-.94-2.06-.94 2.06-2.06.94zm-11 1L8.5 8.5l.94-2.06 2.06-.94-2.06-.94L8.5 2.5l-.94 2.06-2.06.94zm10 10l.94 2.06.94-2.06 2.06-.94-2.06-.94-.94-2.06-.94 2.06-2.06.94z\"/><path d=\"M17.41 7.96l-1.37-1.37c-.4-.4-.92-.59-1.43-.59-.52 0-1.04.2-1.43.59L10.3 9.45l-7.72 7.72c-.78.78-.78 2.05 0 2.83L4 21.41c.39.39.9.59 1.41.59.51 0 1.02-.2 1.41-.59l7.78-7.78 2.81-2.81c.8-.78.8-2.07 0-2.86zM5.41 20L4 18.59l7.72-7.72 1.47 1.35L5.41 20z\"/>\n",
       "  </svg>\n",
       "      </button>\n",
       "      \n",
       "  <style>\n",
       "    .colab-df-container {\n",
       "      display:flex;\n",
       "      flex-wrap:wrap;\n",
       "      gap: 12px;\n",
       "    }\n",
       "\n",
       "    .colab-df-convert {\n",
       "      background-color: #E8F0FE;\n",
       "      border: none;\n",
       "      border-radius: 50%;\n",
       "      cursor: pointer;\n",
       "      display: none;\n",
       "      fill: #1967D2;\n",
       "      height: 32px;\n",
       "      padding: 0 0 0 0;\n",
       "      width: 32px;\n",
       "    }\n",
       "\n",
       "    .colab-df-convert:hover {\n",
       "      background-color: #E2EBFA;\n",
       "      box-shadow: 0px 1px 2px rgba(60, 64, 67, 0.3), 0px 1px 3px 1px rgba(60, 64, 67, 0.15);\n",
       "      fill: #174EA6;\n",
       "    }\n",
       "\n",
       "    [theme=dark] .colab-df-convert {\n",
       "      background-color: #3B4455;\n",
       "      fill: #D2E3FC;\n",
       "    }\n",
       "\n",
       "    [theme=dark] .colab-df-convert:hover {\n",
       "      background-color: #434B5C;\n",
       "      box-shadow: 0px 1px 3px 1px rgba(0, 0, 0, 0.15);\n",
       "      filter: drop-shadow(0px 1px 2px rgba(0, 0, 0, 0.3));\n",
       "      fill: #FFFFFF;\n",
       "    }\n",
       "  </style>\n",
       "\n",
       "      <script>\n",
       "        const buttonEl =\n",
       "          document.querySelector('#df-86605854-02d8-4ee7-88c3-8dfeb2b74e63 button.colab-df-convert');\n",
       "        buttonEl.style.display =\n",
       "          google.colab.kernel.accessAllowed ? 'block' : 'none';\n",
       "\n",
       "        async function convertToInteractive(key) {\n",
       "          const element = document.querySelector('#df-86605854-02d8-4ee7-88c3-8dfeb2b74e63');\n",
       "          const dataTable =\n",
       "            await google.colab.kernel.invokeFunction('convertToInteractive',\n",
       "                                                     [key], {});\n",
       "          if (!dataTable) return;\n",
       "\n",
       "          const docLinkHtml = 'Like what you see? Visit the ' +\n",
       "            '<a target=\"_blank\" href=https://colab.research.google.com/notebooks/data_table.ipynb>data table notebook</a>'\n",
       "            + ' to learn more about interactive tables.';\n",
       "          element.innerHTML = '';\n",
       "          dataTable['output_type'] = 'display_data';\n",
       "          await google.colab.output.renderOutput(dataTable, element);\n",
       "          const docLink = document.createElement('div');\n",
       "          docLink.innerHTML = docLinkHtml;\n",
       "          element.appendChild(docLink);\n",
       "        }\n",
       "      </script>\n",
       "    </div>\n",
       "  </div>\n",
       "  "
      ],
      "text/plain": [
       "                 ArrDelayMinutes\n",
       "Day_Of_The_Week                 \n",
       "Monday                      17.0\n",
       "Tuesday                     15.0\n",
       "Wednesday                   15.0\n",
       "Thursday                    17.0\n",
       "Friday                      16.0\n",
       "Saturday                    15.0\n",
       "Sunday                      16.0"
      ]
     },
     "execution_count": 7,
     "metadata": {},
     "output_type": "execute_result"
    }
   ],
   "source": [
    "airline_df_arrdelay_by_day = airline_df.groupby([\"Day_Of_The_Week\"])[[\"ArrDelayMinutes\"]].median().reset_index()\n",
    "airline_df_arrdelay_by_day = airline_df[airline_df[\"ArrDelayMinutes\"]!=0].groupby([\"Day_Of_The_Week\"])[[\"ArrDelayMinutes\"]].median().reset_index()\n",
    "\n",
    "cats = [ 'Monday', 'Tuesday', 'Wednesday', 'Thursday', 'Friday', 'Saturday', 'Sunday']\n",
    "airline_df_arrdelay_by_day = airline_df_arrdelay_by_day.groupby(['Day_Of_The_Week']).sum().reindex(cats)\n",
    "airline_df_arrdelay_by_day"
   ]
  },
  {
   "cell_type": "code",
   "execution_count": null,
   "metadata": {
    "colab": {
     "base_uri": "https://localhost:8080/",
     "height": 355
    },
    "id": "IOzxd0JJL5db",
    "outputId": "4d0f651b-6a7c-4da1-cb6e-e66339142b36"
   },
   "outputs": [
    {
     "data": {
      "image/png": "[encoded data removed]",
      "text/plain": [
       "<Figure size 576x360 with 1 Axes>"
      ]
     },
     "metadata": {},
     "output_type": "display_data"
    }
   ],
   "source": [
    "# Plotting\n",
    "plt.figure(figsize=(8, 5))\n",
    "plt.plot(airline_df_arrdelay_by_day.index.values, airline_df_arrdelay_by_day.ArrDelayMinutes.values)\n",
    "plt.xlabel(\"Day_Of_The_Week\")\n",
    "plt.ylabel(\"ArrDelayMinutes\")\n",
    "plt.title(\"Relationship between day of the week and median arrival delay in minutes\")\n",
    "plt.show()"
   ]
  },
  {
   "cell_type": "markdown",
   "metadata": {
    "id": "aE53Qg4CMHct"
   },
   "source": [
    "Monday and Thursday witnessed a median delay of 17 minutes which was the highest in the whole week. Sunday's flights had a median arrival delay of 16 minutes. Tuesday, Wednesday, and Saturday shows the lowest minutes: 15 minutes. Overall, Monday and Thursday seemed to be the busiest days of the week where flights tend to arrive with a high delay."
   ]
  },
  {
   "cell_type": "markdown",
   "metadata": {
    "id": "FZ8VV90X1Hls"
   },
   "source": [
    " ### 5.15 Difference between arrival delay (minutes) and departure delay (minutes) for every flight? "
   ]
  },
  {
   "cell_type": "code",
   "execution_count": null,
   "metadata": {
    "colab": {
     "base_uri": "https://localhost:8080/",
     "height": 628
    },
    "id": "KVE_YR_-RQ7r",
    "outputId": "5cde4544-e9f2-4d22-e112-3db7c137622b"
   },
   "outputs": [
    {
     "data": {
      "image/png": "[encoded data removed]",
      "text/plain": [
       "<Figure size 576x360 with 1 Axes>"
      ]
     },
     "metadata": {},
     "output_type": "display_data"
    }
   ],
   "source": [
    "airline_df[\"ArrDeDelayDifferenceMinutes\"] = airline_df[\"ArrDelayMinutes\"] - airline_df[\"DepDelayMinutes\"]\n",
    "\n",
    "# Plotting\n",
    "plt.figure(figsize=(8, 5))\n",
    "plt.hist(airline_df[\"ArrDeDelayDifferenceMinutes\"].values, color='purple', edgecolor='black', bins=100)\n",
    "plt.title('Histogram of Difference between arrival delay and departure delay (minutes)', size=14)\n",
    "plt.xlabel('Minutes', size=12)\n",
    "plt.ylabel('Number of flights', size=12)\n",
    "# plt.rcParams[\"font.size\"] = 12\n",
    "plt.show()"
   ]
  },
  {
   "cell_type": "markdown",
   "metadata": {
    "id": "XduKQ346DOtp"
   },
   "source": [
    "As we can see from the historgarm, most of the differences are 0 minutes. In other words, for most flights, there were no differences between their arrival delay minutes and departure delay minutes. In order to extend our views on the flights that actually had a difference between their two attributes, let's look at a histogram without the 0s."
   ]
  },
  {
   "cell_type": "code",
   "execution_count": null,
   "metadata": {
    "colab": {
     "base_uri": "https://localhost:8080/",
     "height": 628
    },
    "id": "OVrigG0xD_rG",
    "outputId": "43a75def-a5a9-4af8-cfac-98317e079337"
   },
   "outputs": [
    {
     "data": {
      "image/png": "[encoded data removed]",
      "text/plain": [
       "<Figure size 576x360 with 1 Axes>"
      ]
     },
     "metadata": {},
     "output_type": "display_data"
    }
   ],
   "source": [
    "airline_arr_delay_difference_minutes_non_zero = [diff for diff in airline_df[\"ArrDeDelayDifferenceMinutes\"].tolist() if diff != 0]\n",
    "# Drop the NaN values\n",
    "airline_arr_delay_difference_minutes_non_zero = [diff for diff in airline_arr_delay_difference_minutes_non_zero if np.isnan(diff)==False]\n",
    "\n",
    "# Plotting\n",
    "plt.figure(figsize=(8, 5))\n",
    "plt.hist(airline_arr_delay_difference_minutes_non_zero, color='purple', edgecolor='black', bins=100)\n",
    "plt.title('Histogram of Difference between arrival delay and departure delay (minutes)', size=14)\n",
    "plt.xlabel('Minutes', size=12)\n",
    "plt.ylabel('Number of flights', size=12)\n",
    "plt.show()"
   ]
  },
  {
   "cell_type": "markdown",
   "metadata": {
    "id": "A-AGFGK5HZhj"
   },
   "source": [
    "Still, it is hard to generate any insights based on this histogram, which is obviously zoomed out significantly because of an outlier. Let's see what the outlier is."
   ]
  },
  {
   "cell_type": "code",
   "execution_count": null,
   "metadata": {
    "colab": {
     "base_uri": "https://localhost:8080/"
    },
    "id": "iQEId7GHqOON",
    "outputId": "c79d978a-d00e-4080-f093-6361f5e8bc5b"
   },
   "outputs": [
    {
     "data": {
      "text/plain": [
       "328.0"
      ]
     },
     "execution_count": 106,
     "metadata": {},
     "output_type": "execute_result"
    }
   ],
   "source": [
    "max(airline_arr_delay_difference_minutes_non_zero)"
   ]
  },
  {
   "cell_type": "markdown",
   "metadata": {
    "id": "gxaSSYsJqTPi"
   },
   "source": [
    "Let's temporarily leave this outlier out of our scope for the plotting in order to take a better look into the clustered range."
   ]
  },
  {
   "cell_type": "code",
   "execution_count": null,
   "metadata": {
    "colab": {
     "base_uri": "https://localhost:8080/"
    },
    "id": "Q8ZK1Zt8qdJw",
    "outputId": "f3192a29-1784-44d8-d618-7c6bc5ba638c"
   },
   "outputs": [
    {
     "data": {
      "text/plain": [
       "243.0"
      ]
     },
     "execution_count": 107,
     "metadata": {},
     "output_type": "execute_result"
    }
   ],
   "source": [
    "airline_arr_delay_difference_minutes_non_zero.remove(max(airline_arr_delay_difference_minutes_non_zero))\n",
    "max(airline_arr_delay_difference_minutes_non_zero)"
   ]
  },
  {
   "cell_type": "markdown",
   "metadata": {
    "id": "X25x6GGNqrKy"
   },
   "source": [
    "243 should still be considered an outlier, so let's remove that as well. In order to efficiently remove the outliers so that we don't have to do this repeatedly, let's quickly build a function to recursively remove the max value of the list until it reaches an acceptable range. According to the above histogram, let's remove the max until it reaches 100 minutes."
   ]
  },
  {
   "cell_type": "code",
   "execution_count": null,
   "metadata": {
    "id": "sKpmwM_CqwKA"
   },
   "outputs": [],
   "source": [
    "def recursively_remove_max(arr_delay_list):\n",
    "    if max(arr_delay_list) <= 100:\n",
    "        return arr_delay_list\n",
    "    arr_delay_list.remove(max(arr_delay_list))\n",
    "    recursively_remove_max(arr_delay_list)\n",
    "\n",
    "airline_arr_delay_difference_minutes_non_zero = recursively_remove_max(airline_arr_delay_difference_minutes_non_zero)\n",
    "max(airline_arr_delay_difference_minutes_non_zero)"
   ]
  },
  {
   "cell_type": "markdown",
   "metadata": {
    "id": "uUjYYySStte4"
   },
   "source": [
    "Let's plot again."
   ]
  },
  {
   "cell_type": "code",
   "execution_count": null,
   "metadata": {
    "id": "N0Mt9YTdtu9V"
   },
   "outputs": [],
   "source": [
    "# Plotting\n",
    "plt.figure(figsize=(8, 5))\n",
    "plt.hist(airline_arr_delay_difference_minutes_non_zero, color='purple', edgecolor='black', bins=100)\n",
    "plt.title('Histogram of Difference between arrival delay and departure delay (minutes)', size=14)\n",
    "plt.xlabel('Minutes', size=12)\n",
    "plt.ylabel('Number of flights', size=12)\n",
    "plt.show()"
   ]
  },
  {
   "cell_type": "markdown",
   "metadata": {
    "id": "j9UYGyFzt9X7"
   },
   "source": [
    "Much better now. We can see that most of the differences between arrival and departure delay time fell into between -10 and 10 minutes. There were extreme flights where the difference ranged from one hour to a couple hours, including the outliers that we just removed. Looking from a higher level, the overall absolute difference was around 30 minutes."
   ]
  },
  {
   "cell_type": "markdown",
   "metadata": {
    "id": "5Bg74eLsXuP1"
   },
   "source": [
    "### 5.16 Relationship between taxi in/taxi out and delay?\n",
    "#### On departure"
   ]
  },
  {
   "cell_type": "code",
   "execution_count": null,
   "metadata": {
    "colab": {
     "base_uri": "https://localhost:8080/",
     "height": 363
    },
    "id": "-UAAN02hYrrv",
    "outputId": "3fd8a2db-120d-4143-a67b-e6988ad68ee9"
   },
   "outputs": [
    {
     "data": {
      "image/png": "[encoded data removed]",
      "text/plain": [
       "<Figure size 576x360 with 1 Axes>"
      ]
     },
     "metadata": {},
     "output_type": "display_data"
    }
   ],
   "source": [
    "plt.figure(figsize=(8, 5))\n",
    "plt.scatter(x=airline_df.TaxiIn, y=airline_df.DepDelayMinutes, c='blue', linewidths = 2, edgecolor='black')\n",
    "plt.xscale('log', basex=2)\n",
    "plt.yscale('log', basey=2)\n",
    "plt.title('Scatter plot of Taxi In and Departure delay (minutes)', size=14)\n",
    "plt.xlabel('TaxiIn (minutes) Log 2', size=12)\n",
    "plt.ylabel('Departure Delay (minutes) Log 2', size=12)\n",
    "plt.autoscale()\n",
    "plt.show()"
   ]
  },
  {
   "cell_type": "markdown",
   "metadata": {
    "id": "6A3Cgy-0blwP"
   },
   "source": [
    "#### On arrival"
   ]
  },
  {
   "cell_type": "code",
   "execution_count": null,
   "metadata": {
    "colab": {
     "base_uri": "https://localhost:8080/",
     "height": 363
    },
    "id": "ZVWwi7gAbSxg",
    "outputId": "24252d3a-645e-460e-f6e6-4b8a56c8995d"
   },
   "outputs": [
    {
     "data": {
      "image/png": "[encoded data removed]",
      "text/plain": [
       "<Figure size 576x360 with 1 Axes>"
      ]
     },
     "metadata": {},
     "output_type": "display_data"
    }
   ],
   "source": [
    "plt.figure(figsize=(8, 5))\n",
    "plt.scatter(x=airline_df.TaxiOut, y=airline_df.ArrDelayMinutes, c='blue', linewidths = 2, edgecolor='black')\n",
    "plt.xscale('log', basex=2)\n",
    "plt.yscale('log', basey=2)\n",
    "plt.title('Scatter plot of Taxi Out and Arrival delay (minutes)', size=14)\n",
    "plt.xlabel('TaxiOut (minutes) Log 2', size=12)\n",
    "plt.ylabel('Arrival Delay (minutes) Log 2', size=12)\n",
    "plt.autoscale()\n",
    "plt.show()"
   ]
  },
  {
   "cell_type": "markdown",
   "metadata": {
    "id": "oKGY3XOhaPOj"
   },
   "source": [
    "#### Observation"
   ]
  },
  {
   "cell_type": "markdown",
   "metadata": {
    "id": "H0xkDIlyiTV5"
   },
   "source": [
    "The only significant similarity that we can draw from the two scatter plots is that there is no recognizable pattern between the two pairs of attributes. The Taxi In and Taxi Out time seemed to not have a direct relationship with flight delay minutes. Spending a slightly longer time on the runway doesn't necessarily mean the flight will either depart or arrive later than the intended time."
   ]
  }
 ],
 "metadata": {
  "accelerator": "GPU",
  "colab": {
   "collapsed_sections": [],
   "name": "Final Project Notebook.ipynb",
   "provenance": []
  },
  "kernelspec": {
   "display_name": "Python 3",
   "language": "python",
   "name": "python3"
  },
  "language_info": {
   "codemirror_mode": {
    "name": "ipython",
    "version": 3
   },
   "file_extension": ".py",
   "mimetype": "text/x-python",
   "name": "python",
   "nbconvert_exporter": "python",
   "pygments_lexer": "ipython3",
   "version": "3.8.8"
  }
 },
 "nbformat": 4,
 "nbformat_minor": 4
}
