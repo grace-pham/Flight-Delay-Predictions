{
 "cells": [
  {
   "cell_type": "markdown",
   "metadata": {
    "id": "SgFFK-fnCA6D"
   },
   "source": [
    "# Exploratory Data Analysis\n",
    "## Author: Grace Pham, Heidi Tran, Jessica Jha, Khanh Tran"
   ]
  },
  {
   "cell_type": "markdown",
   "metadata": {
    "id": "WIJT-xo2QdRI"
   },
   "source": [
    "In order to downsize the data, a local cluster of sample code from the IBM notebook was run on Apache Spark, an open-source cloud clustering platform. A smaller subset of data was able to be extracted so that all of our group members were able to have access to the same data to split pre-processing tasks. \n",
    " \n"
   ]
  },
  {
   "cell_type": "markdown",
   "metadata": {
    "id": "YuXzpDLPCA6V"
   },
   "source": [
    "### Data Dictionary\n",
    "\n",
    "\n",
    "| Field Name | Type | Description |\n",
    "| --- | --- | --- |\n",
    "| Year | int64 | year of the flight |\n",
    "| Month | int64 | month of the flight  |\n",
    "| DayofMonth | int64 | day of the month  |\n",
    "| FlightDate | datetime64[ns] | date of the flight |\n",
    "| Reporting_Airline | object | unique airline carrier code|\n",
    "| DOT_ID_Reporting_Airline | int64 | Number assigned by US DOT to identify a unique airline |\n",
    "| IATA_CODE_Reporting_Airline | object | Airline Code assigned by IATA |\n",
    "| Tail_Number | object | Aircraft tail number |\n",
    "| Flight_Number_Reporting_Airline | int64 | Flight Number |\n",
    "| OriginAirportID | int64 | Origin Airport ID |\n",
    "| OriginAirportSeqID | int64 | Origin Airport Sequence ID |\n",
    "| OriginCityMarketID | int64 | Origin City Market ID |\n",
    "| Origin | object | Origin Airport Code|\n",
    "| OriginCityName | object | Origin City Name |\n",
    "| OriginState | object | Origin State | \n",
    "| OriginStateFips | int64 | Origin State FIPS place code | \n",
    "| DestAirportID | int64 | Destination Airport ID |\n",
    "| DestAirportSeqID | int64 | Destination Airport Sequence ID |\n",
    "| OriginWac | int64 | Origin Airport World Area Code |\n",
    "| DestCityMarketID | int64 | Destination City Market ID |\n",
    "| Dest | object | Destination Airport Code |\n",
    "| DestCityName | object | Destination City Name | \n",
    "| DestState | object | Destination State | \n",
    "| DestStateFips | int64 | Destination State FIPS code |\n",
    "| DestStateName | object | Destination State Name |\n",
    "| DestWac | int64 | Destination Airport World Area Code |\n",
    "| CRSDepTime | int64 | Computer Reservation System (scheduled) Departure Time |\n",
    "| DepTime | float64 | Departure Time (hhmm) |\n",
    "| DepDelay | float64 | Departure delay (minutes) |\n",
    "| DepDelayMinutes | float64 | Absolute value of DepDelay |\n",
    "| DepartureDelayGroups | float64 | Departure delay 15 minute interval group |\n",
    "| DepTimeBlk | object | Computer Reservation System (scheduled) time block |\n",
    "| TaxiOut | float64 | Taxi out time (minutes) |\n",
    "| WheelsOff | float64 | Wheels off time (local time, hhmm) |\n",
    "| WheelsOn | float64 | Wheels on time (local time hhmm) |\n",
    "| TaxiIn | float64 | Taxi in time (minutes) |\n",
    "| CRSArrTime | int64 | Computer Reservation System (scheduled)\n",
    "Arrival Time |\n",
    "| ArrTime | float64 | Arrival time (local time, hhmm) |\n",
    "| ArrDelay | float64 | Arrival delay (minutes) |\n",
    "| ArrDelayMinutes | float64 | Absolute value of ArrDelay |\n",
    "| ArrDel15 | float64 | Arrival Delay >15? |\n",
    "| ArrivalDelayGroups | float64 | Arrival delay 15 minute  interval group |\n",
    "| ArrTimeBlk | object | Computer Reservation System (scheduled) arrival time block |\n",
    "| Cancelled | float64 | 1 = canceled |\n",
    "| Diverted | float64 | 1 = diverted |\n",
    "| CRSElapsedTime | float64 | Computer Reservation System (scheduled) elapsed time |\n",
    "| ActualElapsedTime | float64 | Actual elapsed time |\n",
    "| AirTime | float64 | Flight time (minutes) |\n",
    "| Distance | float64 | Distance between airports (miles) |\n",
    "| DistanceGroup | int64 | 250 mile distance interval group |\n",
    "| CarrierDelay | float64 | Carrier delay (minutes) |\n",
    "| WeatherDelay | float64 | Weather delay (minutes) |\n",
    "| NASDelay | float64 | National Air System delay (minutes) |\n",
    "| SecurityDelay | float64 | Security delay (minutes) |\n",
    "| LateAircraftDelay | float64 | Late aircraft delay (minutes) |\n",
    "| DivAirportLandings | int64 | Number of diverted airport landings |                     "
   ]
  },
  {
   "cell_type": "markdown",
   "metadata": {
    "id": "D8D92Q09rlZb"
   },
   "source": [
    "### Import packages"
   ]
  },
  {
   "cell_type": "code",
   "execution_count": 1,
   "metadata": {
    "id": "6II79_YcrhoC"
   },
   "outputs": [],
   "source": [
    "import sys\n",
    "import json\n",
    "import pandas as pd\n",
    "import numpy as np\n",
    "import seaborn as sns\n",
    "import sklearn\n",
    "import matplotlib.pyplot as plt\n",
    "#from google.colab import data_table\n",
    "# import <put_your_packages_here>\n",
    "\n",
    "# Config seaborn\n",
    "sns.set(rc={\"figure.figsize\":(12, 10)})\n",
    "sns.set_style(\"whitegrid\")"
   ]
  },
  {
   "cell_type": "markdown",
   "metadata": {
    "id": "sbEv7XdAr-LJ"
   },
   "source": [
    "### Common utilities that we can re-use.\n",
    "\n",
    "these functions were given to us by IBM sample notebook"
   ]
  },
  {
   "cell_type": "code",
   "execution_count": 2,
   "metadata": {
    "id": "bohAZlYorf9z"
   },
   "outputs": [],
   "source": [
    "from re import I\n",
    "def reduce_mem_usage(df: pd.DataFrame) -> pd.DataFrame:\n",
    "    \"\"\"Iterate through all the columns of a dataframe and modify the data type to reduce memory usage.\n",
    "        I doubt that we would use up what Colab gives us in the free tier, but still it's a helpful util.\n",
    "    :param df: pandas DataFrame    \n",
    "    \"\"\"\n",
    "    start_mem = df.memory_usage().sum() / 1024**2\n",
    "    print('Memory usage of dataframe is {:.2f} MB'.format(start_mem))\n",
    "    \n",
    "    for col in df.columns:\n",
    "        col_type = df[col].dtype\n",
    "        \n",
    "        if col_type != object:\n",
    "            c_min = df[col].min()\n",
    "            c_max = df[col].max()\n",
    "            if str(col_type)[:3] == 'int':\n",
    "                if c_min > np.iinfo(np.int8).min and c_max < np.iinfo(np.int8).max:\n",
    "                    df[col] = df[col].astype(np.int8)\n",
    "                elif c_min > np.iinfo(np.int16).min and c_max < np.iinfo(np.int16).max:\n",
    "                    df[col] = df[col].astype(np.int16)\n",
    "                elif c_min > np.iinfo(np.int32).min and c_max < np.iinfo(np.int32).max:\n",
    "                    df[col] = df[col].astype(np.int32)\n",
    "                elif c_min > np.iinfo(np.int64).min and c_max < np.iinfo(np.int64).max:\n",
    "                    df[col] = df[col].astype(np.int64)  \n",
    "            else:\n",
    "                if c_min > np.finfo(np.float16).min and c_max < np.finfo(np.float16).max:\n",
    "                    df[col] = df[col].astype(np.float16)\n",
    "                elif c_min > np.finfo(np.float32).min and c_max < np.finfo(np.float32).max:\n",
    "                    df[col] = df[col].astype(np.float32)\n",
    "                else:\n",
    "                    df[col] = df[col].astype(np.float64)\n",
    "        else:\n",
    "            df[col] = df[col].astype('category')\n",
    "\n",
    "    end_mem = df.memory_usage().sum() / 1024**2\n",
    "    print('Memory usage after optimization is: {:.2f} MB'.format(end_mem))\n",
    "    print('Decreased by {:.1f}%'.format(100 * (start_mem - end_mem) / start_mem))\n",
    "    \n",
    "    return df\n",
    "\n",
    "\n",
    "def import_data(file: str, json=False) -> pd.DataFrame:\n",
    "    \"\"\"Create a dataframe and optimize its memory usage\n",
    "    :param file: filepath.\n",
    "    \"\"\"\n",
    "    if json:\n",
    "        try:\n",
    "            df = pd.read_json(file)\n",
    "            df = reduce_mem_usage(df)\n",
    "        except ValueError:\n",
    "            df = pd.read_json(file, lines=True)\n",
    "            df = reduce_mem_usage(df)\n",
    "    elif not json:\n",
    "        df = pd.read_csv(file, parse_dates=True, keep_date_col=True)\n",
    "        df = reduce_mem_usage(df)\n",
    "    return df\n",
    "\n",
    "\n",
    "# TODO: Feel free to write the function.\n",
    "def get_data_from_api():\n",
    "    \"\"\"\n",
    "    \"\"\"\n",
    "    pass\n",
    "\n",
    "    \n",
    "def index_file_checker(df, col_name):\n",
    "    \"\"\"\n",
    "    \"\"\"\n",
    "    return df[df[col_name].isnull()].index.tolist()\n",
    "\n",
    "\n",
    "def check_field(df, col_name):\n",
    "    \"\"\"\n",
    "    \"\"\"\n",
    "    ind_miss = index_file_checker(df=df, col_name=col_name)\n",
    "    \n",
    "    if ind_miss == []:\n",
    "        print(\"No Null values of {x}\".format(x = col_name))\n",
    "        if len(df) == len(df[col_name].unique()):\n",
    "            print(\"All records of {x} is populated for the \\\"M Field\\\" and are unique\".format(x = col_name))\n",
    "            \n",
    "    else:\n",
    "        pctMissing = 100*(len(ind_miss)/len(df))\n",
    "        print(f\"Percentage of missing {col_name} field: {pctMissing:.2f}%\")\n",
    "\n",
    "\n",
    "def check_duplicate_values(df: pd.DataFrame, col_name: str =None):\n",
    "    '''Check for duplicate values in a given column in a given dataframe. If no column is given, only check for duplicate rows in the dataframe.\n",
    "    '''\n",
    "    try:\n",
    "        if col_name is not None:\n",
    "            dups = df.duplicated(subset=[col_name], keep='first')\n",
    "            len_dups = len(dups[dups==True])\n",
    "            percent_dups = 100*len_dups/len(df)\n",
    "\n",
    "            if len_dups == 0:\n",
    "                print(f\"\\nNo duplicate values in {col_name} field.\")\n",
    "            elif len_dups > 0:\n",
    "                print(f\"\\nPercentage of duplicate values in {col_name} field: {percent_dups}\")\n",
    "                print(f\"Percentage of unique values in {col_name} field: {100-percent_dups}\")\n",
    "        elif col_name is None:\n",
    "            dups = df.duplicated(keep='first')\n",
    "            len_dups = len(dups[dups==True])\n",
    "            percent_dups = 100*len_dups/len(df)\n",
    "            \n",
    "            if len_dups == 0:\n",
    "                print(f\"\\nNo duplicate rows in dataframe.\")\n",
    "            elif len_dups > 0:\n",
    "                print(f\"\\nPercentage of duplicate rows in dataframe: {percent_dups}\")\n",
    "                print(f\"\\nPercentage of unique rows in dataframe: {100-percent_dups}\")\n",
    "    except Exception as e:\n",
    "        print(e)\n",
    "\n",
    "\n",
    "def calculate_bound_values(df, col_name):\n",
    "  ''' Calculate lower and upper bound value for given column in the dataframe\n",
    "  '''\n",
    "  Q1 = df[col_name].quantile(0.25)\n",
    "  Q3 = df[col_name].quantile(0.75)\n",
    "  IQR = Q3 - Q1\n",
    "  lower_bound = Q1 - 1.5 * IQR\n",
    "  upper_bound = Q3 + 1.5 * IQR\n",
    "  return (lower_bound, upper_bound)\n",
    "\n",
    "\n",
    "def check_outliers(df: pd.DataFrame, col_name: str = None):\n",
    "  '''Print out information about the lower boundary, upper boundary and percentage of outliers\n",
    "  '''\n",
    "  lower_bound, upper_bound = calculate_bound_values(df, col_name)\n",
    "  \n",
    "  outliers_lower = df[col_name][df[col_name] < lower_bound]\n",
    "  outliers_upper = df[col_name][df[col_name] > upper_bound]\n",
    "  outliers_cnt = len(outliers_lower) + len(outliers_upper)\n",
    "  outliers_pct = (outliers_cnt * 100) / len(df[col_name])\n",
    "  print(f\"Column: {col_name}. Lower boundary: {lower_bound}. Upper boundary: {upper_bound}. Percentage of outliers: {outliers_pct:.2f}%\")\n",
    "\n",
    "\n",
    "def remove_outliers(df, col_name):\n",
    "  '''Replace outliers at given column with null values\n",
    "  '''\n",
    "  lower_bound, upper_bound = calculate_bound_values(df, col_name)\n",
    "  df[col_name] = df[col_name][(df[col_name] < upper_bound) & (df[col_name] > lower_bound)]\n",
    "  \n",
    "\n",
    "def get_numeric_cols(df: pd.DataFrame):\n",
    "  '''Return the names of all the numeric columns in a Data Frame\n",
    "  '''\n",
    "  return list(df.select_dtypes(include=[np.number]).columns.values)\n",
    "\n",
    "\n",
    "def drop_col(df: pd.DataFrame, col_name: str = None) -> pd.DataFrame:\n",
    "  '''Drop a column in a Data Frame and return the new Data Frame\n",
    "  '''\n",
    "  return df.drop(col_name, axis='columns')\n",
    "\n",
    "\n",
    "def drop_cols_with_missing_val_threshold(df, threshold): \n",
    "  '''Drop columns which has percentage of missing value surpassed the input threshold\n",
    "  Return a new dataframe in which unqualified columns has been dropped\n",
    "  '''\n",
    "  threshold_percentage = len(df) * threshold\n",
    "  return df.dropna(thresh=threshold_percentage, axis=1)\n",
    "\n",
    "\n",
    "def display_bar_char(xName: str, yName: str, df: pd.DataFrame, orient: str, figSize: (int, int), title: str):\n",
    "    fig = plt.figure(figsize=figSize)\n",
    "    ax = plt.axes()\n",
    "    sns.barplot(x = xName, y = yName, data = df, orient = orient, ax = ax).set(title = title)"
   ]
  },
  {
   "cell_type": "code",
   "execution_count": 6,
   "metadata": {
    "id": "29fvsFSusaVC"
   },
   "outputs": [],
   "source": [
    "airline_df = pd.read_csv(\"./data/airlines_updated.csv\")\n",
    "airportMapping = pd.read_csv(\"./data/AirlineCodeMapping.csv\")"
   ]
  },
  {
   "cell_type": "markdown",
   "metadata": {},
   "source": [
    "## Review preprocessing Steps:"
   ]
  },
  {
   "cell_type": "markdown",
   "metadata": {
    "id": "4OpXmDTE69nu"
   },
   "source": [
    "### First 5 rows"
   ]
  },
  {
   "cell_type": "code",
   "execution_count": null,
   "metadata": {
    "colab": {
     "base_uri": "https://localhost:8080/",
     "height": 299
    },
    "id": "z_A3TzBPzHQ9",
    "outputId": "a18e1358-8312-4d7f-d045-7724f0d02860"
   },
   "outputs": [
    {
     "data": {
      "text/html": [
       "<div>\n",
       "<style scoped>\n",
       "    .dataframe tbody tr th:only-of-type {\n",
       "        vertical-align: middle;\n",
       "    }\n",
       "\n",
       "    .dataframe tbody tr th {\n",
       "        vertical-align: top;\n",
       "    }\n",
       "\n",
       "    .dataframe thead th {\n",
       "        text-align: right;\n",
       "    }\n",
       "</style>\n",
       "<table border=\"1\" class=\"dataframe\">\n",
       "  <thead>\n",
       "    <tr style=\"text-align: right;\">\n",
       "      <th></th>\n",
       "      <th>Year</th>\n",
       "      <th>Quarter</th>\n",
       "      <th>Month</th>\n",
       "      <th>DayofMonth</th>\n",
       "      <th>DayOfWeek</th>\n",
       "      <th>FlightDate</th>\n",
       "      <th>Reporting_Airline</th>\n",
       "      <th>DOT_ID_Reporting_Airline</th>\n",
       "      <th>IATA_CODE_Reporting_Airline</th>\n",
       "      <th>Tail_Number</th>\n",
       "      <th>...</th>\n",
       "      <th>Div4WheelsOff</th>\n",
       "      <th>Div4TailNum</th>\n",
       "      <th>Div5Airport</th>\n",
       "      <th>Div5AirportID</th>\n",
       "      <th>Div5AirportSeqID</th>\n",
       "      <th>Div5WheelsOn</th>\n",
       "      <th>Div5TotalGTime</th>\n",
       "      <th>Div5LongestGTime</th>\n",
       "      <th>Div5WheelsOff</th>\n",
       "      <th>Div5TailNum</th>\n",
       "    </tr>\n",
       "  </thead>\n",
       "  <tbody>\n",
       "    <tr>\n",
       "      <th>0</th>\n",
       "      <td>2019</td>\n",
       "      <td>2</td>\n",
       "      <td>6</td>\n",
       "      <td>11</td>\n",
       "      <td>2</td>\n",
       "      <td>2019-06-11</td>\n",
       "      <td>9E</td>\n",
       "      <td>20363</td>\n",
       "      <td>9E</td>\n",
       "      <td>N927XJ</td>\n",
       "      <td>...</td>\n",
       "      <td>NaN</td>\n",
       "      <td>NaN</td>\n",
       "      <td>NaN</td>\n",
       "      <td>NaN</td>\n",
       "      <td>NaN</td>\n",
       "      <td>NaN</td>\n",
       "      <td>NaN</td>\n",
       "      <td>NaN</td>\n",
       "      <td>NaN</td>\n",
       "      <td>NaN</td>\n",
       "    </tr>\n",
       "    <tr>\n",
       "      <th>1</th>\n",
       "      <td>2018</td>\n",
       "      <td>1</td>\n",
       "      <td>2</td>\n",
       "      <td>8</td>\n",
       "      <td>4</td>\n",
       "      <td>2018-02-08</td>\n",
       "      <td>WN</td>\n",
       "      <td>19393</td>\n",
       "      <td>WN</td>\n",
       "      <td>N8688J</td>\n",
       "      <td>...</td>\n",
       "      <td>NaN</td>\n",
       "      <td>NaN</td>\n",
       "      <td>NaN</td>\n",
       "      <td>NaN</td>\n",
       "      <td>NaN</td>\n",
       "      <td>NaN</td>\n",
       "      <td>NaN</td>\n",
       "      <td>NaN</td>\n",
       "      <td>NaN</td>\n",
       "      <td>NaN</td>\n",
       "    </tr>\n",
       "    <tr>\n",
       "      <th>2</th>\n",
       "      <td>2014</td>\n",
       "      <td>2</td>\n",
       "      <td>4</td>\n",
       "      <td>3</td>\n",
       "      <td>4</td>\n",
       "      <td>2014-04-03</td>\n",
       "      <td>WN</td>\n",
       "      <td>19393</td>\n",
       "      <td>WN</td>\n",
       "      <td>N374SW</td>\n",
       "      <td>...</td>\n",
       "      <td>NaN</td>\n",
       "      <td>NaN</td>\n",
       "      <td>NaN</td>\n",
       "      <td>NaN</td>\n",
       "      <td>NaN</td>\n",
       "      <td>NaN</td>\n",
       "      <td>NaN</td>\n",
       "      <td>NaN</td>\n",
       "      <td>NaN</td>\n",
       "      <td>NaN</td>\n",
       "    </tr>\n",
       "    <tr>\n",
       "      <th>3</th>\n",
       "      <td>2015</td>\n",
       "      <td>3</td>\n",
       "      <td>9</td>\n",
       "      <td>5</td>\n",
       "      <td>6</td>\n",
       "      <td>2015-09-05</td>\n",
       "      <td>AS</td>\n",
       "      <td>19930</td>\n",
       "      <td>AS</td>\n",
       "      <td>N589AS</td>\n",
       "      <td>...</td>\n",
       "      <td>NaN</td>\n",
       "      <td>NaN</td>\n",
       "      <td>NaN</td>\n",
       "      <td>NaN</td>\n",
       "      <td>NaN</td>\n",
       "      <td>NaN</td>\n",
       "      <td>NaN</td>\n",
       "      <td>NaN</td>\n",
       "      <td>NaN</td>\n",
       "      <td>NaN</td>\n",
       "    </tr>\n",
       "    <tr>\n",
       "      <th>4</th>\n",
       "      <td>2017</td>\n",
       "      <td>3</td>\n",
       "      <td>7</td>\n",
       "      <td>26</td>\n",
       "      <td>3</td>\n",
       "      <td>2017-07-26</td>\n",
       "      <td>WN</td>\n",
       "      <td>19393</td>\n",
       "      <td>WN</td>\n",
       "      <td>N252WN</td>\n",
       "      <td>...</td>\n",
       "      <td>NaN</td>\n",
       "      <td>NaN</td>\n",
       "      <td>NaN</td>\n",
       "      <td>NaN</td>\n",
       "      <td>NaN</td>\n",
       "      <td>NaN</td>\n",
       "      <td>NaN</td>\n",
       "      <td>NaN</td>\n",
       "      <td>NaN</td>\n",
       "      <td>NaN</td>\n",
       "    </tr>\n",
       "  </tbody>\n",
       "</table>\n",
       "<p>5 rows × 109 columns</p>\n",
       "</div>"
      ],
      "text/plain": [
       "   Year  Quarter  Month  DayofMonth  DayOfWeek  FlightDate Reporting_Airline  \\\n",
       "0  2019        2      6          11          2  2019-06-11                9E   \n",
       "1  2018        1      2           8          4  2018-02-08                WN   \n",
       "2  2014        2      4           3          4  2014-04-03                WN   \n",
       "3  2015        3      9           5          6  2015-09-05                AS   \n",
       "4  2017        3      7          26          3  2017-07-26                WN   \n",
       "\n",
       "   DOT_ID_Reporting_Airline IATA_CODE_Reporting_Airline Tail_Number  ...  \\\n",
       "0                     20363                          9E      N927XJ  ...   \n",
       "1                     19393                          WN      N8688J  ...   \n",
       "2                     19393                          WN      N374SW  ...   \n",
       "3                     19930                          AS      N589AS  ...   \n",
       "4                     19393                          WN      N252WN  ...   \n",
       "\n",
       "   Div4WheelsOff  Div4TailNum  Div5Airport  Div5AirportID Div5AirportSeqID  \\\n",
       "0            NaN          NaN          NaN            NaN              NaN   \n",
       "1            NaN          NaN          NaN            NaN              NaN   \n",
       "2            NaN          NaN          NaN            NaN              NaN   \n",
       "3            NaN          NaN          NaN            NaN              NaN   \n",
       "4            NaN          NaN          NaN            NaN              NaN   \n",
       "\n",
       "  Div5WheelsOn Div5TotalGTime  Div5LongestGTime Div5WheelsOff  Div5TailNum  \n",
       "0          NaN            NaN               NaN           NaN          NaN  \n",
       "1          NaN            NaN               NaN           NaN          NaN  \n",
       "2          NaN            NaN               NaN           NaN          NaN  \n",
       "3          NaN            NaN               NaN           NaN          NaN  \n",
       "4          NaN            NaN               NaN           NaN          NaN  \n",
       "\n",
       "[5 rows x 109 columns]"
      ]
     },
     "execution_count": 46,
     "metadata": {},
     "output_type": "execute_result"
    }
   ],
   "source": [
    "airline_df.head()"
   ]
  },
  {
   "cell_type": "markdown",
   "metadata": {
    "id": "iN_fnn2fAakg"
   },
   "source": [
    "### Columns"
   ]
  },
  {
   "cell_type": "code",
   "execution_count": null,
   "metadata": {
    "id": "UCOENA-97Rwq",
    "outputId": "20fe1cd3-29b0-41e0-c239-528600bc27b0",
    "scrolled": true
   },
   "outputs": [
    {
     "data": {
      "text/plain": [
       "['Year',\n",
       " 'Quarter',\n",
       " 'Month',\n",
       " 'DayofMonth',\n",
       " 'DayOfWeek',\n",
       " 'FlightDate',\n",
       " 'Reporting_Airline',\n",
       " 'DOT_ID_Reporting_Airline',\n",
       " 'IATA_CODE_Reporting_Airline',\n",
       " 'Tail_Number',\n",
       " 'Flight_Number_Reporting_Airline',\n",
       " 'OriginAirportID',\n",
       " 'OriginAirportSeqID',\n",
       " 'OriginCityMarketID',\n",
       " 'Origin',\n",
       " 'OriginCityName',\n",
       " 'OriginState',\n",
       " 'OriginStateFips',\n",
       " 'OriginStateName',\n",
       " 'OriginWac',\n",
       " 'DestAirportID',\n",
       " 'DestAirportSeqID',\n",
       " 'DestCityMarketID',\n",
       " 'Dest',\n",
       " 'DestCityName',\n",
       " 'DestState',\n",
       " 'DestStateFips',\n",
       " 'DestStateName',\n",
       " 'DestWac',\n",
       " 'CRSDepTime',\n",
       " 'DepTime',\n",
       " 'DepDelay',\n",
       " 'DepDelayMinutes',\n",
       " 'DepDel15',\n",
       " 'DepartureDelayGroups',\n",
       " 'DepTimeBlk',\n",
       " 'TaxiOut',\n",
       " 'WheelsOff',\n",
       " 'WheelsOn',\n",
       " 'TaxiIn',\n",
       " 'CRSArrTime',\n",
       " 'ArrTime',\n",
       " 'ArrDelay',\n",
       " 'ArrDelayMinutes',\n",
       " 'ArrDel15',\n",
       " 'ArrivalDelayGroups',\n",
       " 'ArrTimeBlk',\n",
       " 'Cancelled',\n",
       " 'CancellationCode',\n",
       " 'Diverted',\n",
       " 'CRSElapsedTime',\n",
       " 'ActualElapsedTime',\n",
       " 'AirTime',\n",
       " 'Flights',\n",
       " 'Distance',\n",
       " 'DistanceGroup',\n",
       " 'CarrierDelay',\n",
       " 'WeatherDelay',\n",
       " 'NASDelay',\n",
       " 'SecurityDelay',\n",
       " 'LateAircraftDelay',\n",
       " 'FirstDepTime',\n",
       " 'TotalAddGTime',\n",
       " 'LongestAddGTime',\n",
       " 'DivAirportLandings',\n",
       " 'DivReachedDest',\n",
       " 'DivActualElapsedTime',\n",
       " 'DivArrDelay',\n",
       " 'DivDistance',\n",
       " 'Div1Airport',\n",
       " 'Div1AirportID',\n",
       " 'Div1AirportSeqID',\n",
       " 'Div1WheelsOn',\n",
       " 'Div1TotalGTime',\n",
       " 'Div1LongestGTime',\n",
       " 'Div1WheelsOff',\n",
       " 'Div1TailNum',\n",
       " 'Div2Airport',\n",
       " 'Div2AirportID',\n",
       " 'Div2AirportSeqID',\n",
       " 'Div2WheelsOn',\n",
       " 'Div2TotalGTime',\n",
       " 'Div2LongestGTime',\n",
       " 'Div2WheelsOff',\n",
       " 'Div2TailNum',\n",
       " 'Div3Airport',\n",
       " 'Div3AirportID',\n",
       " 'Div3AirportSeqID',\n",
       " 'Div3WheelsOn',\n",
       " 'Div3TotalGTime',\n",
       " 'Div3LongestGTime',\n",
       " 'Div3WheelsOff',\n",
       " 'Div3TailNum',\n",
       " 'Div4Airport',\n",
       " 'Div4AirportID',\n",
       " 'Div4AirportSeqID',\n",
       " 'Div4WheelsOn',\n",
       " 'Div4TotalGTime',\n",
       " 'Div4LongestGTime',\n",
       " 'Div4WheelsOff',\n",
       " 'Div4TailNum',\n",
       " 'Div5Airport',\n",
       " 'Div5AirportID',\n",
       " 'Div5AirportSeqID',\n",
       " 'Div5WheelsOn',\n",
       " 'Div5TotalGTime',\n",
       " 'Div5LongestGTime',\n",
       " 'Div5WheelsOff',\n",
       " 'Div5TailNum']"
      ]
     },
     "execution_count": 47,
     "metadata": {},
     "output_type": "execute_result"
    }
   ],
   "source": [
    "list(airline_df.columns)"
   ]
  },
  {
   "cell_type": "markdown",
   "metadata": {
    "id": "EcaDrsy1VXjV"
   },
   "source": [
    "### Drop `Flights` column\n",
    "\t\n",
    "The `Flights` column indicates the number of flights, which is usually only \"1\" in the dataset, so this column would not be beneficial for our analysis."
   ]
  },
  {
   "cell_type": "code",
   "execution_count": null,
   "metadata": {
    "id": "uFzdI_LjVXjW"
   },
   "outputs": [],
   "source": [
    "airline_df = drop_col(airline_df, \"Flights\")"
   ]
  },
  {
   "cell_type": "markdown",
   "metadata": {
    "id": "isJ0igzVIcq0"
   },
   "source": [
    "### Drop `Quarter` and `DayOfWeek` column\n",
    "We don't plan to use these two columns for analysis. Furthermore, the `FlightDate` column already gives us enough information to recalculate quarter and day of week if necessary."
   ]
  },
  {
   "cell_type": "code",
   "execution_count": null,
   "metadata": {
    "id": "XeqKoq6IIkx9"
   },
   "outputs": [],
   "source": [
    "airline_df = drop_col(airline_df, \"Quarter\")\n",
    "airline_df = drop_col(airline_df, \"DayOfWeek\")"
   ]
  },
  {
   "cell_type": "markdown",
   "metadata": {
    "id": "iZFy8rMGCA6X"
   },
   "source": [
    "### Drop   `OriginStateName` column \n",
    "There is already an `OriginState` column which has the state abbreviations which we can use for our analysis. Therefore, dropping this column would help condense our values and have our dataset be less redundant."
   ]
  },
  {
   "cell_type": "code",
   "execution_count": null,
   "metadata": {
    "id": "iCI3TQTvCA6W"
   },
   "outputs": [],
   "source": [
    "airline_df = airline_df.drop(columns=['OriginStateName'], axis=1)"
   ]
  },
  {
   "cell_type": "markdown",
   "metadata": {
    "id": "OPfJu7lyVXjX"
   },
   "source": [
    "### Drop column `DepDel15`\n",
    "The `DepDel15` column indicates that the delay for departure was greater than 15 minutes as a boolean (1 for delay greater than 15 minutes, 0 for delays less than 15 minutes). We are keeping other columns which have actual minute values (such as `DepDelay` and `DepDelayMinutes` so we do not need another indicator of departure delays."
   ]
  },
  {
   "cell_type": "code",
   "execution_count": null,
   "metadata": {
    "id": "eQJ8bwcwVXjX"
   },
   "outputs": [],
   "source": [
    "airline_df = drop_col(airline_df, \"DepDel15\")"
   ]
  },
  {
   "cell_type": "markdown",
   "metadata": {
    "id": "9AQ_QqDEVXjX"
   },
   "source": [
    "### Drop column `ArrDel15`\n",
    "The `ArrDel15` column indicates that the arrival time delay was greater than 15 minutes as a boolean (1 for delay greater than 15 minutes, 0 for delays less than 15 minutes). We are keeping other columns which have actual minute values (such as `ArrDelay` and `ArrDelayMinutes` so we do not need another indicator of arrival delays."
   ]
  },
  {
   "cell_type": "code",
   "execution_count": null,
   "metadata": {
    "id": "jKQhbmgOVXjY"
   },
   "outputs": [],
   "source": [
    "airline_df = drop_col(airline_df, \"ArrDel15\")"
   ]
  },
  {
   "cell_type": "markdown",
   "metadata": {
    "id": "jHzIo3rFVXjY"
   },
   "source": [
    "### Drop columns  `DepartureDelayGroups` and `ArrivalDelayGroups`\n",
    "Both  `DepartureDelayGroups` and `ArrivalDelayGroups`indicate delay 15 minute interval groups - this column is filled with integers from -1 and NaNs and regular postive integers, but it will not be beneficial to our analysis as interval groups are not clear indicators as to how long the plane was delayed."
   ]
  },
  {
   "cell_type": "code",
   "execution_count": null,
   "metadata": {
    "id": "epnjvBIuVXjY"
   },
   "outputs": [],
   "source": [
    "airline_df = drop_col(airline_df, \"DepartureDelayGroups\")\n",
    "airline_df = drop_col(airline_df, \"ArrivalDelayGroups\")"
   ]
  },
  {
   "cell_type": "markdown",
   "metadata": {
    "id": "iU4LfG95VXjY"
   },
   "source": [
    "### Drop column `DivAirportLandings`\n",
    "There a little under 1,000 diverted airport landings in a dataset of 300,000+ records (only .3%), so drawing conclusions off delays based of this type of data would be statisically insignificant and not add value to our analysis and predictions."
   ]
  },
  {
   "cell_type": "code",
   "execution_count": null,
   "metadata": {
    "colab": {
     "base_uri": "https://localhost:8080/"
    },
    "id": "CKmNror7VXjY",
    "outputId": "7755139a-8225-4b5d-a410-74e656fb478c"
   },
   "outputs": [
    {
     "data": {
      "text/plain": [
       "967"
      ]
     },
     "execution_count": 54,
     "metadata": {},
     "output_type": "execute_result"
    }
   ],
   "source": [
    "sum(airline_df.DivAirportLandings > 0)"
   ]
  },
  {
   "cell_type": "code",
   "execution_count": null,
   "metadata": {
    "id": "MaGCJsYVVXjZ"
   },
   "outputs": [],
   "source": [
    "airline_df = drop_col(airline_df, \"DivAirportLandings\")"
   ]
  },
  {
   "cell_type": "markdown",
   "metadata": {
    "id": "begiSdVuVXjZ"
   },
   "source": [
    "### Drop column `DistanceGroup`\n",
    "`DistanceGroup` is defined as \"250 mile distance interval group\" - we will not be using pre-set groups in our analysis and predictions so we can drop this column to reduce redundant data. In addition, have the `Distance` column which provides more precise flight distance. "
   ]
  },
  {
   "cell_type": "code",
   "execution_count": null,
   "metadata": {
    "colab": {
     "base_uri": "https://localhost:8080/"
    },
    "id": "PkMm1bDTVXjZ",
    "outputId": "f7eee913-eb22-4a79-ff8e-c6a9a98f8b3d"
   },
   "outputs": [
    {
     "data": {
      "text/plain": [
       "0          1\n",
       "1          4\n",
       "2          3\n",
       "3          3\n",
       "4          2\n",
       "          ..\n",
       "386420     1\n",
       "386421    10\n",
       "386422     8\n",
       "386423     2\n",
       "386424     4\n",
       "Name: DistanceGroup, Length: 386425, dtype: int64"
      ]
     },
     "execution_count": 56,
     "metadata": {},
     "output_type": "execute_result"
    }
   ],
   "source": [
    "airline_df.DistanceGroup"
   ]
  },
  {
   "cell_type": "code",
   "execution_count": null,
   "metadata": {
    "id": "KCWK54R7VXjZ"
   },
   "outputs": [],
   "source": [
    "airline_df = drop_col(airline_df, \"DistanceGroup\")"
   ]
  },
  {
   "cell_type": "markdown",
   "metadata": {
    "id": "6npyt1_lAewI"
   },
   "source": [
    "### Columns' data types"
   ]
  },
  {
   "cell_type": "code",
   "execution_count": null,
   "metadata": {
    "colab": {
     "base_uri": "https://localhost:8080/"
    },
    "id": "Sf5hQjoeAj6h",
    "outputId": "b142de4a-85d9-40b3-96ef-cfb0925a8a7e"
   },
   "outputs": [
    {
     "data": {
      "text/plain": [
       "Year                   int64\n",
       "Month                  int64\n",
       "DayofMonth             int64\n",
       "FlightDate            object\n",
       "Reporting_Airline     object\n",
       "                      ...   \n",
       "Div5WheelsOn         float64\n",
       "Div5TotalGTime       float64\n",
       "Div5LongestGTime     float64\n",
       "Div5WheelsOff        float64\n",
       "Div5TailNum          float64\n",
       "Length: 99, dtype: object"
      ]
     },
     "execution_count": 58,
     "metadata": {},
     "output_type": "execute_result"
    }
   ],
   "source": [
    "airline_df.dtypes"
   ]
  },
  {
   "cell_type": "markdown",
   "metadata": {
    "id": "ItG9PiZiVXja"
   },
   "source": [
    "&rightarrow; We can see that a lot of columns have wrong data types. For example, `FlightDate` should have type `datetime` instead of `object`. We need to fix these columns' types later."
   ]
  },
  {
   "cell_type": "markdown",
   "metadata": {
    "id": "VMERPbq-VXja"
   },
   "source": [
    "### Fix data type for `datetime` column"
   ]
  },
  {
   "cell_type": "code",
   "execution_count": null,
   "metadata": {
    "id": "o8Wg1NJACA6W"
   },
   "outputs": [],
   "source": [
    "#convert to datetime\n",
    "airline_df['FlightDate'] = pd.to_datetime(airline_df['FlightDate'], format='%Y-%m-%d')"
   ]
  },
  {
   "cell_type": "code",
   "execution_count": null,
   "metadata": {
    "colab": {
     "base_uri": "https://localhost:8080/"
    },
    "id": "xxZXjpm2CA6W",
    "outputId": "daf851a1-d6d1-4302-e34a-904305e36f35"
   },
   "outputs": [
    {
     "data": {
      "text/plain": [
       "Year                          int64\n",
       "Month                         int64\n",
       "DayofMonth                    int64\n",
       "FlightDate           datetime64[ns]\n",
       "Reporting_Airline            object\n",
       "                          ...      \n",
       "Div5WheelsOn                float64\n",
       "Div5TotalGTime              float64\n",
       "Div5LongestGTime            float64\n",
       "Div5WheelsOff               float64\n",
       "Div5TailNum                 float64\n",
       "Length: 99, dtype: object"
      ]
     },
     "execution_count": 60,
     "metadata": {},
     "output_type": "execute_result"
    }
   ],
   "source": [
    "airline_df.dtypes"
   ]
  },
  {
   "cell_type": "markdown",
   "metadata": {
    "id": "34i5aDxDPwqm"
   },
   "source": [
    "### Remove cancelled flights\n",
    "We don't need cancelled flights because that indicates a flight that was delayed \"forever\" so we need to remove it from our data."
   ]
  },
  {
   "cell_type": "code",
   "execution_count": null,
   "metadata": {
    "id": "AbnUZ2J6P6Xd"
   },
   "outputs": [],
   "source": [
    "airline_df = airline_df[airline_df[\"Cancelled\"] == 0]"
   ]
  },
  {
   "cell_type": "code",
   "execution_count": null,
   "metadata": {
    "id": "kDFSMHHYVXja"
   },
   "outputs": [],
   "source": [
    "# We don't need this column anymore since it contains all 1s\n",
    "airline_df = drop_col(airline_df, \"Cancelled\")"
   ]
  },
  {
   "cell_type": "markdown",
   "metadata": {
    "id": "YID-NIS2VnqV"
   },
   "source": [
    "### Add a new column `IsDepDelay` denotes whether a flight delayed departure"
   ]
  },
  {
   "cell_type": "code",
   "execution_count": null,
   "metadata": {
    "id": "RzT-QY3hVnqV"
   },
   "outputs": [],
   "source": [
    "airline_df['IsDepDelay'] = airline_df[\"DepDelayMinutes\"] > 0"
   ]
  },
  {
   "cell_type": "markdown",
   "metadata": {
    "id": "qHZHENqVVnqV"
   },
   "source": [
    "### Add a new column `IsArrDelay` denotes whether a flight delayed departure"
   ]
  },
  {
   "cell_type": "code",
   "execution_count": null,
   "metadata": {
    "id": "GpqRmwruVnqV"
   },
   "outputs": [],
   "source": [
    "airline_df['IsArrDelay'] = airline_df[\"ArrDelayMinutes\"] > 0"
   ]
  },
  {
   "cell_type": "markdown",
   "metadata": {
    "id": "g-eAlKX67E1M"
   },
   "source": [
    "### Check missing values"
   ]
  },
  {
   "cell_type": "code",
   "execution_count": null,
   "metadata": {
    "colab": {
     "base_uri": "https://localhost:8080/"
    },
    "id": "6noGKx-T0yb5",
    "outputId": "e43f8429-4a0b-487b-a867-1f5a3fdb5a6c",
    "scrolled": true
   },
   "outputs": [
    {
     "name": "stdout",
     "output_type": "stream",
     "text": [
      "No Null values of Year\n",
      "No Null values of Month\n",
      "No Null values of DayofMonth\n",
      "No Null values of FlightDate\n",
      "No Null values of Reporting_Airline\n",
      "No Null values of DOT_ID_Reporting_Airline\n",
      "No Null values of IATA_CODE_Reporting_Airline\n",
      "No Null values of Tail_Number\n",
      "No Null values of Flight_Number_Reporting_Airline\n",
      "No Null values of OriginAirportID\n",
      "No Null values of OriginAirportSeqID\n",
      "No Null values of OriginCityMarketID\n",
      "No Null values of Origin\n",
      "No Null values of OriginCityName\n",
      "No Null values of OriginState\n",
      "No Null values of OriginStateFips\n",
      "No Null values of OriginWac\n",
      "No Null values of DestAirportID\n",
      "No Null values of DestAirportSeqID\n",
      "No Null values of DestCityMarketID\n",
      "No Null values of Dest\n",
      "No Null values of DestCityName\n",
      "No Null values of DestState\n",
      "No Null values of DestStateFips\n",
      "No Null values of DestStateName\n",
      "No Null values of DestWac\n",
      "No Null values of CRSDepTime\n",
      "No Null values of DepTime\n",
      "Percentage of missing DepDelay field: 0.02%\n",
      "Percentage of missing DepDelayMinutes field: 0.02%\n",
      "No Null values of DepTimeBlk\n",
      "No Null values of TaxiOut\n",
      "No Null values of WheelsOff\n",
      "Percentage of missing WheelsOn field: 0.04%\n",
      "Percentage of missing TaxiIn field: 0.04%\n",
      "No Null values of CRSArrTime\n",
      "Percentage of missing ArrTime field: 0.04%\n",
      "Percentage of missing ArrDelay field: 0.25%\n",
      "Percentage of missing ArrDelayMinutes field: 0.25%\n",
      "No Null values of ArrTimeBlk\n",
      "Percentage of missing CancellationCode field: 100.00%\n",
      "No Null values of Diverted\n",
      "No Null values of CRSElapsedTime\n",
      "Percentage of missing ActualElapsedTime field: 0.24%\n",
      "Percentage of missing AirTime field: 0.24%\n",
      "No Null values of Distance\n",
      "Percentage of missing CarrierDelay field: 80.90%\n",
      "Percentage of missing WeatherDelay field: 80.90%\n",
      "Percentage of missing NASDelay field: 80.90%\n",
      "Percentage of missing SecurityDelay field: 80.90%\n",
      "Percentage of missing LateAircraftDelay field: 80.90%\n",
      "Percentage of missing FirstDepTime field: 99.41%\n",
      "Percentage of missing TotalAddGTime field: 99.41%\n",
      "Percentage of missing LongestAddGTime field: 99.41%\n",
      "Percentage of missing DivReachedDest field: 99.76%\n",
      "Percentage of missing DivActualElapsedTime field: 99.79%\n",
      "Percentage of missing DivArrDelay field: 99.79%\n",
      "Percentage of missing DivDistance field: 99.76%\n",
      "Percentage of missing Div1Airport field: 99.76%\n",
      "Percentage of missing Div1AirportID field: 99.76%\n",
      "Percentage of missing Div1AirportSeqID field: 99.76%\n",
      "Percentage of missing Div1WheelsOn field: 99.76%\n",
      "Percentage of missing Div1TotalGTime field: 99.76%\n",
      "Percentage of missing Div1LongestGTime field: 99.76%\n",
      "Percentage of missing Div1WheelsOff field: 99.79%\n",
      "Percentage of missing Div1TailNum field: 99.79%\n",
      "Percentage of missing Div2Airport field: 100.00%\n",
      "Percentage of missing Div2AirportID field: 100.00%\n",
      "Percentage of missing Div2AirportSeqID field: 100.00%\n",
      "Percentage of missing Div2WheelsOn field: 100.00%\n",
      "Percentage of missing Div2TotalGTime field: 100.00%\n",
      "Percentage of missing Div2LongestGTime field: 100.00%\n",
      "Percentage of missing Div2WheelsOff field: 100.00%\n",
      "Percentage of missing Div2TailNum field: 100.00%\n",
      "Percentage of missing Div3Airport field: 100.00%\n",
      "Percentage of missing Div3AirportID field: 100.00%\n",
      "Percentage of missing Div3AirportSeqID field: 100.00%\n",
      "Percentage of missing Div3WheelsOn field: 100.00%\n",
      "Percentage of missing Div3TotalGTime field: 100.00%\n",
      "Percentage of missing Div3LongestGTime field: 100.00%\n",
      "Percentage of missing Div3WheelsOff field: 100.00%\n",
      "Percentage of missing Div3TailNum field: 100.00%\n",
      "Percentage of missing Div4Airport field: 100.00%\n",
      "Percentage of missing Div4AirportID field: 100.00%\n",
      "Percentage of missing Div4AirportSeqID field: 100.00%\n",
      "Percentage of missing Div4WheelsOn field: 100.00%\n",
      "Percentage of missing Div4TotalGTime field: 100.00%\n",
      "Percentage of missing Div4LongestGTime field: 100.00%\n",
      "Percentage of missing Div4WheelsOff field: 100.00%\n",
      "Percentage of missing Div4TailNum field: 100.00%\n",
      "Percentage of missing Div5Airport field: 100.00%\n",
      "Percentage of missing Div5AirportID field: 100.00%\n",
      "Percentage of missing Div5AirportSeqID field: 100.00%\n",
      "Percentage of missing Div5WheelsOn field: 100.00%\n",
      "Percentage of missing Div5TotalGTime field: 100.00%\n",
      "Percentage of missing Div5LongestGTime field: 100.00%\n",
      "Percentage of missing Div5WheelsOff field: 100.00%\n",
      "Percentage of missing Div5TailNum field: 100.00%\n",
      "No Null values of IsDepDelay\n",
      "No Null values of IsArrDelay\n"
     ]
    }
   ],
   "source": [
    "for col in airline_df.columns:\n",
    "    check_field(airline_df, col)"
   ]
  },
  {
   "cell_type": "markdown",
   "metadata": {
    "id": "yaaXMXGsVXjb"
   },
   "source": [
    "&rightarrow; Some columns have less than 5% missing values. However, some columns have > 95% of missing values. We will drop columns with more than 95% of missing values."
   ]
  },
  {
   "cell_type": "markdown",
   "metadata": {
    "id": "08YoVtho2AMY"
   },
   "source": [
    "### Drop columns with more than 95% of missing values"
   ]
  },
  {
   "cell_type": "code",
   "execution_count": null,
   "metadata": {
    "colab": {
     "base_uri": "https://localhost:8080/"
    },
    "id": "dblXFn1Z2zfw",
    "outputId": "14445b74-3e9c-46d9-c335-8d0f22c85808"
   },
   "outputs": [
    {
     "data": {
      "text/plain": [
       "(379965, 100)"
      ]
     },
     "execution_count": 66,
     "metadata": {},
     "output_type": "execute_result"
    }
   ],
   "source": [
    "# Check the size of airline_df BEFORE dropping columns\n",
    "airline_df.shape"
   ]
  },
  {
   "cell_type": "code",
   "execution_count": null,
   "metadata": {
    "id": "mDChw3ne2MUm"
   },
   "outputs": [],
   "source": [
    "airline_df = drop_cols_with_missing_val_threshold(airline_df, 0.95)"
   ]
  },
  {
   "cell_type": "code",
   "execution_count": null,
   "metadata": {
    "colab": {
     "base_uri": "https://localhost:8080/"
    },
    "id": "erkS8v-12b-C",
    "outputId": "a87ed361-c088-45a4-8382-fead4fb166bf"
   },
   "outputs": [
    {
     "data": {
      "text/plain": [
       "(379965, 47)"
      ]
     },
     "execution_count": 68,
     "metadata": {},
     "output_type": "execute_result"
    }
   ],
   "source": [
    "# Check the size of airline_df AFTER dropping columns\n",
    "airline_df.shape"
   ]
  },
  {
   "cell_type": "code",
   "execution_count": null,
   "metadata": {
    "colab": {
     "base_uri": "https://localhost:8080/",
     "height": 299
    },
    "id": "M7PtM8Vs3Cxm",
    "outputId": "34c0c03b-6708-48a6-e66a-bc16d60b097c",
    "scrolled": true
   },
   "outputs": [
    {
     "data": {
      "text/html": [
       "<div>\n",
       "<style scoped>\n",
       "    .dataframe tbody tr th:only-of-type {\n",
       "        vertical-align: middle;\n",
       "    }\n",
       "\n",
       "    .dataframe tbody tr th {\n",
       "        vertical-align: top;\n",
       "    }\n",
       "\n",
       "    .dataframe thead th {\n",
       "        text-align: right;\n",
       "    }\n",
       "</style>\n",
       "<table border=\"1\" class=\"dataframe\">\n",
       "  <thead>\n",
       "    <tr style=\"text-align: right;\">\n",
       "      <th></th>\n",
       "      <th>Year</th>\n",
       "      <th>Month</th>\n",
       "      <th>DayofMonth</th>\n",
       "      <th>FlightDate</th>\n",
       "      <th>Reporting_Airline</th>\n",
       "      <th>DOT_ID_Reporting_Airline</th>\n",
       "      <th>IATA_CODE_Reporting_Airline</th>\n",
       "      <th>Tail_Number</th>\n",
       "      <th>Flight_Number_Reporting_Airline</th>\n",
       "      <th>OriginAirportID</th>\n",
       "      <th>...</th>\n",
       "      <th>ArrDelay</th>\n",
       "      <th>ArrDelayMinutes</th>\n",
       "      <th>ArrTimeBlk</th>\n",
       "      <th>Diverted</th>\n",
       "      <th>CRSElapsedTime</th>\n",
       "      <th>ActualElapsedTime</th>\n",
       "      <th>AirTime</th>\n",
       "      <th>Distance</th>\n",
       "      <th>IsDepDelay</th>\n",
       "      <th>IsArrDelay</th>\n",
       "    </tr>\n",
       "  </thead>\n",
       "  <tbody>\n",
       "    <tr>\n",
       "      <th>0</th>\n",
       "      <td>2019</td>\n",
       "      <td>6</td>\n",
       "      <td>11</td>\n",
       "      <td>2019-06-11</td>\n",
       "      <td>9E</td>\n",
       "      <td>20363</td>\n",
       "      <td>9E</td>\n",
       "      <td>N927XJ</td>\n",
       "      <td>3459</td>\n",
       "      <td>10397</td>\n",
       "      <td>...</td>\n",
       "      <td>214.0</td>\n",
       "      <td>214.0</td>\n",
       "      <td>2000-2059</td>\n",
       "      <td>0.0</td>\n",
       "      <td>67.0</td>\n",
       "      <td>60.0</td>\n",
       "      <td>35.0</td>\n",
       "      <td>192.0</td>\n",
       "      <td>True</td>\n",
       "      <td>True</td>\n",
       "    </tr>\n",
       "    <tr>\n",
       "      <th>1</th>\n",
       "      <td>2018</td>\n",
       "      <td>2</td>\n",
       "      <td>8</td>\n",
       "      <td>2018-02-08</td>\n",
       "      <td>WN</td>\n",
       "      <td>19393</td>\n",
       "      <td>WN</td>\n",
       "      <td>N8688J</td>\n",
       "      <td>5932</td>\n",
       "      <td>13232</td>\n",
       "      <td>...</td>\n",
       "      <td>29.0</td>\n",
       "      <td>29.0</td>\n",
       "      <td>2200-2259</td>\n",
       "      <td>0.0</td>\n",
       "      <td>140.0</td>\n",
       "      <td>153.0</td>\n",
       "      <td>114.0</td>\n",
       "      <td>793.0</td>\n",
       "      <td>True</td>\n",
       "      <td>True</td>\n",
       "    </tr>\n",
       "    <tr>\n",
       "      <th>2</th>\n",
       "      <td>2014</td>\n",
       "      <td>4</td>\n",
       "      <td>3</td>\n",
       "      <td>2014-04-03</td>\n",
       "      <td>WN</td>\n",
       "      <td>19393</td>\n",
       "      <td>WN</td>\n",
       "      <td>N374SW</td>\n",
       "      <td>1463</td>\n",
       "      <td>11540</td>\n",
       "      <td>...</td>\n",
       "      <td>-5.0</td>\n",
       "      <td>0.0</td>\n",
       "      <td>1300-1359</td>\n",
       "      <td>0.0</td>\n",
       "      <td>95.0</td>\n",
       "      <td>90.0</td>\n",
       "      <td>77.0</td>\n",
       "      <td>562.0</td>\n",
       "      <td>False</td>\n",
       "      <td>False</td>\n",
       "    </tr>\n",
       "    <tr>\n",
       "      <th>3</th>\n",
       "      <td>2015</td>\n",
       "      <td>9</td>\n",
       "      <td>5</td>\n",
       "      <td>2015-09-05</td>\n",
       "      <td>AS</td>\n",
       "      <td>19930</td>\n",
       "      <td>AS</td>\n",
       "      <td>N589AS</td>\n",
       "      <td>413</td>\n",
       "      <td>14869</td>\n",
       "      <td>...</td>\n",
       "      <td>-23.0</td>\n",
       "      <td>0.0</td>\n",
       "      <td>1800-1859</td>\n",
       "      <td>0.0</td>\n",
       "      <td>130.0</td>\n",
       "      <td>119.0</td>\n",
       "      <td>102.0</td>\n",
       "      <td>689.0</td>\n",
       "      <td>False</td>\n",
       "      <td>False</td>\n",
       "    </tr>\n",
       "    <tr>\n",
       "      <th>5</th>\n",
       "      <td>2019</td>\n",
       "      <td>9</td>\n",
       "      <td>2</td>\n",
       "      <td>2019-09-02</td>\n",
       "      <td>YX</td>\n",
       "      <td>20452</td>\n",
       "      <td>YX</td>\n",
       "      <td>N203JQ</td>\n",
       "      <td>6104</td>\n",
       "      <td>12451</td>\n",
       "      <td>...</td>\n",
       "      <td>-3.0</td>\n",
       "      <td>0.0</td>\n",
       "      <td>1400-1459</td>\n",
       "      <td>0.0</td>\n",
       "      <td>168.0</td>\n",
       "      <td>169.0</td>\n",
       "      <td>149.0</td>\n",
       "      <td>1010.0</td>\n",
       "      <td>False</td>\n",
       "      <td>False</td>\n",
       "    </tr>\n",
       "  </tbody>\n",
       "</table>\n",
       "<p>5 rows × 47 columns</p>\n",
       "</div>"
      ],
      "text/plain": [
       "   Year  Month  DayofMonth FlightDate Reporting_Airline  \\\n",
       "0  2019      6          11 2019-06-11                9E   \n",
       "1  2018      2           8 2018-02-08                WN   \n",
       "2  2014      4           3 2014-04-03                WN   \n",
       "3  2015      9           5 2015-09-05                AS   \n",
       "5  2019      9           2 2019-09-02                YX   \n",
       "\n",
       "   DOT_ID_Reporting_Airline IATA_CODE_Reporting_Airline Tail_Number  \\\n",
       "0                     20363                          9E      N927XJ   \n",
       "1                     19393                          WN      N8688J   \n",
       "2                     19393                          WN      N374SW   \n",
       "3                     19930                          AS      N589AS   \n",
       "5                     20452                          YX      N203JQ   \n",
       "\n",
       "   Flight_Number_Reporting_Airline  OriginAirportID  ...  ArrDelay  \\\n",
       "0                             3459            10397  ...     214.0   \n",
       "1                             5932            13232  ...      29.0   \n",
       "2                             1463            11540  ...      -5.0   \n",
       "3                              413            14869  ...     -23.0   \n",
       "5                             6104            12451  ...      -3.0   \n",
       "\n",
       "   ArrDelayMinutes ArrTimeBlk Diverted CRSElapsedTime  ActualElapsedTime  \\\n",
       "0            214.0  2000-2059      0.0           67.0               60.0   \n",
       "1             29.0  2200-2259      0.0          140.0              153.0   \n",
       "2              0.0  1300-1359      0.0           95.0               90.0   \n",
       "3              0.0  1800-1859      0.0          130.0              119.0   \n",
       "5              0.0  1400-1459      0.0          168.0              169.0   \n",
       "\n",
       "   AirTime  Distance  IsDepDelay  IsArrDelay  \n",
       "0     35.0     192.0        True        True  \n",
       "1    114.0     793.0        True        True  \n",
       "2     77.0     562.0       False       False  \n",
       "3    102.0     689.0       False       False  \n",
       "5    149.0    1010.0       False       False  \n",
       "\n",
       "[5 rows x 47 columns]"
      ]
     },
     "execution_count": 69,
     "metadata": {},
     "output_type": "execute_result"
    }
   ],
   "source": [
    "airline_df.head()"
   ]
  },
  {
   "cell_type": "markdown",
   "metadata": {
    "id": "9hLTTKAF7Kzx"
   },
   "source": [
    "### Check duplicated rows"
   ]
  },
  {
   "cell_type": "code",
   "execution_count": null,
   "metadata": {
    "colab": {
     "base_uri": "https://localhost:8080/"
    },
    "id": "-2Ilmfo030di",
    "outputId": "7f8d84fe-7817-4e29-c5aa-1c0ae61d9aca"
   },
   "outputs": [
    {
     "name": "stdout",
     "output_type": "stream",
     "text": [
      "\n",
      "No duplicate rows in dataframe.\n"
     ]
    }
   ],
   "source": [
    "check_duplicate_values(df=airline_df)"
   ]
  },
  {
   "cell_type": "markdown",
   "metadata": {
    "id": "EOWAcTWIVnqX"
   },
   "source": [
    "### Rename columns' name for ease of analysis"
   ]
  },
  {
   "cell_type": "code",
   "execution_count": null,
   "metadata": {
    "id": "vY94zrw9VnqX",
    "outputId": "bab2373d-7df5-487a-b308-2566ef2328f2"
   },
   "outputs": [
    {
     "data": {
      "text/plain": [
       "Index(['Year', 'Month', 'DayofMonth', 'FlightDate', 'Reporting_Airline',\n",
       "       'DOT_ID_Reporting_Airline', 'IATA_CODE_Reporting_Airline',\n",
       "       'Tail_Number', 'Flight_Number_Reporting_Airline', 'OriginAirportID',\n",
       "       'OriginAirportSeqID', 'OriginCityMarketID', 'Origin', 'OriginCityName',\n",
       "       'OriginState', 'OriginStateFips', 'OriginWac', 'DestAirportID',\n",
       "       'DestAirportSeqID', 'DestCityMarketID', 'Dest', 'DestCityName',\n",
       "       'DestState', 'DestStateFips', 'DestStateName', 'DestWac', 'CRSDepTime',\n",
       "       'DepTime', 'DepDelay', 'DepDelayMinutes', 'DepTimeBlk', 'TaxiOut',\n",
       "       'WheelsOff', 'WheelsOn', 'TaxiIn', 'CRSArrTime', 'ArrTime', 'ArrDelay',\n",
       "       'ArrDelayMinutes', 'ArrTimeBlk', 'Diverted', 'CRSElapsedTime',\n",
       "       'ActualElapsedTime', 'AirTime', 'Distance', 'IsDepDelay', 'IsArrDelay'],\n",
       "      dtype='object')"
      ]
     },
     "execution_count": 71,
     "metadata": {},
     "output_type": "execute_result"
    }
   ],
   "source": [
    "airline_df.columns"
   ]
  },
  {
   "cell_type": "code",
   "execution_count": null,
   "metadata": {
    "id": "dCJDDePIVnqX"
   },
   "outputs": [],
   "source": [
    "airline_df.rename(columns={\"Reporting_Airline\":\"Airline\",\n",
    "                   \"Origin\":\"Origin_Airport\",\n",
    "                  \"Dest\":\"Dest_Airport\",\n",
    "                  \"CRSDepTime\":\"Scheduled_Departure\",\n",
    "                  \"DepTime\":\"Departure_Time\",\n",
    "                  \"DepDelay\":\"Departure_Delay\",\n",
    "                  \"CRSArrTime\":\"Scheduled_Arrival\",\n",
    "                  \"ArrTime\":\"Arrival_Time\",\n",
    "                  \"ArrDelay\":\"Arrival_Delay\",\n",
    "                  \"CRSElapsedTime\":\"Scheduled_Time\",\n",
    "                  \"ActualElapsedTime\":\"Elapsed_Time\",\n",
    "                  \"DOT_ID_Reporting_Airline\":\"DOT_ID_Airline\",\n",
    "                  \"IATA_CODE_Reporting_Airline\":\"IATA_CODE_Airline\",\n",
    "                  \"Flight_Number_Reporting_Airline\":\"Flight_Number_Airline\",\n",
    "                  \"DayofMonth\":\"Day\"} ,inplace=True)"
   ]
  },
  {
   "cell_type": "code",
   "execution_count": null,
   "metadata": {
    "colab": {
     "base_uri": "https://localhost:8080/"
    },
    "id": "c9Y7b23KVnqX",
    "outputId": "5ca8b577-e8ef-40a9-9607-9fd10c65c0d3"
   },
   "outputs": [
    {
     "data": {
      "text/plain": [
       "Index(['Year', 'Month', 'Day', 'FlightDate', 'Airline', 'DOT_ID_Airline',\n",
       "       'IATA_CODE_Airline', 'Tail_Number', 'Flight_Number_Airline',\n",
       "       'OriginAirportID', 'OriginAirportSeqID', 'OriginCityMarketID',\n",
       "       'Origin_Airport', 'OriginCityName', 'OriginState', 'OriginStateFips',\n",
       "       'OriginWac', 'DestAirportID', 'DestAirportSeqID', 'DestCityMarketID',\n",
       "       'Dest_Airport', 'DestCityName', 'DestState', 'DestStateFips',\n",
       "       'DestStateName', 'DestWac', 'Scheduled_Departure', 'Departure_Time',\n",
       "       'Departure_Delay', 'DepDelayMinutes', 'DepTimeBlk', 'TaxiOut',\n",
       "       'WheelsOff', 'WheelsOn', 'TaxiIn', 'Scheduled_Arrival', 'Arrival_Time',\n",
       "       'Arrival_Delay', 'ArrDelayMinutes', 'ArrTimeBlk', 'Diverted',\n",
       "       'Scheduled_Time', 'Elapsed_Time', 'AirTime', 'Distance', 'IsDepDelay',\n",
       "       'IsArrDelay'],\n",
       "      dtype='object')"
      ]
     },
     "execution_count": 73,
     "metadata": {},
     "output_type": "execute_result"
    }
   ],
   "source": [
    "# Check new columns\n",
    "airline_df.columns"
   ]
  },
  {
   "cell_type": "markdown",
   "metadata": {
    "id": "Pgpbe4KRH81L"
   },
   "source": [
    "### Check outliers"
   ]
  },
  {
   "cell_type": "code",
   "execution_count": null,
   "metadata": {
    "colab": {
     "base_uri": "https://localhost:8080/"
    },
    "id": "pIsOJQc163B-",
    "outputId": "a83ae205-dcea-423a-e117-06a5af3abedd"
   },
   "outputs": [
    {
     "name": "stdout",
     "output_type": "stream",
     "text": [
      "Column: Scheduled_Departure. Lower boundary: -310.5. Upper boundary: 2957.5. Percentage of outliers: 0.00%\n",
      "Column: Departure_Time. Lower boundary: -320.5. Upper boundary: 2979.5. Percentage of outliers: 0.00%\n",
      "Column: Departure_Delay. Lower boundary: -23.0. Upper boundary: 25.0. Percentage of outliers: 13.28%\n",
      "Column: DepDelayMinutes. Lower boundary: -10.5. Upper boundary: 17.5. Percentage of outliers: 16.88%\n",
      "Column: TaxiOut. Lower boundary: -1.0. Upper boundary: 31.0. Percentage of outliers: 5.95%\n",
      "Column: WheelsOff. Lower boundary: -305.5. Upper boundary: 2994.5. Percentage of outliers: 0.00%\n",
      "Column: WheelsOn. Lower boundary: -244.5. Upper boundary: 3207.5. Percentage of outliers: 0.00%\n",
      "Column: TaxiIn. Lower boundary: -3.5. Upper boundary: 16.5. Percentage of outliers: 5.41%\n",
      "Column: Scheduled_Arrival. Lower boundary: -116.0. Upper boundary: 3140.0. Percentage of outliers: 0.00%\n",
      "Column: Arrival_Time. Lower boundary: -244.5. Upper boundary: 3215.5. Percentage of outliers: 0.00%\n",
      "Column: Arrival_Delay. Lower boundary: -47.0. Upper boundary: 41.0. Percentage of outliers: 9.04%\n",
      "Column: ArrDelayMinutes. Lower boundary: -12.0. Upper boundary: 20.0. Percentage of outliers: 15.53%\n",
      "Column: Scheduled_Time. Lower boundary: -41.0. Upper boundary: 303.0. Percentage of outliers: 5.27%\n",
      "Column: Elapsed_Time. Lower boundary: -46.0. Upper boundary: 298.0. Percentage of outliers: 5.03%\n",
      "Column: AirTime. Lower boundary: -66.0. Upper boundary: 270.0. Percentage of outliers: 5.14%\n",
      "Column: Distance. Lower boundary: -663.0. Upper boundary: 2097.0. Percentage of outliers: 6.01%\n"
     ]
    }
   ],
   "source": [
    "# Select only numeric cols that is not date time cols\n",
    "outliers_cols = ['Scheduled_Departure',\n",
    "       'Departure_Time', 'Departure_Delay', 'DepDelayMinutes', \n",
    "       'TaxiOut', 'WheelsOff',\n",
    "       'WheelsOn', 'TaxiIn', 'Scheduled_Arrival', 'Arrival_Time', 'Arrival_Delay',\n",
    "       'ArrDelayMinutes', 'Scheduled_Time', 'Elapsed_Time',\n",
    "       'AirTime', 'Distance']\n",
    "for col in outliers_cols:\n",
    "  check_outliers(airline_df, col)"
   ]
  },
  {
   "cell_type": "code",
   "execution_count": null,
   "metadata": {
    "colab": {
     "base_uri": "https://localhost:8080/",
     "height": 612
    },
    "id": "1xwRhwTsPeVX",
    "outputId": "d87e5d47-faf7-4a38-d5fb-cd0c926b477c"
   },
   "outputs": [
    {
     "data": {
      "text/plain": [
       "<AxesSubplot:>"
      ]
     },
     "execution_count": 75,
     "metadata": {},
     "output_type": "execute_result"
    },
    {
     "data": {
      "image/png": "[encoded data removed]",
      "text/plain": [
       "<Figure size 864x720 with 1 Axes>"
      ]
     },
     "metadata": {},
     "output_type": "display_data"
    }
   ],
   "source": [
    "# Visualize outliers with box plots\n",
    "sns.boxplot(data=airline_df[outliers_cols], orient=\"h\", palette=\"Set2\")"
   ]
  },
  {
   "cell_type": "markdown",
   "metadata": {
    "id": "lgx8YBOCVXjd"
   },
   "source": [
    "&rightarrow; `DepDelay`, `DepDelayMinutes`, `ArrDelay`, `ArrDelayMinutes` have about 10% outliers. We will need to remove extreme outliers."
   ]
  },
  {
   "cell_type": "markdown",
   "metadata": {
    "id": "6xD58EplVXjd"
   },
   "source": [
    "### Remove extreme outliers"
   ]
  },
  {
   "cell_type": "code",
   "execution_count": null,
   "metadata": {
    "id": "IewoLQLLgHMC"
   },
   "outputs": [],
   "source": [
    "# Removing the outliers from the columns with extreme outlier values\n",
    "extreme_outlier_cols = [\"Departure_Delay\", \"DepDelayMinutes\", \"Arrival_Delay\", \"ArrDelayMinutes\"]\n",
    "for col in extreme_outlier_cols:\n",
    "  remove_outliers(airline_df, col)"
   ]
  },
  {
   "cell_type": "code",
   "execution_count": null,
   "metadata": {
    "colab": {
     "base_uri": "https://localhost:8080/"
    },
    "id": "gAUSvi3CgUJr",
    "outputId": "0d5343b5-80bb-4764-c6b1-7e2cec2721eb"
   },
   "outputs": [
    {
     "name": "stdout",
     "output_type": "stream",
     "text": [
      "Column: Departure_Delay. Lower boundary: -16.5. Upper boundary: 11.5. Percentage of outliers: 7.52%\n",
      "Column: DepDelayMinutes. Lower boundary: 0.0. Upper boundary: 0.0. Percentage of outliers: 19.16%\n",
      "Column: Arrival_Delay. Lower boundary: -42.0. Upper boundary: 30.0. Percentage of outliers: 2.65%\n",
      "Column: ArrDelayMinutes. Lower boundary: 0.0. Upper boundary: 0.0. Percentage of outliers: 20.16%\n"
     ]
    }
   ],
   "source": [
    "# Re-checking the dataframe after removing extreme outliers\n",
    "for col in extreme_outlier_cols:\n",
    "  check_outliers(airline_df, col)"
   ]
  },
  {
   "cell_type": "markdown",
   "metadata": {
    "id": "xpVoTsXCCA6X"
   },
   "source": [
    "### Map airline codes to their names "
   ]
  },
  {
   "cell_type": "code",
   "execution_count": null,
   "metadata": {
    "id": "bv87aLXroAlH",
    "outputId": "7b06a532-3772-453e-962b-babb201c58db"
   },
   "outputs": [
    {
     "data": {
      "text/plain": [
       "0         9E\n",
       "1         WN\n",
       "2         WN\n",
       "3         AS\n",
       "4         YX\n",
       "          ..\n",
       "379960    AA\n",
       "379961    UA\n",
       "379962    DL\n",
       "379963    B6\n",
       "379964    DL\n",
       "Name: Airline, Length: 379965, dtype: object"
      ]
     },
     "execution_count": 4,
     "metadata": {},
     "output_type": "execute_result"
    }
   ],
   "source": [
    "airline_df['Airline']"
   ]
  },
  {
   "cell_type": "code",
   "execution_count": null,
   "metadata": {
    "id": "X_gaH-nkHCsg",
    "outputId": "dee89912-2856-4cf8-ebf7-2435ade63b42",
    "scrolled": true
   },
   "outputs": [
    {
     "data": {
      "text/html": [
       "<div>\n",
       "<style scoped>\n",
       "    .dataframe tbody tr th:only-of-type {\n",
       "        vertical-align: middle;\n",
       "    }\n",
       "\n",
       "    .dataframe tbody tr th {\n",
       "        vertical-align: top;\n",
       "    }\n",
       "\n",
       "    .dataframe thead th {\n",
       "        text-align: right;\n",
       "    }\n",
       "</style>\n",
       "<table border=\"1\" class=\"dataframe\">\n",
       "  <thead>\n",
       "    <tr style=\"text-align: right;\">\n",
       "      <th></th>\n",
       "      <th>Code</th>\n",
       "      <th>Airline</th>\n",
       "    </tr>\n",
       "  </thead>\n",
       "  <tbody>\n",
       "    <tr>\n",
       "      <th>0</th>\n",
       "      <td>02Q</td>\n",
       "      <td>Titan Airways</td>\n",
       "    </tr>\n",
       "    <tr>\n",
       "      <th>1</th>\n",
       "      <td>04Q</td>\n",
       "      <td>Tradewind Aviation</td>\n",
       "    </tr>\n",
       "    <tr>\n",
       "      <th>2</th>\n",
       "      <td>05Q</td>\n",
       "      <td>Comlux Aviation, AG</td>\n",
       "    </tr>\n",
       "    <tr>\n",
       "      <th>3</th>\n",
       "      <td>06Q</td>\n",
       "      <td>Master Top Linhas Aereas Ltd.</td>\n",
       "    </tr>\n",
       "    <tr>\n",
       "      <th>4</th>\n",
       "      <td>07Q</td>\n",
       "      <td>Flair Airlines Ltd.</td>\n",
       "    </tr>\n",
       "  </tbody>\n",
       "</table>\n",
       "</div>"
      ],
      "text/plain": [
       "  Code                        Airline\n",
       "0  02Q                  Titan Airways\n",
       "1  04Q             Tradewind Aviation\n",
       "2  05Q            Comlux Aviation, AG\n",
       "3  06Q  Master Top Linhas Aereas Ltd.\n",
       "4  07Q            Flair Airlines Ltd."
      ]
     },
     "execution_count": 5,
     "metadata": {},
     "output_type": "execute_result"
    }
   ],
   "source": [
    "airportMapping.head()"
   ]
  },
  {
   "cell_type": "code",
   "execution_count": null,
   "metadata": {
    "id": "aCVzZbvtoAlI",
    "outputId": "daa44309-78a0-4f6d-af31-b1b97b83e581",
    "scrolled": true
   },
   "outputs": [
    {
     "data": {
      "text/html": [
       "<div>\n",
       "<style scoped>\n",
       "    .dataframe tbody tr th:only-of-type {\n",
       "        vertical-align: middle;\n",
       "    }\n",
       "\n",
       "    .dataframe tbody tr th {\n",
       "        vertical-align: top;\n",
       "    }\n",
       "\n",
       "    .dataframe thead th {\n",
       "        text-align: right;\n",
       "    }\n",
       "</style>\n",
       "<table border=\"1\" class=\"dataframe\">\n",
       "  <thead>\n",
       "    <tr style=\"text-align: right;\">\n",
       "      <th></th>\n",
       "      <th>Code</th>\n",
       "      <th>Airline_Name</th>\n",
       "    </tr>\n",
       "  </thead>\n",
       "  <tbody>\n",
       "    <tr>\n",
       "      <th>0</th>\n",
       "      <td>02Q</td>\n",
       "      <td>Titan Airways</td>\n",
       "    </tr>\n",
       "    <tr>\n",
       "      <th>1</th>\n",
       "      <td>04Q</td>\n",
       "      <td>Tradewind Aviation</td>\n",
       "    </tr>\n",
       "    <tr>\n",
       "      <th>2</th>\n",
       "      <td>05Q</td>\n",
       "      <td>Comlux Aviation, AG</td>\n",
       "    </tr>\n",
       "    <tr>\n",
       "      <th>3</th>\n",
       "      <td>06Q</td>\n",
       "      <td>Master Top Linhas Aereas Ltd.</td>\n",
       "    </tr>\n",
       "    <tr>\n",
       "      <th>4</th>\n",
       "      <td>07Q</td>\n",
       "      <td>Flair Airlines Ltd.</td>\n",
       "    </tr>\n",
       "  </tbody>\n",
       "</table>\n",
       "</div>"
      ],
      "text/plain": [
       "  Code                   Airline_Name\n",
       "0  02Q                  Titan Airways\n",
       "1  04Q             Tradewind Aviation\n",
       "2  05Q            Comlux Aviation, AG\n",
       "3  06Q  Master Top Linhas Aereas Ltd.\n",
       "4  07Q            Flair Airlines Ltd."
      ]
     },
     "execution_count": 6,
     "metadata": {},
     "output_type": "execute_result"
    }
   ],
   "source": [
    "airportMapping.rename(columns={\"Airline\":\"Airline_Name\"}, inplace=True)\n",
    "airportMapping.head()"
   ]
  },
  {
   "cell_type": "code",
   "execution_count": null,
   "metadata": {
    "id": "LAvCDRiWoAlI"
   },
   "outputs": [],
   "source": [
    "airline_df = airline_df.merge(airportMapping, left_on='Airline', right_on='Code')"
   ]
  },
  {
   "cell_type": "code",
   "execution_count": null,
   "metadata": {
    "id": "-BMIYmTeoAlI",
    "outputId": "04b926d3-6d21-4c8e-ac92-30c3f7651184"
   },
   "outputs": [
    {
     "data": {
      "text/html": [
       "<div>\n",
       "<style scoped>\n",
       "    .dataframe tbody tr th:only-of-type {\n",
       "        vertical-align: middle;\n",
       "    }\n",
       "\n",
       "    .dataframe tbody tr th {\n",
       "        vertical-align: top;\n",
       "    }\n",
       "\n",
       "    .dataframe thead th {\n",
       "        text-align: right;\n",
       "    }\n",
       "</style>\n",
       "<table border=\"1\" class=\"dataframe\">\n",
       "  <thead>\n",
       "    <tr style=\"text-align: right;\">\n",
       "      <th></th>\n",
       "      <th>Airline</th>\n",
       "      <th>Airline_Name</th>\n",
       "    </tr>\n",
       "  </thead>\n",
       "  <tbody>\n",
       "    <tr>\n",
       "      <th>0</th>\n",
       "      <td>9E</td>\n",
       "      <td>Endeavor Air Inc.</td>\n",
       "    </tr>\n",
       "    <tr>\n",
       "      <th>1</th>\n",
       "      <td>9E</td>\n",
       "      <td>Endeavor Air Inc.</td>\n",
       "    </tr>\n",
       "    <tr>\n",
       "      <th>2</th>\n",
       "      <td>9E</td>\n",
       "      <td>Endeavor Air Inc.</td>\n",
       "    </tr>\n",
       "    <tr>\n",
       "      <th>3</th>\n",
       "      <td>9E</td>\n",
       "      <td>Endeavor Air Inc.</td>\n",
       "    </tr>\n",
       "    <tr>\n",
       "      <th>4</th>\n",
       "      <td>9E</td>\n",
       "      <td>Endeavor Air Inc.</td>\n",
       "    </tr>\n",
       "    <tr>\n",
       "      <th>...</th>\n",
       "      <td>...</td>\n",
       "      <td>...</td>\n",
       "    </tr>\n",
       "    <tr>\n",
       "      <th>379960</th>\n",
       "      <td>FL</td>\n",
       "      <td>AirTran Airways Corporation</td>\n",
       "    </tr>\n",
       "    <tr>\n",
       "      <th>379961</th>\n",
       "      <td>FL</td>\n",
       "      <td>AirTran Airways Corporation</td>\n",
       "    </tr>\n",
       "    <tr>\n",
       "      <th>379962</th>\n",
       "      <td>FL</td>\n",
       "      <td>AirTran Airways Corporation</td>\n",
       "    </tr>\n",
       "    <tr>\n",
       "      <th>379963</th>\n",
       "      <td>FL</td>\n",
       "      <td>AirTran Airways Corporation</td>\n",
       "    </tr>\n",
       "    <tr>\n",
       "      <th>379964</th>\n",
       "      <td>FL</td>\n",
       "      <td>AirTran Airways Corporation</td>\n",
       "    </tr>\n",
       "  </tbody>\n",
       "</table>\n",
       "<p>379965 rows × 2 columns</p>\n",
       "</div>"
      ],
      "text/plain": [
       "       Airline                 Airline_Name\n",
       "0           9E            Endeavor Air Inc.\n",
       "1           9E            Endeavor Air Inc.\n",
       "2           9E            Endeavor Air Inc.\n",
       "3           9E            Endeavor Air Inc.\n",
       "4           9E            Endeavor Air Inc.\n",
       "...        ...                          ...\n",
       "379960      FL  AirTran Airways Corporation\n",
       "379961      FL  AirTran Airways Corporation\n",
       "379962      FL  AirTran Airways Corporation\n",
       "379963      FL  AirTran Airways Corporation\n",
       "379964      FL  AirTran Airways Corporation\n",
       "\n",
       "[379965 rows x 2 columns]"
      ]
     },
     "execution_count": 8,
     "metadata": {},
     "output_type": "execute_result"
    }
   ],
   "source": [
    "# Check\n",
    "airline_df[['Airline', 'Airline_Name']]"
   ]
  },
  {
   "cell_type": "markdown",
   "metadata": {
    "id": "i6df3YwcVnqY"
   },
   "source": [
    "# Exploratory Data Analysis:"
   ]
  },
  {
   "cell_type": "markdown",
   "metadata": {
    "id": "50lyeRMSoAlI"
   },
   "source": [
    "### 1. Summary Statistics\n",
    "We'll run summary statistics for selected numeric fields which support our further analysis:"
   ]
  },
  {
   "cell_type": "code",
   "execution_count": 7,
   "metadata": {
    "id": "uF94VI-LoAlI",
    "outputId": "33784d23-0ca6-45e7-91e3-6d713647a341"
   },
   "outputs": [
    {
     "data": {
      "text/html": [
       "<div>\n",
       "<style scoped>\n",
       "    .dataframe tbody tr th:only-of-type {\n",
       "        vertical-align: middle;\n",
       "    }\n",
       "\n",
       "    .dataframe tbody tr th {\n",
       "        vertical-align: top;\n",
       "    }\n",
       "\n",
       "    .dataframe thead th {\n",
       "        text-align: right;\n",
       "    }\n",
       "</style>\n",
       "<table border=\"1\" class=\"dataframe\">\n",
       "  <thead>\n",
       "    <tr style=\"text-align: right;\">\n",
       "      <th></th>\n",
       "      <th>Departure_Delay</th>\n",
       "      <th>DepDelayMinutes</th>\n",
       "      <th>TaxiOut</th>\n",
       "      <th>WheelsOff</th>\n",
       "      <th>WheelsOn</th>\n",
       "      <th>TaxiIn</th>\n",
       "      <th>Arrival_Delay</th>\n",
       "      <th>ArrDelayMinutes</th>\n",
       "      <th>Elapsed_Time</th>\n",
       "      <th>AirTime</th>\n",
       "      <th>Distance</th>\n",
       "    </tr>\n",
       "  </thead>\n",
       "  <tbody>\n",
       "    <tr>\n",
       "      <th>count</th>\n",
       "      <td>329427.000000</td>\n",
       "      <td>315765.000000</td>\n",
       "      <td>379965.000000</td>\n",
       "      <td>379965.000000</td>\n",
       "      <td>379829.000000</td>\n",
       "      <td>379829.000000</td>\n",
       "      <td>344650.000000</td>\n",
       "      <td>319996.000000</td>\n",
       "      <td>379043.000000</td>\n",
       "      <td>379043.000000</td>\n",
       "      <td>379965.000000</td>\n",
       "    </tr>\n",
       "    <tr>\n",
       "      <th>mean</th>\n",
       "      <td>-0.998176</td>\n",
       "      <td>1.596494</td>\n",
       "      <td>16.658626</td>\n",
       "      <td>1356.866256</td>\n",
       "      <td>1467.538413</td>\n",
       "      <td>7.516888</td>\n",
       "      <td>-4.743612</td>\n",
       "      <td>2.022925</td>\n",
       "      <td>137.651306</td>\n",
       "      <td>113.488939</td>\n",
       "      <td>822.275123</td>\n",
       "    </tr>\n",
       "    <tr>\n",
       "      <th>std</th>\n",
       "      <td>7.609791</td>\n",
       "      <td>3.713673</td>\n",
       "      <td>9.395468</td>\n",
       "      <td>502.575606</td>\n",
       "      <td>528.702138</td>\n",
       "      <td>5.878215</td>\n",
       "      <td>14.995160</td>\n",
       "      <td>4.477969</td>\n",
       "      <td>74.159384</td>\n",
       "      <td>72.084647</td>\n",
       "      <td>607.192756</td>\n",
       "    </tr>\n",
       "    <tr>\n",
       "      <th>min</th>\n",
       "      <td>-23.000000</td>\n",
       "      <td>0.000000</td>\n",
       "      <td>1.000000</td>\n",
       "      <td>1.000000</td>\n",
       "      <td>1.000000</td>\n",
       "      <td>1.000000</td>\n",
       "      <td>-47.000000</td>\n",
       "      <td>0.000000</td>\n",
       "      <td>15.000000</td>\n",
       "      <td>8.000000</td>\n",
       "      <td>31.000000</td>\n",
       "    </tr>\n",
       "    <tr>\n",
       "      <th>25%</th>\n",
       "      <td>-6.000000</td>\n",
       "      <td>0.000000</td>\n",
       "      <td>11.000000</td>\n",
       "      <td>932.000000</td>\n",
       "      <td>1050.000000</td>\n",
       "      <td>4.000000</td>\n",
       "      <td>-15.000000</td>\n",
       "      <td>0.000000</td>\n",
       "      <td>83.000000</td>\n",
       "      <td>60.000000</td>\n",
       "      <td>372.000000</td>\n",
       "    </tr>\n",
       "    <tr>\n",
       "      <th>50%</th>\n",
       "      <td>-3.000000</td>\n",
       "      <td>0.000000</td>\n",
       "      <td>14.000000</td>\n",
       "      <td>1341.000000</td>\n",
       "      <td>1506.000000</td>\n",
       "      <td>6.000000</td>\n",
       "      <td>-7.000000</td>\n",
       "      <td>0.000000</td>\n",
       "      <td>119.000000</td>\n",
       "      <td>94.000000</td>\n",
       "      <td>650.000000</td>\n",
       "    </tr>\n",
       "    <tr>\n",
       "      <th>75%</th>\n",
       "      <td>1.000000</td>\n",
       "      <td>0.000000</td>\n",
       "      <td>19.000000</td>\n",
       "      <td>1757.000000</td>\n",
       "      <td>1913.000000</td>\n",
       "      <td>9.000000</td>\n",
       "      <td>3.000000</td>\n",
       "      <td>0.000000</td>\n",
       "      <td>169.000000</td>\n",
       "      <td>144.000000</td>\n",
       "      <td>1062.000000</td>\n",
       "    </tr>\n",
       "    <tr>\n",
       "      <th>max</th>\n",
       "      <td>25.000000</td>\n",
       "      <td>17.000000</td>\n",
       "      <td>169.000000</td>\n",
       "      <td>2400.000000</td>\n",
       "      <td>2400.000000</td>\n",
       "      <td>224.000000</td>\n",
       "      <td>41.000000</td>\n",
       "      <td>20.000000</td>\n",
       "      <td>713.000000</td>\n",
       "      <td>684.000000</td>\n",
       "      <td>5096.000000</td>\n",
       "    </tr>\n",
       "  </tbody>\n",
       "</table>\n",
       "</div>"
      ],
      "text/plain": [
       "       Departure_Delay  DepDelayMinutes        TaxiOut      WheelsOff  \\\n",
       "count    329427.000000    315765.000000  379965.000000  379965.000000   \n",
       "mean         -0.998176         1.596494      16.658626    1356.866256   \n",
       "std           7.609791         3.713673       9.395468     502.575606   \n",
       "min         -23.000000         0.000000       1.000000       1.000000   \n",
       "25%          -6.000000         0.000000      11.000000     932.000000   \n",
       "50%          -3.000000         0.000000      14.000000    1341.000000   \n",
       "75%           1.000000         0.000000      19.000000    1757.000000   \n",
       "max          25.000000        17.000000     169.000000    2400.000000   \n",
       "\n",
       "            WheelsOn         TaxiIn  Arrival_Delay  ArrDelayMinutes  \\\n",
       "count  379829.000000  379829.000000  344650.000000    319996.000000   \n",
       "mean     1467.538413       7.516888      -4.743612         2.022925   \n",
       "std       528.702138       5.878215      14.995160         4.477969   \n",
       "min         1.000000       1.000000     -47.000000         0.000000   \n",
       "25%      1050.000000       4.000000     -15.000000         0.000000   \n",
       "50%      1506.000000       6.000000      -7.000000         0.000000   \n",
       "75%      1913.000000       9.000000       3.000000         0.000000   \n",
       "max      2400.000000     224.000000      41.000000        20.000000   \n",
       "\n",
       "        Elapsed_Time        AirTime       Distance  \n",
       "count  379043.000000  379043.000000  379965.000000  \n",
       "mean      137.651306     113.488939     822.275123  \n",
       "std        74.159384      72.084647     607.192756  \n",
       "min        15.000000       8.000000      31.000000  \n",
       "25%        83.000000      60.000000     372.000000  \n",
       "50%       119.000000      94.000000     650.000000  \n",
       "75%       169.000000     144.000000    1062.000000  \n",
       "max       713.000000     684.000000    5096.000000  "
      ]
     },
     "execution_count": 7,
     "metadata": {},
     "output_type": "execute_result"
    }
   ],
   "source": [
    "airline_df.filter(items=['Departure_Delay', 'DepDelayMinutes', 'TaxiOut', 'WheelsOff', 'WheelsOn', 'TaxiIn', 'Arrival_Delay', 'ArrDelayMinutes', 'Elapsed_Time', 'AirTime', 'Distance']).describe(include=[np.number])"
   ]
  },
  {
   "cell_type": "markdown",
   "metadata": {
    "id": "4sHWtdo4x-Bv"
   },
   "source": [
    "### 2. How often are flights delayed on departure?"
   ]
  },
  {
   "cell_type": "code",
   "execution_count": 8,
   "metadata": {},
   "outputs": [],
   "source": [
    "# Calculate the total count of departure flights from all airports\n",
    "total_dep_flights = airline_df['Flight_Number_Airline'].count()\n",
    "# Calculate the total count of 'Delayed' departure flights from all airports\n",
    "total_delayed_dep_flights = airline_df['Flight_Number_Airline'].loc[airline_df['IsDepDelay'] == 1].count()"
   ]
  },
  {
   "cell_type": "code",
   "execution_count": 9,
   "metadata": {},
   "outputs": [
    {
     "data": {
      "text/plain": [
       "36.04"
      ]
     },
     "execution_count": 9,
     "metadata": {},
     "output_type": "execute_result"
    }
   ],
   "source": [
    "# Percentage of flights being delayed on departure\n",
    "p_delayed_dep = round((total_delayed_dep_flights/total_dep_flights)*100, 2)\n",
    "p_delayed_dep"
   ]
  },
  {
   "cell_type": "markdown",
   "metadata": {
    "id": "t3iHk2AAyI-M"
   },
   "source": [
    "### 3. How often are flights delayed on arrival?"
   ]
  },
  {
   "cell_type": "code",
   "execution_count": 10,
   "metadata": {
    "id": "o71nwZJOyG3Z"
   },
   "outputs": [],
   "source": [
    "# Calculate the total count of arrival flights from all airports\n",
    "total_arr_flights = airline_df['Flight_Number_Airline'].count()\n",
    "# Calculate the total count of 'Delayed' arrival flights from all airports\n",
    "total_delayed_arr_flights = airline_df['Flight_Number_Airline'].loc[airline_df['IsArrDelay'] == 1].count()"
   ]
  },
  {
   "cell_type": "code",
   "execution_count": 11,
   "metadata": {},
   "outputs": [
    {
     "data": {
      "text/plain": [
       "36.2"
      ]
     },
     "execution_count": 11,
     "metadata": {},
     "output_type": "execute_result"
    }
   ],
   "source": [
    "# Percentage of flights being delayed on arrival\n",
    "p_delayed_arr = round((total_delayed_arr_flights/total_arr_flights)*100, 2)\n",
    "p_delayed_arr"
   ]
  },
  {
   "cell_type": "markdown",
   "metadata": {},
   "source": [
    "We can see that the percentage of flights being delayed on arrival and on departure are roughly similar, both are having around over 36% of delayed flights."
   ]
  },
  {
   "cell_type": "markdown",
   "metadata": {
    "id": "fsKgKJkcxmjf"
   },
   "source": [
    "### 4. Airports with most number of flights\n",
    "#### Flights from departure airports:"
   ]
  },
  {
   "cell_type": "code",
   "execution_count": 12,
   "metadata": {
    "id": "yzuHuk6txmjf",
    "outputId": "0425bd97-18c1-468e-b0cc-524f3c802b77"
   },
   "outputs": [
    {
     "data": {
      "text/html": [
       "<div>\n",
       "<style scoped>\n",
       "    .dataframe tbody tr th:only-of-type {\n",
       "        vertical-align: middle;\n",
       "    }\n",
       "\n",
       "    .dataframe tbody tr th {\n",
       "        vertical-align: top;\n",
       "    }\n",
       "\n",
       "    .dataframe thead th {\n",
       "        text-align: right;\n",
       "    }\n",
       "</style>\n",
       "<table border=\"1\" class=\"dataframe\">\n",
       "  <thead>\n",
       "    <tr style=\"text-align: right;\">\n",
       "      <th></th>\n",
       "      <th>Origin_Airport</th>\n",
       "      <th>Total Flights</th>\n",
       "    </tr>\n",
       "  </thead>\n",
       "  <tbody>\n",
       "    <tr>\n",
       "      <th>21</th>\n",
       "      <td>ATL</td>\n",
       "      <td>23319</td>\n",
       "    </tr>\n",
       "    <tr>\n",
       "      <th>257</th>\n",
       "      <td>ORD</td>\n",
       "      <td>17626</td>\n",
       "    </tr>\n",
       "    <tr>\n",
       "      <th>97</th>\n",
       "      <td>DFW</td>\n",
       "      <td>15064</td>\n",
       "    </tr>\n",
       "    <tr>\n",
       "      <th>96</th>\n",
       "      <td>DEN</td>\n",
       "      <td>13905</td>\n",
       "    </tr>\n",
       "    <tr>\n",
       "      <th>196</th>\n",
       "      <td>LAX</td>\n",
       "      <td>13131</td>\n",
       "    </tr>\n",
       "    <tr>\n",
       "      <th>319</th>\n",
       "      <td>SFO</td>\n",
       "      <td>10333</td>\n",
       "    </tr>\n",
       "    <tr>\n",
       "      <th>272</th>\n",
       "      <td>PHX</td>\n",
       "      <td>10062</td>\n",
       "    </tr>\n",
       "    <tr>\n",
       "      <th>170</th>\n",
       "      <td>IAH</td>\n",
       "      <td>9698</td>\n",
       "    </tr>\n",
       "    <tr>\n",
       "      <th>76</th>\n",
       "      <td>CLT</td>\n",
       "      <td>9405</td>\n",
       "    </tr>\n",
       "    <tr>\n",
       "      <th>194</th>\n",
       "      <td>LAS</td>\n",
       "      <td>9345</td>\n",
       "    </tr>\n",
       "  </tbody>\n",
       "</table>\n",
       "</div>"
      ],
      "text/plain": [
       "    Origin_Airport  Total Flights\n",
       "21             ATL          23319\n",
       "257            ORD          17626\n",
       "97             DFW          15064\n",
       "96             DEN          13905\n",
       "196            LAX          13131\n",
       "319            SFO          10333\n",
       "272            PHX          10062\n",
       "170            IAH           9698\n",
       "76             CLT           9405\n",
       "194            LAS           9345"
      ]
     },
     "execution_count": 12,
     "metadata": {},
     "output_type": "execute_result"
    }
   ],
   "source": [
    "number_of_flight_dep = airline_df.groupby('Origin_Airport')['Flight_Number_Airline'].count().reset_index(name = 'Total Flights')\n",
    "top10_number_of_flight_dep = number_of_flight_dep.sort_values('Total Flights',ascending = False).head(10)\n",
    "top10_number_of_flight_dep"
   ]
  },
  {
   "cell_type": "code",
   "execution_count": 13,
   "metadata": {
    "id": "WRpu-O5loAlN",
    "outputId": "e877e694-5177-4a92-904f-33ba43146221"
   },
   "outputs": [
    {
     "data": {
      "image/png": "[encoded data removed]",
      "text/plain": [
       "<Figure size 720x360 with 1 Axes>"
      ]
     },
     "metadata": {},
     "output_type": "display_data"
    }
   ],
   "source": [
    "display_bar_char('Origin_Airport', 'Total Flights', top10_number_of_flight_dep, 'v', (10, 5), \"Highest number of flights per airport\")"
   ]
  },
  {
   "cell_type": "markdown",
   "metadata": {
    "id": "m9GlHO9eoAlN"
   },
   "source": [
    "- We can see from here that airport ATL is the one with the highest number of departure flights of over 23000 flights recorded.\n",
    "- Airports SFO, PHX, IAH, CLT, LAS are also the ones which made it to the top 10 of highest number of departure flights, but their total flights are around 10,000 flights only, which is about half of the number of flights from airport ATL"
   ]
  },
  {
   "cell_type": "markdown",
   "metadata": {
    "id": "FKJ1P58UoAlN"
   },
   "source": [
    "#### Flights from arrival airports:"
   ]
  },
  {
   "cell_type": "code",
   "execution_count": 14,
   "metadata": {
    "id": "GSQnNjO0oAlO",
    "outputId": "0a0ba31f-5a42-4675-93c7-2cc7bd42cdca"
   },
   "outputs": [
    {
     "data": {
      "text/html": [
       "<div>\n",
       "<style scoped>\n",
       "    .dataframe tbody tr th:only-of-type {\n",
       "        vertical-align: middle;\n",
       "    }\n",
       "\n",
       "    .dataframe tbody tr th {\n",
       "        vertical-align: top;\n",
       "    }\n",
       "\n",
       "    .dataframe thead th {\n",
       "        text-align: right;\n",
       "    }\n",
       "</style>\n",
       "<table border=\"1\" class=\"dataframe\">\n",
       "  <thead>\n",
       "    <tr style=\"text-align: right;\">\n",
       "      <th></th>\n",
       "      <th>Dest_Airport</th>\n",
       "      <th>Total Flights</th>\n",
       "    </tr>\n",
       "  </thead>\n",
       "  <tbody>\n",
       "    <tr>\n",
       "      <th>21</th>\n",
       "      <td>ATL</td>\n",
       "      <td>23221</td>\n",
       "    </tr>\n",
       "    <tr>\n",
       "      <th>256</th>\n",
       "      <td>ORD</td>\n",
       "      <td>17992</td>\n",
       "    </tr>\n",
       "    <tr>\n",
       "      <th>97</th>\n",
       "      <td>DFW</td>\n",
       "      <td>15180</td>\n",
       "    </tr>\n",
       "    <tr>\n",
       "      <th>96</th>\n",
       "      <td>DEN</td>\n",
       "      <td>13876</td>\n",
       "    </tr>\n",
       "    <tr>\n",
       "      <th>195</th>\n",
       "      <td>LAX</td>\n",
       "      <td>13375</td>\n",
       "    </tr>\n",
       "    <tr>\n",
       "      <th>318</th>\n",
       "      <td>SFO</td>\n",
       "      <td>10536</td>\n",
       "    </tr>\n",
       "    <tr>\n",
       "      <th>271</th>\n",
       "      <td>PHX</td>\n",
       "      <td>10123</td>\n",
       "    </tr>\n",
       "    <tr>\n",
       "      <th>169</th>\n",
       "      <td>IAH</td>\n",
       "      <td>9626</td>\n",
       "    </tr>\n",
       "    <tr>\n",
       "      <th>193</th>\n",
       "      <td>LAS</td>\n",
       "      <td>9444</td>\n",
       "    </tr>\n",
       "    <tr>\n",
       "      <th>76</th>\n",
       "      <td>CLT</td>\n",
       "      <td>9298</td>\n",
       "    </tr>\n",
       "  </tbody>\n",
       "</table>\n",
       "</div>"
      ],
      "text/plain": [
       "    Dest_Airport  Total Flights\n",
       "21           ATL          23221\n",
       "256          ORD          17992\n",
       "97           DFW          15180\n",
       "96           DEN          13876\n",
       "195          LAX          13375\n",
       "318          SFO          10536\n",
       "271          PHX          10123\n",
       "169          IAH           9626\n",
       "193          LAS           9444\n",
       "76           CLT           9298"
      ]
     },
     "execution_count": 14,
     "metadata": {},
     "output_type": "execute_result"
    }
   ],
   "source": [
    "number_of_flight_arr = airline_df.groupby('Dest_Airport')['Flight_Number_Airline'].count().reset_index(name = 'Total Flights')\n",
    "top10_number_of_flight_arr = number_of_flight_arr.sort_values('Total Flights',ascending = False).head(10)\n",
    "top10_number_of_flight_arr"
   ]
  },
  {
   "cell_type": "code",
   "execution_count": 15,
   "metadata": {
    "id": "m8R8bHbSoAlO",
    "outputId": "fa4680bf-30a4-4894-86f2-848310619aa8"
   },
   "outputs": [
    {
     "data": {
      "image/png": "[encoded data removed]",
      "text/plain": [
       "<Figure size 720x360 with 1 Axes>"
      ]
     },
     "metadata": {},
     "output_type": "display_data"
    }
   ],
   "source": [
    "display_bar_char('Dest_Airport', 'Total Flights', top10_number_of_flight_arr, 'v', (10, 5), \"Highest number of flights per airport\")"
   ]
  },
  {
   "cell_type": "markdown",
   "metadata": {
    "id": "eDJOZADroAlO"
   },
   "source": [
    "- We can see from here that airport ATL is also the one with the highest number of arrival flights of over 23000 flights recorded. It marked the huge differences when comparing to other airports in top 10.\n",
    "- Airports SFO, PHX, IAH, CLT, LAS are also the ones which made it to the top 10 of highest number of departure flights, but their total flights are around 10,000 flights only, which is about half of the number of flights from airport ATL"
   ]
  },
  {
   "cell_type": "markdown",
   "metadata": {
    "id": "-iCbEDIOxmjf"
   },
   "source": [
    "### 5. Airports with highest frequency of departure delay"
   ]
  },
  {
   "cell_type": "code",
   "execution_count": 16,
   "metadata": {
    "id": "3vU10vCroAlO",
    "outputId": "0df73aa2-4f41-4cc7-e657-d4cf52cca1c4"
   },
   "outputs": [
    {
     "data": {
      "text/html": [
       "<div>\n",
       "<style scoped>\n",
       "    .dataframe tbody tr th:only-of-type {\n",
       "        vertical-align: middle;\n",
       "    }\n",
       "\n",
       "    .dataframe tbody tr th {\n",
       "        vertical-align: top;\n",
       "    }\n",
       "\n",
       "    .dataframe thead th {\n",
       "        text-align: right;\n",
       "    }\n",
       "</style>\n",
       "<table border=\"1\" class=\"dataframe\">\n",
       "  <thead>\n",
       "    <tr style=\"text-align: right;\">\n",
       "      <th></th>\n",
       "      <th>Origin_Airport</th>\n",
       "      <th>Total Departure Delays</th>\n",
       "    </tr>\n",
       "  </thead>\n",
       "  <tbody>\n",
       "    <tr>\n",
       "      <th>21</th>\n",
       "      <td>ATL</td>\n",
       "      <td>8505</td>\n",
       "    </tr>\n",
       "    <tr>\n",
       "      <th>257</th>\n",
       "      <td>ORD</td>\n",
       "      <td>6960</td>\n",
       "    </tr>\n",
       "    <tr>\n",
       "      <th>96</th>\n",
       "      <td>DEN</td>\n",
       "      <td>5914</td>\n",
       "    </tr>\n",
       "    <tr>\n",
       "      <th>97</th>\n",
       "      <td>DFW</td>\n",
       "      <td>5787</td>\n",
       "    </tr>\n",
       "    <tr>\n",
       "      <th>196</th>\n",
       "      <td>LAX</td>\n",
       "      <td>5376</td>\n",
       "    </tr>\n",
       "    <tr>\n",
       "      <th>194</th>\n",
       "      <td>LAS</td>\n",
       "      <td>4102</td>\n",
       "    </tr>\n",
       "    <tr>\n",
       "      <th>319</th>\n",
       "      <td>SFO</td>\n",
       "      <td>4031</td>\n",
       "    </tr>\n",
       "    <tr>\n",
       "      <th>272</th>\n",
       "      <td>PHX</td>\n",
       "      <td>3858</td>\n",
       "    </tr>\n",
       "    <tr>\n",
       "      <th>76</th>\n",
       "      <td>CLT</td>\n",
       "      <td>3442</td>\n",
       "    </tr>\n",
       "    <tr>\n",
       "      <th>170</th>\n",
       "      <td>IAH</td>\n",
       "      <td>3392</td>\n",
       "    </tr>\n",
       "  </tbody>\n",
       "</table>\n",
       "</div>"
      ],
      "text/plain": [
       "    Origin_Airport  Total Departure Delays\n",
       "21             ATL                    8505\n",
       "257            ORD                    6960\n",
       "96             DEN                    5914\n",
       "97             DFW                    5787\n",
       "196            LAX                    5376\n",
       "194            LAS                    4102\n",
       "319            SFO                    4031\n",
       "272            PHX                    3858\n",
       "76             CLT                    3442\n",
       "170            IAH                    3392"
      ]
     },
     "execution_count": 16,
     "metadata": {},
     "output_type": "execute_result"
    }
   ],
   "source": [
    "dep_delay_freq = airline_df.groupby('Origin_Airport')['IsDepDelay'].sum().reset_index(name = 'Total Departure Delays')\n",
    "top10_dep_delay_freq = dep_delay_freq.sort_values('Total Departure Delays',ascending = False).head(10)\n",
    "top10_dep_delay_freq"
   ]
  },
  {
   "cell_type": "code",
   "execution_count": 17,
   "metadata": {
    "id": "ZldFfXHxoAlO",
    "outputId": "991d41c7-0654-4240-fc9e-6818199c7e53"
   },
   "outputs": [
    {
     "data": {
      "image/png": "[encoded data removed]",
      "text/plain": [
       "<Figure size 720x360 with 1 Axes>"
      ]
     },
     "metadata": {},
     "output_type": "display_data"
    }
   ],
   "source": [
    "display_bar_char('Origin_Airport', 'Total Departure Delays', top10_dep_delay_freq, 'v', (10, 5), \"Highest number of flights per airport\")"
   ]
  },
  {
   "cell_type": "markdown",
   "metadata": {
    "id": "e-DBcLsJoAlP"
   },
   "source": [
    "We can see here that ATL is the airport with highest number of flights being delayed. But does this mean the rate of delay in ATL airport is also high? Let's look at the percentage of delayed flights per airport below:"
   ]
  },
  {
   "cell_type": "code",
   "execution_count": 22,
   "metadata": {
    "id": "fRjlaQWSoAlP",
    "outputId": "972246b9-637c-42bc-a9b6-e2613723da3a"
   },
   "outputs": [
    {
     "data": {
      "text/plain": [
       "[36.47, 39.49, 42.53, 38.42, 40.94, 43.9, 39.01, 38.34, 36.6, 34.98]"
      ]
     },
     "execution_count": 22,
     "metadata": {},
     "output_type": "execute_result"
    }
   ],
   "source": [
    "# Calculate delay percentage for departure flights in top 10 airports with highest delayed flight count\n",
    "delay_percentages = []\n",
    "for index, row in top10_dep_delay_freq.iterrows():\n",
    "    airport = row[\"Origin_Airport\"]\n",
    "    total_delay = row[\"Total Departure Delays\"]\n",
    "    total_flight = number_of_flight_dep[\"Total Flights\"].loc[number_of_flight_dep[\"Origin_Airport\"] == airport].values[0]\n",
    "    # Calculate delay departure percentage for an airport\n",
    "    delay_percentage = round((total_delay/total_flight)*100, 2)\n",
    "    # Append calculated percentage to the list\n",
    "    delay_percentages.append(delay_percentage)\n",
    "delay_percentages # List of percentage for flight delay in top 10 highest delayed flight airports"
   ]
  },
  {
   "cell_type": "code",
   "execution_count": 23,
   "metadata": {
    "id": "g4oDvfI3oAlP"
   },
   "outputs": [],
   "source": [
    "# Create a new column in data frame top10_dep_delay_freq\n",
    "top10_dep_delay_freq[\"Delay Percentage\"] = delay_percentages"
   ]
  },
  {
   "cell_type": "code",
   "execution_count": 24,
   "metadata": {
    "id": "F6LsBocpoAlP",
    "outputId": "6745363d-6d2d-4f99-f282-9234f52b59c9"
   },
   "outputs": [
    {
     "data": {
      "image/png": "[encoded data removed]",
      "text/plain": [
       "<Figure size 720x360 with 1 Axes>"
      ]
     },
     "metadata": {},
     "output_type": "display_data"
    }
   ],
   "source": [
    "display_bar_char('Origin_Airport', 'Delay Percentage', top10_dep_delay_freq, 'v', (10, 5), \"Percentage of Delayed Flights\")"
   ]
  },
  {
   "cell_type": "markdown",
   "metadata": {
    "id": "8nGgabWJoAlP"
   },
   "source": [
    "- After calculating the percentage, we can see that although ATL is the airport with highest number of delayed flights, its percentage of delayed flights is one of the lowest this top 10 highest delay flight counts.\n",
    "- On the other hand, LAS airport, which was having only 4,000 delayed flights recorded, actually have the highest rate of delay (approximately 44%)"
   ]
  },
  {
   "cell_type": "markdown",
   "metadata": {
    "id": "tRJFb_D3yTEI"
   },
   "source": [
    "### 6. Airports with highest frequency of arrival delay"
   ]
  },
  {
   "cell_type": "code",
   "execution_count": 26,
   "metadata": {
    "id": "27D_Rheey5mo",
    "outputId": "5bb0f161-3340-4469-dfc3-5adddcfe15ad"
   },
   "outputs": [
    {
     "data": {
      "text/html": [
       "<div>\n",
       "<style scoped>\n",
       "    .dataframe tbody tr th:only-of-type {\n",
       "        vertical-align: middle;\n",
       "    }\n",
       "\n",
       "    .dataframe tbody tr th {\n",
       "        vertical-align: top;\n",
       "    }\n",
       "\n",
       "    .dataframe thead th {\n",
       "        text-align: right;\n",
       "    }\n",
       "</style>\n",
       "<table border=\"1\" class=\"dataframe\">\n",
       "  <thead>\n",
       "    <tr style=\"text-align: right;\">\n",
       "      <th></th>\n",
       "      <th>Dest_Airport</th>\n",
       "      <th>Total Arrival Delays</th>\n",
       "    </tr>\n",
       "  </thead>\n",
       "  <tbody>\n",
       "    <tr>\n",
       "      <th>21</th>\n",
       "      <td>ATL</td>\n",
       "      <td>6994</td>\n",
       "    </tr>\n",
       "    <tr>\n",
       "      <th>256</th>\n",
       "      <td>ORD</td>\n",
       "      <td>6613</td>\n",
       "    </tr>\n",
       "    <tr>\n",
       "      <th>97</th>\n",
       "      <td>DFW</td>\n",
       "      <td>5515</td>\n",
       "    </tr>\n",
       "    <tr>\n",
       "      <th>195</th>\n",
       "      <td>LAX</td>\n",
       "      <td>5383</td>\n",
       "    </tr>\n",
       "    <tr>\n",
       "      <th>96</th>\n",
       "      <td>DEN</td>\n",
       "      <td>4769</td>\n",
       "    </tr>\n",
       "    <tr>\n",
       "      <th>318</th>\n",
       "      <td>SFO</td>\n",
       "      <td>4418</td>\n",
       "    </tr>\n",
       "    <tr>\n",
       "      <th>271</th>\n",
       "      <td>PHX</td>\n",
       "      <td>3820</td>\n",
       "    </tr>\n",
       "    <tr>\n",
       "      <th>193</th>\n",
       "      <td>LAS</td>\n",
       "      <td>3502</td>\n",
       "    </tr>\n",
       "    <tr>\n",
       "      <th>169</th>\n",
       "      <td>IAH</td>\n",
       "      <td>3303</td>\n",
       "    </tr>\n",
       "    <tr>\n",
       "      <th>76</th>\n",
       "      <td>CLT</td>\n",
       "      <td>3092</td>\n",
       "    </tr>\n",
       "  </tbody>\n",
       "</table>\n",
       "</div>"
      ],
      "text/plain": [
       "    Dest_Airport  Total Arrival Delays\n",
       "21           ATL                  6994\n",
       "256          ORD                  6613\n",
       "97           DFW                  5515\n",
       "195          LAX                  5383\n",
       "96           DEN                  4769\n",
       "318          SFO                  4418\n",
       "271          PHX                  3820\n",
       "193          LAS                  3502\n",
       "169          IAH                  3303\n",
       "76           CLT                  3092"
      ]
     },
     "execution_count": 26,
     "metadata": {},
     "output_type": "execute_result"
    }
   ],
   "source": [
    "arr_delay_freq = airline_df.groupby('Dest_Airport')['IsArrDelay'].sum().reset_index(name = 'Total Arrival Delays')\n",
    "top10_arr_delay_freq = arr_delay_freq.sort_values('Total Arrival Delays',ascending = False).head(10)\n",
    "top10_arr_delay_freq"
   ]
  },
  {
   "cell_type": "code",
   "execution_count": 27,
   "metadata": {
    "id": "3O4CPUScoAlP",
    "outputId": "f0114ff1-f401-4f86-fbf9-c46327b3155a"
   },
   "outputs": [
    {
     "data": {
      "image/png": "[encoded data removed]",
      "text/plain": [
       "<Figure size 720x360 with 1 Axes>"
      ]
     },
     "metadata": {},
     "output_type": "display_data"
    }
   ],
   "source": [
    "display_bar_char('Dest_Airport', 'Total Arrival Delays', top10_arr_delay_freq, 'v', (10, 5), \"Highest number of flights per airport\")"
   ]
  },
  {
   "cell_type": "markdown",
   "metadata": {
    "id": "SWdHWY9qoAlQ"
   },
   "source": [
    "- We can see that the top 10 airports with highest counts of delayed arrival flights is the same of top 10 airport with most delayed departure flights\n",
    "- For either departure or arrival flights, ATL airport is still the one with highest number of flight being delayed. However, the number of delayed arrival flights is around 7,000 flights, which is less than that of departure flights, which is at over 8,00 flights.\n",
    "- Aiport IAH and CLT are also one of the airports with least number of delayed flight in the top 10 with highest delayed. For arrival flights, they had around 3,000 delayed flight, which is less than half of that in ATL.\n",
    "\n",
    "Let's look at the percentage of delayed flights per airport to see which airport will have highest delayed arrival flight percentage below:"
   ]
  },
  {
   "cell_type": "code",
   "execution_count": 28,
   "metadata": {
    "id": "c8dvjkzkoAlQ",
    "outputId": "c68eb36d-ac9d-4413-ec21-421afbd61e33"
   },
   "outputs": [
    {
     "data": {
      "text/plain": [
       "[30.12, 36.76, 36.33, 40.25, 34.37, 41.93, 37.74, 37.08, 34.31, 33.25]"
      ]
     },
     "execution_count": 28,
     "metadata": {},
     "output_type": "execute_result"
    }
   ],
   "source": [
    "# Calculate delay percentage for arrival flights in top 10 airports with highest delayed flight count\n",
    "delay_percentages = []\n",
    "for index, row in top10_arr_delay_freq.iterrows():\n",
    "    airport = row[\"Dest_Airport\"]\n",
    "    total_delay = row[\"Total Arrival Delays\"]\n",
    "    total_flight = number_of_flight_arr[\"Total Flights\"].loc[number_of_flight_arr[\"Dest_Airport\"] == airport].values[0]\n",
    "    # Calculate delay arrival percentage for an airport\n",
    "    delay_percentage = round((total_delay/total_flight)*100, 2)\n",
    "    # Append calculated percentage to the list\n",
    "    delay_percentages.append(delay_percentage)\n",
    "delay_percentages # List of percentage for flight delay in top 10 highest delayed flight airports"
   ]
  },
  {
   "cell_type": "code",
   "execution_count": 29,
   "metadata": {
    "id": "3Z6KRWtJoAlQ"
   },
   "outputs": [],
   "source": [
    "# Create a new column in data frame top10_arr_delay_freq\n",
    "top10_arr_delay_freq[\"Delay Percentage\"] = delay_percentages"
   ]
  },
  {
   "cell_type": "code",
   "execution_count": 30,
   "metadata": {
    "id": "lfbRwAaeoAlQ",
    "outputId": "a3065c92-dca1-487e-af8c-2072b8722001"
   },
   "outputs": [
    {
     "data": {
      "image/png": "[encoded data removed]",
      "text/plain": [
       "<Figure size 720x360 with 1 Axes>"
      ]
     },
     "metadata": {},
     "output_type": "display_data"
    }
   ],
   "source": [
    "display_bar_char('Dest_Airport', 'Delay Percentage', top10_arr_delay_freq, 'v', (10, 5), \"Percentage of Delayed Flights\")"
   ]
  },
  {
   "cell_type": "markdown",
   "metadata": {
    "id": "8uB8FMjVoAlQ"
   },
   "source": [
    "- Surprisingly, although ATL is the airport with highest number of delayed flights, its percentage of delayed flights is actually the lowest in this top 10 highest delay flight counts. This may be because ATL is a large airport with a huge number of arrival/departure flights.\n",
    "- SFO airport, which has the second highest in percentage of departure flight delayed, is the airport with highest arrival flights delayed! The statistics suggest that over 41% of flights to SFO will be delayed."
   ]
  },
  {
   "cell_type": "markdown",
   "metadata": {
    "id": "zJUlVItPyaK1"
   },
   "source": [
    "### 7. Airports with high mean departure delay in minutes? "
   ]
  },
  {
   "cell_type": "code",
   "execution_count": null,
   "metadata": {
    "id": "0MX-e8u2yz4k",
    "outputId": "7d0b82a8-1485-42d4-e17d-1a21816647cd",
    "scrolled": true
   },
   "outputs": [
    {
     "data": {
      "text/html": [
       "<div>\n",
       "<style scoped>\n",
       "    .dataframe tbody tr th:only-of-type {\n",
       "        vertical-align: middle;\n",
       "    }\n",
       "\n",
       "    .dataframe tbody tr th {\n",
       "        vertical-align: top;\n",
       "    }\n",
       "\n",
       "    .dataframe thead th {\n",
       "        text-align: right;\n",
       "    }\n",
       "</style>\n",
       "<table border=\"1\" class=\"dataframe\">\n",
       "  <thead>\n",
       "    <tr style=\"text-align: right;\">\n",
       "      <th></th>\n",
       "      <th>Origin_Airport</th>\n",
       "      <th>Mean delay (minutes)</th>\n",
       "    </tr>\n",
       "  </thead>\n",
       "  <tbody>\n",
       "    <tr>\n",
       "      <th>250</th>\n",
       "      <td>OGD</td>\n",
       "      <td>13.0</td>\n",
       "    </tr>\n",
       "    <tr>\n",
       "      <th>19</th>\n",
       "      <td>ART</td>\n",
       "      <td>9.0</td>\n",
       "    </tr>\n",
       "    <tr>\n",
       "      <th>262</th>\n",
       "      <td>OWB</td>\n",
       "      <td>4.5</td>\n",
       "    </tr>\n",
       "    <tr>\n",
       "      <th>40</th>\n",
       "      <td>BKG</td>\n",
       "      <td>4.0</td>\n",
       "    </tr>\n",
       "    <tr>\n",
       "      <th>174</th>\n",
       "      <td>ILG</td>\n",
       "      <td>4.0</td>\n",
       "    </tr>\n",
       "  </tbody>\n",
       "</table>\n",
       "</div>"
      ],
      "text/plain": [
       "    Origin_Airport  Mean delay (minutes)\n",
       "250            OGD                  13.0\n",
       "19             ART                   9.0\n",
       "262            OWB                   4.5\n",
       "40             BKG                   4.0\n",
       "174            ILG                   4.0"
      ]
     },
     "execution_count": 21,
     "metadata": {},
     "output_type": "execute_result"
    }
   ],
   "source": [
    "# TODO: Replace 'Origin_Airport' columns with 'Origin_Airport_Name'\n",
    "airline_df.groupby('Origin_Airport')['DepDelayMinutes'] \\\n",
    "    .mean() \\\n",
    "    .reset_index(name = 'Mean delay (minutes)') \\\n",
    "    .sort_values('Mean delay (minutes)', ascending = False).head()"
   ]
  },
  {
   "cell_type": "markdown",
   "metadata": {
    "id": "V4uyeSyiyd5d"
   },
   "source": [
    "### 8. Airports with high mean arrival delay in minutes? "
   ]
  },
  {
   "cell_type": "code",
   "execution_count": null,
   "metadata": {
    "id": "75syrndmzeia",
    "outputId": "5bb0f161-3340-4469-dfc3-5adddcfe15ad"
   },
   "outputs": [
    {
     "data": {
      "text/html": [
       "<div>\n",
       "<style scoped>\n",
       "    .dataframe tbody tr th:only-of-type {\n",
       "        vertical-align: middle;\n",
       "    }\n",
       "\n",
       "    .dataframe tbody tr th {\n",
       "        vertical-align: top;\n",
       "    }\n",
       "\n",
       "    .dataframe thead th {\n",
       "        text-align: right;\n",
       "    }\n",
       "</style>\n",
       "<table border=\"1\" class=\"dataframe\">\n",
       "  <thead>\n",
       "    <tr style=\"text-align: right;\">\n",
       "      <th></th>\n",
       "      <th>Dest_Airport</th>\n",
       "      <th>Mean delay (minutes)</th>\n",
       "    </tr>\n",
       "  </thead>\n",
       "  <tbody>\n",
       "    <tr>\n",
       "      <th>261</th>\n",
       "      <td>OWB</td>\n",
       "      <td>17.000000</td>\n",
       "    </tr>\n",
       "    <tr>\n",
       "      <th>249</th>\n",
       "      <td>OGD</td>\n",
       "      <td>12.000000</td>\n",
       "    </tr>\n",
       "    <tr>\n",
       "      <th>360</th>\n",
       "      <td>UST</td>\n",
       "      <td>7.000000</td>\n",
       "    </tr>\n",
       "    <tr>\n",
       "      <th>40</th>\n",
       "      <td>BKG</td>\n",
       "      <td>6.888889</td>\n",
       "    </tr>\n",
       "    <tr>\n",
       "      <th>64</th>\n",
       "      <td>CEC</td>\n",
       "      <td>5.692308</td>\n",
       "    </tr>\n",
       "  </tbody>\n",
       "</table>\n",
       "</div>"
      ],
      "text/plain": [
       "    Dest_Airport  Mean delay (minutes)\n",
       "261          OWB             17.000000\n",
       "249          OGD             12.000000\n",
       "360          UST              7.000000\n",
       "40           BKG              6.888889\n",
       "64           CEC              5.692308"
      ]
     },
     "execution_count": 22,
     "metadata": {},
     "output_type": "execute_result"
    }
   ],
   "source": [
    "# TODO: Replace 'Dest_Airport' columns with 'Dest_Airport_Name'\n",
    "airline_df.groupby('Dest_Airport')['ArrDelayMinutes'] \\\n",
    "    .mean() \\\n",
    "    .reset_index(name = 'Mean delay (minutes)') \\\n",
    "    .sort_values('Mean delay (minutes)', ascending = False).head()"
   ]
  },
  {
   "cell_type": "markdown",
   "metadata": {
    "id": "69fu5ShPzgAZ"
   },
   "source": [
    "### 9. Airlines with highest number of flights?  "
   ]
  },
  {
   "cell_type": "code",
   "execution_count": null,
   "metadata": {
    "id": "GR8_cJ2KzpTm",
    "outputId": "ce25f192-78d0-4764-e683-fd6d063f3e62"
   },
   "outputs": [
    {
     "data": {
      "text/html": [
       "<div>\n",
       "<style scoped>\n",
       "    .dataframe tbody tr th:only-of-type {\n",
       "        vertical-align: middle;\n",
       "    }\n",
       "\n",
       "    .dataframe tbody tr th {\n",
       "        vertical-align: top;\n",
       "    }\n",
       "\n",
       "    .dataframe thead th {\n",
       "        text-align: right;\n",
       "    }\n",
       "</style>\n",
       "<table border=\"1\" class=\"dataframe\">\n",
       "  <thead>\n",
       "    <tr style=\"text-align: right;\">\n",
       "      <th></th>\n",
       "      <th>Airline_Name</th>\n",
       "      <th>FlightDate</th>\n",
       "    </tr>\n",
       "  </thead>\n",
       "  <tbody>\n",
       "    <tr>\n",
       "      <th>0</th>\n",
       "      <td>Southwest Airlines Co.</td>\n",
       "      <td>78891</td>\n",
       "    </tr>\n",
       "    <tr>\n",
       "      <th>1</th>\n",
       "      <td>Delta Air Lines Inc.</td>\n",
       "      <td>56243</td>\n",
       "    </tr>\n",
       "    <tr>\n",
       "      <th>2</th>\n",
       "      <td>American Airlines Inc.</td>\n",
       "      <td>50091</td>\n",
       "    </tr>\n",
       "    <tr>\n",
       "      <th>3</th>\n",
       "      <td>SkyWest Airlines Inc.</td>\n",
       "      <td>41841</td>\n",
       "    </tr>\n",
       "    <tr>\n",
       "      <th>4</th>\n",
       "      <td>United Air Lines Inc.</td>\n",
       "      <td>34176</td>\n",
       "    </tr>\n",
       "    <tr>\n",
       "      <th>5</th>\n",
       "      <td>ExpressJet Airlines Inc.</td>\n",
       "      <td>23954</td>\n",
       "    </tr>\n",
       "    <tr>\n",
       "      <th>6</th>\n",
       "      <td>JetBlue Airways</td>\n",
       "      <td>17013</td>\n",
       "    </tr>\n",
       "    <tr>\n",
       "      <th>7</th>\n",
       "      <td>Envoy Air</td>\n",
       "      <td>12845</td>\n",
       "    </tr>\n",
       "    <tr>\n",
       "      <th>8</th>\n",
       "      <td>Alaska Airlines Inc.</td>\n",
       "      <td>12216</td>\n",
       "    </tr>\n",
       "    <tr>\n",
       "      <th>9</th>\n",
       "      <td>Spirit Air Lines</td>\n",
       "      <td>7925</td>\n",
       "    </tr>\n",
       "  </tbody>\n",
       "</table>\n",
       "</div>"
      ],
      "text/plain": [
       "               Airline_Name  FlightDate\n",
       "0    Southwest Airlines Co.       78891\n",
       "1      Delta Air Lines Inc.       56243\n",
       "2    American Airlines Inc.       50091\n",
       "3     SkyWest Airlines Inc.       41841\n",
       "4     United Air Lines Inc.       34176\n",
       "5  ExpressJet Airlines Inc.       23954\n",
       "6           JetBlue Airways       17013\n",
       "7                 Envoy Air       12845\n",
       "8      Alaska Airlines Inc.       12216\n",
       "9          Spirit Air Lines        7925"
      ]
     },
     "execution_count": 25,
     "metadata": {},
     "output_type": "execute_result"
    }
   ],
   "source": [
    "airport_numFlights = airline_df[['Airline_Name', 'FlightDate']]\n",
    "airport_numFlights = airport_numFlights.groupby(by='Airline_Name').count()\n",
    "airport_numFlights = airport_numFlights.sort_values(by=['FlightDate'], ascending=False)\n",
    "a1 = airport_numFlights.head(10).reset_index()\n",
    "a1"
   ]
  },
  {
   "cell_type": "code",
   "execution_count": null,
   "metadata": {
    "id": "jLzswXIjzsiS",
    "outputId": "a97a2ec6-ff72-4db0-98ad-fcaa9f596b19"
   },
   "outputs": [
    {
     "data": {
      "text/plain": [
       "(array([0, 1, 2, 3, 4, 5, 6, 7, 8, 9]),\n",
       " [Text(0, 0, 'Southwest Airlines Co.'),\n",
       "  Text(1, 0, 'Delta Air Lines Inc.'),\n",
       "  Text(2, 0, 'American Airlines Inc.'),\n",
       "  Text(3, 0, 'SkyWest Airlines Inc.'),\n",
       "  Text(4, 0, 'United Air Lines Inc.'),\n",
       "  Text(5, 0, 'ExpressJet Airlines Inc.'),\n",
       "  Text(6, 0, 'JetBlue Airways'),\n",
       "  Text(7, 0, 'Envoy Air'),\n",
       "  Text(8, 0, 'Alaska Airlines Inc.'),\n",
       "  Text(9, 0, 'Spirit Air Lines')])"
      ]
     },
     "execution_count": 27,
     "metadata": {},
     "output_type": "execute_result"
    },
    {
     "data": {
      "image/png": "[encoded data removed]",
      "text/plain": [
       "<Figure size 864x720 with 1 Axes>"
      ]
     },
     "metadata": {},
     "output_type": "display_data"
    }
   ],
   "source": [
    "sns.set_style('darkgrid')\n",
    "sns.set_palette('Set2')\n",
    "sns.barplot(data=a1, x=a1.Airline_Name, y=a1.FlightDate)\n",
    "\n",
    "plt.title('Airlines with the highest number of flights')\n",
    "plt.xlabel('Airline_Name')\n",
    "plt.ylabel('Number of Flights')\n",
    "\n",
    "plt.xticks(\n",
    "    rotation=45, \n",
    "    horizontalalignment='right',\n",
    "    fontweight='light',\n",
    "    fontsize='x-large'  \n",
    ")"
   ]
  },
  {
   "cell_type": "markdown",
   "metadata": {
    "id": "uvSifDnFzuI-"
   },
   "source": [
    "### 10. Airlines with highest freq departure delay? \n",
    "\n",
    "The same top 10 airlines appear in all 3 analyses, with varied order. The top 3 are Southwest Airlines, Delta Airlines, and American Airlines."
   ]
  },
  {
   "cell_type": "code",
   "execution_count": null,
   "metadata": {
    "id": "yqG4AhnYz3d5",
    "outputId": "d1a1fa49-105f-4501-8ffa-a9449be6baef"
   },
   "outputs": [
    {
     "data": {
      "text/html": [
       "<div>\n",
       "<style scoped>\n",
       "    .dataframe tbody tr th:only-of-type {\n",
       "        vertical-align: middle;\n",
       "    }\n",
       "\n",
       "    .dataframe tbody tr th {\n",
       "        vertical-align: top;\n",
       "    }\n",
       "\n",
       "    .dataframe thead th {\n",
       "        text-align: right;\n",
       "    }\n",
       "</style>\n",
       "<table border=\"1\" class=\"dataframe\">\n",
       "  <thead>\n",
       "    <tr style=\"text-align: right;\">\n",
       "      <th></th>\n",
       "      <th>Airline_Name</th>\n",
       "      <th>Departure_Delay</th>\n",
       "    </tr>\n",
       "  </thead>\n",
       "  <tbody>\n",
       "    <tr>\n",
       "      <th>0</th>\n",
       "      <td>Southwest Airlines Co.</td>\n",
       "      <td>67448</td>\n",
       "    </tr>\n",
       "    <tr>\n",
       "      <th>1</th>\n",
       "      <td>Delta Air Lines Inc.</td>\n",
       "      <td>50749</td>\n",
       "    </tr>\n",
       "    <tr>\n",
       "      <th>2</th>\n",
       "      <td>American Airlines Inc.</td>\n",
       "      <td>43711</td>\n",
       "    </tr>\n",
       "    <tr>\n",
       "      <th>3</th>\n",
       "      <td>SkyWest Airlines Inc.</td>\n",
       "      <td>36348</td>\n",
       "    </tr>\n",
       "    <tr>\n",
       "      <th>4</th>\n",
       "      <td>United Air Lines Inc.</td>\n",
       "      <td>29371</td>\n",
       "    </tr>\n",
       "    <tr>\n",
       "      <th>5</th>\n",
       "      <td>ExpressJet Airlines Inc.</td>\n",
       "      <td>20190</td>\n",
       "    </tr>\n",
       "    <tr>\n",
       "      <th>6</th>\n",
       "      <td>JetBlue Airways</td>\n",
       "      <td>13846</td>\n",
       "    </tr>\n",
       "    <tr>\n",
       "      <th>7</th>\n",
       "      <td>Alaska Airlines Inc.</td>\n",
       "      <td>11083</td>\n",
       "    </tr>\n",
       "    <tr>\n",
       "      <th>8</th>\n",
       "      <td>Envoy Air</td>\n",
       "      <td>10999</td>\n",
       "    </tr>\n",
       "    <tr>\n",
       "      <th>9</th>\n",
       "      <td>Spirit Air Lines</td>\n",
       "      <td>6732</td>\n",
       "    </tr>\n",
       "  </tbody>\n",
       "</table>\n",
       "</div>"
      ],
      "text/plain": [
       "               Airline_Name  Departure_Delay\n",
       "0    Southwest Airlines Co.            67448\n",
       "1      Delta Air Lines Inc.            50749\n",
       "2    American Airlines Inc.            43711\n",
       "3     SkyWest Airlines Inc.            36348\n",
       "4     United Air Lines Inc.            29371\n",
       "5  ExpressJet Airlines Inc.            20190\n",
       "6           JetBlue Airways            13846\n",
       "7      Alaska Airlines Inc.            11083\n",
       "8                 Envoy Air            10999\n",
       "9          Spirit Air Lines             6732"
      ]
     },
     "execution_count": 30,
     "metadata": {},
     "output_type": "execute_result"
    }
   ],
   "source": [
    "airline_depDelay = airline_df[['Airline_Name', 'Departure_Delay']]\n",
    "airline_depDelay = airline_depDelay.groupby(by='Airline_Name').count()\n",
    "airline_depDelay = airline_depDelay.sort_values(by=['Departure_Delay'], ascending=False)\n",
    "a2 = airline_depDelay.head(10).reset_index()\n",
    "a2"
   ]
  },
  {
   "cell_type": "code",
   "execution_count": null,
   "metadata": {
    "id": "JNgnbi0Zz65W",
    "outputId": "2c7a14c0-9b94-4798-9526-23af4f7bc41d"
   },
   "outputs": [
    {
     "data": {
      "text/plain": [
       "(array([0, 1, 2, 3, 4, 5, 6, 7, 8, 9]),\n",
       " [Text(0, 0, 'Southwest Airlines Co.'),\n",
       "  Text(1, 0, 'Delta Air Lines Inc.'),\n",
       "  Text(2, 0, 'American Airlines Inc.'),\n",
       "  Text(3, 0, 'SkyWest Airlines Inc.'),\n",
       "  Text(4, 0, 'United Air Lines Inc.'),\n",
       "  Text(5, 0, 'ExpressJet Airlines Inc.'),\n",
       "  Text(6, 0, 'JetBlue Airways'),\n",
       "  Text(7, 0, 'Alaska Airlines Inc.'),\n",
       "  Text(8, 0, 'Envoy Air'),\n",
       "  Text(9, 0, 'Spirit Air Lines')])"
      ]
     },
     "execution_count": 32,
     "metadata": {},
     "output_type": "execute_result"
    },
    {
     "data": {
      "image/png": "[encoded data removed]",
      "text/plain": [
       "<Figure size 864x720 with 1 Axes>"
      ]
     },
     "metadata": {},
     "output_type": "display_data"
    }
   ],
   "source": [
    "sns.set_style('darkgrid')\n",
    "sns.set_palette('Set2')\n",
    "sns.barplot(data=a2, x=a2.Airline_Name, y=a2.Departure_Delay)\n",
    "\n",
    "plt.title('Airlines with highest number of Departure Delays')\n",
    "plt.xlabel('Airline_Name')\n",
    "plt.ylabel('Number of Departure Delays')\n",
    "\n",
    "\n",
    "plt.xticks(\n",
    "    rotation=45, \n",
    "    horizontalalignment='right',\n",
    "    fontweight='light',\n",
    "    fontsize='x-large'  \n",
    ")"
   ]
  },
  {
   "cell_type": "code",
   "execution_count": null,
   "metadata": {
    "id": "k9fwaL_0oAlS",
    "outputId": "3bbd5031-5542-4fa3-d320-7ce11212203f"
   },
   "outputs": [
    {
     "data": {
      "text/html": [
       "<div>\n",
       "<style scoped>\n",
       "    .dataframe tbody tr th:only-of-type {\n",
       "        vertical-align: middle;\n",
       "    }\n",
       "\n",
       "    .dataframe tbody tr th {\n",
       "        vertical-align: top;\n",
       "    }\n",
       "\n",
       "    .dataframe thead th {\n",
       "        text-align: right;\n",
       "    }\n",
       "</style>\n",
       "<table border=\"1\" class=\"dataframe\">\n",
       "  <thead>\n",
       "    <tr style=\"text-align: right;\">\n",
       "      <th></th>\n",
       "      <th>Airline_Name</th>\n",
       "      <th>IsDepDelay</th>\n",
       "      <th>Percentage_of_Flights_Delayed_on_Departure</th>\n",
       "    </tr>\n",
       "  </thead>\n",
       "  <tbody>\n",
       "    <tr>\n",
       "      <th>3</th>\n",
       "      <td>Alaska Airlines Inc.</td>\n",
       "      <td>True</td>\n",
       "      <td>27.955140798952193%</td>\n",
       "    </tr>\n",
       "    <tr>\n",
       "      <th>9</th>\n",
       "      <td>Delta Air Lines Inc.</td>\n",
       "      <td>True</td>\n",
       "      <td>31.525700976121474%</td>\n",
       "    </tr>\n",
       "    <tr>\n",
       "      <th>15</th>\n",
       "      <td>ExpressJet Airlines Inc.</td>\n",
       "      <td>True</td>\n",
       "      <td>31.89863905819487%</td>\n",
       "    </tr>\n",
       "    <tr>\n",
       "      <th>13</th>\n",
       "      <td>Envoy Air</td>\n",
       "      <td>True</td>\n",
       "      <td>33.14908524717789%</td>\n",
       "    </tr>\n",
       "    <tr>\n",
       "      <th>33</th>\n",
       "      <td>Spirit Air Lines</td>\n",
       "      <td>True</td>\n",
       "      <td>34.59936908517351%</td>\n",
       "    </tr>\n",
       "    <tr>\n",
       "      <th>7</th>\n",
       "      <td>American Airlines Inc.</td>\n",
       "      <td>True</td>\n",
       "      <td>34.72480086243038%</td>\n",
       "    </tr>\n",
       "    <tr>\n",
       "      <th>37</th>\n",
       "      <td>United Air Lines Inc.</td>\n",
       "      <td>True</td>\n",
       "      <td>38.33977059925094%</td>\n",
       "    </tr>\n",
       "    <tr>\n",
       "      <th>21</th>\n",
       "      <td>JetBlue Airways</td>\n",
       "      <td>True</td>\n",
       "      <td>40.26332804326104%</td>\n",
       "    </tr>\n",
       "    <tr>\n",
       "      <th>31</th>\n",
       "      <td>Southwest Airlines Co.</td>\n",
       "      <td>True</td>\n",
       "      <td>47.942097324156116%</td>\n",
       "    </tr>\n",
       "    <tr>\n",
       "      <th>30</th>\n",
       "      <td>Southwest Airlines Co.</td>\n",
       "      <td>False</td>\n",
       "      <td>52.057902675843884%</td>\n",
       "    </tr>\n",
       "    <tr>\n",
       "      <th>20</th>\n",
       "      <td>JetBlue Airways</td>\n",
       "      <td>False</td>\n",
       "      <td>59.73667195673896%</td>\n",
       "    </tr>\n",
       "    <tr>\n",
       "      <th>36</th>\n",
       "      <td>United Air Lines Inc.</td>\n",
       "      <td>False</td>\n",
       "      <td>61.66022940074907%</td>\n",
       "    </tr>\n",
       "    <tr>\n",
       "      <th>6</th>\n",
       "      <td>American Airlines Inc.</td>\n",
       "      <td>False</td>\n",
       "      <td>65.27519913756963%</td>\n",
       "    </tr>\n",
       "    <tr>\n",
       "      <th>32</th>\n",
       "      <td>Spirit Air Lines</td>\n",
       "      <td>False</td>\n",
       "      <td>65.4006309148265%</td>\n",
       "    </tr>\n",
       "    <tr>\n",
       "      <th>12</th>\n",
       "      <td>Envoy Air</td>\n",
       "      <td>False</td>\n",
       "      <td>66.8509147528221%</td>\n",
       "    </tr>\n",
       "    <tr>\n",
       "      <th>14</th>\n",
       "      <td>ExpressJet Airlines Inc.</td>\n",
       "      <td>False</td>\n",
       "      <td>68.10136094180513%</td>\n",
       "    </tr>\n",
       "    <tr>\n",
       "      <th>8</th>\n",
       "      <td>Delta Air Lines Inc.</td>\n",
       "      <td>False</td>\n",
       "      <td>68.47429902387853%</td>\n",
       "    </tr>\n",
       "    <tr>\n",
       "      <th>2</th>\n",
       "      <td>Alaska Airlines Inc.</td>\n",
       "      <td>False</td>\n",
       "      <td>72.0448592010478%</td>\n",
       "    </tr>\n",
       "  </tbody>\n",
       "</table>\n",
       "</div>"
      ],
      "text/plain": [
       "                Airline_Name  IsDepDelay  \\\n",
       "3       Alaska Airlines Inc.        True   \n",
       "9       Delta Air Lines Inc.        True   \n",
       "15  ExpressJet Airlines Inc.        True   \n",
       "13                 Envoy Air        True   \n",
       "33          Spirit Air Lines        True   \n",
       "7     American Airlines Inc.        True   \n",
       "37     United Air Lines Inc.        True   \n",
       "21           JetBlue Airways        True   \n",
       "31    Southwest Airlines Co.        True   \n",
       "30    Southwest Airlines Co.       False   \n",
       "20           JetBlue Airways       False   \n",
       "36     United Air Lines Inc.       False   \n",
       "6     American Airlines Inc.       False   \n",
       "32          Spirit Air Lines       False   \n",
       "12                 Envoy Air       False   \n",
       "14  ExpressJet Airlines Inc.       False   \n",
       "8       Delta Air Lines Inc.       False   \n",
       "2       Alaska Airlines Inc.       False   \n",
       "\n",
       "   Percentage_of_Flights_Delayed_on_Departure  \n",
       "3                         27.955140798952193%  \n",
       "9                         31.525700976121474%  \n",
       "15                         31.89863905819487%  \n",
       "13                         33.14908524717789%  \n",
       "33                         34.59936908517351%  \n",
       "7                          34.72480086243038%  \n",
       "37                         38.33977059925094%  \n",
       "21                         40.26332804326104%  \n",
       "31                        47.942097324156116%  \n",
       "30                        52.057902675843884%  \n",
       "20                         59.73667195673896%  \n",
       "36                         61.66022940074907%  \n",
       "6                          65.27519913756963%  \n",
       "32                          65.4006309148265%  \n",
       "12                          66.8509147528221%  \n",
       "14                         68.10136094180513%  \n",
       "8                          68.47429902387853%  \n",
       "2                           72.0448592010478%  "
      ]
     },
     "execution_count": 10,
     "metadata": {},
     "output_type": "execute_result"
    }
   ],
   "source": [
    "### percentages \n",
    "\n",
    "freq_depDelay = airline_df[['Airline_Name', 'IsDepDelay']]\n",
    "freq_depDelay = freq_depDelay.groupby(by='Airline_Name')\n",
    "freq_depDelay.head()\n",
    "freq_depDelay = freq_depDelay['IsDepDelay'].value_counts(normalize=True).mul(100).astype(str)+'%'\n",
    "freq_depDelay = freq_depDelay.rename('Percentage_of_Flights_Delayed_on_Departure').reset_index()\n",
    "\n",
    "freq_depDelay\n",
    "\n",
    "freq_depDelay = freq_depDelay[freq_depDelay['Airline_Name'].str.contains('Southwest|Delta|American|Skywest|United|Express|Jet|Alaska|Envoy|Spirit', na=False)]\n",
    "\n",
    "freq_depDelay = freq_depDelay.sort_values(by='Percentage_of_Flights_Delayed_on_Departure')\n",
    "\n",
    "freq_depDelay"
   ]
  },
  {
   "cell_type": "markdown",
   "metadata": {
    "id": "8GhlWxKl0FI0"
   },
   "source": [
    "### 11. Airlines with highest freq arrival delay? "
   ]
  },
  {
   "cell_type": "code",
   "execution_count": null,
   "metadata": {
    "id": "jkJmSwVJ0Y9c",
    "outputId": "b8f70321-af17-40fa-a50d-34da25266293"
   },
   "outputs": [
    {
     "data": {
      "text/html": [
       "<div>\n",
       "<style scoped>\n",
       "    .dataframe tbody tr th:only-of-type {\n",
       "        vertical-align: middle;\n",
       "    }\n",
       "\n",
       "    .dataframe tbody tr th {\n",
       "        vertical-align: top;\n",
       "    }\n",
       "\n",
       "    .dataframe thead th {\n",
       "        text-align: right;\n",
       "    }\n",
       "</style>\n",
       "<table border=\"1\" class=\"dataframe\">\n",
       "  <thead>\n",
       "    <tr style=\"text-align: right;\">\n",
       "      <th></th>\n",
       "      <th>Airline_Name</th>\n",
       "      <th>Arrival_Delay</th>\n",
       "    </tr>\n",
       "  </thead>\n",
       "  <tbody>\n",
       "    <tr>\n",
       "      <th>0</th>\n",
       "      <td>Southwest Airlines Co.</td>\n",
       "      <td>72299</td>\n",
       "    </tr>\n",
       "    <tr>\n",
       "      <th>1</th>\n",
       "      <td>Delta Air Lines Inc.</td>\n",
       "      <td>52458</td>\n",
       "    </tr>\n",
       "    <tr>\n",
       "      <th>2</th>\n",
       "      <td>American Airlines Inc.</td>\n",
       "      <td>45388</td>\n",
       "    </tr>\n",
       "    <tr>\n",
       "      <th>3</th>\n",
       "      <td>SkyWest Airlines Inc.</td>\n",
       "      <td>37665</td>\n",
       "    </tr>\n",
       "    <tr>\n",
       "      <th>4</th>\n",
       "      <td>United Air Lines Inc.</td>\n",
       "      <td>30735</td>\n",
       "    </tr>\n",
       "    <tr>\n",
       "      <th>5</th>\n",
       "      <td>ExpressJet Airlines Inc.</td>\n",
       "      <td>21115</td>\n",
       "    </tr>\n",
       "    <tr>\n",
       "      <th>6</th>\n",
       "      <td>JetBlue Airways</td>\n",
       "      <td>14705</td>\n",
       "    </tr>\n",
       "    <tr>\n",
       "      <th>7</th>\n",
       "      <td>Envoy Air</td>\n",
       "      <td>11440</td>\n",
       "    </tr>\n",
       "    <tr>\n",
       "      <th>8</th>\n",
       "      <td>Alaska Airlines Inc.</td>\n",
       "      <td>11431</td>\n",
       "    </tr>\n",
       "    <tr>\n",
       "      <th>9</th>\n",
       "      <td>Spirit Air Lines</td>\n",
       "      <td>7032</td>\n",
       "    </tr>\n",
       "  </tbody>\n",
       "</table>\n",
       "</div>"
      ],
      "text/plain": [
       "               Airline_Name  Arrival_Delay\n",
       "0    Southwest Airlines Co.          72299\n",
       "1      Delta Air Lines Inc.          52458\n",
       "2    American Airlines Inc.          45388\n",
       "3     SkyWest Airlines Inc.          37665\n",
       "4     United Air Lines Inc.          30735\n",
       "5  ExpressJet Airlines Inc.          21115\n",
       "6           JetBlue Airways          14705\n",
       "7                 Envoy Air          11440\n",
       "8      Alaska Airlines Inc.          11431\n",
       "9          Spirit Air Lines           7032"
      ]
     },
     "execution_count": 37,
     "metadata": {},
     "output_type": "execute_result"
    }
   ],
   "source": [
    "airport_arrDelay = airline_df[['Airline_Name', 'Arrival_Delay']]\n",
    "airport_arrDelay = airport_arrDelay.groupby(by='Airline_Name').count()\n",
    "airport_arrDelay = airport_arrDelay.sort_values(by=['Arrival_Delay'], ascending=False)\n",
    "a3 = airport_arrDelay.head(10).reset_index()\n",
    "a3"
   ]
  },
  {
   "cell_type": "code",
   "execution_count": null,
   "metadata": {
    "id": "tpBz9jed0dsG",
    "outputId": "eb9e9324-5933-4ada-f4cb-860dfef8129c"
   },
   "outputs": [
    {
     "data": {
      "text/plain": [
       "(array([0, 1, 2, 3, 4, 5, 6, 7, 8, 9]),\n",
       " [Text(0, 0, 'Southwest Airlines Co.'),\n",
       "  Text(1, 0, 'Delta Air Lines Inc.'),\n",
       "  Text(2, 0, 'American Airlines Inc.'),\n",
       "  Text(3, 0, 'SkyWest Airlines Inc.'),\n",
       "  Text(4, 0, 'United Air Lines Inc.'),\n",
       "  Text(5, 0, 'ExpressJet Airlines Inc.'),\n",
       "  Text(6, 0, 'JetBlue Airways'),\n",
       "  Text(7, 0, 'Envoy Air'),\n",
       "  Text(8, 0, 'Alaska Airlines Inc.'),\n",
       "  Text(9, 0, 'Spirit Air Lines')])"
      ]
     },
     "execution_count": 38,
     "metadata": {},
     "output_type": "execute_result"
    },
    {
     "data": {
      "image/png": "[encoded data removed]",
      "text/plain": [
       "<Figure size 864x720 with 1 Axes>"
      ]
     },
     "metadata": {},
     "output_type": "display_data"
    }
   ],
   "source": [
    "sns.set_style('darkgrid')\n",
    "sns.set_palette('Set2')\n",
    "sns.barplot(data=a3, x=a3.Airline_Name, y=a3.Arrival_Delay)\n",
    "\n",
    "plt.title('Airlines with highest number of Arrival Delays')\n",
    "plt.xlabel('Airlines')\n",
    "plt.ylabel('Number of Arrival Delays')\n",
    "\n",
    "\n",
    "\n",
    "plt.xticks(\n",
    "    rotation=45, \n",
    "    horizontalalignment='right',\n",
    "    fontweight='light',\n",
    "    fontsize='x-large'  \n",
    ")"
   ]
  },
  {
   "cell_type": "code",
   "execution_count": null,
   "metadata": {
    "id": "Dpf3mrnkoAlT",
    "outputId": "d0c0950f-1d9c-4c5f-dea8-25d018df4e1c"
   },
   "outputs": [
    {
     "data": {
      "text/html": [
       "<div>\n",
       "<style scoped>\n",
       "    .dataframe tbody tr th:only-of-type {\n",
       "        vertical-align: middle;\n",
       "    }\n",
       "\n",
       "    .dataframe tbody tr th {\n",
       "        vertical-align: top;\n",
       "    }\n",
       "\n",
       "    .dataframe thead th {\n",
       "        text-align: right;\n",
       "    }\n",
       "</style>\n",
       "<table border=\"1\" class=\"dataframe\">\n",
       "  <thead>\n",
       "    <tr style=\"text-align: right;\">\n",
       "      <th></th>\n",
       "      <th>Airline_Name</th>\n",
       "      <th>IsArrDelay</th>\n",
       "      <th>Percentage_of_Flights_Delayed_on_Arrival</th>\n",
       "    </tr>\n",
       "  </thead>\n",
       "  <tbody>\n",
       "    <tr>\n",
       "      <th>9</th>\n",
       "      <td>Delta Air Lines Inc.</td>\n",
       "      <td>True</td>\n",
       "      <td>28.757356471027506%</td>\n",
       "    </tr>\n",
       "    <tr>\n",
       "      <th>37</th>\n",
       "      <td>United Air Lines Inc.</td>\n",
       "      <td>True</td>\n",
       "      <td>34.22284644194756%</td>\n",
       "    </tr>\n",
       "    <tr>\n",
       "      <th>3</th>\n",
       "      <td>Alaska Airlines Inc.</td>\n",
       "      <td>True</td>\n",
       "      <td>35.1833660772757%</td>\n",
       "    </tr>\n",
       "    <tr>\n",
       "      <th>33</th>\n",
       "      <td>Spirit Air Lines</td>\n",
       "      <td>True</td>\n",
       "      <td>36.41640378548896%</td>\n",
       "    </tr>\n",
       "    <tr>\n",
       "      <th>7</th>\n",
       "      <td>American Airlines Inc.</td>\n",
       "      <td>True</td>\n",
       "      <td>37.455830388692576%</td>\n",
       "    </tr>\n",
       "    <tr>\n",
       "      <th>15</th>\n",
       "      <td>ExpressJet Airlines Inc.</td>\n",
       "      <td>True</td>\n",
       "      <td>37.86423979293646%</td>\n",
       "    </tr>\n",
       "    <tr>\n",
       "      <th>31</th>\n",
       "      <td>Southwest Airlines Co.</td>\n",
       "      <td>True</td>\n",
       "      <td>39.345425967474114%</td>\n",
       "    </tr>\n",
       "    <tr>\n",
       "      <th>21</th>\n",
       "      <td>JetBlue Airways</td>\n",
       "      <td>True</td>\n",
       "      <td>39.71080938106154%</td>\n",
       "    </tr>\n",
       "    <tr>\n",
       "      <th>13</th>\n",
       "      <td>Envoy Air</td>\n",
       "      <td>True</td>\n",
       "      <td>40.54495912806539%</td>\n",
       "    </tr>\n",
       "    <tr>\n",
       "      <th>12</th>\n",
       "      <td>Envoy Air</td>\n",
       "      <td>False</td>\n",
       "      <td>59.45504087193461%</td>\n",
       "    </tr>\n",
       "    <tr>\n",
       "      <th>20</th>\n",
       "      <td>JetBlue Airways</td>\n",
       "      <td>False</td>\n",
       "      <td>60.28919061893846%</td>\n",
       "    </tr>\n",
       "    <tr>\n",
       "      <th>30</th>\n",
       "      <td>Southwest Airlines Co.</td>\n",
       "      <td>False</td>\n",
       "      <td>60.654574032525886%</td>\n",
       "    </tr>\n",
       "    <tr>\n",
       "      <th>14</th>\n",
       "      <td>ExpressJet Airlines Inc.</td>\n",
       "      <td>False</td>\n",
       "      <td>62.13576020706354%</td>\n",
       "    </tr>\n",
       "    <tr>\n",
       "      <th>6</th>\n",
       "      <td>American Airlines Inc.</td>\n",
       "      <td>False</td>\n",
       "      <td>62.544169611307424%</td>\n",
       "    </tr>\n",
       "    <tr>\n",
       "      <th>32</th>\n",
       "      <td>Spirit Air Lines</td>\n",
       "      <td>False</td>\n",
       "      <td>63.58359621451104%</td>\n",
       "    </tr>\n",
       "    <tr>\n",
       "      <th>2</th>\n",
       "      <td>Alaska Airlines Inc.</td>\n",
       "      <td>False</td>\n",
       "      <td>64.8166339227243%</td>\n",
       "    </tr>\n",
       "    <tr>\n",
       "      <th>36</th>\n",
       "      <td>United Air Lines Inc.</td>\n",
       "      <td>False</td>\n",
       "      <td>65.77715355805243%</td>\n",
       "    </tr>\n",
       "    <tr>\n",
       "      <th>8</th>\n",
       "      <td>Delta Air Lines Inc.</td>\n",
       "      <td>False</td>\n",
       "      <td>71.2426435289725%</td>\n",
       "    </tr>\n",
       "  </tbody>\n",
       "</table>\n",
       "</div>"
      ],
      "text/plain": [
       "                Airline_Name  IsArrDelay  \\\n",
       "9       Delta Air Lines Inc.        True   \n",
       "37     United Air Lines Inc.        True   \n",
       "3       Alaska Airlines Inc.        True   \n",
       "33          Spirit Air Lines        True   \n",
       "7     American Airlines Inc.        True   \n",
       "15  ExpressJet Airlines Inc.        True   \n",
       "31    Southwest Airlines Co.        True   \n",
       "21           JetBlue Airways        True   \n",
       "13                 Envoy Air        True   \n",
       "12                 Envoy Air       False   \n",
       "20           JetBlue Airways       False   \n",
       "30    Southwest Airlines Co.       False   \n",
       "14  ExpressJet Airlines Inc.       False   \n",
       "6     American Airlines Inc.       False   \n",
       "32          Spirit Air Lines       False   \n",
       "2       Alaska Airlines Inc.       False   \n",
       "36     United Air Lines Inc.       False   \n",
       "8       Delta Air Lines Inc.       False   \n",
       "\n",
       "   Percentage_of_Flights_Delayed_on_Arrival  \n",
       "9                       28.757356471027506%  \n",
       "37                       34.22284644194756%  \n",
       "3                         35.1833660772757%  \n",
       "33                       36.41640378548896%  \n",
       "7                       37.455830388692576%  \n",
       "15                       37.86423979293646%  \n",
       "31                      39.345425967474114%  \n",
       "21                       39.71080938106154%  \n",
       "13                       40.54495912806539%  \n",
       "12                       59.45504087193461%  \n",
       "20                       60.28919061893846%  \n",
       "30                      60.654574032525886%  \n",
       "14                       62.13576020706354%  \n",
       "6                       62.544169611307424%  \n",
       "32                       63.58359621451104%  \n",
       "2                         64.8166339227243%  \n",
       "36                       65.77715355805243%  \n",
       "8                         71.2426435289725%  "
      ]
     },
     "execution_count": 12,
     "metadata": {},
     "output_type": "execute_result"
    }
   ],
   "source": [
    "### percentages arrival delay\n",
    "\n",
    "freq_arrDelay = airline_df[['Airline_Name', 'IsArrDelay']]\n",
    "freq_arrDelay = freq_arrDelay.groupby(by='Airline_Name')\n",
    "freq_arrDelay.head()\n",
    "freq_arrDelay = freq_arrDelay['IsArrDelay'].value_counts(normalize=True).mul(100).astype(str)+'%'\n",
    "freq_arrDelay = freq_arrDelay.rename('Percentage_of_Flights_Delayed_on_Arrival').reset_index()\n",
    "\n",
    "freq_arrDelay\n",
    "\n",
    "freq_arrDelay = freq_arrDelay[freq_arrDelay['Airline_Name'].str.contains('Southwest|Delta|American|Skywest|United|Express|Jet|Alaska|Envoy|Spirit', na=False)]\n",
    "freq_arrDelay = freq_arrDelay.sort_values(by='Percentage_of_Flights_Delayed_on_Arrival')\n",
    "freq_arrDelay"
   ]
  },
  {
   "cell_type": "markdown",
   "metadata": {
    "id": "EgFlgGs202Cu"
   },
   "source": [
    "### 12. Airlines with high mean departure delay in minutes? (Heidi)"
   ]
  },
  {
   "cell_type": "code",
   "execution_count": null,
   "metadata": {
    "id": "V0kAxgR51SUq",
    "outputId": "7d0b82a8-1485-42d4-e17d-1a21816647cd",
    "scrolled": true
   },
   "outputs": [
    {
     "data": {
      "text/html": [
       "<div>\n",
       "<style scoped>\n",
       "    .dataframe tbody tr th:only-of-type {\n",
       "        vertical-align: middle;\n",
       "    }\n",
       "\n",
       "    .dataframe tbody tr th {\n",
       "        vertical-align: top;\n",
       "    }\n",
       "\n",
       "    .dataframe thead th {\n",
       "        text-align: right;\n",
       "    }\n",
       "</style>\n",
       "<table border=\"1\" class=\"dataframe\">\n",
       "  <thead>\n",
       "    <tr style=\"text-align: right;\">\n",
       "      <th></th>\n",
       "      <th>Origin_Airport</th>\n",
       "      <th>Mean delay (minutes)</th>\n",
       "    </tr>\n",
       "  </thead>\n",
       "  <tbody>\n",
       "    <tr>\n",
       "      <th>250</th>\n",
       "      <td>OGD</td>\n",
       "      <td>13.0</td>\n",
       "    </tr>\n",
       "    <tr>\n",
       "      <th>19</th>\n",
       "      <td>ART</td>\n",
       "      <td>9.0</td>\n",
       "    </tr>\n",
       "    <tr>\n",
       "      <th>262</th>\n",
       "      <td>OWB</td>\n",
       "      <td>4.5</td>\n",
       "    </tr>\n",
       "    <tr>\n",
       "      <th>40</th>\n",
       "      <td>BKG</td>\n",
       "      <td>4.0</td>\n",
       "    </tr>\n",
       "    <tr>\n",
       "      <th>174</th>\n",
       "      <td>ILG</td>\n",
       "      <td>4.0</td>\n",
       "    </tr>\n",
       "  </tbody>\n",
       "</table>\n",
       "</div>"
      ],
      "text/plain": [
       "    Origin_Airport  Mean delay (minutes)\n",
       "250            OGD                  13.0\n",
       "19             ART                   9.0\n",
       "262            OWB                   4.5\n",
       "40             BKG                   4.0\n",
       "174            ILG                   4.0"
      ]
     },
     "execution_count": 40,
     "metadata": {},
     "output_type": "execute_result"
    }
   ],
   "source": [
    "# TODO: Replace 'Origin_Airport' columns with 'Origin_Airport_Name'\n",
    "airline_df.groupby('Origin_Airport')['DepDelayMinutes'] \\\n",
    "    .mean() \\\n",
    "    .reset_index(name = 'Mean delay (minutes)') \\\n",
    "    .sort_values('Mean delay (minutes)', ascending = False).head()"
   ]
  },
  {
   "cell_type": "markdown",
   "metadata": {
    "id": "4ABClgkn0glq"
   },
   "source": [
    "### 13. Airlines with high mean arrival delay in minutes? (Heidi)"
   ]
  },
  {
   "cell_type": "code",
   "execution_count": null,
   "metadata": {
    "id": "0GReC5u70qSL",
    "outputId": "56d7db33-0106-4010-ff23-dde441571b30",
    "scrolled": true
   },
   "outputs": [
    {
     "data": {
      "text/html": [
       "<div>\n",
       "<style scoped>\n",
       "    .dataframe tbody tr th:only-of-type {\n",
       "        vertical-align: middle;\n",
       "    }\n",
       "\n",
       "    .dataframe tbody tr th {\n",
       "        vertical-align: top;\n",
       "    }\n",
       "\n",
       "    .dataframe thead th {\n",
       "        text-align: right;\n",
       "    }\n",
       "</style>\n",
       "<table border=\"1\" class=\"dataframe\">\n",
       "  <thead>\n",
       "    <tr style=\"text-align: right;\">\n",
       "      <th></th>\n",
       "      <th>Airline_Name</th>\n",
       "      <th>Mean delay (minutes)</th>\n",
       "    </tr>\n",
       "  </thead>\n",
       "  <tbody>\n",
       "    <tr>\n",
       "      <th>8</th>\n",
       "      <td>Frontier Airlines Inc.</td>\n",
       "      <td>2.382324</td>\n",
       "    </tr>\n",
       "    <tr>\n",
       "      <th>2</th>\n",
       "      <td>Allegiant Air</td>\n",
       "      <td>2.354545</td>\n",
       "    </tr>\n",
       "    <tr>\n",
       "      <th>15</th>\n",
       "      <td>Southwest Airlines Co.</td>\n",
       "      <td>2.344741</td>\n",
       "    </tr>\n",
       "    <tr>\n",
       "      <th>19</th>\n",
       "      <td>Virgin America</td>\n",
       "      <td>2.316434</td>\n",
       "    </tr>\n",
       "    <tr>\n",
       "      <th>6</th>\n",
       "      <td>Envoy Air</td>\n",
       "      <td>2.293052</td>\n",
       "    </tr>\n",
       "  </tbody>\n",
       "</table>\n",
       "</div>"
      ],
      "text/plain": [
       "              Airline_Name  Mean delay (minutes)\n",
       "8   Frontier Airlines Inc.              2.382324\n",
       "2            Allegiant Air              2.354545\n",
       "15  Southwest Airlines Co.              2.344741\n",
       "19          Virgin America              2.316434\n",
       "6                Envoy Air              2.293052"
      ]
     },
     "execution_count": 41,
     "metadata": {},
     "output_type": "execute_result"
    }
   ],
   "source": [
    "airline_df.groupby('Airline_Name')['ArrDelayMinutes'] \\\n",
    "    .mean() \\\n",
    "    .reset_index(name = 'Mean delay (minutes)') \\\n",
    "    .sort_values('Mean delay (minutes)', ascending = False).head()"
   ]
  },
  {
   "cell_type": "markdown",
   "metadata": {
    "id": "f9rXVJIr16dR"
   },
   "source": [
    "### 14. Origin with highest freq departure delay? \n",
    "\n",
    "The origin that has the highest delayed departure is Las Vegas with 43.9%, then Los Angeles, CA with 40.9&, and Chicago, IL (O'Hare) at 39.5%.\n"
   ]
  },
  {
   "cell_type": "code",
   "execution_count": null,
   "metadata": {
    "id": "u7Q5tWtj3eZE",
    "outputId": "e07a2a78-c161-42cc-8982-b33ef4ff2a5a"
   },
   "outputs": [
    {
     "data": {
      "text/html": [
       "<div>\n",
       "<style scoped>\n",
       "    .dataframe tbody tr th:only-of-type {\n",
       "        vertical-align: middle;\n",
       "    }\n",
       "\n",
       "    .dataframe tbody tr th {\n",
       "        vertical-align: top;\n",
       "    }\n",
       "\n",
       "    .dataframe thead th {\n",
       "        text-align: right;\n",
       "    }\n",
       "</style>\n",
       "<table border=\"1\" class=\"dataframe\">\n",
       "  <thead>\n",
       "    <tr style=\"text-align: right;\">\n",
       "      <th></th>\n",
       "      <th>Origin_Airport</th>\n",
       "      <th>Departure_Delay</th>\n",
       "    </tr>\n",
       "  </thead>\n",
       "  <tbody>\n",
       "    <tr>\n",
       "      <th>0</th>\n",
       "      <td>ATL</td>\n",
       "      <td>20534</td>\n",
       "    </tr>\n",
       "    <tr>\n",
       "      <th>1</th>\n",
       "      <td>ORD</td>\n",
       "      <td>14656</td>\n",
       "    </tr>\n",
       "    <tr>\n",
       "      <th>2</th>\n",
       "      <td>DFW</td>\n",
       "      <td>12832</td>\n",
       "    </tr>\n",
       "    <tr>\n",
       "      <th>3</th>\n",
       "      <td>DEN</td>\n",
       "      <td>11784</td>\n",
       "    </tr>\n",
       "    <tr>\n",
       "      <th>4</th>\n",
       "      <td>LAX</td>\n",
       "      <td>11282</td>\n",
       "    </tr>\n",
       "    <tr>\n",
       "      <th>5</th>\n",
       "      <td>PHX</td>\n",
       "      <td>8841</td>\n",
       "    </tr>\n",
       "    <tr>\n",
       "      <th>6</th>\n",
       "      <td>SFO</td>\n",
       "      <td>8649</td>\n",
       "    </tr>\n",
       "    <tr>\n",
       "      <th>7</th>\n",
       "      <td>IAH</td>\n",
       "      <td>8356</td>\n",
       "    </tr>\n",
       "    <tr>\n",
       "      <th>8</th>\n",
       "      <td>CLT</td>\n",
       "      <td>8169</td>\n",
       "    </tr>\n",
       "    <tr>\n",
       "      <th>9</th>\n",
       "      <td>LAS</td>\n",
       "      <td>8054</td>\n",
       "    </tr>\n",
       "  </tbody>\n",
       "</table>\n",
       "</div>"
      ],
      "text/plain": [
       "  Origin_Airport  Departure_Delay\n",
       "0            ATL            20534\n",
       "1            ORD            14656\n",
       "2            DFW            12832\n",
       "3            DEN            11784\n",
       "4            LAX            11282\n",
       "5            PHX             8841\n",
       "6            SFO             8649\n",
       "7            IAH             8356\n",
       "8            CLT             8169\n",
       "9            LAS             8054"
      ]
     },
     "execution_count": 44,
     "metadata": {},
     "output_type": "execute_result"
    }
   ],
   "source": [
    "or_DepDelay = airline_df[['Origin_Airport', 'Departure_Delay']]\n",
    "or_DepDelay = or_DepDelay.groupby(by='Origin_Airport').count()\n",
    "or_DepDelay = or_DepDelay.sort_values(by=['Departure_Delay'], ascending=False)\n",
    "o2 = or_DepDelay.head(10).reset_index()\n",
    "o2"
   ]
  },
  {
   "cell_type": "code",
   "execution_count": null,
   "metadata": {
    "id": "irFDj3tioAlU",
    "outputId": "7d373316-5978-4113-a6b7-acc48926ee35"
   },
   "outputs": [
    {
     "data": {
      "text/html": [
       "<div>\n",
       "<style scoped>\n",
       "    .dataframe tbody tr th:only-of-type {\n",
       "        vertical-align: middle;\n",
       "    }\n",
       "\n",
       "    .dataframe tbody tr th {\n",
       "        vertical-align: top;\n",
       "    }\n",
       "\n",
       "    .dataframe thead th {\n",
       "        text-align: right;\n",
       "    }\n",
       "</style>\n",
       "<table border=\"1\" class=\"dataframe\">\n",
       "  <thead>\n",
       "    <tr style=\"text-align: right;\">\n",
       "      <th></th>\n",
       "      <th>Origin_Airport</th>\n",
       "      <th>IsDepDelay</th>\n",
       "      <th>Percentage_of_Flights_Delayed_on_Departure</th>\n",
       "    </tr>\n",
       "  </thead>\n",
       "  <tbody>\n",
       "    <tr>\n",
       "      <th>335</th>\n",
       "      <td>IAH</td>\n",
       "      <td>False</td>\n",
       "      <td>65.02371623015054%</td>\n",
       "    </tr>\n",
       "    <tr>\n",
       "      <th>40</th>\n",
       "      <td>ATL</td>\n",
       "      <td>False</td>\n",
       "      <td>63.527595522964106%</td>\n",
       "    </tr>\n",
       "    <tr>\n",
       "      <th>148</th>\n",
       "      <td>CLT</td>\n",
       "      <td>False</td>\n",
       "      <td>63.40244550770866%</td>\n",
       "    </tr>\n",
       "    <tr>\n",
       "      <th>537</th>\n",
       "      <td>PHX</td>\n",
       "      <td>False</td>\n",
       "      <td>61.6577221228384%</td>\n",
       "    </tr>\n",
       "    <tr>\n",
       "      <th>190</th>\n",
       "      <td>DFW</td>\n",
       "      <td>False</td>\n",
       "      <td>61.583908656399366%</td>\n",
       "    </tr>\n",
       "    <tr>\n",
       "      <th>630</th>\n",
       "      <td>SFO</td>\n",
       "      <td>False</td>\n",
       "      <td>60.989064163360105%</td>\n",
       "    </tr>\n",
       "    <tr>\n",
       "      <th>507</th>\n",
       "      <td>ORD</td>\n",
       "      <td>False</td>\n",
       "      <td>60.512878701917614%</td>\n",
       "    </tr>\n",
       "    <tr>\n",
       "      <th>387</th>\n",
       "      <td>LAX</td>\n",
       "      <td>False</td>\n",
       "      <td>59.05871601553575%</td>\n",
       "    </tr>\n",
       "    <tr>\n",
       "      <th>383</th>\n",
       "      <td>LAS</td>\n",
       "      <td>False</td>\n",
       "      <td>56.10486891385767%</td>\n",
       "    </tr>\n",
       "    <tr>\n",
       "      <th>384</th>\n",
       "      <td>LAS</td>\n",
       "      <td>True</td>\n",
       "      <td>43.89513108614232%</td>\n",
       "    </tr>\n",
       "    <tr>\n",
       "      <th>388</th>\n",
       "      <td>LAX</td>\n",
       "      <td>True</td>\n",
       "      <td>40.94128398446424%</td>\n",
       "    </tr>\n",
       "    <tr>\n",
       "      <th>508</th>\n",
       "      <td>ORD</td>\n",
       "      <td>True</td>\n",
       "      <td>39.48712129808238%</td>\n",
       "    </tr>\n",
       "    <tr>\n",
       "      <th>631</th>\n",
       "      <td>SFO</td>\n",
       "      <td>True</td>\n",
       "      <td>39.010935836639895%</td>\n",
       "    </tr>\n",
       "    <tr>\n",
       "      <th>191</th>\n",
       "      <td>DFW</td>\n",
       "      <td>True</td>\n",
       "      <td>38.41609134360064%</td>\n",
       "    </tr>\n",
       "    <tr>\n",
       "      <th>538</th>\n",
       "      <td>PHX</td>\n",
       "      <td>True</td>\n",
       "      <td>38.34227787716159%</td>\n",
       "    </tr>\n",
       "    <tr>\n",
       "      <th>149</th>\n",
       "      <td>CLT</td>\n",
       "      <td>True</td>\n",
       "      <td>36.59755449229134%</td>\n",
       "    </tr>\n",
       "    <tr>\n",
       "      <th>41</th>\n",
       "      <td>ATL</td>\n",
       "      <td>True</td>\n",
       "      <td>36.472404477035894%</td>\n",
       "    </tr>\n",
       "    <tr>\n",
       "      <th>336</th>\n",
       "      <td>IAH</td>\n",
       "      <td>True</td>\n",
       "      <td>34.97628376984945%</td>\n",
       "    </tr>\n",
       "  </tbody>\n",
       "</table>\n",
       "</div>"
      ],
      "text/plain": [
       "    Origin_Airport  IsDepDelay Percentage_of_Flights_Delayed_on_Departure\n",
       "335            IAH       False                         65.02371623015054%\n",
       "40             ATL       False                        63.527595522964106%\n",
       "148            CLT       False                         63.40244550770866%\n",
       "537            PHX       False                          61.6577221228384%\n",
       "190            DFW       False                        61.583908656399366%\n",
       "630            SFO       False                        60.989064163360105%\n",
       "507            ORD       False                        60.512878701917614%\n",
       "387            LAX       False                         59.05871601553575%\n",
       "383            LAS       False                         56.10486891385767%\n",
       "384            LAS        True                         43.89513108614232%\n",
       "388            LAX        True                         40.94128398446424%\n",
       "508            ORD        True                         39.48712129808238%\n",
       "631            SFO        True                        39.010935836639895%\n",
       "191            DFW        True                         38.41609134360064%\n",
       "538            PHX        True                         38.34227787716159%\n",
       "149            CLT        True                         36.59755449229134%\n",
       "41             ATL        True                        36.472404477035894%\n",
       "336            IAH        True                         34.97628376984945%"
      ]
     },
     "execution_count": 20,
     "metadata": {},
     "output_type": "execute_result"
    }
   ],
   "source": [
    "### percentages origin departure\n",
    "\n",
    "o1_freq_dep = airline_df[['Origin_Airport', 'IsDepDelay']]\n",
    "o1_freq_dep = o1_freq_dep.groupby(by='Origin_Airport')\n",
    "o1_freq_dep.head()\n",
    "o1_freq_dep = o1_freq_dep['IsDepDelay'].value_counts(normalize=True).mul(100).astype(str)+'%'\n",
    "o1_freq_dep = o1_freq_dep.rename('Percentage_of_Flights_Delayed_on_Departure').reset_index()\n",
    "o1_freq_dep\n",
    "\n",
    "\n",
    "o1_freq_dep = o1_freq_dep[o1_freq_dep['Origin_Airport'].str.contains('LAX|ATL|ORD|DFW|DEEN|PHX|SFO|IAH|CLT|LAS', na=False)]\n",
    "o1_freq_dep = o1_freq_dep.sort_values(by='Percentage_of_Flights_Delayed_on_Departure', ascending=False)\n",
    "o1_freq_dep\n"
   ]
  },
  {
   "cell_type": "markdown",
   "metadata": {
    "id": "FKGqUCIm36PS"
   },
   "source": [
    "### 15. Origins with highest freq arrival delay? \n",
    "\n",
    "Chicago, IL has the highest departure delay rate of 41.7%, followed by Dallas-Fort Worth, Texas (41.7%) and Charlotte, North Carolina (40.3%)."
   ]
  },
  {
   "cell_type": "code",
   "execution_count": null,
   "metadata": {
    "id": "-yGiY5Pa3g28",
    "outputId": "6e83425a-1557-40d7-e5dc-17719becaf03"
   },
   "outputs": [
    {
     "data": {
      "text/html": [
       "<div>\n",
       "<style scoped>\n",
       "    .dataframe tbody tr th:only-of-type {\n",
       "        vertical-align: middle;\n",
       "    }\n",
       "\n",
       "    .dataframe tbody tr th {\n",
       "        vertical-align: top;\n",
       "    }\n",
       "\n",
       "    .dataframe thead th {\n",
       "        text-align: right;\n",
       "    }\n",
       "</style>\n",
       "<table border=\"1\" class=\"dataframe\">\n",
       "  <thead>\n",
       "    <tr style=\"text-align: right;\">\n",
       "      <th></th>\n",
       "      <th>Origin_Airport</th>\n",
       "      <th>Arrival_Delay</th>\n",
       "    </tr>\n",
       "  </thead>\n",
       "  <tbody>\n",
       "    <tr>\n",
       "      <th>0</th>\n",
       "      <td>ATL</td>\n",
       "      <td>21540</td>\n",
       "    </tr>\n",
       "    <tr>\n",
       "      <th>1</th>\n",
       "      <td>ORD</td>\n",
       "      <td>15448</td>\n",
       "    </tr>\n",
       "    <tr>\n",
       "      <th>2</th>\n",
       "      <td>DFW</td>\n",
       "      <td>13504</td>\n",
       "    </tr>\n",
       "    <tr>\n",
       "      <th>3</th>\n",
       "      <td>DEN</td>\n",
       "      <td>12485</td>\n",
       "    </tr>\n",
       "    <tr>\n",
       "      <th>4</th>\n",
       "      <td>LAX</td>\n",
       "      <td>11964</td>\n",
       "    </tr>\n",
       "    <tr>\n",
       "      <th>5</th>\n",
       "      <td>PHX</td>\n",
       "      <td>9322</td>\n",
       "    </tr>\n",
       "    <tr>\n",
       "      <th>6</th>\n",
       "      <td>SFO</td>\n",
       "      <td>9179</td>\n",
       "    </tr>\n",
       "    <tr>\n",
       "      <th>7</th>\n",
       "      <td>IAH</td>\n",
       "      <td>8760</td>\n",
       "    </tr>\n",
       "    <tr>\n",
       "      <th>8</th>\n",
       "      <td>LAS</td>\n",
       "      <td>8553</td>\n",
       "    </tr>\n",
       "    <tr>\n",
       "      <th>9</th>\n",
       "      <td>CLT</td>\n",
       "      <td>8490</td>\n",
       "    </tr>\n",
       "  </tbody>\n",
       "</table>\n",
       "</div>"
      ],
      "text/plain": [
       "  Origin_Airport  Arrival_Delay\n",
       "0            ATL          21540\n",
       "1            ORD          15448\n",
       "2            DFW          13504\n",
       "3            DEN          12485\n",
       "4            LAX          11964\n",
       "5            PHX           9322\n",
       "6            SFO           9179\n",
       "7            IAH           8760\n",
       "8            LAS           8553\n",
       "9            CLT           8490"
      ]
     },
     "execution_count": 46,
     "metadata": {},
     "output_type": "execute_result"
    }
   ],
   "source": [
    "or_ArrDelay = airline_df[['Origin_Airport', 'Arrival_Delay']]\n",
    "or_ArrDelay = or_ArrDelay.groupby(by='Origin_Airport').count()\n",
    "or_ArrDelay = or_ArrDelay.sort_values(by=['Arrival_Delay'], ascending=False)\n",
    "o3 = or_ArrDelay.head(10).reset_index()\n",
    "o3"
   ]
  },
  {
   "cell_type": "code",
   "execution_count": null,
   "metadata": {
    "id": "VjTrHm_DoAlU",
    "outputId": "e92f3035-6274-4215-b6ae-36729309de79"
   },
   "outputs": [
    {
     "data": {
      "text/html": [
       "<div>\n",
       "<style scoped>\n",
       "    .dataframe tbody tr th:only-of-type {\n",
       "        vertical-align: middle;\n",
       "    }\n",
       "\n",
       "    .dataframe tbody tr th {\n",
       "        vertical-align: top;\n",
       "    }\n",
       "\n",
       "    .dataframe thead th {\n",
       "        text-align: right;\n",
       "    }\n",
       "</style>\n",
       "<table border=\"1\" class=\"dataframe\">\n",
       "  <thead>\n",
       "    <tr style=\"text-align: right;\">\n",
       "      <th></th>\n",
       "      <th>Origin_Airport</th>\n",
       "      <th>IsArrDelay</th>\n",
       "      <th>Percentage_of_Flights_Delayed_on_Arrival</th>\n",
       "    </tr>\n",
       "  </thead>\n",
       "  <tbody>\n",
       "    <tr>\n",
       "      <th>40</th>\n",
       "      <td>ATL</td>\n",
       "      <td>False</td>\n",
       "      <td>67.54148977228868%</td>\n",
       "    </tr>\n",
       "    <tr>\n",
       "      <th>335</th>\n",
       "      <td>IAH</td>\n",
       "      <td>False</td>\n",
       "      <td>64.013198597649%</td>\n",
       "    </tr>\n",
       "    <tr>\n",
       "      <th>537</th>\n",
       "      <td>PHX</td>\n",
       "      <td>False</td>\n",
       "      <td>62.214271516597094%</td>\n",
       "    </tr>\n",
       "    <tr>\n",
       "      <th>383</th>\n",
       "      <td>LAS</td>\n",
       "      <td>False</td>\n",
       "      <td>61.64794007490637%</td>\n",
       "    </tr>\n",
       "    <tr>\n",
       "      <th>387</th>\n",
       "      <td>LAX</td>\n",
       "      <td>False</td>\n",
       "      <td>61.54139060239129%</td>\n",
       "    </tr>\n",
       "    <tr>\n",
       "      <th>631</th>\n",
       "      <td>SFO</td>\n",
       "      <td>False</td>\n",
       "      <td>59.982580083228484%</td>\n",
       "    </tr>\n",
       "    <tr>\n",
       "      <th>150</th>\n",
       "      <td>CLT</td>\n",
       "      <td>False</td>\n",
       "      <td>59.70228601807549%</td>\n",
       "    </tr>\n",
       "    <tr>\n",
       "      <th>192</th>\n",
       "      <td>DFW</td>\n",
       "      <td>False</td>\n",
       "      <td>58.31120552310144%</td>\n",
       "    </tr>\n",
       "    <tr>\n",
       "      <th>507</th>\n",
       "      <td>ORD</td>\n",
       "      <td>False</td>\n",
       "      <td>58.243503914671514%</td>\n",
       "    </tr>\n",
       "    <tr>\n",
       "      <th>508</th>\n",
       "      <td>ORD</td>\n",
       "      <td>True</td>\n",
       "      <td>41.75649608532849%</td>\n",
       "    </tr>\n",
       "    <tr>\n",
       "      <th>193</th>\n",
       "      <td>DFW</td>\n",
       "      <td>True</td>\n",
       "      <td>41.688794476898565%</td>\n",
       "    </tr>\n",
       "    <tr>\n",
       "      <th>151</th>\n",
       "      <td>CLT</td>\n",
       "      <td>True</td>\n",
       "      <td>40.29771398192451%</td>\n",
       "    </tr>\n",
       "    <tr>\n",
       "      <th>632</th>\n",
       "      <td>SFO</td>\n",
       "      <td>True</td>\n",
       "      <td>40.01741991677151%</td>\n",
       "    </tr>\n",
       "    <tr>\n",
       "      <th>388</th>\n",
       "      <td>LAX</td>\n",
       "      <td>True</td>\n",
       "      <td>38.45860939760871%</td>\n",
       "    </tr>\n",
       "    <tr>\n",
       "      <th>384</th>\n",
       "      <td>LAS</td>\n",
       "      <td>True</td>\n",
       "      <td>38.352059925093634%</td>\n",
       "    </tr>\n",
       "    <tr>\n",
       "      <th>538</th>\n",
       "      <td>PHX</td>\n",
       "      <td>True</td>\n",
       "      <td>37.785728483402906%</td>\n",
       "    </tr>\n",
       "    <tr>\n",
       "      <th>336</th>\n",
       "      <td>IAH</td>\n",
       "      <td>True</td>\n",
       "      <td>35.986801402351%</td>\n",
       "    </tr>\n",
       "    <tr>\n",
       "      <th>41</th>\n",
       "      <td>ATL</td>\n",
       "      <td>True</td>\n",
       "      <td>32.45851022771131%</td>\n",
       "    </tr>\n",
       "  </tbody>\n",
       "</table>\n",
       "</div>"
      ],
      "text/plain": [
       "    Origin_Airport  IsArrDelay Percentage_of_Flights_Delayed_on_Arrival\n",
       "40             ATL       False                       67.54148977228868%\n",
       "335            IAH       False                         64.013198597649%\n",
       "537            PHX       False                      62.214271516597094%\n",
       "383            LAS       False                       61.64794007490637%\n",
       "387            LAX       False                       61.54139060239129%\n",
       "631            SFO       False                      59.982580083228484%\n",
       "150            CLT       False                       59.70228601807549%\n",
       "192            DFW       False                       58.31120552310144%\n",
       "507            ORD       False                      58.243503914671514%\n",
       "508            ORD        True                       41.75649608532849%\n",
       "193            DFW        True                      41.688794476898565%\n",
       "151            CLT        True                       40.29771398192451%\n",
       "632            SFO        True                       40.01741991677151%\n",
       "388            LAX        True                       38.45860939760871%\n",
       "384            LAS        True                      38.352059925093634%\n",
       "538            PHX        True                      37.785728483402906%\n",
       "336            IAH        True                         35.986801402351%\n",
       "41             ATL        True                       32.45851022771131%"
      ]
     },
     "execution_count": 19,
     "metadata": {},
     "output_type": "execute_result"
    }
   ],
   "source": [
    "### percentages - origin arrival delay\n",
    "\n",
    "a1_freq_arr = airline_df[['Origin_Airport', 'IsArrDelay']]\n",
    "a1_freq_arr = a1_freq_arr.groupby(by='Origin_Airport')\n",
    "a1_freq_arr.head()\n",
    "a1_freq_arr = a1_freq_arr['IsArrDelay'].value_counts(normalize=True).mul(100).astype(str)+'%'\n",
    "a1_freq_arr = a1_freq_arr.rename('Percentage_of_Flights_Delayed_on_Arrival').reset_index()\n",
    "a1_freq_arr\n",
    "\n",
    "\n",
    "a1_freq_arr = a1_freq_arr[a1_freq_arr['Origin_Airport'].str.contains('LAX|ATL|ORD|DFW|DEEN|PHX|SFO|IAH|CLT|LAS', na=False)]\n",
    "a1_freq_arr = a1_freq_arr.sort_values(by='Percentage_of_Flights_Delayed_on_Arrival', ascending=False)\n",
    "a1_freq_arr"
   ]
  },
  {
   "cell_type": "markdown",
   "metadata": {
    "id": "PrQ7tQds3m_6"
   },
   "source": [
    "### 16. Destinations with highest freq arrival delay? \n",
    "\n",
    "\n",
    "The San Fransico airport (SFO) has the highest departure delay rate of 41.93%, followed by Los Angeles, CA (40.25%) and Phoenix, Arizona (37.72%)."
   ]
  },
  {
   "cell_type": "code",
   "execution_count": null,
   "metadata": {
    "id": "42QjGTaP4d_U",
    "outputId": "a8d21eaf-7cb7-4baa-b3a8-e6e9c4e07ae2"
   },
   "outputs": [
    {
     "data": {
      "text/html": [
       "<div>\n",
       "<style scoped>\n",
       "    .dataframe tbody tr th:only-of-type {\n",
       "        vertical-align: middle;\n",
       "    }\n",
       "\n",
       "    .dataframe tbody tr th {\n",
       "        vertical-align: top;\n",
       "    }\n",
       "\n",
       "    .dataframe thead th {\n",
       "        text-align: right;\n",
       "    }\n",
       "</style>\n",
       "<table border=\"1\" class=\"dataframe\">\n",
       "  <thead>\n",
       "    <tr style=\"text-align: right;\">\n",
       "      <th></th>\n",
       "      <th>Dest_Airport</th>\n",
       "      <th>Arrival_Delay</th>\n",
       "    </tr>\n",
       "  </thead>\n",
       "  <tbody>\n",
       "    <tr>\n",
       "      <th>0</th>\n",
       "      <td>ATL</td>\n",
       "      <td>21476</td>\n",
       "    </tr>\n",
       "    <tr>\n",
       "      <th>1</th>\n",
       "      <td>ORD</td>\n",
       "      <td>15966</td>\n",
       "    </tr>\n",
       "    <tr>\n",
       "      <th>2</th>\n",
       "      <td>DFW</td>\n",
       "      <td>13673</td>\n",
       "    </tr>\n",
       "    <tr>\n",
       "      <th>3</th>\n",
       "      <td>DEN</td>\n",
       "      <td>12672</td>\n",
       "    </tr>\n",
       "    <tr>\n",
       "      <th>4</th>\n",
       "      <td>LAX</td>\n",
       "      <td>12110</td>\n",
       "    </tr>\n",
       "    <tr>\n",
       "      <th>5</th>\n",
       "      <td>PHX</td>\n",
       "      <td>9355</td>\n",
       "    </tr>\n",
       "    <tr>\n",
       "      <th>6</th>\n",
       "      <td>SFO</td>\n",
       "      <td>9022</td>\n",
       "    </tr>\n",
       "    <tr>\n",
       "      <th>7</th>\n",
       "      <td>IAH</td>\n",
       "      <td>8826</td>\n",
       "    </tr>\n",
       "    <tr>\n",
       "      <th>8</th>\n",
       "      <td>LAS</td>\n",
       "      <td>8652</td>\n",
       "    </tr>\n",
       "    <tr>\n",
       "      <th>9</th>\n",
       "      <td>CLT</td>\n",
       "      <td>8636</td>\n",
       "    </tr>\n",
       "  </tbody>\n",
       "</table>\n",
       "</div>"
      ],
      "text/plain": [
       "  Dest_Airport  Arrival_Delay\n",
       "0          ATL          21476\n",
       "1          ORD          15966\n",
       "2          DFW          13673\n",
       "3          DEN          12672\n",
       "4          LAX          12110\n",
       "5          PHX           9355\n",
       "6          SFO           9022\n",
       "7          IAH           8826\n",
       "8          LAS           8652\n",
       "9          CLT           8636"
      ]
     },
     "execution_count": 48,
     "metadata": {},
     "output_type": "execute_result"
    }
   ],
   "source": [
    "dest_ArrDelay = airline_df[['Dest_Airport', 'Arrival_Delay']]\n",
    "dest_ArrDelay = dest_ArrDelay.groupby(by='Dest_Airport').count()\n",
    "dest_ArrDelay = dest_ArrDelay.sort_values(by=['Arrival_Delay'], ascending=False)\n",
    "d1 = dest_ArrDelay.head(10).reset_index()\n",
    "d1"
   ]
  },
  {
   "cell_type": "code",
   "execution_count": null,
   "metadata": {
    "id": "ROtvoc6xoAlV",
    "outputId": "f6e3268b-76a1-4f53-f9dd-a108fb614ded"
   },
   "outputs": [
    {
     "data": {
      "text/html": [
       "<div>\n",
       "<style scoped>\n",
       "    .dataframe tbody tr th:only-of-type {\n",
       "        vertical-align: middle;\n",
       "    }\n",
       "\n",
       "    .dataframe tbody tr th {\n",
       "        vertical-align: top;\n",
       "    }\n",
       "\n",
       "    .dataframe thead th {\n",
       "        text-align: right;\n",
       "    }\n",
       "</style>\n",
       "<table border=\"1\" class=\"dataframe\">\n",
       "  <thead>\n",
       "    <tr style=\"text-align: right;\">\n",
       "      <th></th>\n",
       "      <th>Dest_Airport</th>\n",
       "      <th>IsArrDelay</th>\n",
       "      <th>Percentage_of_Flights_Delayed_on_Arrival</th>\n",
       "    </tr>\n",
       "  </thead>\n",
       "  <tbody>\n",
       "    <tr>\n",
       "      <th>42</th>\n",
       "      <td>ATL</td>\n",
       "      <td>False</td>\n",
       "      <td>69.88071142500323%</td>\n",
       "    </tr>\n",
       "    <tr>\n",
       "      <th>150</th>\n",
       "      <td>CLT</td>\n",
       "      <td>False</td>\n",
       "      <td>66.74553667455366%</td>\n",
       "    </tr>\n",
       "    <tr>\n",
       "      <th>332</th>\n",
       "      <td>IAH</td>\n",
       "      <td>False</td>\n",
       "      <td>65.6866819031789%</td>\n",
       "    </tr>\n",
       "    <tr>\n",
       "      <th>192</th>\n",
       "      <td>DFW</td>\n",
       "      <td>False</td>\n",
       "      <td>63.66930171277997%</td>\n",
       "    </tr>\n",
       "    <tr>\n",
       "      <th>505</th>\n",
       "      <td>ORD</td>\n",
       "      <td>False</td>\n",
       "      <td>63.244775455758116%</td>\n",
       "    </tr>\n",
       "    <tr>\n",
       "      <th>380</th>\n",
       "      <td>LAS</td>\n",
       "      <td>False</td>\n",
       "      <td>62.91825497670479%</td>\n",
       "    </tr>\n",
       "    <tr>\n",
       "      <th>534</th>\n",
       "      <td>PHX</td>\n",
       "      <td>False</td>\n",
       "      <td>62.264150943396224%</td>\n",
       "    </tr>\n",
       "    <tr>\n",
       "      <th>384</th>\n",
       "      <td>LAX</td>\n",
       "      <td>False</td>\n",
       "      <td>59.75327102803738%</td>\n",
       "    </tr>\n",
       "    <tr>\n",
       "      <th>627</th>\n",
       "      <td>SFO</td>\n",
       "      <td>False</td>\n",
       "      <td>58.06757782839787%</td>\n",
       "    </tr>\n",
       "    <tr>\n",
       "      <th>628</th>\n",
       "      <td>SFO</td>\n",
       "      <td>True</td>\n",
       "      <td>41.93242217160213%</td>\n",
       "    </tr>\n",
       "    <tr>\n",
       "      <th>385</th>\n",
       "      <td>LAX</td>\n",
       "      <td>True</td>\n",
       "      <td>40.24672897196261%</td>\n",
       "    </tr>\n",
       "    <tr>\n",
       "      <th>535</th>\n",
       "      <td>PHX</td>\n",
       "      <td>True</td>\n",
       "      <td>37.735849056603776%</td>\n",
       "    </tr>\n",
       "    <tr>\n",
       "      <th>381</th>\n",
       "      <td>LAS</td>\n",
       "      <td>True</td>\n",
       "      <td>37.08174502329521%</td>\n",
       "    </tr>\n",
       "    <tr>\n",
       "      <th>506</th>\n",
       "      <td>ORD</td>\n",
       "      <td>True</td>\n",
       "      <td>36.75522454424189%</td>\n",
       "    </tr>\n",
       "    <tr>\n",
       "      <th>193</th>\n",
       "      <td>DFW</td>\n",
       "      <td>True</td>\n",
       "      <td>36.330698287220024%</td>\n",
       "    </tr>\n",
       "    <tr>\n",
       "      <th>333</th>\n",
       "      <td>IAH</td>\n",
       "      <td>True</td>\n",
       "      <td>34.313318096821114%</td>\n",
       "    </tr>\n",
       "    <tr>\n",
       "      <th>151</th>\n",
       "      <td>CLT</td>\n",
       "      <td>True</td>\n",
       "      <td>33.25446332544633%</td>\n",
       "    </tr>\n",
       "    <tr>\n",
       "      <th>43</th>\n",
       "      <td>ATL</td>\n",
       "      <td>True</td>\n",
       "      <td>30.119288574996773%</td>\n",
       "    </tr>\n",
       "  </tbody>\n",
       "</table>\n",
       "</div>"
      ],
      "text/plain": [
       "    Dest_Airport  IsArrDelay Percentage_of_Flights_Delayed_on_Arrival\n",
       "42           ATL       False                       69.88071142500323%\n",
       "150          CLT       False                       66.74553667455366%\n",
       "332          IAH       False                        65.6866819031789%\n",
       "192          DFW       False                       63.66930171277997%\n",
       "505          ORD       False                      63.244775455758116%\n",
       "380          LAS       False                       62.91825497670479%\n",
       "534          PHX       False                      62.264150943396224%\n",
       "384          LAX       False                       59.75327102803738%\n",
       "627          SFO       False                       58.06757782839787%\n",
       "628          SFO        True                       41.93242217160213%\n",
       "385          LAX        True                       40.24672897196261%\n",
       "535          PHX        True                      37.735849056603776%\n",
       "381          LAS        True                       37.08174502329521%\n",
       "506          ORD        True                       36.75522454424189%\n",
       "193          DFW        True                      36.330698287220024%\n",
       "333          IAH        True                      34.313318096821114%\n",
       "151          CLT        True                       33.25446332544633%\n",
       "43           ATL        True                      30.119288574996773%"
      ]
     },
     "execution_count": 21,
     "metadata": {},
     "output_type": "execute_result"
    }
   ],
   "source": [
    "### percentages - destination arrival delay\n",
    "\n",
    "dest2_freq_arr = airline_df[['Dest_Airport', 'IsArrDelay']]\n",
    "dest2_freq_arr = dest2_freq_arr.groupby(by='Dest_Airport')\n",
    "dest2_freq_arr.head()\n",
    "dest2_freq_arr = dest2_freq_arr['IsArrDelay'].value_counts(normalize=True).mul(100).astype(str)+'%'\n",
    "dest2_freq_arr = dest2_freq_arr.rename('Percentage_of_Flights_Delayed_on_Arrival').reset_index()\n",
    "dest2_freq_arr\n",
    "\n",
    "\n",
    "dest2_freq_arr = dest2_freq_arr[dest2_freq_arr['Dest_Airport'].str.contains('LAX|ATL|ORD|DFW|DEEN|PHX|SFO|IAH|CLT|LAS', na=False)]\n",
    "dest2_freq_arr = dest2_freq_arr.sort_values(by='Percentage_of_Flights_Delayed_on_Arrival', ascending=False)\n",
    "\n",
    "dest2_freq_arr"
   ]
  },
  {
   "cell_type": "markdown",
   "metadata": {
    "id": "U6m033J02AXW"
   },
   "source": [
    "### 17. Destinations with highest freq departure delay? \n",
    "\n",
    "The San Fransico airport (SFO) has the highest departure delay rate of 42.4%, followed by Las Vegas (40.3%) and Los Angeles, CA (38.8%)."
   ]
  },
  {
   "cell_type": "code",
   "execution_count": null,
   "metadata": {
    "id": "aV2O4s5o4sIc",
    "outputId": "83bc428b-5793-4e74-800d-730aeac3d183"
   },
   "outputs": [
    {
     "data": {
      "text/html": [
       "<div>\n",
       "<style scoped>\n",
       "    .dataframe tbody tr th:only-of-type {\n",
       "        vertical-align: middle;\n",
       "    }\n",
       "\n",
       "    .dataframe tbody tr th {\n",
       "        vertical-align: top;\n",
       "    }\n",
       "\n",
       "    .dataframe thead th {\n",
       "        text-align: right;\n",
       "    }\n",
       "</style>\n",
       "<table border=\"1\" class=\"dataframe\">\n",
       "  <thead>\n",
       "    <tr style=\"text-align: right;\">\n",
       "      <th></th>\n",
       "      <th>Dest_Airport</th>\n",
       "      <th>Departure_Delay</th>\n",
       "    </tr>\n",
       "  </thead>\n",
       "  <tbody>\n",
       "    <tr>\n",
       "      <th>0</th>\n",
       "      <td>ATL</td>\n",
       "      <td>20810</td>\n",
       "    </tr>\n",
       "    <tr>\n",
       "      <th>1</th>\n",
       "      <td>ORD</td>\n",
       "      <td>15417</td>\n",
       "    </tr>\n",
       "    <tr>\n",
       "      <th>2</th>\n",
       "      <td>DFW</td>\n",
       "      <td>13234</td>\n",
       "    </tr>\n",
       "    <tr>\n",
       "      <th>3</th>\n",
       "      <td>DEN</td>\n",
       "      <td>12122</td>\n",
       "    </tr>\n",
       "    <tr>\n",
       "      <th>4</th>\n",
       "      <td>LAX</td>\n",
       "      <td>11669</td>\n",
       "    </tr>\n",
       "    <tr>\n",
       "      <th>5</th>\n",
       "      <td>PHX</td>\n",
       "      <td>8904</td>\n",
       "    </tr>\n",
       "    <tr>\n",
       "      <th>6</th>\n",
       "      <td>IAH</td>\n",
       "      <td>8581</td>\n",
       "    </tr>\n",
       "    <tr>\n",
       "      <th>7</th>\n",
       "      <td>SFO</td>\n",
       "      <td>8528</td>\n",
       "    </tr>\n",
       "    <tr>\n",
       "      <th>8</th>\n",
       "      <td>CLT</td>\n",
       "      <td>8356</td>\n",
       "    </tr>\n",
       "    <tr>\n",
       "      <th>9</th>\n",
       "      <td>LAS</td>\n",
       "      <td>8195</td>\n",
       "    </tr>\n",
       "  </tbody>\n",
       "</table>\n",
       "</div>"
      ],
      "text/plain": [
       "  Dest_Airport  Departure_Delay\n",
       "0          ATL            20810\n",
       "1          ORD            15417\n",
       "2          DFW            13234\n",
       "3          DEN            12122\n",
       "4          LAX            11669\n",
       "5          PHX             8904\n",
       "6          IAH             8581\n",
       "7          SFO             8528\n",
       "8          CLT             8356\n",
       "9          LAS             8195"
      ]
     },
     "execution_count": 50,
     "metadata": {},
     "output_type": "execute_result"
    }
   ],
   "source": [
    "dest_DepDelay = airline_df[['Dest_Airport', 'Departure_Delay']]\n",
    "dest_DepDelay = dest_DepDelay.groupby(by='Dest_Airport').count()\n",
    "dest_DepDelay = dest_DepDelay.sort_values(by=['Departure_Delay'], ascending=False)\n",
    "d2 = dest_DepDelay.head(10).reset_index()\n",
    "d2"
   ]
  },
  {
   "cell_type": "code",
   "execution_count": null,
   "metadata": {
    "id": "H12LAsYRoAlW",
    "outputId": "d4523ae2-eabb-46a2-a534-db423658951f"
   },
   "outputs": [
    {
     "data": {
      "text/html": [
       "<div>\n",
       "<style scoped>\n",
       "    .dataframe tbody tr th:only-of-type {\n",
       "        vertical-align: middle;\n",
       "    }\n",
       "\n",
       "    .dataframe tbody tr th {\n",
       "        vertical-align: top;\n",
       "    }\n",
       "\n",
       "    .dataframe thead th {\n",
       "        text-align: right;\n",
       "    }\n",
       "</style>\n",
       "<table border=\"1\" class=\"dataframe\">\n",
       "  <thead>\n",
       "    <tr style=\"text-align: right;\">\n",
       "      <th></th>\n",
       "      <th>Dest_Airport</th>\n",
       "      <th>IsDepDelay</th>\n",
       "      <th>Percentage_of_Flights_Delayed_on_Departure</th>\n",
       "    </tr>\n",
       "  </thead>\n",
       "  <tbody>\n",
       "    <tr>\n",
       "      <th>332</th>\n",
       "      <td>IAH</td>\n",
       "      <td>False</td>\n",
       "      <td>70.36152088094744%</td>\n",
       "    </tr>\n",
       "    <tr>\n",
       "      <th>150</th>\n",
       "      <td>CLT</td>\n",
       "      <td>False</td>\n",
       "      <td>69.6493869649387%</td>\n",
       "    </tr>\n",
       "    <tr>\n",
       "      <th>41</th>\n",
       "      <td>ATL</td>\n",
       "      <td>False</td>\n",
       "      <td>68.38637440248051%</td>\n",
       "    </tr>\n",
       "    <tr>\n",
       "      <th>192</th>\n",
       "      <td>DFW</td>\n",
       "      <td>False</td>\n",
       "      <td>67.04874835309617%</td>\n",
       "    </tr>\n",
       "    <tr>\n",
       "      <th>504</th>\n",
       "      <td>ORD</td>\n",
       "      <td>False</td>\n",
       "      <td>66.3683859493108%</td>\n",
       "    </tr>\n",
       "    <tr>\n",
       "      <th>533</th>\n",
       "      <td>PHX</td>\n",
       "      <td>False</td>\n",
       "      <td>62.31354341598341%</td>\n",
       "    </tr>\n",
       "    <tr>\n",
       "      <th>383</th>\n",
       "      <td>LAX</td>\n",
       "      <td>False</td>\n",
       "      <td>61.21121495327103%</td>\n",
       "    </tr>\n",
       "    <tr>\n",
       "      <th>379</th>\n",
       "      <td>LAS</td>\n",
       "      <td>False</td>\n",
       "      <td>59.720457433290974%</td>\n",
       "    </tr>\n",
       "    <tr>\n",
       "      <th>626</th>\n",
       "      <td>SFO</td>\n",
       "      <td>False</td>\n",
       "      <td>57.62148823082763%</td>\n",
       "    </tr>\n",
       "    <tr>\n",
       "      <th>627</th>\n",
       "      <td>SFO</td>\n",
       "      <td>True</td>\n",
       "      <td>42.37851176917236%</td>\n",
       "    </tr>\n",
       "    <tr>\n",
       "      <th>380</th>\n",
       "      <td>LAS</td>\n",
       "      <td>True</td>\n",
       "      <td>40.27954256670902%</td>\n",
       "    </tr>\n",
       "    <tr>\n",
       "      <th>384</th>\n",
       "      <td>LAX</td>\n",
       "      <td>True</td>\n",
       "      <td>38.788785046728975%</td>\n",
       "    </tr>\n",
       "    <tr>\n",
       "      <th>534</th>\n",
       "      <td>PHX</td>\n",
       "      <td>True</td>\n",
       "      <td>37.6864565840166%</td>\n",
       "    </tr>\n",
       "    <tr>\n",
       "      <th>505</th>\n",
       "      <td>ORD</td>\n",
       "      <td>True</td>\n",
       "      <td>33.631614050689194%</td>\n",
       "    </tr>\n",
       "    <tr>\n",
       "      <th>193</th>\n",
       "      <td>DFW</td>\n",
       "      <td>True</td>\n",
       "      <td>32.95125164690382%</td>\n",
       "    </tr>\n",
       "    <tr>\n",
       "      <th>42</th>\n",
       "      <td>ATL</td>\n",
       "      <td>True</td>\n",
       "      <td>31.613625597519484%</td>\n",
       "    </tr>\n",
       "    <tr>\n",
       "      <th>151</th>\n",
       "      <td>CLT</td>\n",
       "      <td>True</td>\n",
       "      <td>30.3506130350613%</td>\n",
       "    </tr>\n",
       "    <tr>\n",
       "      <th>333</th>\n",
       "      <td>IAH</td>\n",
       "      <td>True</td>\n",
       "      <td>29.63847911905257%</td>\n",
       "    </tr>\n",
       "  </tbody>\n",
       "</table>\n",
       "</div>"
      ],
      "text/plain": [
       "    Dest_Airport  IsDepDelay Percentage_of_Flights_Delayed_on_Departure\n",
       "332          IAH       False                         70.36152088094744%\n",
       "150          CLT       False                          69.6493869649387%\n",
       "41           ATL       False                         68.38637440248051%\n",
       "192          DFW       False                         67.04874835309617%\n",
       "504          ORD       False                          66.3683859493108%\n",
       "533          PHX       False                         62.31354341598341%\n",
       "383          LAX       False                         61.21121495327103%\n",
       "379          LAS       False                        59.720457433290974%\n",
       "626          SFO       False                         57.62148823082763%\n",
       "627          SFO        True                         42.37851176917236%\n",
       "380          LAS        True                         40.27954256670902%\n",
       "384          LAX        True                        38.788785046728975%\n",
       "534          PHX        True                          37.6864565840166%\n",
       "505          ORD        True                        33.631614050689194%\n",
       "193          DFW        True                         32.95125164690382%\n",
       "42           ATL        True                        31.613625597519484%\n",
       "151          CLT        True                          30.3506130350613%\n",
       "333          IAH        True                         29.63847911905257%"
      ]
     },
     "execution_count": 22,
     "metadata": {},
     "output_type": "execute_result"
    }
   ],
   "source": [
    "### percentages - destination departure delay\n",
    "\n",
    "dest2_freq_dep = airline_df[['Dest_Airport', 'IsDepDelay']]\n",
    "dest2_freq_dep = dest2_freq_dep.groupby(by='Dest_Airport')\n",
    "dest2_freq_dep.head()\n",
    "dest2_freq_dep = dest2_freq_dep['IsDepDelay'].value_counts(normalize=True).mul(100).astype(str)+'%'\n",
    "dest2_freq_dep = dest2_freq_dep.rename('Percentage_of_Flights_Delayed_on_Departure').reset_index()\n",
    "dest2_freq_dep\n",
    "\n",
    "\n",
    "dest2_freq_dep = dest2_freq_dep[dest2_freq_dep['Dest_Airport'].str.contains('LAX|ATL|ORD|DFW|DEEN|PHX|SFO|IAH|CLT|LAS', na=False)]\n",
    "dest2_freq_dep = dest2_freq_dep.sort_values(by='Percentage_of_Flights_Delayed_on_Departure', ascending=False)\n",
    "\n",
    "dest2_freq_dep"
   ]
  },
  {
   "cell_type": "markdown",
   "metadata": {
    "id": "RDdfcmgcVnqY"
   },
   "source": [
    "### 18. Busiest months of the year?"
   ]
  },
  {
   "cell_type": "code",
   "execution_count": null,
   "metadata": {
    "id": "h8edhlbcVnqY",
    "outputId": "046139c9-953a-4636-ec60-87e76a5dbe77"
   },
   "outputs": [
    {
     "data": {
      "text/html": [
       "<div>\n",
       "<style scoped>\n",
       "    .dataframe tbody tr th:only-of-type {\n",
       "        vertical-align: middle;\n",
       "    }\n",
       "\n",
       "    .dataframe tbody tr th {\n",
       "        vertical-align: top;\n",
       "    }\n",
       "\n",
       "    .dataframe thead th {\n",
       "        text-align: right;\n",
       "    }\n",
       "</style>\n",
       "<table border=\"1\" class=\"dataframe\">\n",
       "  <thead>\n",
       "    <tr style=\"text-align: right;\">\n",
       "      <th></th>\n",
       "      <th>Month</th>\n",
       "      <th>Number of flights</th>\n",
       "    </tr>\n",
       "  </thead>\n",
       "  <tbody>\n",
       "    <tr>\n",
       "      <th>10</th>\n",
       "      <td>1</td>\n",
       "      <td>29967</td>\n",
       "    </tr>\n",
       "    <tr>\n",
       "      <th>11</th>\n",
       "      <td>2</td>\n",
       "      <td>27739</td>\n",
       "    </tr>\n",
       "    <tr>\n",
       "      <th>4</th>\n",
       "      <td>3</td>\n",
       "      <td>32476</td>\n",
       "    </tr>\n",
       "    <tr>\n",
       "      <th>6</th>\n",
       "      <td>4</td>\n",
       "      <td>31639</td>\n",
       "    </tr>\n",
       "    <tr>\n",
       "      <th>3</th>\n",
       "      <td>5</td>\n",
       "      <td>32484</td>\n",
       "    </tr>\n",
       "    <tr>\n",
       "      <th>5</th>\n",
       "      <td>6</td>\n",
       "      <td>32391</td>\n",
       "    </tr>\n",
       "    <tr>\n",
       "      <th>0</th>\n",
       "      <td>7</td>\n",
       "      <td>33867</td>\n",
       "    </tr>\n",
       "    <tr>\n",
       "      <th>1</th>\n",
       "      <td>8</td>\n",
       "      <td>33269</td>\n",
       "    </tr>\n",
       "    <tr>\n",
       "      <th>9</th>\n",
       "      <td>9</td>\n",
       "      <td>30788</td>\n",
       "    </tr>\n",
       "    <tr>\n",
       "      <th>2</th>\n",
       "      <td>10</td>\n",
       "      <td>32559</td>\n",
       "    </tr>\n",
       "    <tr>\n",
       "      <th>8</th>\n",
       "      <td>11</td>\n",
       "      <td>31177</td>\n",
       "    </tr>\n",
       "    <tr>\n",
       "      <th>7</th>\n",
       "      <td>12</td>\n",
       "      <td>31609</td>\n",
       "    </tr>\n",
       "  </tbody>\n",
       "</table>\n",
       "</div>"
      ],
      "text/plain": [
       "    Month  Number of flights\n",
       "10      1              29967\n",
       "11      2              27739\n",
       "4       3              32476\n",
       "6       4              31639\n",
       "3       5              32484\n",
       "5       6              32391\n",
       "0       7              33867\n",
       "1       8              33269\n",
       "9       9              30788\n",
       "2      10              32559\n",
       "8      11              31177\n",
       "7      12              31609"
      ]
     },
     "execution_count": 52,
     "metadata": {},
     "output_type": "execute_result"
    }
   ],
   "source": [
    "monthFreqDf = pd.value_counts(airline_df['Month']) \\\n",
    "    .rename_axis('Month').reset_index(name='Number of flights') \\\n",
    "    .sort_values(by = ['Month'])\n",
    "monthFreqDf"
   ]
  },
  {
   "cell_type": "code",
   "execution_count": null,
   "metadata": {
    "id": "0hYsclMXVnqY",
    "outputId": "a69d0016-1e38-49a8-800f-c4fbe87ae751"
   },
   "outputs": [
    {
     "data": {
      "image/png": "[encoded data removed]",
      "text/plain": [
       "<Figure size 576x288 with 1 Axes>"
      ]
     },
     "metadata": {},
     "output_type": "display_data"
    }
   ],
   "source": [
    "display_bar_char('Month', 'Number of flights', monthFreqDf, 'v', (8, 4), \"Number of flights per month\")"
   ]
  },
  {
   "cell_type": "markdown",
   "metadata": {
    "id": "Fg8xRP7qVnqY"
   },
   "source": [
    "&rightarrow; July is the busiest month of the year. This is reasonable since a lot of people go on vacation during the summer. It's interesting to see that February has significantly less flights than other months."
   ]
  },
  {
   "cell_type": "markdown",
   "metadata": {
    "id": "aVzm-J5YVnqY"
   },
   "source": [
    "### 19. Relationship between Month and Departure Delay"
   ]
  },
  {
   "cell_type": "code",
   "execution_count": null,
   "metadata": {
    "id": "ShFih_6oVnqY",
    "outputId": "c3141da0-9599-4036-f2a6-0a5cea457e2a"
   },
   "outputs": [
    {
     "data": {
      "text/html": [
       "<div>\n",
       "<style scoped>\n",
       "    .dataframe tbody tr th:only-of-type {\n",
       "        vertical-align: middle;\n",
       "    }\n",
       "\n",
       "    .dataframe tbody tr th {\n",
       "        vertical-align: top;\n",
       "    }\n",
       "\n",
       "    .dataframe thead th {\n",
       "        text-align: right;\n",
       "    }\n",
       "</style>\n",
       "<table border=\"1\" class=\"dataframe\">\n",
       "  <thead>\n",
       "    <tr style=\"text-align: right;\">\n",
       "      <th></th>\n",
       "      <th>Month</th>\n",
       "      <th>Total Flights</th>\n",
       "    </tr>\n",
       "  </thead>\n",
       "  <tbody>\n",
       "    <tr>\n",
       "      <th>0</th>\n",
       "      <td>1</td>\n",
       "      <td>11112</td>\n",
       "    </tr>\n",
       "    <tr>\n",
       "      <th>1</th>\n",
       "      <td>2</td>\n",
       "      <td>10303</td>\n",
       "    </tr>\n",
       "    <tr>\n",
       "      <th>2</th>\n",
       "      <td>3</td>\n",
       "      <td>11766</td>\n",
       "    </tr>\n",
       "    <tr>\n",
       "      <th>3</th>\n",
       "      <td>4</td>\n",
       "      <td>10736</td>\n",
       "    </tr>\n",
       "    <tr>\n",
       "      <th>4</th>\n",
       "      <td>5</td>\n",
       "      <td>11937</td>\n",
       "    </tr>\n",
       "    <tr>\n",
       "      <th>5</th>\n",
       "      <td>6</td>\n",
       "      <td>13559</td>\n",
       "    </tr>\n",
       "    <tr>\n",
       "      <th>6</th>\n",
       "      <td>7</td>\n",
       "      <td>13507</td>\n",
       "    </tr>\n",
       "    <tr>\n",
       "      <th>7</th>\n",
       "      <td>8</td>\n",
       "      <td>12463</td>\n",
       "    </tr>\n",
       "    <tr>\n",
       "      <th>8</th>\n",
       "      <td>9</td>\n",
       "      <td>8907</td>\n",
       "    </tr>\n",
       "    <tr>\n",
       "      <th>9</th>\n",
       "      <td>10</td>\n",
       "      <td>10450</td>\n",
       "    </tr>\n",
       "    <tr>\n",
       "      <th>10</th>\n",
       "      <td>11</td>\n",
       "      <td>9850</td>\n",
       "    </tr>\n",
       "    <tr>\n",
       "      <th>11</th>\n",
       "      <td>12</td>\n",
       "      <td>12364</td>\n",
       "    </tr>\n",
       "  </tbody>\n",
       "</table>\n",
       "</div>"
      ],
      "text/plain": [
       "    Month  Total Flights\n",
       "0       1          11112\n",
       "1       2          10303\n",
       "2       3          11766\n",
       "3       4          10736\n",
       "4       5          11937\n",
       "5       6          13559\n",
       "6       7          13507\n",
       "7       8          12463\n",
       "8       9           8907\n",
       "9      10          10450\n",
       "10     11           9850\n",
       "11     12          12364"
      ]
     },
     "execution_count": 115,
     "metadata": {},
     "output_type": "execute_result"
    }
   ],
   "source": [
    "depDelayFreqByMonth = airline_df.groupby('Month')['IsDepDelay'].sum().reset_index(name = 'Total Flights')\n",
    "depDelayFreqByMonth"
   ]
  },
  {
   "cell_type": "code",
   "execution_count": null,
   "metadata": {
    "id": "FvZRiA5oVnqY",
    "outputId": "c5fac887-05e5-4995-fe18-fb602d8c677f"
   },
   "outputs": [
    {
     "data": {
      "image/png": "[encoded data removed]",
      "text/plain": [
       "<Figure size 576x288 with 1 Axes>"
      ]
     },
     "metadata": {},
     "output_type": "display_data"
    }
   ],
   "source": [
    "display_bar_char('Month', 'Total Flights', depDelayFreqByMonth, 'v', (8, 4), \"Number of departure delayed flights per month\")"
   ]
  },
  {
   "cell_type": "markdown",
   "metadata": {
    "id": "ZhzNESczVnqY"
   },
   "source": [
    "&rightarrow; Since the height of columns are different, there's a relationship between month whether a flight delay departure. We can see that September and February have the least number of flights delayed departure while March, July and December have the most number of flights delayed departure."
   ]
  },
  {
   "cell_type": "markdown",
   "metadata": {
    "id": "yGB8zllEVnqZ"
   },
   "source": [
    "### 20. Relationship between Month and Arrival Delay "
   ]
  },
  {
   "cell_type": "code",
   "execution_count": null,
   "metadata": {
    "id": "508ivq4JVnqZ",
    "outputId": "959bc569-0622-4396-8225-604358b63752"
   },
   "outputs": [
    {
     "data": {
      "text/html": [
       "<div>\n",
       "<style scoped>\n",
       "    .dataframe tbody tr th:only-of-type {\n",
       "        vertical-align: middle;\n",
       "    }\n",
       "\n",
       "    .dataframe tbody tr th {\n",
       "        vertical-align: top;\n",
       "    }\n",
       "\n",
       "    .dataframe thead th {\n",
       "        text-align: right;\n",
       "    }\n",
       "</style>\n",
       "<table border=\"1\" class=\"dataframe\">\n",
       "  <thead>\n",
       "    <tr style=\"text-align: right;\">\n",
       "      <th></th>\n",
       "      <th>Month</th>\n",
       "      <th>Total Flights</th>\n",
       "    </tr>\n",
       "  </thead>\n",
       "  <tbody>\n",
       "    <tr>\n",
       "      <th>0</th>\n",
       "      <td>1</td>\n",
       "      <td>11157</td>\n",
       "    </tr>\n",
       "    <tr>\n",
       "      <th>1</th>\n",
       "      <td>2</td>\n",
       "      <td>10432</td>\n",
       "    </tr>\n",
       "    <tr>\n",
       "      <th>2</th>\n",
       "      <td>3</td>\n",
       "      <td>11928</td>\n",
       "    </tr>\n",
       "    <tr>\n",
       "      <th>3</th>\n",
       "      <td>4</td>\n",
       "      <td>10963</td>\n",
       "    </tr>\n",
       "    <tr>\n",
       "      <th>4</th>\n",
       "      <td>5</td>\n",
       "      <td>11716</td>\n",
       "    </tr>\n",
       "    <tr>\n",
       "      <th>5</th>\n",
       "      <td>6</td>\n",
       "      <td>13517</td>\n",
       "    </tr>\n",
       "    <tr>\n",
       "      <th>6</th>\n",
       "      <td>7</td>\n",
       "      <td>13200</td>\n",
       "    </tr>\n",
       "    <tr>\n",
       "      <th>7</th>\n",
       "      <td>8</td>\n",
       "      <td>12610</td>\n",
       "    </tr>\n",
       "    <tr>\n",
       "      <th>8</th>\n",
       "      <td>9</td>\n",
       "      <td>9261</td>\n",
       "    </tr>\n",
       "    <tr>\n",
       "      <th>9</th>\n",
       "      <td>10</td>\n",
       "      <td>10725</td>\n",
       "    </tr>\n",
       "    <tr>\n",
       "      <th>10</th>\n",
       "      <td>11</td>\n",
       "      <td>9907</td>\n",
       "    </tr>\n",
       "    <tr>\n",
       "      <th>11</th>\n",
       "      <td>12</td>\n",
       "      <td>12115</td>\n",
       "    </tr>\n",
       "  </tbody>\n",
       "</table>\n",
       "</div>"
      ],
      "text/plain": [
       "    Month  Total Flights\n",
       "0       1          11157\n",
       "1       2          10432\n",
       "2       3          11928\n",
       "3       4          10963\n",
       "4       5          11716\n",
       "5       6          13517\n",
       "6       7          13200\n",
       "7       8          12610\n",
       "8       9           9261\n",
       "9      10          10725\n",
       "10     11           9907\n",
       "11     12          12115"
      ]
     },
     "execution_count": 117,
     "metadata": {},
     "output_type": "execute_result"
    }
   ],
   "source": [
    "arrDelayFreqByMonth = airline_df.groupby('Month')['IsArrDelay'].sum().reset_index(name = 'Total Flights')\n",
    "arrDelayFreqByMonth"
   ]
  },
  {
   "cell_type": "code",
   "execution_count": null,
   "metadata": {
    "id": "SFkLIFzWoAlY",
    "outputId": "d5171e5e-9a5f-4950-83ce-c99df31aa318",
    "scrolled": true
   },
   "outputs": [
    {
     "data": {
      "image/png": "[encoded data removed]",
      "text/plain": [
       "<Figure size 576x288 with 1 Axes>"
      ]
     },
     "metadata": {},
     "output_type": "display_data"
    }
   ],
   "source": [
    "display_bar_char('Month', 'Total Flights', arrDelayFreqByMonth, 'v', (8, 4), \"Number of arrival delayed flights per month\")"
   ]
  },
  {
   "cell_type": "markdown",
   "metadata": {
    "id": "Z_iRMwVhoAlY"
   },
   "source": [
    "&rightarrow; This graph looks verry similar to the \"Number of departure delayed flights per month\" which suggests that there's a strong relationship between departure delay and arrival delay."
   ]
  },
  {
   "cell_type": "markdown",
   "metadata": {
    "id": "gk-WVxYa5H17"
   },
   "source": [
    "### 21. Relationship between hour and median departure delay in minutes? (Khanh)\n",
    "\n"
   ]
  },
  {
   "cell_type": "code",
   "execution_count": null,
   "metadata": {
    "id": "A3uecX2pHU3u"
   },
   "outputs": [],
   "source": [
    "from google.colab import drive\n",
    "drive.mount('/content/drive')"
   ]
  },
  {
   "cell_type": "code",
   "execution_count": null,
   "metadata": {
    "id": "FY3oonACHkmZ"
   },
   "outputs": [],
   "source": [
    "path = \"/content/drive/MyDrive/INFO 442/Data Sources/airlines_updated.csv\"\n",
    "airline_df = import_data(path)"
   ]
  },
  {
   "cell_type": "code",
   "execution_count": null,
   "metadata": {
    "colab": {
     "base_uri": "https://localhost:8080/"
    },
    "id": "HlLvcRRTHPHh",
    "outputId": "5d674d90-65c1-4216-ae71-1a436d435184"
   },
   "outputs": [
    {
     "data": {
      "text/plain": [
       "0         19\n",
       "1          9\n",
       "2         19\n",
       "3         15\n",
       "4          6\n",
       "          ..\n",
       "379960    15\n",
       "379961     7\n",
       "379962    13\n",
       "379963    10\n",
       "379964    10\n",
       "Name: Scheduled_Departure_Hour, Length: 379965, dtype: int64"
      ]
     },
     "execution_count": 118,
     "metadata": {},
     "output_type": "execute_result"
    }
   ],
   "source": [
    "airline_df[\"Scheduled_Departure_Hour\"] = airline_df[\"Scheduled_Departure\"]//100\n",
    "airline_df[\"Scheduled_Departure_Hour\"]"
   ]
  },
  {
   "cell_type": "code",
   "execution_count": null,
   "metadata": {
    "colab": {
     "base_uri": "https://localhost:8080/",
     "height": 802
    },
    "id": "nr45agp6HyvC",
    "outputId": "d85ab772-c60f-40d3-ffd5-035348d83e85"
   },
   "outputs": [
    {
     "data": {
      "text/html": [
       "<div>\n",
       "<style scoped>\n",
       "    .dataframe tbody tr th:only-of-type {\n",
       "        vertical-align: middle;\n",
       "    }\n",
       "\n",
       "    .dataframe tbody tr th {\n",
       "        vertical-align: top;\n",
       "    }\n",
       "\n",
       "    .dataframe thead th {\n",
       "        text-align: right;\n",
       "    }\n",
       "</style>\n",
       "<table border=\"1\" class=\"dataframe\">\n",
       "  <thead>\n",
       "    <tr style=\"text-align: right;\">\n",
       "      <th></th>\n",
       "      <th>Scheduled_Departure_Hour</th>\n",
       "      <th>DepDelayMinutes</th>\n",
       "    </tr>\n",
       "  </thead>\n",
       "  <tbody>\n",
       "    <tr>\n",
       "      <th>0</th>\n",
       "      <td>0</td>\n",
       "      <td>0.0</td>\n",
       "    </tr>\n",
       "    <tr>\n",
       "      <th>1</th>\n",
       "      <td>1</td>\n",
       "      <td>0.0</td>\n",
       "    </tr>\n",
       "    <tr>\n",
       "      <th>2</th>\n",
       "      <td>2</td>\n",
       "      <td>0.0</td>\n",
       "    </tr>\n",
       "    <tr>\n",
       "      <th>3</th>\n",
       "      <td>3</td>\n",
       "      <td>0.0</td>\n",
       "    </tr>\n",
       "    <tr>\n",
       "      <th>4</th>\n",
       "      <td>4</td>\n",
       "      <td>0.0</td>\n",
       "    </tr>\n",
       "    <tr>\n",
       "      <th>5</th>\n",
       "      <td>5</td>\n",
       "      <td>0.0</td>\n",
       "    </tr>\n",
       "    <tr>\n",
       "      <th>6</th>\n",
       "      <td>6</td>\n",
       "      <td>0.0</td>\n",
       "    </tr>\n",
       "    <tr>\n",
       "      <th>7</th>\n",
       "      <td>7</td>\n",
       "      <td>0.0</td>\n",
       "    </tr>\n",
       "    <tr>\n",
       "      <th>8</th>\n",
       "      <td>8</td>\n",
       "      <td>0.0</td>\n",
       "    </tr>\n",
       "    <tr>\n",
       "      <th>9</th>\n",
       "      <td>9</td>\n",
       "      <td>0.0</td>\n",
       "    </tr>\n",
       "    <tr>\n",
       "      <th>10</th>\n",
       "      <td>10</td>\n",
       "      <td>0.0</td>\n",
       "    </tr>\n",
       "    <tr>\n",
       "      <th>11</th>\n",
       "      <td>11</td>\n",
       "      <td>0.0</td>\n",
       "    </tr>\n",
       "    <tr>\n",
       "      <th>12</th>\n",
       "      <td>12</td>\n",
       "      <td>0.0</td>\n",
       "    </tr>\n",
       "    <tr>\n",
       "      <th>13</th>\n",
       "      <td>13</td>\n",
       "      <td>0.0</td>\n",
       "    </tr>\n",
       "    <tr>\n",
       "      <th>14</th>\n",
       "      <td>14</td>\n",
       "      <td>0.0</td>\n",
       "    </tr>\n",
       "    <tr>\n",
       "      <th>15</th>\n",
       "      <td>15</td>\n",
       "      <td>0.0</td>\n",
       "    </tr>\n",
       "    <tr>\n",
       "      <th>16</th>\n",
       "      <td>16</td>\n",
       "      <td>0.0</td>\n",
       "    </tr>\n",
       "    <tr>\n",
       "      <th>17</th>\n",
       "      <td>17</td>\n",
       "      <td>0.0</td>\n",
       "    </tr>\n",
       "    <tr>\n",
       "      <th>18</th>\n",
       "      <td>18</td>\n",
       "      <td>0.0</td>\n",
       "    </tr>\n",
       "    <tr>\n",
       "      <th>19</th>\n",
       "      <td>19</td>\n",
       "      <td>0.0</td>\n",
       "    </tr>\n",
       "    <tr>\n",
       "      <th>20</th>\n",
       "      <td>20</td>\n",
       "      <td>0.0</td>\n",
       "    </tr>\n",
       "    <tr>\n",
       "      <th>21</th>\n",
       "      <td>21</td>\n",
       "      <td>0.0</td>\n",
       "    </tr>\n",
       "    <tr>\n",
       "      <th>22</th>\n",
       "      <td>22</td>\n",
       "      <td>0.0</td>\n",
       "    </tr>\n",
       "    <tr>\n",
       "      <th>23</th>\n",
       "      <td>23</td>\n",
       "      <td>0.0</td>\n",
       "    </tr>\n",
       "  </tbody>\n",
       "</table>\n",
       "</div>"
      ],
      "text/plain": [
       "    Scheduled_Departure_Hour  DepDelayMinutes\n",
       "0                          0              0.0\n",
       "1                          1              0.0\n",
       "2                          2              0.0\n",
       "3                          3              0.0\n",
       "4                          4              0.0\n",
       "5                          5              0.0\n",
       "6                          6              0.0\n",
       "7                          7              0.0\n",
       "8                          8              0.0\n",
       "9                          9              0.0\n",
       "10                        10              0.0\n",
       "11                        11              0.0\n",
       "12                        12              0.0\n",
       "13                        13              0.0\n",
       "14                        14              0.0\n",
       "15                        15              0.0\n",
       "16                        16              0.0\n",
       "17                        17              0.0\n",
       "18                        18              0.0\n",
       "19                        19              0.0\n",
       "20                        20              0.0\n",
       "21                        21              0.0\n",
       "22                        22              0.0\n",
       "23                        23              0.0"
      ]
     },
     "execution_count": 119,
     "metadata": {},
     "output_type": "execute_result"
    }
   ],
   "source": [
    "airline_df_depdelay_by_hour = airline_df.groupby([\"Scheduled_Departure_Hour\"])[[\"DepDelayMinutes\"]].median().reset_index()\n",
    "airline_df_depdelay_by_hour"
   ]
  },
  {
   "cell_type": "markdown",
   "metadata": {
    "id": "zpB9BiNB1D_4"
   },
   "source": [
    "### 22. Relationship between hour and median arrival delay in minutes? (Khanh)\n"
   ]
  },
  {
   "cell_type": "code",
   "execution_count": null,
   "metadata": {
    "colab": {
     "base_uri": "https://localhost:8080/"
    },
    "id": "2NrM_EQUQZih",
    "outputId": "c8db1942-58ef-4ac0-95ef-7d2a26d4f064"
   },
   "outputs": [
    {
     "data": {
      "text/plain": [
       "0         20\n",
       "1         11\n",
       "2         21\n",
       "3         16\n",
       "4          7\n",
       "          ..\n",
       "379960    17\n",
       "379961     8\n",
       "379962    15\n",
       "379963    11\n",
       "379964    12\n",
       "Name: Scheduled_Arrival_Hour, Length: 379965, dtype: int64"
      ]
     },
     "execution_count": 120,
     "metadata": {},
     "output_type": "execute_result"
    }
   ],
   "source": [
    "airline_df[\"Scheduled_Arrival_Hour\"] = airline_df[\"Scheduled_Arrival\"]//100\n",
    "airline_df[\"Scheduled_Arrival_Hour\"]"
   ]
  },
  {
   "cell_type": "code",
   "execution_count": null,
   "metadata": {
    "colab": {
     "base_uri": "https://localhost:8080/",
     "height": 833
    },
    "id": "4PX-I_J5Qhxr",
    "outputId": "cd38f7f5-2ae7-44be-e1a0-ffe550120b14"
   },
   "outputs": [
    {
     "data": {
      "text/html": [
       "<div>\n",
       "<style scoped>\n",
       "    .dataframe tbody tr th:only-of-type {\n",
       "        vertical-align: middle;\n",
       "    }\n",
       "\n",
       "    .dataframe tbody tr th {\n",
       "        vertical-align: top;\n",
       "    }\n",
       "\n",
       "    .dataframe thead th {\n",
       "        text-align: right;\n",
       "    }\n",
       "</style>\n",
       "<table border=\"1\" class=\"dataframe\">\n",
       "  <thead>\n",
       "    <tr style=\"text-align: right;\">\n",
       "      <th></th>\n",
       "      <th>Scheduled_Arrival_Hour</th>\n",
       "      <th>ArrDelayMinutes</th>\n",
       "    </tr>\n",
       "  </thead>\n",
       "  <tbody>\n",
       "    <tr>\n",
       "      <th>0</th>\n",
       "      <td>0</td>\n",
       "      <td>0.0</td>\n",
       "    </tr>\n",
       "    <tr>\n",
       "      <th>1</th>\n",
       "      <td>1</td>\n",
       "      <td>0.0</td>\n",
       "    </tr>\n",
       "    <tr>\n",
       "      <th>2</th>\n",
       "      <td>2</td>\n",
       "      <td>0.0</td>\n",
       "    </tr>\n",
       "    <tr>\n",
       "      <th>3</th>\n",
       "      <td>3</td>\n",
       "      <td>0.0</td>\n",
       "    </tr>\n",
       "    <tr>\n",
       "      <th>4</th>\n",
       "      <td>4</td>\n",
       "      <td>0.0</td>\n",
       "    </tr>\n",
       "    <tr>\n",
       "      <th>5</th>\n",
       "      <td>5</td>\n",
       "      <td>0.0</td>\n",
       "    </tr>\n",
       "    <tr>\n",
       "      <th>6</th>\n",
       "      <td>6</td>\n",
       "      <td>0.0</td>\n",
       "    </tr>\n",
       "    <tr>\n",
       "      <th>7</th>\n",
       "      <td>7</td>\n",
       "      <td>0.0</td>\n",
       "    </tr>\n",
       "    <tr>\n",
       "      <th>8</th>\n",
       "      <td>8</td>\n",
       "      <td>0.0</td>\n",
       "    </tr>\n",
       "    <tr>\n",
       "      <th>9</th>\n",
       "      <td>9</td>\n",
       "      <td>0.0</td>\n",
       "    </tr>\n",
       "    <tr>\n",
       "      <th>10</th>\n",
       "      <td>10</td>\n",
       "      <td>0.0</td>\n",
       "    </tr>\n",
       "    <tr>\n",
       "      <th>11</th>\n",
       "      <td>11</td>\n",
       "      <td>0.0</td>\n",
       "    </tr>\n",
       "    <tr>\n",
       "      <th>12</th>\n",
       "      <td>12</td>\n",
       "      <td>0.0</td>\n",
       "    </tr>\n",
       "    <tr>\n",
       "      <th>13</th>\n",
       "      <td>13</td>\n",
       "      <td>0.0</td>\n",
       "    </tr>\n",
       "    <tr>\n",
       "      <th>14</th>\n",
       "      <td>14</td>\n",
       "      <td>0.0</td>\n",
       "    </tr>\n",
       "    <tr>\n",
       "      <th>15</th>\n",
       "      <td>15</td>\n",
       "      <td>0.0</td>\n",
       "    </tr>\n",
       "    <tr>\n",
       "      <th>16</th>\n",
       "      <td>16</td>\n",
       "      <td>0.0</td>\n",
       "    </tr>\n",
       "    <tr>\n",
       "      <th>17</th>\n",
       "      <td>17</td>\n",
       "      <td>0.0</td>\n",
       "    </tr>\n",
       "    <tr>\n",
       "      <th>18</th>\n",
       "      <td>18</td>\n",
       "      <td>0.0</td>\n",
       "    </tr>\n",
       "    <tr>\n",
       "      <th>19</th>\n",
       "      <td>19</td>\n",
       "      <td>0.0</td>\n",
       "    </tr>\n",
       "    <tr>\n",
       "      <th>20</th>\n",
       "      <td>20</td>\n",
       "      <td>0.0</td>\n",
       "    </tr>\n",
       "    <tr>\n",
       "      <th>21</th>\n",
       "      <td>21</td>\n",
       "      <td>0.0</td>\n",
       "    </tr>\n",
       "    <tr>\n",
       "      <th>22</th>\n",
       "      <td>22</td>\n",
       "      <td>0.0</td>\n",
       "    </tr>\n",
       "    <tr>\n",
       "      <th>23</th>\n",
       "      <td>23</td>\n",
       "      <td>0.0</td>\n",
       "    </tr>\n",
       "    <tr>\n",
       "      <th>24</th>\n",
       "      <td>24</td>\n",
       "      <td>0.0</td>\n",
       "    </tr>\n",
       "  </tbody>\n",
       "</table>\n",
       "</div>"
      ],
      "text/plain": [
       "    Scheduled_Arrival_Hour  ArrDelayMinutes\n",
       "0                        0              0.0\n",
       "1                        1              0.0\n",
       "2                        2              0.0\n",
       "3                        3              0.0\n",
       "4                        4              0.0\n",
       "5                        5              0.0\n",
       "6                        6              0.0\n",
       "7                        7              0.0\n",
       "8                        8              0.0\n",
       "9                        9              0.0\n",
       "10                      10              0.0\n",
       "11                      11              0.0\n",
       "12                      12              0.0\n",
       "13                      13              0.0\n",
       "14                      14              0.0\n",
       "15                      15              0.0\n",
       "16                      16              0.0\n",
       "17                      17              0.0\n",
       "18                      18              0.0\n",
       "19                      19              0.0\n",
       "20                      20              0.0\n",
       "21                      21              0.0\n",
       "22                      22              0.0\n",
       "23                      23              0.0\n",
       "24                      24              0.0"
      ]
     },
     "execution_count": 121,
     "metadata": {},
     "output_type": "execute_result"
    }
   ],
   "source": [
    "airline_df_arrdelay_by_hour = airline_df.groupby([\"Scheduled_Arrival_Hour\"])[[\"ArrDelayMinutes\"]].median().reset_index()\n",
    "airline_df_arrdelay_by_hour"
   ]
  },
  {
   "cell_type": "markdown",
   "metadata": {
    "id": "p14g8gl71F2V"
   },
   "source": [
    "### 23. Relationship between day of the week and median arrival delay in minutes? (Khanh)\n",
    "\n",
    "\n"
   ]
  },
  {
   "cell_type": "code",
   "execution_count": null,
   "metadata": {
    "colab": {
     "base_uri": "https://localhost:8080/",
     "height": 1000
    },
    "id": "_ZqEtjohQ1bQ",
    "outputId": "e9f860ff-3e88-4672-f6f6-01c1cb7b3981"
   },
   "outputs": [
    {
     "data": {
      "text/html": [
       "<div>\n",
       "<style scoped>\n",
       "    .dataframe tbody tr th:only-of-type {\n",
       "        vertical-align: middle;\n",
       "    }\n",
       "\n",
       "    .dataframe tbody tr th {\n",
       "        vertical-align: top;\n",
       "    }\n",
       "\n",
       "    .dataframe thead th {\n",
       "        text-align: right;\n",
       "    }\n",
       "</style>\n",
       "<table border=\"1\" class=\"dataframe\">\n",
       "  <thead>\n",
       "    <tr style=\"text-align: right;\">\n",
       "      <th></th>\n",
       "      <th>Day</th>\n",
       "      <th>ArrDelayMinutes</th>\n",
       "    </tr>\n",
       "  </thead>\n",
       "  <tbody>\n",
       "    <tr>\n",
       "      <th>0</th>\n",
       "      <td>1</td>\n",
       "      <td>0.0</td>\n",
       "    </tr>\n",
       "    <tr>\n",
       "      <th>1</th>\n",
       "      <td>2</td>\n",
       "      <td>0.0</td>\n",
       "    </tr>\n",
       "    <tr>\n",
       "      <th>2</th>\n",
       "      <td>3</td>\n",
       "      <td>0.0</td>\n",
       "    </tr>\n",
       "    <tr>\n",
       "      <th>3</th>\n",
       "      <td>4</td>\n",
       "      <td>0.0</td>\n",
       "    </tr>\n",
       "    <tr>\n",
       "      <th>4</th>\n",
       "      <td>5</td>\n",
       "      <td>0.0</td>\n",
       "    </tr>\n",
       "    <tr>\n",
       "      <th>5</th>\n",
       "      <td>6</td>\n",
       "      <td>0.0</td>\n",
       "    </tr>\n",
       "    <tr>\n",
       "      <th>6</th>\n",
       "      <td>7</td>\n",
       "      <td>0.0</td>\n",
       "    </tr>\n",
       "    <tr>\n",
       "      <th>7</th>\n",
       "      <td>8</td>\n",
       "      <td>0.0</td>\n",
       "    </tr>\n",
       "    <tr>\n",
       "      <th>8</th>\n",
       "      <td>9</td>\n",
       "      <td>0.0</td>\n",
       "    </tr>\n",
       "    <tr>\n",
       "      <th>9</th>\n",
       "      <td>10</td>\n",
       "      <td>0.0</td>\n",
       "    </tr>\n",
       "    <tr>\n",
       "      <th>10</th>\n",
       "      <td>11</td>\n",
       "      <td>0.0</td>\n",
       "    </tr>\n",
       "    <tr>\n",
       "      <th>11</th>\n",
       "      <td>12</td>\n",
       "      <td>0.0</td>\n",
       "    </tr>\n",
       "    <tr>\n",
       "      <th>12</th>\n",
       "      <td>13</td>\n",
       "      <td>0.0</td>\n",
       "    </tr>\n",
       "    <tr>\n",
       "      <th>13</th>\n",
       "      <td>14</td>\n",
       "      <td>0.0</td>\n",
       "    </tr>\n",
       "    <tr>\n",
       "      <th>14</th>\n",
       "      <td>15</td>\n",
       "      <td>0.0</td>\n",
       "    </tr>\n",
       "    <tr>\n",
       "      <th>15</th>\n",
       "      <td>16</td>\n",
       "      <td>0.0</td>\n",
       "    </tr>\n",
       "    <tr>\n",
       "      <th>16</th>\n",
       "      <td>17</td>\n",
       "      <td>0.0</td>\n",
       "    </tr>\n",
       "    <tr>\n",
       "      <th>17</th>\n",
       "      <td>18</td>\n",
       "      <td>0.0</td>\n",
       "    </tr>\n",
       "    <tr>\n",
       "      <th>18</th>\n",
       "      <td>19</td>\n",
       "      <td>0.0</td>\n",
       "    </tr>\n",
       "    <tr>\n",
       "      <th>19</th>\n",
       "      <td>20</td>\n",
       "      <td>0.0</td>\n",
       "    </tr>\n",
       "    <tr>\n",
       "      <th>20</th>\n",
       "      <td>21</td>\n",
       "      <td>0.0</td>\n",
       "    </tr>\n",
       "    <tr>\n",
       "      <th>21</th>\n",
       "      <td>22</td>\n",
       "      <td>0.0</td>\n",
       "    </tr>\n",
       "    <tr>\n",
       "      <th>22</th>\n",
       "      <td>23</td>\n",
       "      <td>0.0</td>\n",
       "    </tr>\n",
       "    <tr>\n",
       "      <th>23</th>\n",
       "      <td>24</td>\n",
       "      <td>0.0</td>\n",
       "    </tr>\n",
       "    <tr>\n",
       "      <th>24</th>\n",
       "      <td>25</td>\n",
       "      <td>0.0</td>\n",
       "    </tr>\n",
       "    <tr>\n",
       "      <th>25</th>\n",
       "      <td>26</td>\n",
       "      <td>0.0</td>\n",
       "    </tr>\n",
       "    <tr>\n",
       "      <th>26</th>\n",
       "      <td>27</td>\n",
       "      <td>0.0</td>\n",
       "    </tr>\n",
       "    <tr>\n",
       "      <th>27</th>\n",
       "      <td>28</td>\n",
       "      <td>0.0</td>\n",
       "    </tr>\n",
       "    <tr>\n",
       "      <th>28</th>\n",
       "      <td>29</td>\n",
       "      <td>0.0</td>\n",
       "    </tr>\n",
       "    <tr>\n",
       "      <th>29</th>\n",
       "      <td>30</td>\n",
       "      <td>0.0</td>\n",
       "    </tr>\n",
       "    <tr>\n",
       "      <th>30</th>\n",
       "      <td>31</td>\n",
       "      <td>0.0</td>\n",
       "    </tr>\n",
       "  </tbody>\n",
       "</table>\n",
       "</div>"
      ],
      "text/plain": [
       "    Day  ArrDelayMinutes\n",
       "0     1              0.0\n",
       "1     2              0.0\n",
       "2     3              0.0\n",
       "3     4              0.0\n",
       "4     5              0.0\n",
       "5     6              0.0\n",
       "6     7              0.0\n",
       "7     8              0.0\n",
       "8     9              0.0\n",
       "9    10              0.0\n",
       "10   11              0.0\n",
       "11   12              0.0\n",
       "12   13              0.0\n",
       "13   14              0.0\n",
       "14   15              0.0\n",
       "15   16              0.0\n",
       "16   17              0.0\n",
       "17   18              0.0\n",
       "18   19              0.0\n",
       "19   20              0.0\n",
       "20   21              0.0\n",
       "21   22              0.0\n",
       "22   23              0.0\n",
       "23   24              0.0\n",
       "24   25              0.0\n",
       "25   26              0.0\n",
       "26   27              0.0\n",
       "27   28              0.0\n",
       "28   29              0.0\n",
       "29   30              0.0\n",
       "30   31              0.0"
      ]
     },
     "execution_count": 122,
     "metadata": {},
     "output_type": "execute_result"
    }
   ],
   "source": [
    "airline_df_arrdelay_by_day = airline_df.groupby([\"Day\"])[[\"ArrDelayMinutes\"]].median().reset_index()\n",
    "airline_df_arrdelay_by_day"
   ]
  },
  {
   "cell_type": "markdown",
   "metadata": {
    "id": "FZ8VV90X1Hls"
   },
   "source": [
    " ### 24. Difference between arrival delay (minutes) and departure delay (minutes) for every flight? (Histogram to see the difference distribution) (Khanh)"
   ]
  },
  {
   "cell_type": "code",
   "execution_count": null,
   "metadata": {
    "colab": {
     "base_uri": "https://localhost:8080/",
     "height": 628
    },
    "id": "KVE_YR_-RQ7r",
    "outputId": "1927febb-4a4f-4d8b-efc7-5a0615d9b13f"
   },
   "outputs": [
    {
     "data": {
      "image/png": "[encoded data removed]",
      "text/plain": [
       "<Figure size 864x720 with 1 Axes>"
      ]
     },
     "metadata": {},
     "output_type": "display_data"
    }
   ],
   "source": [
    "airline_df[\"ArrDeDelayDifferenceMinutes\"] = airline_df[\"ArrDelayMinutes\"] - airline_df[\"DepDelayMinutes\"]\n",
    "\n",
    "# Plotting\n",
    "plt.hist(airline_df[\"ArrDeDelayDifferenceMinutes\"].values, color='purple', edgecolor='black', bins=20)\n",
    "plt.title('Histogram of Difference between arrival delay and departure delay (minutes)', size=14)\n",
    "plt.xlabel('Minutes', size=12)\n",
    "plt.ylabel('Number of flights', size=12)\n",
    "# plt.rcParams[\"font.size\"] = 12\n",
    "plt.show()"
   ]
  },
  {
   "cell_type": "markdown",
   "metadata": {
    "id": "5Bg74eLsXuP1"
   },
   "source": [
    "### 25. Relationship between taxi in/taxi out and departure/arrival delay?"
   ]
  },
  {
   "cell_type": "markdown",
   "metadata": {
    "id": "bfZ5v6S2ZHqK"
   },
   "source": [
    "Taxi In and Departure Delay"
   ]
  },
  {
   "cell_type": "code",
   "execution_count": null,
   "metadata": {
    "colab": {
     "base_uri": "https://localhost:8080/",
     "height": 628
    },
    "id": "-UAAN02hYrrv",
    "outputId": "03885fdb-81cb-40d1-cf57-7cf27bb0a3ba"
   },
   "outputs": [
    {
     "data": {
      "image/png": "[encoded data removed]",
      "text/plain": [
       "<Figure size 864x720 with 1 Axes>"
      ]
     },
     "metadata": {},
     "output_type": "display_data"
    }
   ],
   "source": [
    "plt.scatter(x=airline_df.TaxiIn, y=airline_df.DepDelayMinutes, c='blue', linewidths = 2, edgecolor='black')\n",
    "plt.title('Scatter plot of Taxi In and Departure delay (minutes)', size=14)\n",
    "plt.xlabel('TaxiIn (minutes)', size=12)\n",
    "plt.ylabel('Departure Delay (minutes)', size=12)\n",
    "plt.show()"
   ]
  },
  {
   "cell_type": "markdown",
   "metadata": {
    "id": "6A3Cgy-0blwP"
   },
   "source": [
    "Taxi Out and Arrival Delay"
   ]
  },
  {
   "cell_type": "code",
   "execution_count": null,
   "metadata": {
    "colab": {
     "base_uri": "https://localhost:8080/",
     "height": 628
    },
    "id": "ZVWwi7gAbSxg",
    "outputId": "dc741538-49b7-4556-9883-ba96b6a64fd8"
   },
   "outputs": [
    {
     "data": {
      "image/png": "[encoded data removed]",
      "text/plain": [
       "<Figure size 864x720 with 1 Axes>"
      ]
     },
     "metadata": {},
     "output_type": "display_data"
    }
   ],
   "source": [
    "plt.scatter(x=airline_df.TaxiOut, y=airline_df.ArrDelayMinutes, c='blue', linewidths = 2, edgecolor='black')\n",
    "plt.title('Scatter plot of Taxi Out and Arrival delay (minutes)', size=14)\n",
    "plt.xlabel('TaxiOut (minutes)', size=12)\n",
    "plt.ylabel('Arrival Delay (minutes)', size=12)\n",
    "plt.show()"
   ]
  }
 ],
 "metadata": {
  "colab": {
   "collapsed_sections": [],
   "name": "May10th_245pm.ipynb",
   "provenance": []
  },
  "kernelspec": {
   "display_name": "Python 3",
   "language": "python",
   "name": "python3"
  },
  "language_info": {
   "codemirror_mode": {
    "name": "ipython",
    "version": 3
   },
   "file_extension": ".py",
   "mimetype": "text/x-python",
   "name": "python",
   "nbconvert_exporter": "python",
   "pygments_lexer": "ipython3",
   "version": "3.8.8"
  }
 },
 "nbformat": 4,
 "nbformat_minor": 4
}
