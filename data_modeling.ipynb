{
 "cells": [
  {
   "cell_type": "markdown",
   "metadata": {
    "id": "vPIne0_ckk1C"
   },
   "source": [
    "### College of Computing and Informatics, Drexel University\n",
    "---\n",
    "\n",
    "# Data Modeling\n",
    "\n",
    "## Project Title: U.S. Domestic Flights Delay Prediction\n",
    "\n",
    "## Author(s): Grace Pham, Jessica Jha, Heidi Tran, Khanh Tran\n",
    "\n",
    "---"
   ]
  },
  {
   "cell_type": "markdown",
   "metadata": {
    "id": "_zslWqHhkk1H"
   },
   "source": [
    "## 1. Introduction & Problem Definition\n",
    "---\n",
    "\n",
    "Millions of passengers fly everyday (except when a pandemic is taking place) and because flying is one of the fastest ways to travel, demand may get overwhelming, causing delays in departures and landings. Flight delays cause more than just inconvenience - it costs airlines and passegner money from rebooking flights, missing connecting flights, having to provide hotel and purchase food if the next flight is hours or days away. We hope to uncover certain trends from this data such as which airlines have the most delays, which destinations are most impacted, what are the causes of these delays, on average when are these delays happening the most, and build predictive classification models and compare which one can predict flight delays the best.\n",
    "\n",
    "Using this data found from the U.S. Department of Transportation's (DOT) Bureau of Transportation Statistics (BTS) helps give insight into different factors at play when flights are delayed. This project utilized Apache Spark for downsizing the data and multiple Python libraries for pre-processing, EDA, visualizations, and predictive modeling. The results will benefit passengers to help plan their next itineraries and prepare the best plan of action to make sure their flights to their destination are as delay-free as possible."
   ]
  },
  {
   "cell_type": "markdown",
   "metadata": {
    "id": "_X-ZFys7kk1J"
   },
   "source": [
    "## 3. Data\n",
    "---\n",
    "#### Main Dataset\n",
    "\n",
    "The dataset was retrieved from IBM. The original dataset is 7.2 GB in size. This dataset provides information on roughly 200 million U.S. domestic flights on United States Bureau of Transportation Statistics along with the flights’ information including flight date, place of origin, destination, delay time, flight time, etc.\n",
    "\n",
    "https://developer.ibm.com/exchanges/data/all/airline/\n",
    "\n",
    "#### Airport Codes for Airline names\n",
    "The list of airport codes was found on the Bureau of Transportation Statistics on the U.S. Department of Transportation site which was then copied into a CSV file to use to iterate through the list and replace the codes with Airline names to make better sense of the data. \n",
    "https://www.bts.gov/topics/airlines-and-airports/airline-codes\n",
    "\n",
    "#### Metadata\n",
    "- Fligts dataset\n",
    "    - Format: CSV\n",
    "    - Number of records: 194 million\n",
    "    - Data Coverage: United States 1987 - 2020\n",
    "    \n",
    "- Airlines name dataset\n",
    "    - Format: CSV \n",
    "    - Number of records: 1652 records\n",
    "\n",
    "#### Downsize the data\n",
    "\n",
    "In order to downsize the data, a local cluster of sample code from the IBM notebook was run on Apache Spark, an open-source cloud clustering platform. A smaller subset of data was able to be extracted so that all of our group members were able to have access to the same data to split pre-processing tasks. "
   ]
  },
  {
   "cell_type": "markdown",
   "metadata": {
    "id": "YuXzpDLPCA6V"
   },
   "source": [
    "#### Glossary\n",
    "\n",
    "\n",
    "| Field Name | Type | Description |\n",
    "| --- | --- | --- |\n",
    "| Year | int64 | year of the flight |\n",
    "| Month | int64 | month of the flight  |\n",
    "| DayofMonth | int64 | day of the month  |\n",
    "| FlightDate | datetime64[ns] | date of the flight |\n",
    "| Reporting_Airline | object | unique airline carrier code|\n",
    "| DOT_ID_Reporting_Airline | int64 | Number assigned by US DOT to identify a unique airline |\n",
    "| IATA_CODE_Reporting_Airline | object | Airline Code assigned by IATA |\n",
    "| Tail_Number | object | Aircraft tail number |\n",
    "| Flight_Number_Reporting_Airline | int64 | Flight Number |\n",
    "| OriginAirportID | int64 | Origin Airport ID |\n",
    "| OriginAirportSeqID | int64 | Origin Airport Sequence ID |\n",
    "| OriginCityMarketID | int64 | Origin City Market ID |\n",
    "| Origin | object | Origin Airport Code|\n",
    "| OriginCityName | object | Origin City Name |\n",
    "| OriginState | object | Origin State | \n",
    "| OriginStateFips | int64 | Origin State FIPS place code | \n",
    "| DestAirportID | int64 | Destination Airport ID |\n",
    "| DestAirportSeqID | int64 | Destination Airport Sequence ID |\n",
    "| OriginWac | int64 | Origin Airport World Area Code |\n",
    "| DestCityMarketID | int64 | Destination City Market ID |\n",
    "| Dest | object | Destination Airport Code |\n",
    "| DestCityName | object | Destination City Name | \n",
    "| DestState | object | Destination State | \n",
    "| DestStateFips | int64 | Destination State FIPS code |\n",
    "| DestStateName | object | Destination State Name |\n",
    "| DestWac | int64 | Destination Airport World Area Code |\n",
    "| CRSDepTime | int64 | Computer Reservation System (scheduled) Departure Time |\n",
    "| DepTime | float64 | Departure Time (hhmm) |\n",
    "| DepDelay | float64 | Departure delay (minutes) |\n",
    "| DepDelayMinutes | float64 | Absolute value of DepDelay |\n",
    "| DepartureDelayGroups | float64 | Departure delay 15 minute interval group |\n",
    "| DepTimeBlk | object | Computer Reservation System (scheduled) time block |\n",
    "| TaxiOut | float64 | Taxi out time (minutes) |\n",
    "| WheelsOff | float64 | Wheels off time (local time, hhmm) |\n",
    "| WheelsOn | float64 | Wheels on time (local time hhmm) |\n",
    "| TaxiIn | float64 | Taxi in time (minutes) |\n",
    "| CRSArrTime | int64 | Computer Reservation System (scheduled)\n",
    "Arrival Time |\n",
    "| ArrTime | float64 | Arrival time (local time, hhmm) |\n",
    "| ArrDelay | float64 | Arrival delay (minutes) |\n",
    "| ArrDelayMinutes | float64 | Absolute value of ArrDelay |\n",
    "| ArrDel15 | float64 | Arrival Delay >15? |\n",
    "| ArrivalDelayGroups | float64 | Arrival delay 15 minute  interval group |\n",
    "| ArrTimeBlk | object | Computer Reservation System (scheduled) arrival time block |\n",
    "| Cancelled | float64 | 1 = canceled |\n",
    "| Diverted | float64 | 1 = diverted |\n",
    "| CRSElapsedTime | float64 | Computer Reservation System (scheduled) elapsed time |\n",
    "| ActualElapsedTime | float64 | Actual elapsed time |\n",
    "| AirTime | float64 | Flight time (minutes) |\n",
    "| Distance | float64 | Distance between airports (miles) |\n",
    "| DistanceGroup | int64 | 250 mile distance interval group |\n",
    "| CarrierDelay | float64 | Carrier delay (minutes) |\n",
    "| WeatherDelay | float64 | Weather delay (minutes) |\n",
    "| NASDelay | float64 | National Air System delay (minutes) |\n",
    "| SecurityDelay | float64 | Security delay (minutes) |\n",
    "| LateAircraftDelay | float64 | Late aircraft delay (minutes) |\n",
    "| DivAirportLandings | int64 | Number of diverted airport landings |                     "
   ]
  },
  {
   "cell_type": "markdown",
   "metadata": {
    "id": "D8D92Q09rlZb"
   },
   "source": [
    "### Import packages"
   ]
  },
  {
   "cell_type": "code",
   "execution_count": null,
   "metadata": {
    "id": "6II79_YcrhoC"
   },
   "outputs": [],
   "source": [
    "import sys\n",
    "import json\n",
    "import pandas as pd\n",
    "import numpy as np\n",
    "import seaborn as sns\n",
    "\n",
    "import sklearn\n",
    "\n",
    "from sklearn.preprocessing import LabelEncoder\n",
    "from sklearn.preprocessing import OneHotEncoder\n",
    "from sklearn.preprocessing import PolynomialFeatures\n",
    "\n",
    "from imblearn.pipeline import Pipeline\n",
    "from imblearn.over_sampling import SMOTE\n",
    "from imblearn.under_sampling import RandomUnderSampler\n",
    "\n",
    "from sklearn.model_selection import train_test_split\n",
    "from sklearn.model_selection import KFold\n",
    "from sklearn.model_selection import cross_val_score\n",
    "\n",
    "# Models\n",
    "from sklearn.linear_model import LinearRegression\n",
    "from sklearn.tree import DecisionTreeRegressor\n",
    "from sklearn.ensemble import RandomForestClassifier\n",
    "from sklearn.neighbors import KNeighborsClassifier\n",
    "from sklearn.naive_bayes import GaussianNB\n",
    "from sklearn.naive_bayes import BernoulliNB # BernoulliNB is designed for binary features\n",
    "from sklearn.tree import DecisionTreeClassifier\n",
    "from sklearn.ensemble import BaggingClassifier\n",
    "\n",
    "# Evaluation metrics\n",
    "from sklearn.metrics import mean_squared_error, r2_score\n",
    "from sklearn.metrics import confusion_matrix, classification_report\n",
    "from sklearn.metrics import accuracy_score, recall_score, precision_score, f1_score\n",
    "from sklearn.metrics import precision_recall_fscore_support\n",
    "\n",
    "import matplotlib.pyplot as plt\n",
    "#from google.colab import data_table\n",
    "\n",
    "# Ignore warnings in Jupyter Notebook\n",
    "import warnings\n",
    "warnings.filterwarnings('ignore')\n",
    "\n",
    "# Config seaborn\n",
    "sns.set(rc={\"figure.figsize\":(12, 10)})\n",
    "sns.set_style('darkgrid')\n",
    "sns.set_palette('Set2')"
   ]
  },
  {
   "cell_type": "markdown",
   "metadata": {
    "id": "sbEv7XdAr-LJ"
   },
   "source": [
    "#### Common utilities that we can re-use.\n",
    "Some of thehese functions were given to us by IBM sample notebook. We also wrote some original functions to re-use throughout the notebook as well."
   ]
  },
  {
   "cell_type": "code",
   "execution_count": null,
   "metadata": {
    "id": "bohAZlYorf9z"
   },
   "outputs": [],
   "source": [
    "from re import I\n",
    "def reduce_mem_usage(df: pd.DataFrame) -> pd.DataFrame:\n",
    "    \"\"\"Iterate through all the columns of a dataframe and modify the data type to reduce memory usage.\n",
    "        I doubt that we would use up what Colab gives us in the free tier, but still it's a helpful util.\n",
    "    :param df: pandas DataFrame    \n",
    "    \"\"\"\n",
    "    start_mem = df.memory_usage().sum() / 1024**2\n",
    "    print('Memory usage of dataframe is {:.2f} MB'.format(start_mem))\n",
    "    \n",
    "    for col in df.columns:\n",
    "        col_type = df[col].dtype\n",
    "        \n",
    "        if col_type != object:\n",
    "            c_min = df[col].min()\n",
    "            c_max = df[col].max()\n",
    "            if str(col_type)[:3] == 'int':\n",
    "                if c_min > np.iinfo(np.int8).min and c_max < np.iinfo(np.int8).max:\n",
    "                    df[col] = df[col].astype(np.int8)\n",
    "                elif c_min > np.iinfo(np.int16).min and c_max < np.iinfo(np.int16).max:\n",
    "                    df[col] = df[col].astype(np.int16)\n",
    "                elif c_min > np.iinfo(np.int32).min and c_max < np.iinfo(np.int32).max:\n",
    "                    df[col] = df[col].astype(np.int32)\n",
    "                elif c_min > np.iinfo(np.int64).min and c_max < np.iinfo(np.int64).max:\n",
    "                    df[col] = df[col].astype(np.int64)  \n",
    "            else:\n",
    "                if c_min > np.finfo(np.float16).min and c_max < np.finfo(np.float16).max:\n",
    "                    df[col] = df[col].astype(np.float16)\n",
    "                elif c_min > np.finfo(np.float32).min and c_max < np.finfo(np.float32).max:\n",
    "                    df[col] = df[col].astype(np.float32)\n",
    "                else:\n",
    "                    df[col] = df[col].astype(np.float64)\n",
    "        else:\n",
    "            df[col] = df[col].astype('category')\n",
    "\n",
    "    end_mem = df.memory_usage().sum() / 1024**2\n",
    "    print('Memory usage after optimization is: {:.2f} MB'.format(end_mem))\n",
    "    print('Decreased by {:.1f}%'.format(100 * (start_mem - end_mem) / start_mem))\n",
    "    \n",
    "    return df\n",
    "\n",
    "\n",
    "def import_data(file: str, json=False) -> pd.DataFrame:\n",
    "    \"\"\"Create a dataframe and optimize its memory usage\n",
    "    :param file: filepath.\n",
    "    \"\"\"\n",
    "    if json:\n",
    "        try:\n",
    "            df = pd.read_json(file)\n",
    "            df = reduce_mem_usage(df)\n",
    "        except ValueError:\n",
    "            df = pd.read_json(file, lines=True)\n",
    "            df = reduce_mem_usage(df)\n",
    "    elif not json:\n",
    "        df = pd.read_csv(file, parse_dates=True, keep_date_col=True)\n",
    "        df = reduce_mem_usage(df)\n",
    "    return df\n",
    "\n",
    "    \n",
    "def index_file_checker(df, col_name):\n",
    "    return df[df[col_name].isnull()].index.tolist()\n",
    "\n",
    "\n",
    "def check_field(df, col_name):\n",
    "    \"\"\"Check null percentage of a column\n",
    "    \"\"\"\n",
    "    ind_miss = index_file_checker(df=df, col_name=col_name)\n",
    "    \n",
    "    if ind_miss == []:\n",
    "        print(\"No Null values of {x}\".format(x = col_name))\n",
    "        if len(df) == len(df[col_name].unique()):\n",
    "            print(\"All records of {x} is populated for the \\\"M Field\\\" and are unique\".format(x = col_name))\n",
    "            \n",
    "    else:\n",
    "        pctMissing = 100*(len(ind_miss)/len(df))\n",
    "        print(f\"Percentage of missing {col_name} field: {pctMissing:.2f}%\")\n",
    "\n",
    "\n",
    "def check_duplicate_values(df: pd.DataFrame, col_name: str =None):\n",
    "    '''Check for duplicate values in a given column in a given dataframe. If no column is given, only check for duplicate rows in the dataframe.\n",
    "    '''\n",
    "    try:\n",
    "        if col_name is not None:\n",
    "            dups = df.duplicated(subset=[col_name], keep='first')\n",
    "            len_dups = len(dups[dups==True])\n",
    "            percent_dups = 100*len_dups/len(df)\n",
    "\n",
    "            if len_dups == 0:\n",
    "                print(f\"\\nNo duplicate values in {col_name} field.\")\n",
    "            elif len_dups > 0:\n",
    "                print(f\"\\nPercentage of duplicate values in {col_name} field: {percent_dups}\")\n",
    "                print(f\"Percentage of unique values in {col_name} field: {100-percent_dups}\")\n",
    "        elif col_name is None:\n",
    "            dups = df.duplicated(keep='first')\n",
    "            len_dups = len(dups[dups==True])\n",
    "            percent_dups = 100*len_dups/len(df)\n",
    "            \n",
    "            if len_dups == 0:\n",
    "                print(f\"\\nNo duplicate rows in dataframe.\")\n",
    "            elif len_dups > 0:\n",
    "                print(f\"\\nPercentage of duplicate rows in dataframe: {percent_dups}\")\n",
    "                print(f\"\\nPercentage of unique rows in dataframe: {100-percent_dups}\")\n",
    "    except Exception as e:\n",
    "        print(e)\n",
    "\n",
    "\n",
    "def calculate_bound_values(df, col_name):\n",
    "  ''' Calculate lower and upper bound value for given column in the dataframe\n",
    "  '''\n",
    "  Q1 = df[col_name].quantile(0.25)\n",
    "  Q3 = df[col_name].quantile(0.75)\n",
    "  IQR = Q3 - Q1\n",
    "  lower_bound = Q1 - 1.5 * IQR\n",
    "  upper_bound = Q3 + 1.5 * IQR\n",
    "  return (lower_bound, upper_bound)\n",
    "\n",
    "\n",
    "def check_outliers(df: pd.DataFrame, col_name: str = None):\n",
    "  '''Print out information about the lower boundary, upper boundary and percentage of outliers\n",
    "  '''\n",
    "  lower_bound, upper_bound = calculate_bound_values(df, col_name)\n",
    "  \n",
    "  outliers_lower = df[col_name][df[col_name] < lower_bound]\n",
    "  outliers_upper = df[col_name][df[col_name] > upper_bound]\n",
    "  outliers_cnt = len(outliers_lower) + len(outliers_upper)\n",
    "  outliers_pct = (outliers_cnt * 100) / len(df[col_name])\n",
    "  print(f\"Column: {col_name}. Lower boundary: {lower_bound}. Upper boundary: {upper_bound}. Percentage of outliers: {outliers_pct:.2f}%\")\n",
    "\n",
    "\n",
    "def remove_outliers(df, col_name):\n",
    "  '''Replace outliers at given column with null values\n",
    "  '''\n",
    "  lower_bound, upper_bound = calculate_bound_values(df, col_name)\n",
    "  df[col_name] = df[col_name][(df[col_name] < upper_bound) & (df[col_name] > lower_bound)]\n",
    "  \n",
    "\n",
    "def get_numeric_cols(df: pd.DataFrame):\n",
    "  '''Return the names of all the numeric columns in a Data Frame\n",
    "  '''\n",
    "  return list(df.select_dtypes(include=[np.number]).columns.values)\n",
    "\n",
    "\n",
    "def drop_col(df: pd.DataFrame, col_name: str = None) -> pd.DataFrame:\n",
    "  '''Drop a column in a Data Frame and return the new Data Frame\n",
    "  '''\n",
    "  return df.drop(col_name, axis='columns')\n",
    "\n",
    "\n",
    "def drop_cols_with_missing_val_threshold(df, threshold): \n",
    "  '''Drop columns which has percentage of missing value surpassed the input threshold\n",
    "  Return a new dataframe in which unqualified columns has been dropped\n",
    "  '''\n",
    "  threshold_percentage = len(df) * threshold\n",
    "  return df.dropna(thresh=threshold_percentage, axis=1)\n",
    "\n",
    "\n",
    "def display_bar_char(xName: str, yName: str, df: pd.DataFrame, orient: str, figSize: (int, int), title: str):\n",
    "    fig = plt.figure(figsize=figSize)\n",
    "    ax = plt.axes()\n",
    "    sns.barplot(x = xName, y = yName, data = df, orient = orient, ax = ax).set(title = title)\n",
    "\n",
    "\n",
    "def plot_confusion_matrix(data, labels):\n",
    "    sns.set(color_codes=True)\n",
    "    plt.figure(1, figsize=(9, 6))\n",
    "    plt.title(\"Confusion Matrix\")\n",
    "    sns.set(font_scale=1.4)\n",
    "    ax = sns.heatmap(data, annot=True, cmap=\"YlGnBu\", cbar_kws={'label': 'Scale'})\n",
    "    ax.set_xticklabels(labels)\n",
    "    ax.set_yticklabels(labels)\n",
    "    ax.set(ylabel=\"True Label\", xlabel=\"Predicted Label\")\n",
    "    plt.show()"
   ]
  },
  {
   "cell_type": "markdown",
   "metadata": {
    "id": "g52wSvKlwKOq"
   },
   "source": [
    "# 4. Modeling\n",
    "---\n",
    "## 4.1 Feature selection"
   ]
  },
  {
   "cell_type": "code",
   "execution_count": null,
   "metadata": {
    "id": "NpLRow2ph5uW"
   },
   "outputs": [],
   "source": [
    "features = [\"Year\",\n",
    "\"Month\",\n",
    "\"Day\",\n",
    "\"Airline\",\n",
    "\"OriginAirport\",\n",
    "\"OriginCityName\",\n",
    "\"OriginState\",\n",
    "\"DestAirport\",\n",
    "\"DestState\",\n",
    "\"DestCityName\",\n",
    "\"TaxiIn\",\n",
    "\"TaxiOut\", \n",
    "\"WheelsOff\",\n",
    "\"WheelsOn\"]"
   ]
  },
  {
   "cell_type": "markdown",
   "metadata": {
    "id": "kFxVFPekh5uW"
   },
   "source": [
    "## 4.2 Encode categorical variables"
   ]
  },
  {
   "cell_type": "code",
   "execution_count": null,
   "metadata": {
    "id": "_GgPoXCRh5uW"
   },
   "outputs": [],
   "source": [
    "cat_cols = [\"Airline\", \n",
    "            \"OriginState\", \"DestState\",\n",
    "            \"OriginAirport\", \"DestAirport\", \n",
    "            \"OriginCityName\", \"DestCityName\"]"
   ]
  },
  {
   "cell_type": "markdown",
   "metadata": {
    "id": "l2Nir9XAh5uW"
   },
   "source": [
    "#### Encode `OriginCityName` and `DestCityName` with the same encoder"
   ]
  },
  {
   "cell_type": "code",
   "execution_count": null,
   "metadata": {
    "colab": {
     "base_uri": "https://localhost:8080/"
    },
    "id": "qEtlcDMgh5uW",
    "outputId": "a6d4a22d-0586-4542-aad2-e658b63d2680"
   },
   "outputs": [
    {
     "data": {
      "text/plain": [
       "matrix([[0., 0., 0., ..., 0., 0., 0.],\n",
       "        [0., 0., 0., ..., 0., 0., 0.],\n",
       "        [0., 0., 0., ..., 0., 0., 0.],\n",
       "        ...,\n",
       "        [0., 0., 0., ..., 0., 0., 0.],\n",
       "        [0., 0., 0., ..., 0., 0., 0.],\n",
       "        [0., 0., 0., ..., 0., 0., 0.]])"
      ]
     },
     "execution_count": 10,
     "metadata": {},
     "output_type": "execute_result"
    }
   ],
   "source": [
    "# Encode values as integer\n",
    "encoding = LabelEncoder()\n",
    "encoding.fit(airline_df[\"OriginCityName\"].values)\n",
    "\n",
    "# Transform OriginCityName and DestCityName\n",
    "encodedOriginCity = encoding.transform(airline_df[\"OriginCityName\"].values)\n",
    "encodedDestCity = encoding.transform(airline_df[\"DestCityName\"].values)\n",
    "\n",
    "newColumns = np.vstack([encodedOriginCity, encodedDestCity]).T\n",
    "onehot = OneHotEncoder()\n",
    "encodedCityNameCols = onehot.fit_transform(newColumns).todense()\n",
    "\n",
    "encodedCityNameCols"
   ]
  },
  {
   "cell_type": "markdown",
   "metadata": {
    "id": "SYX0akJIh5uW"
   },
   "source": [
    "#### Encode `OriginState` and `DestState` with the same encoder"
   ]
  },
  {
   "cell_type": "code",
   "execution_count": null,
   "metadata": {
    "colab": {
     "base_uri": "https://localhost:8080/"
    },
    "id": "DPS-zJiyh5uW",
    "outputId": "e56ec1d7-ec04-4ad9-934b-fe6dceb3d45c"
   },
   "outputs": [
    {
     "data": {
      "text/plain": [
       "matrix([[0., 0., 0., ..., 0., 0., 0.],\n",
       "        [0., 0., 0., ..., 0., 0., 0.],\n",
       "        [0., 0., 0., ..., 0., 0., 0.],\n",
       "        ...,\n",
       "        [0., 0., 0., ..., 0., 0., 0.],\n",
       "        [0., 0., 0., ..., 0., 0., 0.],\n",
       "        [0., 0., 0., ..., 0., 0., 0.]])"
      ]
     },
     "execution_count": 11,
     "metadata": {},
     "output_type": "execute_result"
    }
   ],
   "source": [
    "# Encode values as integer\n",
    "encoding1 = LabelEncoder()\n",
    "encoding1.fit(airline_df[\"OriginState\"].values)\n",
    "\n",
    "# Transform OriginState and DestState\n",
    "encodedOriginState = encoding1.transform(airline_df[\"OriginState\"].values)\n",
    "encodedDestState = encoding1.transform(airline_df[\"DestState\"].values)\n",
    "\n",
    "newColumns1 = np.vstack([encodedOriginState, encodedDestState]).T\n",
    "onehot1 = OneHotEncoder()\n",
    "encoded_Origin_Dest_Cols = onehot1.fit_transform(newColumns1).todense()\n",
    "\n",
    "encoded_Origin_Dest_Cols"
   ]
  },
  {
   "cell_type": "markdown",
   "metadata": {
    "id": "sDxowrpih5uX"
   },
   "source": [
    "#### Encode `OriginAirport` and `DestAirport` with the same encoder"
   ]
  },
  {
   "cell_type": "code",
   "execution_count": null,
   "metadata": {
    "id": "-TBtxekZh5uX"
   },
   "outputs": [],
   "source": [
    "#not all airports were listed in both Origin and Dest, so had to combine them to fit into the encoder \n",
    "OriginAirport = []\n",
    "DestAirport = []\n",
    "for i in airline_df[\"OriginAirport\"].values:\n",
    "    OriginAirport.append(i)\n",
    "    \n",
    "for x in airline_df[\"DestAirport\"].values:\n",
    "    DestAirport.append(x)"
   ]
  },
  {
   "cell_type": "code",
   "execution_count": null,
   "metadata": {
    "id": "posoTAdch5uX"
   },
   "outputs": [],
   "source": [
    "combined = OriginAirport + DestAirport"
   ]
  },
  {
   "cell_type": "code",
   "execution_count": null,
   "metadata": {
    "id": "tmPzEs0ih5uX"
   },
   "outputs": [],
   "source": [
    "combined_df = pd.DataFrame(combined, columns=['AllAirports'])"
   ]
  },
  {
   "cell_type": "code",
   "execution_count": null,
   "metadata": {
    "colab": {
     "base_uri": "https://localhost:8080/"
    },
    "id": "ybDaWzx4h5uX",
    "outputId": "976cc657-e809-468b-9e1a-02e97ef37a4a"
   },
   "outputs": [
    {
     "data": {
      "text/plain": [
       "matrix([[0., 0., 0., ..., 0., 0., 0.],\n",
       "        [0., 0., 0., ..., 0., 0., 0.],\n",
       "        [0., 0., 0., ..., 0., 0., 0.],\n",
       "        ...,\n",
       "        [0., 0., 0., ..., 0., 0., 0.],\n",
       "        [0., 0., 0., ..., 0., 0., 0.],\n",
       "        [0., 0., 0., ..., 0., 0., 0.]])"
      ]
     },
     "execution_count": 15,
     "metadata": {},
     "output_type": "execute_result"
    }
   ],
   "source": [
    "# Encode values as integer\n",
    "encoding2 = LabelEncoder()\n",
    "encoding2.fit(combined_df[\"AllAirports\"].values)\n",
    "\n",
    "# Transform combined airports list \n",
    "encodedOriginAirport = encoding2.transform(airline_df[\"OriginAirport\"].values)\n",
    "encodedDestAirport = encoding2.transform(airline_df[\"DestAirport\"].values)\n",
    "\n",
    "newColumns2 = np.vstack([encodedOriginAirport, encodedDestAirport]).T\n",
    "onehot2 = OneHotEncoder()\n",
    "encodedAirportsCols = onehot2.fit_transform(newColumns2).todense()\n",
    "\n",
    "encodedAirportsCols"
   ]
  },
  {
   "cell_type": "markdown",
   "metadata": {
    "id": "--rMPglIh5uX"
   },
   "source": [
    "#### Encode `Airline`"
   ]
  },
  {
   "cell_type": "code",
   "execution_count": null,
   "metadata": {
    "colab": {
     "base_uri": "https://localhost:8080/"
    },
    "id": "zn4Oi8sHh5uX",
    "outputId": "3d64268c-cfe8-4812-923d-de95b822be6e"
   },
   "outputs": [
    {
     "data": {
      "text/plain": [
       "matrix([[1., 0., 0., ..., 0., 0., 0.],\n",
       "        [1., 0., 0., ..., 0., 0., 0.],\n",
       "        [1., 0., 0., ..., 0., 0., 0.],\n",
       "        ...,\n",
       "        [0., 0., 0., ..., 0., 0., 0.],\n",
       "        [0., 0., 0., ..., 0., 0., 0.],\n",
       "        [0., 0., 0., ..., 0., 0., 0.]])"
      ]
     },
     "execution_count": 16,
     "metadata": {},
     "output_type": "execute_result"
    }
   ],
   "source": [
    "# Encode values as integer\n",
    "encoding3 = LabelEncoder()\n",
    "encoding3.fit(airline_df[\"Airline\"].values)\n",
    "\n",
    "# Transform Airlines\n",
    "encodedAirlines = encoding3.transform(airline_df[\"Airline\"].values)\n",
    "\n",
    "newColumns3 = np.vstack([encodedAirlines]).T\n",
    "onehot3 = OneHotEncoder()\n",
    "encodedAirlinesCols = onehot3.fit_transform(newColumns3).todense()\n",
    "\n",
    "encodedAirlinesCols"
   ]
  },
  {
   "cell_type": "markdown",
   "metadata": {
    "id": "XlDFP4b0h5uX"
   },
   "source": [
    "## 4.3 Construct the new dataframe for modeling"
   ]
  },
  {
   "cell_type": "code",
   "execution_count": null,
   "metadata": {
    "id": "lKy-6JHNh5uX"
   },
   "outputs": [],
   "source": [
    "numeric_cols = list(set(features).difference(set(cat_cols)))\n",
    "otherCols = airline_df[numeric_cols].values\n",
    "airline_encoded_df = np.hstack([otherCols, \n",
    "                                encodedCityNameCols,\n",
    "                                encoded_Origin_Dest_Cols,\n",
    "                                encodedAirportsCols,\n",
    "                                encodedAirlinesCols]) "
   ]
  },
  {
   "cell_type": "code",
   "execution_count": null,
   "metadata": {
    "colab": {
     "base_uri": "https://localhost:8080/"
    },
    "id": "lrVKAhXLh5uX",
    "outputId": "be6f114f-595f-469c-efdc-b568cc2c35fc",
    "scrolled": true
   },
   "outputs": [
    {
     "data": {
      "text/plain": [
       "matrix([[   6., 2350.,   25., ...,    0.,    0.,    0.],\n",
       "        [   4.,  940., 1119., ...,    0.,    0.,    0.],\n",
       "        [   5., 2024., 2140., ...,    0.,    0.,    0.],\n",
       "        ...,\n",
       "        [   9., 1301., 1446., ...,    0.,    0.,    0.],\n",
       "        [   6., 1050., 1059., ...,    0.,    0.,    0.],\n",
       "        [   4., 1031., 1134., ...,    0.,    0.,    0.]])"
      ]
     },
     "execution_count": 18,
     "metadata": {},
     "output_type": "execute_result"
    }
   ],
   "source": [
    "airline_encoded_df"
   ]
  },
  {
   "cell_type": "markdown",
   "metadata": {
    "id": "h_FGzlvCC2Qn"
   },
   "source": [
    "---\n",
    "## 4.4 Regression Analysis"
   ]
  },
  {
   "cell_type": "markdown",
   "metadata": {
    "id": "sAFFPexIh5uX"
   },
   "source": [
    "### Split the dataset into training and testing"
   ]
  },
  {
   "cell_type": "code",
   "execution_count": null,
   "metadata": {
    "id": "nhQ-ekx3h5uX"
   },
   "outputs": [],
   "source": [
    "X = airline_encoded_df\n",
    "y = airline_df[['DepDelayMinutes']].values"
   ]
  },
  {
   "cell_type": "code",
   "execution_count": null,
   "metadata": {
    "id": "0xSODI0nh5uX",
    "scrolled": true
   },
   "outputs": [],
   "source": [
    "X_train, X_test, y_train, y_test = train_test_split(X, y, test_size = 0.2, random_state=45)"
   ]
  },
  {
   "cell_type": "markdown",
   "metadata": {
    "id": "8lLxuanBh5uY"
   },
   "source": [
    "### 4.4.1 Linear Regression Model\n",
    "\n",
    "Regression analysis defines the relationship between a dependent variable (y), in this case delayed departure minutes, and any number of independent variables (X), our categorical and numerical features that were encoded above."
   ]
  },
  {
   "cell_type": "code",
   "execution_count": null,
   "metadata": {
    "id": "yan6WGJEh5uY",
    "outputId": "8e27d468-7978-4fc4-9de7-4a9b896f0374",
    "scrolled": true
   },
   "outputs": [
    {
     "data": {
      "text/plain": [
       "LinearRegression(copy_X=True, fit_intercept=True, n_jobs=None, normalize=False)"
      ]
     },
     "execution_count": 21,
     "metadata": {},
     "output_type": "execute_result"
    }
   ],
   "source": [
    "# Train\n",
    "linearRegModel = LinearRegression()\n",
    "linearRegModel.fit(X_train, y_train)"
   ]
  },
  {
   "cell_type": "code",
   "execution_count": null,
   "metadata": {
    "id": "-NVOInGIkk10"
   },
   "outputs": [],
   "source": [
    "# Predict\n",
    "y_pred = linearRegModel.predict(X_test)"
   ]
  },
  {
   "cell_type": "code",
   "execution_count": null,
   "metadata": {
    "id": "wpGYQQmMU1fM",
    "outputId": "78986087-3324-4b5b-dac6-20bf7c547b23",
    "scrolled": true
   },
   "outputs": [
    {
     "name": "stdout",
     "output_type": "stream",
     "text": [
      "Coefficients: \n",
      " [[ 1.38049190e-01  1.71920446e-02 -8.12898361e-03 ... -3.85704814e+07\n",
      "  -3.85704799e+07 -3.85704865e+07]]\n",
      "Mean squared error: 1637.96\n",
      "Coefficient of determination: 1.00\n"
     ]
    }
   ],
   "source": [
    "# Evaluate\n",
    "print(\"Coefficients: \\n\", linearRegModel.coef_)\n",
    "print(\"Mean squared error: %.2f\" % mean_squared_error(y_test, y_pred))\n",
    "print(\"Coefficient of determination: %.2f\" % r2_score(y_test, y_pred))"
   ]
  },
  {
   "cell_type": "code",
   "execution_count": null,
   "metadata": {
    "id": "bCinrkECMDX5",
    "outputId": "a109f150-fae4-4243-c6ce-bb8a4c12898b",
    "scrolled": true
   },
   "outputs": [
    {
     "data": {
      "text/plain": [
       "40.47175048071038"
      ]
     },
     "execution_count": 24,
     "metadata": {},
     "output_type": "execute_result"
    }
   ],
   "source": [
    "LinReg_RMSE = np.sqrt(mean_squared_error(y_test, y_pred))\n",
    "LinReg_RMSE"
   ]
  },
  {
   "cell_type": "markdown",
   "metadata": {
    "id": "vzQp_H_JMK6A"
   },
   "source": [
    "➤ The calculated RMSE score shows that the average distance between the observed data values and the predicted data values is large (around 40.9)\n",
    "\n",
    "➤ With an R-squared score of 1.00, the model is indicated to be a perfect model where the fitting line fits perfectly with the data points. First of all, we highly doubt that the relationship between the delay minutes of the flights and the decision variables can be perfectly described in a function. Secondly, a positive MSE contradicts the R-squared score of 1.0 which should be equivalent to a MSE of 0. Apparently, the result is highly questionable and does not add up. This observation can be due to the number of decision variables exploding to thousands in size after being one-hot encoded.\n",
    "\n",
    "➤ Plotting is not possible due to the difference between the shape of the independent variables (which should appear on the x-axis )and dependent variable (which should appear on the y-axis). Plotting should be a part of model evaluation since it gives us a better idea of the condition of the models (underfitted, overfitted, balanced), so the lack of visualization is considered a big downsize of this approach.\n",
    "\n",
    "➤ This is not an ideal approach."
   ]
  },
  {
   "cell_type": "markdown",
   "metadata": {
    "id": "gXR3lZZhh5uY"
   },
   "source": [
    "### 4.4.2 Decision Trees"
   ]
  },
  {
   "cell_type": "markdown",
   "metadata": {
    "id": "pZZpTdqlC2Qp"
   },
   "source": [
    "We will be using DecisionTreeRegressor for a regression problem. It is important to distinguish between DecisionTreeClassifier and DecisionTreeRegressor so that we can pick the suitable class for the nature of the problem that we are trying to solve. We will also experiment with two different max depths of the tree, 2 and 5. Our expectation should be with a higher max depth, the model will be more responsive with the fine details and learn more from the noise."
   ]
  },
  {
   "cell_type": "code",
   "execution_count": null,
   "metadata": {
    "id": "c6NspjWvh5uY",
    "outputId": "4c4c920e-e293-4ba9-9fc5-0ebef69e4e1b"
   },
   "outputs": [
    {
     "data": {
      "text/plain": [
       "DecisionTreeRegressor(criterion='mse', max_depth=5, max_features=None,\n",
       "                      max_leaf_nodes=None, min_impurity_decrease=0.0,\n",
       "                      min_impurity_split=None, min_samples_leaf=1,\n",
       "                      min_samples_split=2, min_weight_fraction_leaf=0.0,\n",
       "                      presort=False, random_state=None, splitter='best')"
      ]
     },
     "execution_count": 25,
     "metadata": {},
     "output_type": "execute_result"
    }
   ],
   "source": [
    "# Fit regression model\n",
    "dtModel2 = DecisionTreeRegressor(max_depth=2)\n",
    "dtModel5 = DecisionTreeRegressor(max_depth=5)\n",
    "dtModel2.fit(X_train, y_train)\n",
    "dtModel5.fit(X_train, y_train)"
   ]
  },
  {
   "cell_type": "markdown",
   "metadata": {
    "id": "9SNnOA6kC2Qr"
   },
   "source": [
    "Here, we will be comparing the performances of the two trees with max_depth = 2 and 5 respectively."
   ]
  },
  {
   "cell_type": "code",
   "execution_count": null,
   "metadata": {
    "id": "VhFo8OwDC2Qr"
   },
   "outputs": [],
   "source": [
    "# Predict\n",
    "y_pred = dtModel2.predict(X_test)\n",
    "y_pred = dtModel5.predict(X_test)"
   ]
  },
  {
   "cell_type": "code",
   "execution_count": null,
   "metadata": {
    "id": "O9kn2cp5kk11",
    "outputId": "e8b0b3b3-3f11-405a-d450-3bddba898c39",
    "scrolled": true
   },
   "outputs": [
    {
     "name": "stdout",
     "output_type": "stream",
     "text": [
      "For decision tree with Max depth = 2\n",
      "Mean squared error: 1578.20\n",
      "Coefficient of determination: 1.00\n",
      "\n",
      "For decision tree with Max depth = 5\n",
      "Mean squared error: 1578.20\n",
      "Coefficient of determination: 1.00\n"
     ]
    }
   ],
   "source": [
    "# Evaluate\n",
    "print(\"For decision tree with Max depth = 2\")\n",
    "print(\"Mean squared error: %.2f\" % mean_squared_error(y_test, y_pred)) # The mean squared error\n",
    "print(\"Coefficient of determination: %.2f\" % r2_score(y_test, y_pred)) # The coefficient of determination: 1 is perfect prediction\n",
    "print()\n",
    "print(\"For decision tree with Max depth = 5\")\n",
    "print(\"Mean squared error: %.2f\" % mean_squared_error(y_test, y_pred)) # The mean squared error\n",
    "print(\"Coefficient of determination: %.2f\" % r2_score(y_test, y_pred)) # The coefficient of determination: 1 is perfect prediction"
   ]
  },
  {
   "cell_type": "markdown",
   "metadata": {
    "id": "F_wFjA_mMK6A"
   },
   "source": [
    "We received high MSE for for both max depth being 2 and being 5\n",
    "\n",
    "➤ High MSE indicates that the accuracy of prediction using this model is not high as there would be few matches between actual data and predicted data\n",
    "\n",
    "Again, we witness the same issue with the MSE-R-squared-score pair as the one in the linear regression analysis above.\n",
    "\n",
    "➤ This is not an ideal approach."
   ]
  },
  {
   "cell_type": "markdown",
   "metadata": {
    "id": "UiTOph5KWGOW"
   },
   "source": [
    "Regression shows to be not the suitable approach for this problem. With the majority of the attributes being categorical, it is more reasonable to go for classification models. "
   ]
  },
  {
   "cell_type": "markdown",
   "metadata": {
    "id": "ps2wzVU4U1fM"
   },
   "source": [
    "---\n",
    "## 4.5 Classification"
   ]
  },
  {
   "cell_type": "code",
   "execution_count": null,
   "metadata": {
    "id": "zyfsbVSTkk12"
   },
   "outputs": [],
   "source": [
    "# Download package for oversampling\n",
    "# conda install -c conda-forge imbalanced-learn"
   ]
  },
  {
   "cell_type": "markdown",
   "metadata": {
    "id": "r02Edm-kBmTM"
   },
   "source": [
    "### Looking at the number of labels "
   ]
  },
  {
   "cell_type": "code",
   "execution_count": null,
   "metadata": {
    "id": "r-DfRbh9BmTM",
    "outputId": "4635d1a1-38fb-4cb9-c11b-aef2f2604563"
   },
   "outputs": [
    {
     "data": {
      "text/plain": [
       "0 to 15       308237\n",
       "15 to 1000     70663\n",
       "Name: DepDelayMinutes, dtype: int64"
      ]
     },
     "execution_count": 182,
     "metadata": {},
     "output_type": "execute_result"
    }
   ],
   "source": [
    "pd.cut(airline_df.DepDelayMinutes\n",
    ", bins = [0, 15, 1000]\n",
    ", labels =['0 to 15' ,'15 to 1000']\n",
    ", right=False).value_counts()"
   ]
  },
  {
   "cell_type": "markdown",
   "metadata": {
    "id": "6si2KO30BmTM"
   },
   "source": [
    "This means that we have 22% of label 0 and 78% of label 1."
   ]
  },
  {
   "cell_type": "markdown",
   "metadata": {
    "id": "D54IDR0cU1fM"
   },
   "source": [
    "### Creating binary labels"
   ]
  },
  {
   "cell_type": "code",
   "execution_count": null,
   "metadata": {
    "id": "ilD_nDGNBmTN",
    "outputId": "220a471f-c99e-45f5-d992-50bf655fb6d7"
   },
   "outputs": [
    {
     "data": {
      "text/plain": [
       "0    1\n",
       "1    0\n",
       "2    1\n",
       "3    1\n",
       "4    1\n",
       "Name: Delay > 15 mins?, dtype: int64"
      ]
     },
     "execution_count": 183,
     "metadata": {},
     "output_type": "execute_result"
    }
   ],
   "source": [
    "airline_df['Delay > 15 mins?'] = airline_df['DepDelayMinutes'].apply(lambda x : 1 if x > 15 else 0)\n",
    "airline_df['Delay > 15 mins?'].head()"
   ]
  },
  {
   "cell_type": "markdown",
   "metadata": {
    "id": "74wokvToBmTN"
   },
   "source": [
    "### Splitting the dataset"
   ]
  },
  {
   "cell_type": "code",
   "execution_count": null,
   "metadata": {
    "id": "7panc06CBmTN"
   },
   "outputs": [],
   "source": [
    "X = airline_encoded_df\n",
    "y = airline_df[['Delay > 15 mins?']].values"
   ]
  },
  {
   "cell_type": "code",
   "execution_count": null,
   "metadata": {
    "id": "OeBvtE-9BmTN"
   },
   "outputs": [],
   "source": [
    "X_train, X_test, y_train, y_test = train_test_split(X, y, stratify=y, test_size = 0.2, random_state=42)"
   ]
  },
  {
   "cell_type": "markdown",
   "metadata": {
    "id": "ErcxHWGWU1fM"
   },
   "source": [
    "### 4.5.1 Decision Tree"
   ]
  },
  {
   "cell_type": "code",
   "execution_count": null,
   "metadata": {
    "id": "dhlGiPGgU1fQ",
    "outputId": "1b23fa3a-5563-4f05-9bb3-4fcfc0d7aa1b"
   },
   "outputs": [
    {
     "data": {
      "text/html": [
       "<style>#sk-container-id-7 {color: black;background-color: white;}#sk-container-id-7 pre{padding: 0;}#sk-container-id-7 div.sk-toggleable {background-color: white;}#sk-container-id-7 label.sk-toggleable__label {cursor: pointer;display: block;width: 100%;margin-bottom: 0;padding: 0.3em;box-sizing: border-box;text-align: center;}#sk-container-id-7 label.sk-toggleable__label-arrow:before {content: \"▸\";float: left;margin-right: 0.25em;color: #696969;}#sk-container-id-7 label.sk-toggleable__label-arrow:hover:before {color: black;}#sk-container-id-7 div.sk-estimator:hover label.sk-toggleable__label-arrow:before {color: black;}#sk-container-id-7 div.sk-toggleable__content {max-height: 0;max-width: 0;overflow: hidden;text-align: left;background-color: #f0f8ff;}#sk-container-id-7 div.sk-toggleable__content pre {margin: 0.2em;color: black;border-radius: 0.25em;background-color: #f0f8ff;}#sk-container-id-7 input.sk-toggleable__control:checked~div.sk-toggleable__content {max-height: 200px;max-width: 100%;overflow: auto;}#sk-container-id-7 input.sk-toggleable__control:checked~label.sk-toggleable__label-arrow:before {content: \"▾\";}#sk-container-id-7 div.sk-estimator input.sk-toggleable__control:checked~label.sk-toggleable__label {background-color: #d4ebff;}#sk-container-id-7 div.sk-label input.sk-toggleable__control:checked~label.sk-toggleable__label {background-color: #d4ebff;}#sk-container-id-7 input.sk-hidden--visually {border: 0;clip: rect(1px 1px 1px 1px);clip: rect(1px, 1px, 1px, 1px);height: 1px;margin: -1px;overflow: hidden;padding: 0;position: absolute;width: 1px;}#sk-container-id-7 div.sk-estimator {font-family: monospace;background-color: #f0f8ff;border: 1px dotted black;border-radius: 0.25em;box-sizing: border-box;margin-bottom: 0.5em;}#sk-container-id-7 div.sk-estimator:hover {background-color: #d4ebff;}#sk-container-id-7 div.sk-parallel-item::after {content: \"\";width: 100%;border-bottom: 1px solid gray;flex-grow: 1;}#sk-container-id-7 div.sk-label:hover label.sk-toggleable__label {background-color: #d4ebff;}#sk-container-id-7 div.sk-serial::before {content: \"\";position: absolute;border-left: 1px solid gray;box-sizing: border-box;top: 0;bottom: 0;left: 50%;z-index: 0;}#sk-container-id-7 div.sk-serial {display: flex;flex-direction: column;align-items: center;background-color: white;padding-right: 0.2em;padding-left: 0.2em;position: relative;}#sk-container-id-7 div.sk-item {position: relative;z-index: 1;}#sk-container-id-7 div.sk-parallel {display: flex;align-items: stretch;justify-content: center;background-color: white;position: relative;}#sk-container-id-7 div.sk-item::before, #sk-container-id-7 div.sk-parallel-item::before {content: \"\";position: absolute;border-left: 1px solid gray;box-sizing: border-box;top: 0;bottom: 0;left: 50%;z-index: -1;}#sk-container-id-7 div.sk-parallel-item {display: flex;flex-direction: column;z-index: 1;position: relative;background-color: white;}#sk-container-id-7 div.sk-parallel-item:first-child::after {align-self: flex-end;width: 50%;}#sk-container-id-7 div.sk-parallel-item:last-child::after {align-self: flex-start;width: 50%;}#sk-container-id-7 div.sk-parallel-item:only-child::after {width: 0;}#sk-container-id-7 div.sk-dashed-wrapped {border: 1px dashed gray;margin: 0 0.4em 0.5em 0.4em;box-sizing: border-box;padding-bottom: 0.4em;background-color: white;}#sk-container-id-7 div.sk-label label {font-family: monospace;font-weight: bold;display: inline-block;line-height: 1.2em;}#sk-container-id-7 div.sk-label-container {text-align: center;}#sk-container-id-7 div.sk-container {/* jupyter's `normalize.less` sets `[hidden] { display: none; }` but bootstrap.min.css set `[hidden] { display: none !important; }` so we also need the `!important` here to be able to override the default hidden behavior on the sphinx rendered scikit-learn.org. See: https://github.com/scikit-learn/scikit-learn/issues/21755 */display: inline-block !important;position: relative;}#sk-container-id-7 div.sk-text-repr-fallback {display: none;}</style><div id=\"sk-container-id-7\" class=\"sk-top-container\"><div class=\"sk-text-repr-fallback\"><pre>DecisionTreeClassifier(random_state=42)</pre><b>In a Jupyter environment, please rerun this cell to show the HTML representation or trust the notebook. <br />On GitHub, the HTML representation is unable to render, please try loading this page with nbviewer.org.</b></div><div class=\"sk-container\" hidden><div class=\"sk-item\"><div class=\"sk-estimator sk-toggleable\"><input class=\"sk-toggleable__control sk-hidden--visually\" id=\"sk-estimator-id-7\" type=\"checkbox\" checked><label for=\"sk-estimator-id-7\" class=\"sk-toggleable__label sk-toggleable__label-arrow\">DecisionTreeClassifier</label><div class=\"sk-toggleable__content\"><pre>DecisionTreeClassifier(random_state=42)</pre></div></div></div></div></div>"
      ],
      "text/plain": [
       "DecisionTreeClassifier(random_state=42)"
      ]
     },
     "execution_count": 186,
     "metadata": {},
     "output_type": "execute_result"
    }
   ],
   "source": [
    "decision_tree = DecisionTreeClassifier(random_state=42)\n",
    "\n",
    "# Train\n",
    "decision_tree.fit(X_train, y_train)"
   ]
  },
  {
   "cell_type": "code",
   "execution_count": null,
   "metadata": {
    "id": "YuSW3mWlwKOw",
    "outputId": "5e942ebd-4b33-4a5b-956d-00df6fe5e942"
   },
   "outputs": [
    {
     "data": {
      "text/plain": [
       "array([0, 0, 0, ..., 0, 0, 1], dtype=int64)"
      ]
     },
     "execution_count": 187,
     "metadata": {},
     "output_type": "execute_result"
    }
   ],
   "source": [
    "# Predict\n",
    "Y_pred = decision_tree.predict(X_test)\n",
    "Y_pred"
   ]
  },
  {
   "cell_type": "code",
   "execution_count": null,
   "metadata": {
    "id": "cjMq-vc5wKOw",
    "outputId": "6d0b6ea5-1b39-4c84-ed6e-aa182c2251ab",
    "scrolled": true
   },
   "outputs": [
    {
     "name": "stdout",
     "output_type": "stream",
     "text": [
      "              precision    recall  f1-score   support\n",
      "\n",
      "           0       0.85      0.86      0.86     62137\n",
      "           1       0.33      0.32      0.33     13655\n",
      "\n",
      "    accuracy                           0.76     75792\n",
      "   macro avg       0.59      0.59      0.59     75792\n",
      "weighted avg       0.76      0.76      0.76     75792\n",
      "\n",
      "[[53348  8789]\n",
      " [ 9291  4364]]\n",
      "Accuracy is: 0.7614523960312434\n"
     ]
    },
    {
     "data": {
      "text/plain": [
       "(0.7580089851291408, 0.7614523960312434, 0.7596987677196796, None)"
      ]
     },
     "execution_count": 188,
     "metadata": {},
     "output_type": "execute_result"
    }
   ],
   "source": [
    "# Evaluate\n",
    "print(classification_report(y_test, Y_pred))\n",
    "print(confusion_matrix(y_test, Y_pred))\n",
    "\n",
    "# Accuracy score\n",
    "print(f'Accuracy is: {accuracy_score(Y_pred,y_test)}')\n",
    "\n",
    "# Calculate precision, recall, f1-measure, and support\n",
    "precision_recall_fscore_support(y_test, Y_pred, average = 'weighted')"
   ]
  },
  {
   "cell_type": "markdown",
   "metadata": {
    "id": "wZvnkcFYkk13"
   },
   "source": [
    "&rightarrow; F-1 score for the postitive label is 33% which is very low\n",
    "\n",
    "&rightarrow; Reason: Highly skewed data (more flights with shorter delay time than flights with long delay time)\n",
    "\n",
    "&rightarrow; Our approach: Use oversampling with SMOTE"
   ]
  },
  {
   "cell_type": "code",
   "execution_count": null,
   "metadata": {
    "id": "hhD0jKhS7dNd",
    "outputId": "58f5ec41-9081-43e0-a679-660b1b24ab5a"
   },
   "outputs": [
    {
     "data": {
      "image/png": "[encoded data removed]",
      "text/plain": [
       "<Figure size 864x720 with 2 Axes>"
      ]
     },
     "metadata": {},
     "output_type": "display_data"
    }
   ],
   "source": [
    "mat_dt = confusion_matrix(y_test, Y_pred)\n",
    "ax = plt.subplot()\n",
    "sns.heatmap(mat_dt, annot=True, fmt='g', ax=ax, cmap=plt.cm.Greens); \n",
    "\n",
    "# labels, title and ticks\n",
    "ax.set_title('Confusion Matrix for Decision Tree'); \n",
    "ax.xaxis.set_ticklabels(['Negatives', 'Positives']); ax.yaxis.set_ticklabels(['Negatives', 'Positives']);"
   ]
  },
  {
   "cell_type": "markdown",
   "metadata": {
    "id": "TFDGYgta7dNe"
   },
   "source": [
    "*  High occurence of False Negative in prediction: Lots of flights with ***less than 15 minutues delay*** were classified as having ***more than 15 minutes delay***, possibly due to the imbalance of the dataset"
   ]
  },
  {
   "cell_type": "markdown",
   "metadata": {
    "id": "vsxhik14kk13"
   },
   "source": [
    "### 4.5.2 Decision Tree with Oversampling\n",
    "Create synthesized data from the minority class so we would have equal number of negative and postitive labels &rightarrow; Dataset becomes more balanced\n",
    "#### Over sampling"
   ]
  },
  {
   "cell_type": "code",
   "execution_count": null,
   "metadata": {
    "id": "HkQ98AbOkk13",
    "outputId": "7999aaa8-3b32-4349-ebb5-4dd7e16a6c91"
   },
   "outputs": [
    {
     "name": "stdout",
     "output_type": "stream",
     "text": [
      "Before oversampling:\n",
      "The counts of negative and positive labels are:\n",
      " [[     0      1]\n",
      " [248545  54620]]\n"
     ]
    }
   ],
   "source": [
    "unique, frequency = np.unique(y_train,\n",
    "                              return_counts = True) \n",
    "count = np.asarray((unique, frequency ))\n",
    "\n",
    "print(\"Before oversampling:\")\n",
    "print(\"The counts of negative and positive labels are:\\n\",\n",
    "     count)"
   ]
  },
  {
   "cell_type": "code",
   "execution_count": null,
   "metadata": {
    "id": "INsTVMxhkk14"
   },
   "outputs": [],
   "source": [
    "smote = SMOTE(random_state = 42)\n",
    "X_train_syn, y_train_syn = smote.fit_resample(X_train, y_train)"
   ]
  },
  {
   "cell_type": "code",
   "execution_count": null,
   "metadata": {
    "id": "jLNL6atNkk14",
    "outputId": "61f4ed40-4df8-4e3f-ca8c-2ce301bd7f24",
    "scrolled": true
   },
   "outputs": [
    {
     "name": "stdout",
     "output_type": "stream",
     "text": [
      "After oversampling:\n",
      "The counts of negative and positive labels are:\n",
      " [[     0      1]\n",
      " [248545 248545]]\n"
     ]
    }
   ],
   "source": [
    "unique, frequency = np.unique(y_train_syn,\n",
    "                              return_counts = True) \n",
    "count = np.asarray((unique, frequency ))\n",
    "  \n",
    "print(\"After oversampling:\")    \n",
    "print(\"The counts of negative and positive labels are:\\n\",\n",
    "     count)"
   ]
  },
  {
   "cell_type": "markdown",
   "metadata": {
    "id": "vHpKxTySkk14"
   },
   "source": [
    "#### Decision Tree (with oversampling)"
   ]
  },
  {
   "cell_type": "code",
   "execution_count": null,
   "metadata": {
    "id": "MTeRSmeckk14",
    "outputId": "4149ac0c-94b8-4c5a-8433-5bfe26fecb21"
   },
   "outputs": [
    {
     "data": {
      "text/html": [
       "<style>#sk-container-id-8 {color: black;background-color: white;}#sk-container-id-8 pre{padding: 0;}#sk-container-id-8 div.sk-toggleable {background-color: white;}#sk-container-id-8 label.sk-toggleable__label {cursor: pointer;display: block;width: 100%;margin-bottom: 0;padding: 0.3em;box-sizing: border-box;text-align: center;}#sk-container-id-8 label.sk-toggleable__label-arrow:before {content: \"▸\";float: left;margin-right: 0.25em;color: #696969;}#sk-container-id-8 label.sk-toggleable__label-arrow:hover:before {color: black;}#sk-container-id-8 div.sk-estimator:hover label.sk-toggleable__label-arrow:before {color: black;}#sk-container-id-8 div.sk-toggleable__content {max-height: 0;max-width: 0;overflow: hidden;text-align: left;background-color: #f0f8ff;}#sk-container-id-8 div.sk-toggleable__content pre {margin: 0.2em;color: black;border-radius: 0.25em;background-color: #f0f8ff;}#sk-container-id-8 input.sk-toggleable__control:checked~div.sk-toggleable__content {max-height: 200px;max-width: 100%;overflow: auto;}#sk-container-id-8 input.sk-toggleable__control:checked~label.sk-toggleable__label-arrow:before {content: \"▾\";}#sk-container-id-8 div.sk-estimator input.sk-toggleable__control:checked~label.sk-toggleable__label {background-color: #d4ebff;}#sk-container-id-8 div.sk-label input.sk-toggleable__control:checked~label.sk-toggleable__label {background-color: #d4ebff;}#sk-container-id-8 input.sk-hidden--visually {border: 0;clip: rect(1px 1px 1px 1px);clip: rect(1px, 1px, 1px, 1px);height: 1px;margin: -1px;overflow: hidden;padding: 0;position: absolute;width: 1px;}#sk-container-id-8 div.sk-estimator {font-family: monospace;background-color: #f0f8ff;border: 1px dotted black;border-radius: 0.25em;box-sizing: border-box;margin-bottom: 0.5em;}#sk-container-id-8 div.sk-estimator:hover {background-color: #d4ebff;}#sk-container-id-8 div.sk-parallel-item::after {content: \"\";width: 100%;border-bottom: 1px solid gray;flex-grow: 1;}#sk-container-id-8 div.sk-label:hover label.sk-toggleable__label {background-color: #d4ebff;}#sk-container-id-8 div.sk-serial::before {content: \"\";position: absolute;border-left: 1px solid gray;box-sizing: border-box;top: 0;bottom: 0;left: 50%;z-index: 0;}#sk-container-id-8 div.sk-serial {display: flex;flex-direction: column;align-items: center;background-color: white;padding-right: 0.2em;padding-left: 0.2em;position: relative;}#sk-container-id-8 div.sk-item {position: relative;z-index: 1;}#sk-container-id-8 div.sk-parallel {display: flex;align-items: stretch;justify-content: center;background-color: white;position: relative;}#sk-container-id-8 div.sk-item::before, #sk-container-id-8 div.sk-parallel-item::before {content: \"\";position: absolute;border-left: 1px solid gray;box-sizing: border-box;top: 0;bottom: 0;left: 50%;z-index: -1;}#sk-container-id-8 div.sk-parallel-item {display: flex;flex-direction: column;z-index: 1;position: relative;background-color: white;}#sk-container-id-8 div.sk-parallel-item:first-child::after {align-self: flex-end;width: 50%;}#sk-container-id-8 div.sk-parallel-item:last-child::after {align-self: flex-start;width: 50%;}#sk-container-id-8 div.sk-parallel-item:only-child::after {width: 0;}#sk-container-id-8 div.sk-dashed-wrapped {border: 1px dashed gray;margin: 0 0.4em 0.5em 0.4em;box-sizing: border-box;padding-bottom: 0.4em;background-color: white;}#sk-container-id-8 div.sk-label label {font-family: monospace;font-weight: bold;display: inline-block;line-height: 1.2em;}#sk-container-id-8 div.sk-label-container {text-align: center;}#sk-container-id-8 div.sk-container {/* jupyter's `normalize.less` sets `[hidden] { display: none; }` but bootstrap.min.css set `[hidden] { display: none !important; }` so we also need the `!important` here to be able to override the default hidden behavior on the sphinx rendered scikit-learn.org. See: https://github.com/scikit-learn/scikit-learn/issues/21755 */display: inline-block !important;position: relative;}#sk-container-id-8 div.sk-text-repr-fallback {display: none;}</style><div id=\"sk-container-id-8\" class=\"sk-top-container\"><div class=\"sk-text-repr-fallback\"><pre>DecisionTreeClassifier(random_state=42)</pre><b>In a Jupyter environment, please rerun this cell to show the HTML representation or trust the notebook. <br />On GitHub, the HTML representation is unable to render, please try loading this page with nbviewer.org.</b></div><div class=\"sk-container\" hidden><div class=\"sk-item\"><div class=\"sk-estimator sk-toggleable\"><input class=\"sk-toggleable__control sk-hidden--visually\" id=\"sk-estimator-id-8\" type=\"checkbox\" checked><label for=\"sk-estimator-id-8\" class=\"sk-toggleable__label sk-toggleable__label-arrow\">DecisionTreeClassifier</label><div class=\"sk-toggleable__content\"><pre>DecisionTreeClassifier(random_state=42)</pre></div></div></div></div></div>"
      ],
      "text/plain": [
       "DecisionTreeClassifier(random_state=42)"
      ]
     },
     "execution_count": 192,
     "metadata": {},
     "output_type": "execute_result"
    }
   ],
   "source": [
    "dt_oversampling = DecisionTreeClassifier(random_state=42)\n",
    "\n",
    "# Train\n",
    "dt_oversampling.fit(X_train_syn, y_train_syn)"
   ]
  },
  {
   "cell_type": "code",
   "execution_count": null,
   "metadata": {
    "id": "Eaun4ekMkk14",
    "outputId": "07db5852-ac71-4fcb-8c2a-64f8d3cde5e4"
   },
   "outputs": [
    {
     "data": {
      "text/plain": [
       "array([0, 0, 0, ..., 0, 0, 0], dtype=int64)"
      ]
     },
     "execution_count": 196,
     "metadata": {},
     "output_type": "execute_result"
    }
   ],
   "source": [
    "# Predict\n",
    "Y_pred = dt_oversampling.predict(X_test)\n",
    "Y_pred"
   ]
  },
  {
   "cell_type": "code",
   "execution_count": null,
   "metadata": {
    "id": "9iTnqtVrkk14",
    "outputId": "12ac8ec6-60e5-4163-993c-af5ee33f7314",
    "scrolled": true
   },
   "outputs": [
    {
     "name": "stdout",
     "output_type": "stream",
     "text": [
      "              precision    recall  f1-score   support\n",
      "\n",
      "           0       0.85      0.86      0.86     62137\n",
      "           1       0.35      0.34      0.34     13655\n",
      "\n",
      "    accuracy                           0.77     75792\n",
      "   macro avg       0.60      0.60      0.60     75792\n",
      "weighted avg       0.76      0.77      0.76     75792\n",
      "\n",
      "[[53460  8677]\n",
      " [ 9071  4584]]\n",
      "Accuracy is: 0.7658328055731476\n"
     ]
    },
    {
     "data": {
      "text/plain": [
       "(0.763185445675648, 0.7658328055731476, 0.7644889505509619, None)"
      ]
     },
     "execution_count": 197,
     "metadata": {},
     "output_type": "execute_result"
    }
   ],
   "source": [
    "# TODO: run this block to get the F1 scores (currently just have accuracy score)\n",
    "\n",
    "# Evaluate\n",
    "print(classification_report(y_test, Y_pred))\n",
    "print(confusion_matrix(y_test, Y_pred))\n",
    "\n",
    "# Accuracy score\n",
    "print(f'Accuracy is: {accuracy_score(Y_pred,y_test)}')\n",
    "\n",
    "# Calculate precision, recall, f1-measure, and support\n",
    "scores = precision_recall_fscore_support(y_test, Y_pred, average = 'weighted')\n",
    "print(f\"Precision score: {scores[0]}\")\n",
    "print(f\"Recall score: {scores[1]}\")\n",
    "print(f\"F1 score: {scores[2]}\")"
   ]
  },
  {
   "cell_type": "markdown",
   "metadata": {
    "id": "A_Or34oSkk15"
   },
   "source": [
    "&rightarrow; After oversampling, f1-score for positive label has increased to around 34%, which is **not** a considerable increase from f1 score before oversampling which is 33%\n",
    "\n",
    "&rightarrow; This model's still not doing well after oversampling approach"
   ]
  },
  {
   "cell_type": "markdown",
   "metadata": {
    "id": "pUuJWChowKOx"
   },
   "source": [
    "### 4.5.3 Random Forest with oversampling"
   ]
  },
  {
   "cell_type": "code",
   "execution_count": null,
   "metadata": {
    "id": "mXYc_E__wKOx",
    "outputId": "bacad18d-a0c3-4b2c-c6d5-5b6b7b7ec890"
   },
   "outputs": [
    {
     "data": {
      "text/html": [
       "<style>#sk-container-id-9 {color: black;background-color: white;}#sk-container-id-9 pre{padding: 0;}#sk-container-id-9 div.sk-toggleable {background-color: white;}#sk-container-id-9 label.sk-toggleable__label {cursor: pointer;display: block;width: 100%;margin-bottom: 0;padding: 0.3em;box-sizing: border-box;text-align: center;}#sk-container-id-9 label.sk-toggleable__label-arrow:before {content: \"▸\";float: left;margin-right: 0.25em;color: #696969;}#sk-container-id-9 label.sk-toggleable__label-arrow:hover:before {color: black;}#sk-container-id-9 div.sk-estimator:hover label.sk-toggleable__label-arrow:before {color: black;}#sk-container-id-9 div.sk-toggleable__content {max-height: 0;max-width: 0;overflow: hidden;text-align: left;background-color: #f0f8ff;}#sk-container-id-9 div.sk-toggleable__content pre {margin: 0.2em;color: black;border-radius: 0.25em;background-color: #f0f8ff;}#sk-container-id-9 input.sk-toggleable__control:checked~div.sk-toggleable__content {max-height: 200px;max-width: 100%;overflow: auto;}#sk-container-id-9 input.sk-toggleable__control:checked~label.sk-toggleable__label-arrow:before {content: \"▾\";}#sk-container-id-9 div.sk-estimator input.sk-toggleable__control:checked~label.sk-toggleable__label {background-color: #d4ebff;}#sk-container-id-9 div.sk-label input.sk-toggleable__control:checked~label.sk-toggleable__label {background-color: #d4ebff;}#sk-container-id-9 input.sk-hidden--visually {border: 0;clip: rect(1px 1px 1px 1px);clip: rect(1px, 1px, 1px, 1px);height: 1px;margin: -1px;overflow: hidden;padding: 0;position: absolute;width: 1px;}#sk-container-id-9 div.sk-estimator {font-family: monospace;background-color: #f0f8ff;border: 1px dotted black;border-radius: 0.25em;box-sizing: border-box;margin-bottom: 0.5em;}#sk-container-id-9 div.sk-estimator:hover {background-color: #d4ebff;}#sk-container-id-9 div.sk-parallel-item::after {content: \"\";width: 100%;border-bottom: 1px solid gray;flex-grow: 1;}#sk-container-id-9 div.sk-label:hover label.sk-toggleable__label {background-color: #d4ebff;}#sk-container-id-9 div.sk-serial::before {content: \"\";position: absolute;border-left: 1px solid gray;box-sizing: border-box;top: 0;bottom: 0;left: 50%;z-index: 0;}#sk-container-id-9 div.sk-serial {display: flex;flex-direction: column;align-items: center;background-color: white;padding-right: 0.2em;padding-left: 0.2em;position: relative;}#sk-container-id-9 div.sk-item {position: relative;z-index: 1;}#sk-container-id-9 div.sk-parallel {display: flex;align-items: stretch;justify-content: center;background-color: white;position: relative;}#sk-container-id-9 div.sk-item::before, #sk-container-id-9 div.sk-parallel-item::before {content: \"\";position: absolute;border-left: 1px solid gray;box-sizing: border-box;top: 0;bottom: 0;left: 50%;z-index: -1;}#sk-container-id-9 div.sk-parallel-item {display: flex;flex-direction: column;z-index: 1;position: relative;background-color: white;}#sk-container-id-9 div.sk-parallel-item:first-child::after {align-self: flex-end;width: 50%;}#sk-container-id-9 div.sk-parallel-item:last-child::after {align-self: flex-start;width: 50%;}#sk-container-id-9 div.sk-parallel-item:only-child::after {width: 0;}#sk-container-id-9 div.sk-dashed-wrapped {border: 1px dashed gray;margin: 0 0.4em 0.5em 0.4em;box-sizing: border-box;padding-bottom: 0.4em;background-color: white;}#sk-container-id-9 div.sk-label label {font-family: monospace;font-weight: bold;display: inline-block;line-height: 1.2em;}#sk-container-id-9 div.sk-label-container {text-align: center;}#sk-container-id-9 div.sk-container {/* jupyter's `normalize.less` sets `[hidden] { display: none; }` but bootstrap.min.css set `[hidden] { display: none !important; }` so we also need the `!important` here to be able to override the default hidden behavior on the sphinx rendered scikit-learn.org. See: https://github.com/scikit-learn/scikit-learn/issues/21755 */display: inline-block !important;position: relative;}#sk-container-id-9 div.sk-text-repr-fallback {display: none;}</style><div id=\"sk-container-id-9\" class=\"sk-top-container\"><div class=\"sk-text-repr-fallback\"><pre>RandomForestClassifier()</pre><b>In a Jupyter environment, please rerun this cell to show the HTML representation or trust the notebook. <br />On GitHub, the HTML representation is unable to render, please try loading this page with nbviewer.org.</b></div><div class=\"sk-container\" hidden><div class=\"sk-item\"><div class=\"sk-estimator sk-toggleable\"><input class=\"sk-toggleable__control sk-hidden--visually\" id=\"sk-estimator-id-9\" type=\"checkbox\" checked><label for=\"sk-estimator-id-9\" class=\"sk-toggleable__label sk-toggleable__label-arrow\">RandomForestClassifier</label><div class=\"sk-toggleable__content\"><pre>RandomForestClassifier()</pre></div></div></div></div></div>"
      ],
      "text/plain": [
       "RandomForestClassifier()"
      ]
     },
     "execution_count": 204,
     "metadata": {},
     "output_type": "execute_result"
    }
   ],
   "source": [
    "random_forest = RandomForestClassifier(n_estimators=100) # 100 trees in the forest\n",
    "\n",
    "# Train\n",
    "random_forest.fit(X_train_syn, y_train_syn)"
   ]
  },
  {
   "cell_type": "code",
   "execution_count": null,
   "metadata": {
    "id": "CW0V9KSokk15"
   },
   "outputs": [],
   "source": [
    "# Predict\n",
    "Y_pred = random_forest.predict(X_test)"
   ]
  },
  {
   "cell_type": "code",
   "execution_count": null,
   "metadata": {
    "id": "Y5r95p7mkk15",
    "outputId": "31808964-29c7-4b30-df7a-fe1ab39dc6e2"
   },
   "outputs": [
    {
     "name": "stdout",
     "output_type": "stream",
     "text": [
      "              precision    recall  f1-score   support\n",
      "\n",
      "           0       0.84      0.98      0.90     62137\n",
      "           1       0.60      0.13      0.22     13655\n",
      "\n",
      "    accuracy                           0.83     75792\n",
      "   macro avg       0.72      0.56      0.56     75792\n",
      "weighted avg       0.79      0.83      0.78     75792\n",
      "\n",
      "[[60926  1211]\n",
      " [11829  1826]]\n",
      "Accuracy is: 0.8279501794384632\n",
      "Precision score: 0.7948653138693962\n",
      "Recall score: 0.8279501794384632\n",
      "F1 score: 0.7800000420353179\n"
     ]
    }
   ],
   "source": [
    "# Evaluate\n",
    "print(classification_report(y_test, Y_pred))\n",
    "print(confusion_matrix(y_test, Y_pred))\n",
    "\n",
    "# Accuracy score\n",
    "print(f'Accuracy is: {accuracy_score(Y_pred,y_test)}')\n",
    "\n",
    "# Calculate precision, recall, f1-measure, and support\n",
    "scores = precision_recall_fscore_support(y_test, Y_pred, average = 'weighted')\n",
    "print(f\"Precision score: {scores[0]}\")\n",
    "print(f\"Recall score: {scores[1]}\")\n",
    "print(f\"F1 score: {scores[2]}\")"
   ]
  },
  {
   "cell_type": "code",
   "execution_count": null,
   "metadata": {
    "id": "-PAL-PLs7dNf",
    "outputId": "6881a6eb-9db2-497a-cbd0-1a94ea516aa0"
   },
   "outputs": [
    {
     "data": {
      "image/png": "[encoded data removed]",
      "text/plain": [
       "<Figure size 1152x504 with 2 Axes>"
      ]
     },
     "metadata": {},
     "output_type": "display_data"
    }
   ],
   "source": [
    "# Get and reshape confusion matrix data\n",
    "RF_matrix = confusion_matrix(y_test, Y_pred)\n",
    "RF_matrix = RF_matrix.astype('float') / RF_matrix.sum(axis=1)[:, np.newaxis]\n",
    "\n",
    "plt.figure(figsize=(16,7))\n",
    "sns.set(font_scale=1.4)\n",
    "sns.heatmap(RF_matrix, annot=True, annot_kws={'size':10},\n",
    "            cmap=plt.cm.Greens, linewidths=0.2)\n",
    "\n",
    "plt.xlabel('Predicted label')\n",
    "plt.ylabel('True label')\n",
    "plt.title('Confusion Matrix for Random Forest Model')\n",
    "plt.show()"
   ]
  },
  {
   "cell_type": "markdown",
   "metadata": {
    "id": "xym44qbfkk16"
   },
   "source": [
    "- Decent accuracy score: 82.8%\n",
    "- F-1 score for the positive label is around 22% \n",
    "- F-1 score for the negative label is around 90% \n",
    "- Decent Weighted F-1 score: 78%"
   ]
  },
  {
   "cell_type": "code",
   "execution_count": null,
   "metadata": {
    "id": "t7sfSFizwKOx",
    "outputId": "91e92e66-2e00-4f6e-ab6a-d1b939679a50"
   },
   "outputs": [
    {
     "name": "stderr",
     "output_type": "stream",
     "text": [
      "C:\\Users\\jcj67\\Anaconda3\\lib\\site-packages\\sklearn\\utils\\validation.py:593: FutureWarning: np.matrix usage is deprecated in 1.0 and will raise a TypeError in 1.2. Please convert to a numpy array with np.asarray. For more information see: https://numpy.org/doc/stable/reference/generated/numpy.matrix.html\n",
      "  warnings.warn(\n",
      "C:\\Users\\jcj67\\Anaconda3\\lib\\site-packages\\sklearn\\neighbors\\_classification.py:198: DataConversionWarning: A column-vector y was passed when a 1d array was expected. Please change the shape of y to (n_samples,), for example using ravel().\n",
      "  return self._fit(X, y)\n",
      "C:\\Users\\jcj67\\Anaconda3\\lib\\site-packages\\sklearn\\utils\\validation.py:593: FutureWarning: np.matrix usage is deprecated in 1.0 and will raise a TypeError in 1.2. Please convert to a numpy array with np.asarray. For more information see: https://numpy.org/doc/stable/reference/generated/numpy.matrix.html\n",
      "  warnings.warn(\n"
     ]
    }
   ],
   "source": [
    "from sklearn.neighbors import KNeighborsClassifier\n",
    "\n",
    "# n_neighbors's default value = 5\n",
    "knn = KNeighborsClassifier(n_neighbors = 3)\n",
    "knn.fit(X_train, y_train)\n",
    "Y_pred_k = knn.predict(X_test)"
   ]
  },
  {
   "cell_type": "code",
   "execution_count": null,
   "metadata": {
    "id": "yR_R9UfG7dNf",
    "outputId": "ca5fd621-55e4-4507-f0f6-d983fcf93bee"
   },
   "outputs": [
    {
     "name": "stdout",
     "output_type": "stream",
     "text": [
      "              precision    recall  f1-score   support\n",
      "\n",
      "           0       0.84      0.92      0.88     62096\n",
      "           1       0.34      0.19      0.24     13696\n",
      "\n",
      "    accuracy                           0.79     75792\n",
      "   macro avg       0.59      0.55      0.56     75792\n",
      "weighted avg       0.75      0.79      0.76     75792\n",
      "\n"
     ]
    }
   ],
   "source": [
    "# Predictions result\n",
    "print(classification_report(y_test, Y_pred_k))"
   ]
  },
  {
   "cell_type": "code",
   "execution_count": null,
   "metadata": {
    "id": "cPTviV1D7dNh",
    "outputId": "c8b55fd4-5871-47d1-b2f0-de5795597db0"
   },
   "outputs": [
    {
     "data": {
      "image/png": "[encoded data removed]",
      "text/plain": [
       "<Figure size 1152x504 with 2 Axes>"
      ]
     },
     "metadata": {},
     "output_type": "display_data"
    }
   ],
   "source": [
    "mat = confusion_matrix(y_test, Y_pred_k)\n",
    "mat = mat.astype('float') / mat.sum(axis=1)[:, np.newaxis]\n",
    "\n",
    "plt.figure(figsize=(16,7))\n",
    "sns.set(font_scale=1.4)\n",
    "sns.heatmap(mat, annot=True, annot_kws={'size':10},\n",
    "            cmap=plt.cm.Greens, linewidths=0.2)\n",
    "\n",
    "plt.xlabel('Predicted label')\n",
    "plt.ylabel('True label')\n",
    "plt.title('Confusion Matrix for KNN Model')\n",
    "plt.show()"
   ]
  },
  {
   "cell_type": "markdown",
   "metadata": {
    "id": "v3qYSLNW7dNh"
   },
   "source": [
    "### 4.5.4 Cross-Validation Scores "
   ]
  },
  {
   "cell_type": "code",
   "execution_count": null,
   "metadata": {
    "id": "0m6s61bH7dNh",
    "outputId": "a709b6b3-736b-46a8-a1b8-87517967e362"
   },
   "outputs": [
    {
     "name": "stdout",
     "output_type": "stream",
     "text": [
      "Cross-val score for KNN: 23.3%\n",
      "Cross-val score for Random Forest: 15.7%\n",
      "Cross-Val Score for Decision Tree: 29.8%\n"
     ]
    }
   ],
   "source": [
    "import warnings\n",
    "warnings.filterwarnings('ignore')\n",
    "\n",
    "\n",
    "knn_score = cross_val_score(knn, X_test, y_test, scoring = 'f1')\n",
    "print(\"Cross-val score for KNN: {0:.1f}%\".format(np.mean(knn_score) * 100))\n",
    "\n",
    "rf_score = cross_val_score(random_forest, X, y, scoring = 'f1')\n",
    "print(\"Cross-val score for Random Forest: {0:.1f}%\".format(np.mean(rf_score) * 100))\n",
    "\n",
    "dt_score = cross_val_score(dt_oversampling, X, y, scoring = 'f1')\n",
    "print(\"Cross-val score for Decisision Tree: {0:.1f}%\".format(np.mean(dt_score) * 100))"
   ]
  }
 ],
 "metadata": {
  "accelerator": "GPU",
  "colab": {
   "collapsed_sections": [],
   "name": "Final Project Notebook.ipynb",
   "provenance": []
  },
  "kernelspec": {
   "display_name": "Python 3",
   "language": "python",
   "name": "python3"
  },
  "language_info": {
   "codemirror_mode": {
    "name": "ipython",
    "version": 3
   },
   "file_extension": ".py",
   "mimetype": "text/x-python",
   "name": "python",
   "nbconvert_exporter": "python",
   "pygments_lexer": "ipython3",
   "version": "3.8.8"
  }
 },
 "nbformat": 4,
 "nbformat_minor": 4
}
